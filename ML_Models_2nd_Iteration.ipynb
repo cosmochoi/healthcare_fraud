{
 "cells": [
  {
   "cell_type": "markdown",
   "metadata": {},
   "source": [
    "### Import Libraries"
   ]
  },
  {
   "cell_type": "code",
   "execution_count": 5,
   "metadata": {},
   "outputs": [],
   "source": [
    "from Feature_Engineering import feature_engineering\n",
    "from businessscoring import businessgain\n",
    "import pandas as pd\n",
    "import numpy as np\n",
    "import seaborn as sns\n",
    "from xgboost import XGBClassifier\n",
    "import sklearn.model_selection as ms\n",
    "from sklearn.linear_model import SGDClassifier\n",
    "from sklearn.linear_model import LogisticRegression\n",
    "from sklearn.neighbors import KNeighborsClassifier\n",
    "from sklearn.svm import SVC\n",
    "from sklearn.preprocessing import RobustScaler\n",
    "from sklearn.model_selection import GridSearchCV, StratifiedKFold, train_test_split\n",
    "from sklearn.metrics import confusion_matrix, recall_score, f1_score, classification_report, make_scorer\n",
    "from imblearn.over_sampling import RandomOverSampler\n",
    "from imblearn import over_sampling\n",
    "\n",
    "import matplotlib.pyplot as plt\n",
    "plt.style.use('ggplot')"
   ]
  },
  {
   "cell_type": "markdown",
   "metadata": {},
   "source": [
    "### Pre-Processsing"
   ]
  },
  {
   "cell_type": "code",
   "execution_count": 2,
   "metadata": {},
   "outputs": [],
   "source": [
    "#feature engineering on full dataset\n",
    "features = feature_engineering(j_flag=1)"
   ]
  },
  {
   "cell_type": "code",
   "execution_count": 3,
   "metadata": {},
   "outputs": [],
   "source": [
    "#convert potential fraud values to 0 and 1\n",
    "features['PotentialFraud'] = features['PotentialFraud'].map({'No': 0, 'Yes': 1})"
   ]
  },
  {
   "cell_type": "code",
   "execution_count": 6,
   "metadata": {},
   "outputs": [],
   "source": [
    "#create variables for features and target\n",
    "X = features.drop(['PotentialFraud','Provider', 'Both_Service', 'Gender2', 'Race5', 'Inpatient_Count', 'Outpatient_Count',\n",
    "                  'Outpatient', 'Inpatient', 'Service_Type'], axis=1)\n",
    "y = features['PotentialFraud'] "
   ]
  },
  {
   "cell_type": "code",
   "execution_count": 7,
   "metadata": {},
   "outputs": [
    {
     "data": {
      "text/plain": [
       "<matplotlib.axes._subplots.AxesSubplot at 0x7ff264a1c150>"
      ]
     },
     "execution_count": 7,
     "metadata": {},
     "output_type": "execute_result"
    },
    {
     "data": {
      "image/png": "[encoded data removed]",
      "text/plain": [
       "<Figure size 432x288 with 1 Axes>"
      ]
     },
     "metadata": {},
     "output_type": "display_data"
    }
   ],
   "source": [
    "sns.boxplot(x='PotentialFraud', y='Inpatient_Count', data=features, showfliers=False)"
   ]
  },
  {
   "cell_type": "code",
   "execution_count": 8,
   "metadata": {},
   "outputs": [
    {
     "data": {
      "text/plain": [
       "<matplotlib.axes._subplots.AxesSubplot at 0x7ff26bea0510>"
      ]
     },
     "execution_count": 8,
     "metadata": {},
     "output_type": "execute_result"
    },
    {
     "data": {
      "image/png": "[encoded data removed]",
      "text/plain": [
       "<Figure size 432x288 with 1 Axes>"
      ]
     },
     "metadata": {},
     "output_type": "display_data"
    }
   ],
   "source": [
    "sns.boxplot(x='PotentialFraud', y='Outpatient_Count', data=features, showfliers=False)"
   ]
  },
  {
   "cell_type": "code",
   "execution_count": 15,
   "metadata": {},
   "outputs": [],
   "source": [
    "#create seperate dataset with dummy variables to add back after scaling\n",
    "non_num = X[['isFraudConnected']]\n",
    "\n",
    "# #drop dummy variables\n"
   ]
  },
  {
   "cell_type": "code",
   "execution_count": 17,
   "metadata": {},
   "outputs": [],
   "source": [
    "#drop dummy variables\n",
    "X = X.drop(['isFraudConnected'], axis =1)"
   ]
  },
  {
   "cell_type": "code",
   "execution_count": 18,
   "metadata": {},
   "outputs": [],
   "source": [
    "#scale on the training set \n",
    "scaler = RobustScaler()\n",
    "X_scaled = pd.DataFrame(scaler.fit_transform(X), columns=(X.columns), index=X.index)\n",
    "\n",
    "#add back dummy variables to scaled dataset \n",
    "X_scaled = pd.concat((X_scaled, non_num), axis=1)"
   ]
  },
  {
   "cell_type": "code",
   "execution_count": 19,
   "metadata": {},
   "outputs": [],
   "source": [
    "#use as cv=skf, ensures results are consistent in each partition\n",
    "s_kf = StratifiedKFold(n_splits=5, random_state=42, shuffle=True)"
   ]
  },
  {
   "cell_type": "code",
   "execution_count": 20,
   "metadata": {},
   "outputs": [],
   "source": [
    "#train/test split\n",
    "X_train, X_test, y_train, y_test = train_test_split(X_scaled, y, test_size=0.2, random_state=42, stratify=y)"
   ]
  },
  {
   "cell_type": "code",
   "execution_count": 21,
   "metadata": {},
   "outputs": [
    {
     "data": {
      "text/plain": [
       "1    3923\n",
       "0    3923\n",
       "Name: PotentialFraud, dtype: int64"
      ]
     },
     "execution_count": 21,
     "metadata": {},
     "output_type": "execute_result"
    }
   ],
   "source": [
    "#SMOTE upsampling\n",
    "oversample = over_sampling.SMOTE()\n",
    "X_train_Bal, y_train_Bal = oversample.fit_resample(X_train, y_train)\n",
    "\n",
    "y_train_Bal.value_counts()"
   ]
  },
  {
   "cell_type": "code",
   "execution_count": 22,
   "metadata": {},
   "outputs": [],
   "source": [
    "#random over sampling \n",
    "ros = RandomOverSampler()\n",
    "X_ros, y_ros = ros.fit_sample(X_train, y_train)"
   ]
  },
  {
   "cell_type": "code",
   "execution_count": 23,
   "metadata": {},
   "outputs": [],
   "source": [
    "f1_scores = pd.DataFrame(columns=('Model', 'Score'))"
   ]
  },
  {
   "cell_type": "markdown",
   "metadata": {},
   "source": [
    "## Logistic Regression"
   ]
  },
  {
   "cell_type": "markdown",
   "metadata": {},
   "source": [
    "#### SMOTE"
   ]
  },
  {
   "cell_type": "code",
   "execution_count": 24,
   "metadata": {},
   "outputs": [
    {
     "name": "stdout",
     "output_type": "stream",
     "text": [
      "SMOTE; \n",
      "Logistic Regression Baseline F1 score:  0.5789473684210527\n"
     ]
    }
   ],
   "source": [
    "# SMOTE balancing\n",
    "logistic = LogisticRegression(C=0.237, solver = 'liblinear',penalty='l2')\n",
    "logistic.fit(X_train_Bal, y_train_Bal)\n",
    "logistic.score(X_test, y_test)\n",
    "print(\"SMOTE; \\nLogistic Regression Baseline F1 score: \", f1_score(y_test,logistic.predict(X_test)))"
   ]
  },
  {
   "cell_type": "code",
   "execution_count": 25,
   "metadata": {},
   "outputs": [
    {
     "name": "stdout",
     "output_type": "stream",
     "text": [
      "CPU times: user 747 ms, sys: 134 ms, total: 881 ms\n",
      "Wall time: 4.58 s\n"
     ]
    },
    {
     "data": {
      "text/plain": [
       "GridSearchCV(cv=StratifiedKFold(n_splits=5, random_state=42, shuffle=True),\n",
       "             estimator=LogisticRegression(C=0.237, solver='liblinear'),\n",
       "             n_jobs=-1,\n",
       "             param_grid={'C': array([0.        , 0.07894737, 0.15789474, 0.23684211, 0.31578947,\n",
       "       0.39473684, 0.47368421, 0.55263158, 0.63157895, 0.71052632,\n",
       "       0.78947368, 0.86842105, 0.94736842, 1.02631579, 1.10526316,\n",
       "       1.18421053, 1.26315789, 1.34210526, 1.42105263, 1.5       ])},\n",
       "             scoring='f1')"
      ]
     },
     "execution_count": 25,
     "metadata": {},
     "output_type": "execute_result"
    }
   ],
   "source": [
    "grid_para_logit = {\n",
    "    'C': np.linspace(0,1.5,20)\n",
    "}\n",
    "\n",
    "grid_search_logit = ms.GridSearchCV(logistic, grid_para_logit, cv=s_kf, scoring='f1', n_jobs=-1)\n",
    "%time grid_search_logit.fit(X_train_Bal, y_train_Bal)"
   ]
  },
  {
   "cell_type": "code",
   "execution_count": 26,
   "metadata": {},
   "outputs": [
    {
     "name": "stdout",
     "output_type": "stream",
     "text": [
      "{'C': 1.5}\n",
      "Logistic Regression Grid Search train F1 score:  0.846724937783353\n",
      "Logistic Best Estimator Validation set F1 score:  0.5967213114754099\n",
      "Logistic Best Estimator Validation set business score:  0.6884766824675711\n"
     ]
    }
   ],
   "source": [
    "#SMOTE\n",
    "logit_final = grid_search_logit.best_estimator_\n",
    "print(grid_search_logit.best_params_)\n",
    "print(\"Logistic Regression Grid Search train F1 score: \", grid_search_logit.best_score_)\n",
    "print(\"Logistic Best Estimator Validation set F1 score: \", f1_score(y_test,logit_final.predict(X_test)))\n",
    "print(\"Logistic Best Estimator Validation set business score: \", businessgain(y_test,logit_final.predict(X_test)))\n",
    "SMOTE_logit = f1_score(y_test,logit_final.predict(X_test))"
   ]
  },
  {
   "cell_type": "markdown",
   "metadata": {},
   "source": [
    "#### imblearn"
   ]
  },
  {
   "cell_type": "code",
   "execution_count": 27,
   "metadata": {},
   "outputs": [
    {
     "name": "stdout",
     "output_type": "stream",
     "text": [
      "Random oversampling; \n",
      "Logistic Regression Baseline F1 score:  0.5602605863192183\n"
     ]
    }
   ],
   "source": [
    "# imblearn balancing\n",
    "logistic = LogisticRegression(C=0.237, solver = 'liblinear',penalty='l2')\n",
    "logistic.fit(X_ros, y_ros)\n",
    "logistic.score(X_test, y_test)\n",
    "print(\"Random oversampling; \\nLogistic Regression Baseline F1 score: \", f1_score(y_test,logistic.predict(X_test)))"
   ]
  },
  {
   "cell_type": "code",
   "execution_count": 28,
   "metadata": {},
   "outputs": [
    {
     "name": "stdout",
     "output_type": "stream",
     "text": [
      "CPU times: user 563 ms, sys: 36.1 ms, total: 599 ms\n",
      "Wall time: 3.19 s\n"
     ]
    },
    {
     "data": {
      "text/plain": [
       "GridSearchCV(cv=StratifiedKFold(n_splits=5, random_state=42, shuffle=True),\n",
       "             estimator=LogisticRegression(C=0.237, solver='liblinear'),\n",
       "             n_jobs=-1,\n",
       "             param_grid={'C': array([0.        , 0.07894737, 0.15789474, 0.23684211, 0.31578947,\n",
       "       0.39473684, 0.47368421, 0.55263158, 0.63157895, 0.71052632,\n",
       "       0.78947368, 0.86842105, 0.94736842, 1.02631579, 1.10526316,\n",
       "       1.18421053, 1.26315789, 1.34210526, 1.42105263, 1.5       ])},\n",
       "             scoring='f1')"
      ]
     },
     "execution_count": 28,
     "metadata": {},
     "output_type": "execute_result"
    }
   ],
   "source": [
    "grid_para_logit = {\n",
    "    'C': np.linspace(0,1.5,20)\n",
    "}\n",
    "grid_search_logit = ms.GridSearchCV(logistic, grid_para_logit, cv=s_kf, scoring='f1', n_jobs=-1)\n",
    "%time grid_search_logit.fit(X_ros, y_ros)"
   ]
  },
  {
   "cell_type": "code",
   "execution_count": 29,
   "metadata": {},
   "outputs": [
    {
     "name": "stdout",
     "output_type": "stream",
     "text": [
      "{'C': 1.5}\n",
      "Logistic Regression Grid Search train F1 score:  0.8451590936481544\n",
      "Logistic Best Estimator Validation set F1 score:  0.5686274509803921\n",
      "Logistic Best Estimator Validation set business score:  0.6009636263911823\n"
     ]
    }
   ],
   "source": [
    "logit_final = grid_search_logit.best_estimator_\n",
    "print(grid_search_logit.best_params_)\n",
    "print(\"Logistic Regression Grid Search train F1 score: \", grid_search_logit.best_score_)\n",
    "print(\"Logistic Best Estimator Validation set F1 score: \", f1_score(y_test,logit_final.predict(X_test)))\n",
    "print(\"Logistic Best Estimator Validation set business score: \", businessgain(y_test,logit_final.predict(X_test)))\n",
    "imblearn_logit = f1_score(y_test,logit_final.predict(X_test))"
   ]
  },
  {
   "cell_type": "markdown",
   "metadata": {},
   "source": [
    "#### Comparing SMOTE and imblearn"
   ]
  },
  {
   "cell_type": "code",
   "execution_count": 30,
   "metadata": {},
   "outputs": [
    {
     "name": "stdout",
     "output_type": "stream",
     "text": [
      "SMOTE logit F1 score:  0.5967213114754099 \n",
      "imblearn logit F1 score:  0.5686274509803921\n"
     ]
    }
   ],
   "source": [
    "print('SMOTE logit F1 score: ', SMOTE_logit, '\\nimblearn logit F1 score: ', imblearn_logit)"
   ]
  },
  {
   "cell_type": "code",
   "execution_count": 31,
   "metadata": {},
   "outputs": [],
   "source": [
    "f1_scores.loc[0] = 'Logistic', round(SMOTE_logit, 2)"
   ]
  },
  {
   "cell_type": "code",
   "execution_count": 32,
   "metadata": {},
   "outputs": [
    {
     "data": {
      "text/plain": [
       "array([[863, 118],\n",
       "       [ 14,  87]])"
      ]
     },
     "execution_count": 32,
     "metadata": {},
     "output_type": "execute_result"
    }
   ],
   "source": [
    "confusion_matrix(y_test, logit_final.predict(X_test))"
   ]
  },
  {
   "cell_type": "code",
   "execution_count": 33,
   "metadata": {},
   "outputs": [
    {
     "name": "stdout",
     "output_type": "stream",
     "text": [
      "              precision    recall  f1-score   support\n",
      "\n",
      "           0       0.88      0.98      0.93       877\n",
      "           1       0.86      0.42      0.57       205\n",
      "\n",
      "    accuracy                           0.88      1082\n",
      "   macro avg       0.87      0.70      0.75      1082\n",
      "weighted avg       0.88      0.88      0.86      1082\n",
      "\n"
     ]
    }
   ],
   "source": [
    "print(classification_report(logit_final.predict(X_test), y_test))"
   ]
  },
  {
   "cell_type": "markdown",
   "metadata": {},
   "source": [
    "#### feature importance for logistic regression"
   ]
  },
  {
   "cell_type": "code",
   "execution_count": 34,
   "metadata": {},
   "outputs": [
    {
     "data": {
      "text/html": [
       "<div>\n",
       "<style scoped>\n",
       "    .dataframe tbody tr th:only-of-type {\n",
       "        vertical-align: middle;\n",
       "    }\n",
       "\n",
       "    .dataframe tbody tr th {\n",
       "        vertical-align: top;\n",
       "    }\n",
       "\n",
       "    .dataframe thead th {\n",
       "        text-align: right;\n",
       "    }\n",
       "</style>\n",
       "<table border=\"1\" class=\"dataframe\">\n",
       "  <thead>\n",
       "    <tr style=\"text-align: right;\">\n",
       "      <th></th>\n",
       "      <th>Feature</th>\n",
       "      <th>Score</th>\n",
       "    </tr>\n",
       "  </thead>\n",
       "  <tbody>\n",
       "    <tr>\n",
       "      <th>51</th>\n",
       "      <td>Diagnosis_8_Count</td>\n",
       "      <td>1.248980</td>\n",
       "    </tr>\n",
       "    <tr>\n",
       "      <th>46</th>\n",
       "      <td>Diagnosis_3_Count</td>\n",
       "      <td>1.110541</td>\n",
       "    </tr>\n",
       "    <tr>\n",
       "      <th>45</th>\n",
       "      <td>Diagnosis_2_Count</td>\n",
       "      <td>0.966835</td>\n",
       "    </tr>\n",
       "    <tr>\n",
       "      <th>3</th>\n",
       "      <td>Claim_Count</td>\n",
       "      <td>0.964661</td>\n",
       "    </tr>\n",
       "    <tr>\n",
       "      <th>13</th>\n",
       "      <td>Race1</td>\n",
       "      <td>0.946336</td>\n",
       "    </tr>\n",
       "    <tr>\n",
       "      <th>18</th>\n",
       "      <td>ChronicCond_KidneyDisease_1</td>\n",
       "      <td>0.547086</td>\n",
       "    </tr>\n",
       "    <tr>\n",
       "      <th>16</th>\n",
       "      <td>ChronicCond_Alzheimer_1</td>\n",
       "      <td>0.542038</td>\n",
       "    </tr>\n",
       "    <tr>\n",
       "      <th>29</th>\n",
       "      <td>ChronicCond_IschemicHeart_2</td>\n",
       "      <td>0.472357</td>\n",
       "    </tr>\n",
       "    <tr>\n",
       "      <th>49</th>\n",
       "      <td>Diagnosis_6_Count</td>\n",
       "      <td>0.430372</td>\n",
       "    </tr>\n",
       "    <tr>\n",
       "      <th>48</th>\n",
       "      <td>Diagnosis_5_Count</td>\n",
       "      <td>0.397011</td>\n",
       "    </tr>\n",
       "    <tr>\n",
       "      <th>7</th>\n",
       "      <td>DuplicateClaims</td>\n",
       "      <td>0.385731</td>\n",
       "    </tr>\n",
       "    <tr>\n",
       "      <th>17</th>\n",
       "      <td>ChronicCond_Alzheimer_2</td>\n",
       "      <td>0.384022</td>\n",
       "    </tr>\n",
       "    <tr>\n",
       "      <th>39</th>\n",
       "      <td>Procedure_1_Count</td>\n",
       "      <td>0.364497</td>\n",
       "    </tr>\n",
       "    <tr>\n",
       "      <th>42</th>\n",
       "      <td>Procedure_4_Count</td>\n",
       "      <td>0.356688</td>\n",
       "    </tr>\n",
       "    <tr>\n",
       "      <th>30</th>\n",
       "      <td>ChronicCond_Osteoporasis_1</td>\n",
       "      <td>0.334835</td>\n",
       "    </tr>\n",
       "    <tr>\n",
       "      <th>19</th>\n",
       "      <td>ChronicCond_KidneyDisease_2</td>\n",
       "      <td>0.325502</td>\n",
       "    </tr>\n",
       "    <tr>\n",
       "      <th>50</th>\n",
       "      <td>Diagnosis_7_Count</td>\n",
       "      <td>0.285051</td>\n",
       "    </tr>\n",
       "    <tr>\n",
       "      <th>32</th>\n",
       "      <td>ChronicCond_rheumatoidarthritis_1</td>\n",
       "      <td>0.281205</td>\n",
       "    </tr>\n",
       "    <tr>\n",
       "      <th>0</th>\n",
       "      <td>Phys_Count</td>\n",
       "      <td>0.276895</td>\n",
       "    </tr>\n",
       "    <tr>\n",
       "      <th>53</th>\n",
       "      <td>isFraudConnected</td>\n",
       "      <td>0.237761</td>\n",
       "    </tr>\n",
       "    <tr>\n",
       "      <th>44</th>\n",
       "      <td>Diagnosis_1_Count</td>\n",
       "      <td>0.233332</td>\n",
       "    </tr>\n",
       "    <tr>\n",
       "      <th>52</th>\n",
       "      <td>Diagnosis_9_Count</td>\n",
       "      <td>0.226333</td>\n",
       "    </tr>\n",
       "    <tr>\n",
       "      <th>47</th>\n",
       "      <td>Diagnosis_4_Count</td>\n",
       "      <td>0.216661</td>\n",
       "    </tr>\n",
       "    <tr>\n",
       "      <th>14</th>\n",
       "      <td>Race2</td>\n",
       "      <td>0.210674</td>\n",
       "    </tr>\n",
       "    <tr>\n",
       "      <th>11</th>\n",
       "      <td>Avg_Age</td>\n",
       "      <td>0.204440</td>\n",
       "    </tr>\n",
       "    <tr>\n",
       "      <th>10</th>\n",
       "      <td>Avg_Cost</td>\n",
       "      <td>0.193327</td>\n",
       "    </tr>\n",
       "    <tr>\n",
       "      <th>34</th>\n",
       "      <td>ChronicCond_stroke_1</td>\n",
       "      <td>0.191606</td>\n",
       "    </tr>\n",
       "    <tr>\n",
       "      <th>24</th>\n",
       "      <td>ChronicCond_Depression_1</td>\n",
       "      <td>0.177438</td>\n",
       "    </tr>\n",
       "    <tr>\n",
       "      <th>8</th>\n",
       "      <td>Duplicate_Claims_Percent</td>\n",
       "      <td>0.163394</td>\n",
       "    </tr>\n",
       "    <tr>\n",
       "      <th>28</th>\n",
       "      <td>ChronicCond_IschemicHeart_1</td>\n",
       "      <td>0.152078</td>\n",
       "    </tr>\n",
       "    <tr>\n",
       "      <th>25</th>\n",
       "      <td>ChronicCond_Depression_2</td>\n",
       "      <td>0.149349</td>\n",
       "    </tr>\n",
       "    <tr>\n",
       "      <th>41</th>\n",
       "      <td>Procedure_3_Count</td>\n",
       "      <td>0.147728</td>\n",
       "    </tr>\n",
       "    <tr>\n",
       "      <th>6</th>\n",
       "      <td>Norm_Outpatient_Count</td>\n",
       "      <td>0.145326</td>\n",
       "    </tr>\n",
       "    <tr>\n",
       "      <th>9</th>\n",
       "      <td>AvgClaimDuration</td>\n",
       "      <td>0.143131</td>\n",
       "    </tr>\n",
       "    <tr>\n",
       "      <th>27</th>\n",
       "      <td>ChronicCond_Diabetes_2</td>\n",
       "      <td>0.139214</td>\n",
       "    </tr>\n",
       "    <tr>\n",
       "      <th>38</th>\n",
       "      <td>FraudNeighbor_Count</td>\n",
       "      <td>0.137897</td>\n",
       "    </tr>\n",
       "    <tr>\n",
       "      <th>36</th>\n",
       "      <td>NetworkDegree</td>\n",
       "      <td>0.137831</td>\n",
       "    </tr>\n",
       "    <tr>\n",
       "      <th>20</th>\n",
       "      <td>ChronicCond_Cancer_1</td>\n",
       "      <td>0.133963</td>\n",
       "    </tr>\n",
       "    <tr>\n",
       "      <th>31</th>\n",
       "      <td>ChronicCond_Osteoporasis_2</td>\n",
       "      <td>0.115670</td>\n",
       "    </tr>\n",
       "    <tr>\n",
       "      <th>33</th>\n",
       "      <td>ChronicCond_rheumatoidarthritis_2</td>\n",
       "      <td>0.111887</td>\n",
       "    </tr>\n",
       "    <tr>\n",
       "      <th>5</th>\n",
       "      <td>Norm_Inpatient_Count</td>\n",
       "      <td>0.093212</td>\n",
       "    </tr>\n",
       "    <tr>\n",
       "      <th>2</th>\n",
       "      <td>Norm_Patient_Count</td>\n",
       "      <td>0.083410</td>\n",
       "    </tr>\n",
       "    <tr>\n",
       "      <th>22</th>\n",
       "      <td>ChronicCond_ObstrPulmonary_1</td>\n",
       "      <td>0.080815</td>\n",
       "    </tr>\n",
       "    <tr>\n",
       "      <th>40</th>\n",
       "      <td>Procedure_2_Count</td>\n",
       "      <td>0.065417</td>\n",
       "    </tr>\n",
       "    <tr>\n",
       "      <th>4</th>\n",
       "      <td>Norm_Claim_Count</td>\n",
       "      <td>0.062025</td>\n",
       "    </tr>\n",
       "    <tr>\n",
       "      <th>37</th>\n",
       "      <td>NoPhysicianCount</td>\n",
       "      <td>0.056937</td>\n",
       "    </tr>\n",
       "    <tr>\n",
       "      <th>21</th>\n",
       "      <td>ChronicCond_Cancer_2</td>\n",
       "      <td>0.056700</td>\n",
       "    </tr>\n",
       "    <tr>\n",
       "      <th>23</th>\n",
       "      <td>ChronicCond_ObstrPulmonary_2</td>\n",
       "      <td>0.051799</td>\n",
       "    </tr>\n",
       "    <tr>\n",
       "      <th>43</th>\n",
       "      <td>Procedure_5_Count</td>\n",
       "      <td>0.043448</td>\n",
       "    </tr>\n",
       "    <tr>\n",
       "      <th>12</th>\n",
       "      <td>Gender1</td>\n",
       "      <td>0.040549</td>\n",
       "    </tr>\n",
       "    <tr>\n",
       "      <th>35</th>\n",
       "      <td>ChronicCond_stroke_2</td>\n",
       "      <td>0.035705</td>\n",
       "    </tr>\n",
       "    <tr>\n",
       "      <th>1</th>\n",
       "      <td>Patient_Count</td>\n",
       "      <td>0.026595</td>\n",
       "    </tr>\n",
       "    <tr>\n",
       "      <th>26</th>\n",
       "      <td>ChronicCond_Diabetes_1</td>\n",
       "      <td>0.026051</td>\n",
       "    </tr>\n",
       "    <tr>\n",
       "      <th>15</th>\n",
       "      <td>Race3</td>\n",
       "      <td>0.003601</td>\n",
       "    </tr>\n",
       "  </tbody>\n",
       "</table>\n",
       "</div>"
      ],
      "text/plain": [
       "                              Feature     Score\n",
       "51                  Diagnosis_8_Count  1.248980\n",
       "46                  Diagnosis_3_Count  1.110541\n",
       "45                  Diagnosis_2_Count  0.966835\n",
       "3                         Claim_Count  0.964661\n",
       "13                              Race1  0.946336\n",
       "18        ChronicCond_KidneyDisease_1  0.547086\n",
       "16            ChronicCond_Alzheimer_1  0.542038\n",
       "29        ChronicCond_IschemicHeart_2  0.472357\n",
       "49                  Diagnosis_6_Count  0.430372\n",
       "48                  Diagnosis_5_Count  0.397011\n",
       "7                     DuplicateClaims  0.385731\n",
       "17            ChronicCond_Alzheimer_2  0.384022\n",
       "39                  Procedure_1_Count  0.364497\n",
       "42                  Procedure_4_Count  0.356688\n",
       "30         ChronicCond_Osteoporasis_1  0.334835\n",
       "19        ChronicCond_KidneyDisease_2  0.325502\n",
       "50                  Diagnosis_7_Count  0.285051\n",
       "32  ChronicCond_rheumatoidarthritis_1  0.281205\n",
       "0                          Phys_Count  0.276895\n",
       "53                   isFraudConnected  0.237761\n",
       "44                  Diagnosis_1_Count  0.233332\n",
       "52                  Diagnosis_9_Count  0.226333\n",
       "47                  Diagnosis_4_Count  0.216661\n",
       "14                              Race2  0.210674\n",
       "11                            Avg_Age  0.204440\n",
       "10                           Avg_Cost  0.193327\n",
       "34               ChronicCond_stroke_1  0.191606\n",
       "24           ChronicCond_Depression_1  0.177438\n",
       "8            Duplicate_Claims_Percent  0.163394\n",
       "28        ChronicCond_IschemicHeart_1  0.152078\n",
       "25           ChronicCond_Depression_2  0.149349\n",
       "41                  Procedure_3_Count  0.147728\n",
       "6               Norm_Outpatient_Count  0.145326\n",
       "9                    AvgClaimDuration  0.143131\n",
       "27             ChronicCond_Diabetes_2  0.139214\n",
       "38                FraudNeighbor_Count  0.137897\n",
       "36                      NetworkDegree  0.137831\n",
       "20               ChronicCond_Cancer_1  0.133963\n",
       "31         ChronicCond_Osteoporasis_2  0.115670\n",
       "33  ChronicCond_rheumatoidarthritis_2  0.111887\n",
       "5                Norm_Inpatient_Count  0.093212\n",
       "2                  Norm_Patient_Count  0.083410\n",
       "22       ChronicCond_ObstrPulmonary_1  0.080815\n",
       "40                  Procedure_2_Count  0.065417\n",
       "4                    Norm_Claim_Count  0.062025\n",
       "37                   NoPhysicianCount  0.056937\n",
       "21               ChronicCond_Cancer_2  0.056700\n",
       "23       ChronicCond_ObstrPulmonary_2  0.051799\n",
       "43                  Procedure_5_Count  0.043448\n",
       "12                            Gender1  0.040549\n",
       "35               ChronicCond_stroke_2  0.035705\n",
       "1                       Patient_Count  0.026595\n",
       "26             ChronicCond_Diabetes_1  0.026051\n",
       "15                              Race3  0.003601"
      ]
     },
     "execution_count": 34,
     "metadata": {},
     "output_type": "execute_result"
    },
    {
     "data": {
      "image/png": "[encoded data removed]",
      "text/plain": [
       "<Figure size 432x288 with 1 Axes>"
      ]
     },
     "metadata": {},
     "output_type": "display_data"
    }
   ],
   "source": [
    "importance = logit_final.coef_[0]\n",
    "feature_importance = pd.DataFrame(columns = ('Feature', 'Score'))\n",
    "\n",
    "# summarize feature importance\n",
    "for i,v in enumerate(importance):\n",
    "    feature_importance.loc[i] = X_train_Bal.columns[i], np.abs(v)\n",
    "    \n",
    "# plot feature importance\n",
    "scores = feature_importance.sort_values(by = 'Score', ascending=False)\n",
    "scores.plot.bar()\n",
    "scores"
   ]
  },
  {
   "cell_type": "markdown",
   "metadata": {},
   "source": [
    "## Stochastic Gradient Descent Classifier"
   ]
  },
  {
   "cell_type": "markdown",
   "metadata": {},
   "source": [
    "#### SMOTE"
   ]
  },
  {
   "cell_type": "code",
   "execution_count": 35,
   "metadata": {},
   "outputs": [
    {
     "name": "stdout",
     "output_type": "stream",
     "text": [
      "SMOTE: \n",
      "SGD Baseline F1 score:  0.30513595166163143\n"
     ]
    }
   ],
   "source": [
    "#SMOTE\n",
    "sgd = SGDClassifier(loss='log', max_iter=1e4, l1_ratio=0, alpha=1e-4, shuffle=False)\n",
    "sgd.fit(X_train_Bal, y_train_Bal)\n",
    "print(\"SMOTE: \\nSGD Baseline F1 score: \", f1_score(y_test,sgd.predict(X_test)))"
   ]
  },
  {
   "cell_type": "code",
   "execution_count": 36,
   "metadata": {},
   "outputs": [
    {
     "name": "stdout",
     "output_type": "stream",
     "text": [
      "CPU times: user 2.25 s, sys: 123 ms, total: 2.38 s\n",
      "Wall time: 11 s\n"
     ]
    },
    {
     "name": "stderr",
     "output_type": "stream",
     "text": [
      "/Users/marcuschoi/opt/anaconda3/lib/python3.7/site-packages/sklearn/linear_model/_stochastic_gradient.py:573: ConvergenceWarning: Maximum number of iteration reached before convergence. Consider increasing max_iter to improve the fit.\n",
      "  ConvergenceWarning)\n"
     ]
    },
    {
     "data": {
      "text/plain": [
       "GridSearchCV(cv=StratifiedKFold(n_splits=5, random_state=42, shuffle=True),\n",
       "             estimator=SGDClassifier(l1_ratio=0, loss='log', max_iter=10000.0,\n",
       "                                     shuffle=False),\n",
       "             n_jobs=-1,\n",
       "             param_grid={'alpha': array([0.0005    , 0.00048621, 0.00047241, 0.00045862, 0.00044483,\n",
       "       0.00043103, 0.00041724, 0.00040345, 0.00038966, 0.00037586,\n",
       "       0.00036207, 0.00034828, 0.00033448, 0.00032069, 0.0003069 ,\n",
       "       0.0002931 , 0.00027931, 0.00026552, 0.00025172, 0.00023793,\n",
       "       0.00022414, 0.00021034, 0.00019655, 0.00018276, 0.00016897,\n",
       "       0.00015517, 0.00014138, 0.00012759, 0.00011379, 0.0001    ]),\n",
       "                         'max_iter': [0.001, 0.01, 0.1, 1, 10, 100, 1000,\n",
       "                                      10000]},\n",
       "             scoring='f1')"
      ]
     },
     "execution_count": 36,
     "metadata": {},
     "output_type": "execute_result"
    }
   ],
   "source": [
    "grid_para_sgd = {\n",
    "    'max_iter': [0.001, 0.01, 0.1, 1, 10, 100, 1000, 10000],\n",
    "    'alpha': np.linspace(5e-4,1e-4,30)\n",
    "}\n",
    "grid_search_sgd = ms.GridSearchCV(sgd, grid_para_sgd, cv=s_kf, scoring='f1', n_jobs=-1)\n",
    "%time grid_search_sgd.fit(X_train_Bal, y_train_Bal)"
   ]
  },
  {
   "cell_type": "code",
   "execution_count": 37,
   "metadata": {},
   "outputs": [
    {
     "name": "stdout",
     "output_type": "stream",
     "text": [
      "SMOTE: \n",
      "\n",
      "SGD Grid Search best params:  {'alpha': 0.0004724137931034483, 'max_iter': 10}\n",
      "SGD Grid Search Training set F1 score:  0.8286173744488489\n",
      "SGD Best Estimator Validation set F1 score:  0.35587188612099646\n",
      "SGD Best Estimator Validation set business score:  0.6461470228108616\n"
     ]
    }
   ],
   "source": [
    "print(\"SMOTE: \\n\")\n",
    "print(\"SGD Grid Search best params: \", grid_search_sgd.best_params_)\n",
    "print(\"SGD Grid Search Training set F1 score: \", grid_search_sgd.best_score_)\n",
    "sgd_final = grid_search_sgd.best_estimator_\n",
    "print(\"SGD Best Estimator Validation set F1 score: \", f1_score(y_test,sgd_final.predict(X_test)))\n",
    "print(\"SGD Best Estimator Validation set business score: \", businessgain(y_test,sgd_final.predict(X_test)))\n",
    "SMOTE_sgd = f1_score(y_test,sgd_final.predict(X_test))"
   ]
  },
  {
   "cell_type": "markdown",
   "metadata": {},
   "source": [
    "#### imblearn"
   ]
  },
  {
   "cell_type": "code",
   "execution_count": 38,
   "metadata": {},
   "outputs": [
    {
     "name": "stdout",
     "output_type": "stream",
     "text": [
      "Imblearn Balanced: \n",
      "SGD Baseline F1 score:  0.30839694656488553\n"
     ]
    }
   ],
   "source": [
    "sgd = SGDClassifier(loss='log', max_iter=1e4, l1_ratio=0, alpha=1e-4, shuffle=False)\n",
    "sgd.fit(X_ros, y_ros)\n",
    "print(\"Imblearn Balanced: \\nSGD Baseline F1 score: \", f1_score(y_test,sgd.predict(X_test)))"
   ]
  },
  {
   "cell_type": "code",
   "execution_count": 39,
   "metadata": {},
   "outputs": [
    {
     "name": "stdout",
     "output_type": "stream",
     "text": [
      "CPU times: user 2.41 s, sys: 122 ms, total: 2.53 s\n",
      "Wall time: 12.9 s\n"
     ]
    },
    {
     "name": "stderr",
     "output_type": "stream",
     "text": [
      "/Users/marcuschoi/opt/anaconda3/lib/python3.7/site-packages/sklearn/linear_model/_stochastic_gradient.py:573: ConvergenceWarning: Maximum number of iteration reached before convergence. Consider increasing max_iter to improve the fit.\n",
      "  ConvergenceWarning)\n"
     ]
    },
    {
     "data": {
      "text/plain": [
       "GridSearchCV(cv=StratifiedKFold(n_splits=5, random_state=42, shuffle=True),\n",
       "             estimator=SGDClassifier(l1_ratio=0, loss='log', max_iter=10000.0,\n",
       "                                     shuffle=False),\n",
       "             n_jobs=-1,\n",
       "             param_grid={'alpha': array([0.0005    , 0.00048621, 0.00047241, 0.00045862, 0.00044483,\n",
       "       0.00043103, 0.00041724, 0.00040345, 0.00038966, 0.00037586,\n",
       "       0.00036207, 0.00034828, 0.00033448, 0.00032069, 0.0003069 ,\n",
       "       0.0002931 , 0.00027931, 0.00026552, 0.00025172, 0.00023793,\n",
       "       0.00022414, 0.00021034, 0.00019655, 0.00018276, 0.00016897,\n",
       "       0.00015517, 0.00014138, 0.00012759, 0.00011379, 0.0001    ]),\n",
       "                         'max_iter': [0.001, 0.01, 0.1, 1, 10, 100, 1000,\n",
       "                                      10000]},\n",
       "             scoring='f1')"
      ]
     },
     "execution_count": 39,
     "metadata": {},
     "output_type": "execute_result"
    }
   ],
   "source": [
    "grid_para_sgd = {\n",
    "    'max_iter': [0.001, 0.01, 0.1, 1, 10, 100, 1000, 10000],\n",
    "    'alpha': np.linspace(5e-4,1e-4,30)\n",
    "}\n",
    "grid_search_sgd = ms.GridSearchCV(sgd, grid_para_sgd, cv=s_kf, scoring='f1', n_jobs=-1)\n",
    "%time grid_search_sgd.fit(X_ros, y_ros)"
   ]
  },
  {
   "cell_type": "code",
   "execution_count": 40,
   "metadata": {},
   "outputs": [
    {
     "name": "stdout",
     "output_type": "stream",
     "text": [
      "SGD Grid Search best params:  {'alpha': 0.0004862068965517241, 'max_iter': 10}\n",
      "SGD Grid Search Training set F1 score:  0.8279024297479731\n",
      "SGD Best Estimator Validation set F1 score:  0.3496503496503497\n",
      "SGD Best Estimator Validation set business score:  0.6369190947171842\n"
     ]
    }
   ],
   "source": [
    "print(\"SGD Grid Search best params: \", grid_search_sgd.best_params_)\n",
    "print(\"SGD Grid Search Training set F1 score: \", grid_search_sgd.best_score_)\n",
    "sgd_final = grid_search_sgd.best_estimator_\n",
    "print(\"SGD Best Estimator Validation set F1 score: \", f1_score(y_test,sgd_final.predict(X_test)))\n",
    "print(\"SGD Best Estimator Validation set business score: \", businessgain(y_test,sgd_final.predict(X_test)))\n",
    "imblearn_sgd = f1_score(y_test,sgd_final.predict(X_test))"
   ]
  },
  {
   "cell_type": "markdown",
   "metadata": {},
   "source": [
    "#### Comparing SMOTE with imblearn"
   ]
  },
  {
   "cell_type": "code",
   "execution_count": 41,
   "metadata": {},
   "outputs": [
    {
     "name": "stdout",
     "output_type": "stream",
     "text": [
      "SMOTE SGD F1 score:  0.35587188612099646 \n",
      "imblearn SGD F1 score:  0.3496503496503497\n"
     ]
    }
   ],
   "source": [
    "print('SMOTE SGD F1 score: ', SMOTE_sgd, '\\nimblearn SGD F1 score: ', imblearn_sgd)"
   ]
  },
  {
   "cell_type": "code",
   "execution_count": 42,
   "metadata": {},
   "outputs": [],
   "source": [
    "f1_scores.loc[1] = 'SGD', round(SMOTE_sgd, 2)"
   ]
  },
  {
   "cell_type": "code",
   "execution_count": 43,
   "metadata": {},
   "outputs": [
    {
     "data": {
      "text/plain": [
       "array([[610, 371],\n",
       "       [  1, 100]])"
      ]
     },
     "execution_count": 43,
     "metadata": {},
     "output_type": "execute_result"
    }
   ],
   "source": [
    "confusion_matrix(y_test, sgd_final.predict(X_test))"
   ]
  },
  {
   "cell_type": "code",
   "execution_count": 44,
   "metadata": {},
   "outputs": [
    {
     "name": "stdout",
     "output_type": "stream",
     "text": [
      "              precision    recall  f1-score   support\n",
      "\n",
      "           0       0.62      1.00      0.77       611\n",
      "           1       0.99      0.21      0.35       471\n",
      "\n",
      "    accuracy                           0.66      1082\n",
      "   macro avg       0.81      0.61      0.56      1082\n",
      "weighted avg       0.78      0.66      0.58      1082\n",
      "\n"
     ]
    }
   ],
   "source": [
    "print(classification_report(sgd_final.predict(X_test), y_test))"
   ]
  },
  {
   "cell_type": "markdown",
   "metadata": {},
   "source": [
    "#### SGD feature Importance"
   ]
  },
  {
   "cell_type": "code",
   "execution_count": 45,
   "metadata": {},
   "outputs": [
    {
     "data": {
      "text/html": [
       "<div>\n",
       "<style scoped>\n",
       "    .dataframe tbody tr th:only-of-type {\n",
       "        vertical-align: middle;\n",
       "    }\n",
       "\n",
       "    .dataframe tbody tr th {\n",
       "        vertical-align: top;\n",
       "    }\n",
       "\n",
       "    .dataframe thead th {\n",
       "        text-align: right;\n",
       "    }\n",
       "</style>\n",
       "<table border=\"1\" class=\"dataframe\">\n",
       "  <thead>\n",
       "    <tr style=\"text-align: right;\">\n",
       "      <th></th>\n",
       "      <th>Feature</th>\n",
       "      <th>Score</th>\n",
       "    </tr>\n",
       "  </thead>\n",
       "  <tbody>\n",
       "    <tr>\n",
       "      <th>39</th>\n",
       "      <td>Procedure_1_Count</td>\n",
       "      <td>7.430103</td>\n",
       "    </tr>\n",
       "    <tr>\n",
       "      <th>6</th>\n",
       "      <td>Norm_Outpatient_Count</td>\n",
       "      <td>7.386673</td>\n",
       "    </tr>\n",
       "    <tr>\n",
       "      <th>5</th>\n",
       "      <td>Norm_Inpatient_Count</td>\n",
       "      <td>7.366586</td>\n",
       "    </tr>\n",
       "    <tr>\n",
       "      <th>44</th>\n",
       "      <td>Diagnosis_1_Count</td>\n",
       "      <td>7.103482</td>\n",
       "    </tr>\n",
       "    <tr>\n",
       "      <th>3</th>\n",
       "      <td>Claim_Count</td>\n",
       "      <td>6.931169</td>\n",
       "    </tr>\n",
       "    <tr>\n",
       "      <th>36</th>\n",
       "      <td>NetworkDegree</td>\n",
       "      <td>6.660244</td>\n",
       "    </tr>\n",
       "    <tr>\n",
       "      <th>34</th>\n",
       "      <td>ChronicCond_stroke_1</td>\n",
       "      <td>5.070195</td>\n",
       "    </tr>\n",
       "    <tr>\n",
       "      <th>45</th>\n",
       "      <td>Diagnosis_2_Count</td>\n",
       "      <td>4.914023</td>\n",
       "    </tr>\n",
       "    <tr>\n",
       "      <th>10</th>\n",
       "      <td>Avg_Cost</td>\n",
       "      <td>4.807759</td>\n",
       "    </tr>\n",
       "    <tr>\n",
       "      <th>7</th>\n",
       "      <td>DuplicateClaims</td>\n",
       "      <td>4.032060</td>\n",
       "    </tr>\n",
       "    <tr>\n",
       "      <th>37</th>\n",
       "      <td>NoPhysicianCount</td>\n",
       "      <td>3.981107</td>\n",
       "    </tr>\n",
       "    <tr>\n",
       "      <th>53</th>\n",
       "      <td>isFraudConnected</td>\n",
       "      <td>3.885265</td>\n",
       "    </tr>\n",
       "    <tr>\n",
       "      <th>0</th>\n",
       "      <td>Phys_Count</td>\n",
       "      <td>3.689408</td>\n",
       "    </tr>\n",
       "    <tr>\n",
       "      <th>2</th>\n",
       "      <td>Norm_Patient_Count</td>\n",
       "      <td>3.123644</td>\n",
       "    </tr>\n",
       "    <tr>\n",
       "      <th>20</th>\n",
       "      <td>ChronicCond_Cancer_1</td>\n",
       "      <td>3.045766</td>\n",
       "    </tr>\n",
       "    <tr>\n",
       "      <th>16</th>\n",
       "      <td>ChronicCond_Alzheimer_1</td>\n",
       "      <td>3.032340</td>\n",
       "    </tr>\n",
       "    <tr>\n",
       "      <th>48</th>\n",
       "      <td>Diagnosis_5_Count</td>\n",
       "      <td>2.841829</td>\n",
       "    </tr>\n",
       "    <tr>\n",
       "      <th>11</th>\n",
       "      <td>Avg_Age</td>\n",
       "      <td>2.812201</td>\n",
       "    </tr>\n",
       "    <tr>\n",
       "      <th>40</th>\n",
       "      <td>Procedure_2_Count</td>\n",
       "      <td>2.786430</td>\n",
       "    </tr>\n",
       "    <tr>\n",
       "      <th>15</th>\n",
       "      <td>Race3</td>\n",
       "      <td>2.692463</td>\n",
       "    </tr>\n",
       "    <tr>\n",
       "      <th>50</th>\n",
       "      <td>Diagnosis_7_Count</td>\n",
       "      <td>2.429709</td>\n",
       "    </tr>\n",
       "    <tr>\n",
       "      <th>52</th>\n",
       "      <td>Diagnosis_9_Count</td>\n",
       "      <td>2.391795</td>\n",
       "    </tr>\n",
       "    <tr>\n",
       "      <th>14</th>\n",
       "      <td>Race2</td>\n",
       "      <td>2.128796</td>\n",
       "    </tr>\n",
       "    <tr>\n",
       "      <th>38</th>\n",
       "      <td>FraudNeighbor_Count</td>\n",
       "      <td>2.037623</td>\n",
       "    </tr>\n",
       "    <tr>\n",
       "      <th>46</th>\n",
       "      <td>Diagnosis_3_Count</td>\n",
       "      <td>1.872284</td>\n",
       "    </tr>\n",
       "    <tr>\n",
       "      <th>4</th>\n",
       "      <td>Norm_Claim_Count</td>\n",
       "      <td>1.565694</td>\n",
       "    </tr>\n",
       "    <tr>\n",
       "      <th>31</th>\n",
       "      <td>ChronicCond_Osteoporasis_2</td>\n",
       "      <td>1.551740</td>\n",
       "    </tr>\n",
       "    <tr>\n",
       "      <th>22</th>\n",
       "      <td>ChronicCond_ObstrPulmonary_1</td>\n",
       "      <td>1.551238</td>\n",
       "    </tr>\n",
       "    <tr>\n",
       "      <th>49</th>\n",
       "      <td>Diagnosis_6_Count</td>\n",
       "      <td>1.520506</td>\n",
       "    </tr>\n",
       "    <tr>\n",
       "      <th>47</th>\n",
       "      <td>Diagnosis_4_Count</td>\n",
       "      <td>1.359242</td>\n",
       "    </tr>\n",
       "    <tr>\n",
       "      <th>27</th>\n",
       "      <td>ChronicCond_Diabetes_2</td>\n",
       "      <td>1.152483</td>\n",
       "    </tr>\n",
       "    <tr>\n",
       "      <th>19</th>\n",
       "      <td>ChronicCond_KidneyDisease_2</td>\n",
       "      <td>0.902761</td>\n",
       "    </tr>\n",
       "    <tr>\n",
       "      <th>30</th>\n",
       "      <td>ChronicCond_Osteoporasis_1</td>\n",
       "      <td>0.872807</td>\n",
       "    </tr>\n",
       "    <tr>\n",
       "      <th>1</th>\n",
       "      <td>Patient_Count</td>\n",
       "      <td>0.786094</td>\n",
       "    </tr>\n",
       "    <tr>\n",
       "      <th>42</th>\n",
       "      <td>Procedure_4_Count</td>\n",
       "      <td>0.755548</td>\n",
       "    </tr>\n",
       "    <tr>\n",
       "      <th>32</th>\n",
       "      <td>ChronicCond_rheumatoidarthritis_1</td>\n",
       "      <td>0.722206</td>\n",
       "    </tr>\n",
       "    <tr>\n",
       "      <th>24</th>\n",
       "      <td>ChronicCond_Depression_1</td>\n",
       "      <td>0.719777</td>\n",
       "    </tr>\n",
       "    <tr>\n",
       "      <th>26</th>\n",
       "      <td>ChronicCond_Diabetes_1</td>\n",
       "      <td>0.633227</td>\n",
       "    </tr>\n",
       "    <tr>\n",
       "      <th>17</th>\n",
       "      <td>ChronicCond_Alzheimer_2</td>\n",
       "      <td>0.625832</td>\n",
       "    </tr>\n",
       "    <tr>\n",
       "      <th>18</th>\n",
       "      <td>ChronicCond_KidneyDisease_1</td>\n",
       "      <td>0.613629</td>\n",
       "    </tr>\n",
       "    <tr>\n",
       "      <th>33</th>\n",
       "      <td>ChronicCond_rheumatoidarthritis_2</td>\n",
       "      <td>0.606027</td>\n",
       "    </tr>\n",
       "    <tr>\n",
       "      <th>29</th>\n",
       "      <td>ChronicCond_IschemicHeart_2</td>\n",
       "      <td>0.536168</td>\n",
       "    </tr>\n",
       "    <tr>\n",
       "      <th>13</th>\n",
       "      <td>Race1</td>\n",
       "      <td>0.493494</td>\n",
       "    </tr>\n",
       "    <tr>\n",
       "      <th>28</th>\n",
       "      <td>ChronicCond_IschemicHeart_1</td>\n",
       "      <td>0.444711</td>\n",
       "    </tr>\n",
       "    <tr>\n",
       "      <th>23</th>\n",
       "      <td>ChronicCond_ObstrPulmonary_2</td>\n",
       "      <td>0.393393</td>\n",
       "    </tr>\n",
       "    <tr>\n",
       "      <th>35</th>\n",
       "      <td>ChronicCond_stroke_2</td>\n",
       "      <td>0.382335</td>\n",
       "    </tr>\n",
       "    <tr>\n",
       "      <th>21</th>\n",
       "      <td>ChronicCond_Cancer_2</td>\n",
       "      <td>0.362405</td>\n",
       "    </tr>\n",
       "    <tr>\n",
       "      <th>51</th>\n",
       "      <td>Diagnosis_8_Count</td>\n",
       "      <td>0.216489</td>\n",
       "    </tr>\n",
       "    <tr>\n",
       "      <th>41</th>\n",
       "      <td>Procedure_3_Count</td>\n",
       "      <td>0.211734</td>\n",
       "    </tr>\n",
       "    <tr>\n",
       "      <th>43</th>\n",
       "      <td>Procedure_5_Count</td>\n",
       "      <td>0.201648</td>\n",
       "    </tr>\n",
       "    <tr>\n",
       "      <th>25</th>\n",
       "      <td>ChronicCond_Depression_2</td>\n",
       "      <td>0.184986</td>\n",
       "    </tr>\n",
       "    <tr>\n",
       "      <th>8</th>\n",
       "      <td>Duplicate_Claims_Percent</td>\n",
       "      <td>0.070091</td>\n",
       "    </tr>\n",
       "    <tr>\n",
       "      <th>9</th>\n",
       "      <td>AvgClaimDuration</td>\n",
       "      <td>0.068587</td>\n",
       "    </tr>\n",
       "    <tr>\n",
       "      <th>12</th>\n",
       "      <td>Gender1</td>\n",
       "      <td>0.004486</td>\n",
       "    </tr>\n",
       "  </tbody>\n",
       "</table>\n",
       "</div>"
      ],
      "text/plain": [
       "                              Feature     Score\n",
       "39                  Procedure_1_Count  7.430103\n",
       "6               Norm_Outpatient_Count  7.386673\n",
       "5                Norm_Inpatient_Count  7.366586\n",
       "44                  Diagnosis_1_Count  7.103482\n",
       "3                         Claim_Count  6.931169\n",
       "36                      NetworkDegree  6.660244\n",
       "34               ChronicCond_stroke_1  5.070195\n",
       "45                  Diagnosis_2_Count  4.914023\n",
       "10                           Avg_Cost  4.807759\n",
       "7                     DuplicateClaims  4.032060\n",
       "37                   NoPhysicianCount  3.981107\n",
       "53                   isFraudConnected  3.885265\n",
       "0                          Phys_Count  3.689408\n",
       "2                  Norm_Patient_Count  3.123644\n",
       "20               ChronicCond_Cancer_1  3.045766\n",
       "16            ChronicCond_Alzheimer_1  3.032340\n",
       "48                  Diagnosis_5_Count  2.841829\n",
       "11                            Avg_Age  2.812201\n",
       "40                  Procedure_2_Count  2.786430\n",
       "15                              Race3  2.692463\n",
       "50                  Diagnosis_7_Count  2.429709\n",
       "52                  Diagnosis_9_Count  2.391795\n",
       "14                              Race2  2.128796\n",
       "38                FraudNeighbor_Count  2.037623\n",
       "46                  Diagnosis_3_Count  1.872284\n",
       "4                    Norm_Claim_Count  1.565694\n",
       "31         ChronicCond_Osteoporasis_2  1.551740\n",
       "22       ChronicCond_ObstrPulmonary_1  1.551238\n",
       "49                  Diagnosis_6_Count  1.520506\n",
       "47                  Diagnosis_4_Count  1.359242\n",
       "27             ChronicCond_Diabetes_2  1.152483\n",
       "19        ChronicCond_KidneyDisease_2  0.902761\n",
       "30         ChronicCond_Osteoporasis_1  0.872807\n",
       "1                       Patient_Count  0.786094\n",
       "42                  Procedure_4_Count  0.755548\n",
       "32  ChronicCond_rheumatoidarthritis_1  0.722206\n",
       "24           ChronicCond_Depression_1  0.719777\n",
       "26             ChronicCond_Diabetes_1  0.633227\n",
       "17            ChronicCond_Alzheimer_2  0.625832\n",
       "18        ChronicCond_KidneyDisease_1  0.613629\n",
       "33  ChronicCond_rheumatoidarthritis_2  0.606027\n",
       "29        ChronicCond_IschemicHeart_2  0.536168\n",
       "13                              Race1  0.493494\n",
       "28        ChronicCond_IschemicHeart_1  0.444711\n",
       "23       ChronicCond_ObstrPulmonary_2  0.393393\n",
       "35               ChronicCond_stroke_2  0.382335\n",
       "21               ChronicCond_Cancer_2  0.362405\n",
       "51                  Diagnosis_8_Count  0.216489\n",
       "41                  Procedure_3_Count  0.211734\n",
       "43                  Procedure_5_Count  0.201648\n",
       "25           ChronicCond_Depression_2  0.184986\n",
       "8            Duplicate_Claims_Percent  0.070091\n",
       "9                    AvgClaimDuration  0.068587\n",
       "12                            Gender1  0.004486"
      ]
     },
     "execution_count": 45,
     "metadata": {},
     "output_type": "execute_result"
    },
    {
     "data": {
      "image/png": "[encoded data removed]",
      "text/plain": [
       "<Figure size 432x288 with 1 Axes>"
      ]
     },
     "metadata": {},
     "output_type": "display_data"
    }
   ],
   "source": [
    "importance = sgd_final.coef_[0]\n",
    "feature_importance = pd.DataFrame(columns = ('Feature', 'Score'))\n",
    "\n",
    "# summarize feature importance\n",
    "for i,v in enumerate(importance):\n",
    "    feature_importance.loc[i] = X_train_Bal.columns[i], np.abs(v)\n",
    "    \n",
    "# plot feature importance\n",
    "scores = feature_importance.sort_values(by = 'Score', ascending=False)\n",
    "scores.plot.bar()\n",
    "scores"
   ]
  },
  {
   "cell_type": "markdown",
   "metadata": {},
   "source": [
    "### K-Nearest Neighbors"
   ]
  },
  {
   "cell_type": "markdown",
   "metadata": {},
   "source": [
    "#### SMOTE"
   ]
  },
  {
   "cell_type": "code",
   "execution_count": 46,
   "metadata": {},
   "outputs": [
    {
     "name": "stdout",
     "output_type": "stream",
     "text": [
      "SMOTE: \n",
      "KNN Baseline Training Set F1 score:  0.9433734939759036\n",
      "KNN Baseline Validation Set F1 score:  0.5\n"
     ]
    }
   ],
   "source": [
    "knn = KNeighborsClassifier()\n",
    "knn.fit(X_train_Bal, y_train_Bal)\n",
    "print(\"SMOTE: \\nKNN Baseline Training Set F1 score: \", f1_score(y_train_Bal,knn.predict(X_train_Bal)))\n",
    "print(\"KNN Baseline Validation Set F1 score: \", f1_score(y_test,knn.predict(X_test)))"
   ]
  },
  {
   "cell_type": "code",
   "execution_count": 47,
   "metadata": {},
   "outputs": [
    {
     "name": "stdout",
     "output_type": "stream",
     "text": [
      "Fitting 5 folds for each of 10 candidates, totalling 50 fits\n"
     ]
    },
    {
     "name": "stderr",
     "output_type": "stream",
     "text": [
      "[Parallel(n_jobs=-1)]: Using backend LokyBackend with 8 concurrent workers.\n",
      "[Parallel(n_jobs=-1)]: Done  34 tasks      | elapsed:   21.9s\n",
      "[Parallel(n_jobs=-1)]: Done  50 out of  50 | elapsed:   28.5s finished\n"
     ]
    },
    {
     "data": {
      "text/plain": [
       "GridSearchCV(cv=StratifiedKFold(n_splits=5, random_state=42, shuffle=True),\n",
       "             estimator=KNeighborsClassifier(), n_jobs=-1,\n",
       "             param_grid={'n_neighbors': array([70, 71, 72, 73, 74, 75, 76, 77, 78, 79])},\n",
       "             return_train_score=True, scoring='f1', verbose=1)"
      ]
     },
     "execution_count": 47,
     "metadata": {},
     "output_type": "execute_result"
    }
   ],
   "source": [
    "# grid search\n",
    "params = {'n_neighbors': np.arange(0,10)+70}\n",
    "\n",
    "knn_GS =  GridSearchCV(knn, param_grid = params,\n",
    "                       cv=s_kf, n_jobs=(-1), verbose = 1,\n",
    "                       return_train_score = True,\n",
    "                       scoring = 'f1')\n",
    "\n",
    "knn_GS.fit(X_train_Bal, y_train_Bal)"
   ]
  },
  {
   "cell_type": "code",
   "execution_count": 48,
   "metadata": {},
   "outputs": [
    {
     "name": "stdout",
     "output_type": "stream",
     "text": [
      "KNN Grid Search Best params:  {'n_neighbors': 70}\n",
      "KNN Grid Search Training set F1 score:  0.8810583283223091\n",
      "KNN Grid Search Validation set F1 score:  0.49343832020997375\n",
      "KNN Grid Search Validation set business score:  0.6832871264058892\n"
     ]
    }
   ],
   "source": [
    "print(\"KNN Grid Search Best params: \", knn_GS.best_params_)\n",
    "best_knn = knn_GS.best_estimator_\n",
    "print(\"KNN Grid Search Training set F1 score: \", f1_score(y_train_Bal, best_knn.predict(X_train_Bal)))\n",
    "print(\"KNN Grid Search Validation set F1 score: \", f1_score(y_test, best_knn.predict(X_test)))\n",
    "print(\"KNN Grid Search Validation set business score: \", businessgain(y_test, best_knn.predict(X_test)))\n",
    "SMOTE_knn = f1_score(y_test, best_knn.predict(X_test))"
   ]
  },
  {
   "cell_type": "markdown",
   "metadata": {},
   "source": [
    "#### imblearn"
   ]
  },
  {
   "cell_type": "code",
   "execution_count": 49,
   "metadata": {},
   "outputs": [
    {
     "name": "stdout",
     "output_type": "stream",
     "text": [
      "imblearn: \n",
      "KNN Baseline Training Set F1 score:  0.9590514607016257\n",
      "KNN Baseline Validation Set F1 score:  0.5338078291814946\n"
     ]
    }
   ],
   "source": [
    "knn = KNeighborsClassifier()\n",
    "knn.fit(X_ros, y_ros)\n",
    "print(\"imblearn: \\nKNN Baseline Training Set F1 score: \", f1_score(y_ros,knn.predict(X_ros)))\n",
    "print(\"KNN Baseline Validation Set F1 score: \", f1_score(y_test,knn.predict(X_test)))"
   ]
  },
  {
   "cell_type": "code",
   "execution_count": 50,
   "metadata": {},
   "outputs": [
    {
     "name": "stdout",
     "output_type": "stream",
     "text": [
      "Fitting 5 folds for each of 10 candidates, totalling 50 fits\n"
     ]
    },
    {
     "name": "stderr",
     "output_type": "stream",
     "text": [
      "[Parallel(n_jobs=-1)]: Using backend LokyBackend with 8 concurrent workers.\n",
      "[Parallel(n_jobs=-1)]: Done  34 tasks      | elapsed:   21.7s\n",
      "[Parallel(n_jobs=-1)]: Done  50 out of  50 | elapsed:   28.0s finished\n"
     ]
    },
    {
     "data": {
      "text/plain": [
       "GridSearchCV(cv=StratifiedKFold(n_splits=5, random_state=42, shuffle=True),\n",
       "             estimator=KNeighborsClassifier(), n_jobs=-1,\n",
       "             param_grid={'n_neighbors': array([70, 71, 72, 73, 74, 75, 76, 77, 78, 79])},\n",
       "             return_train_score=True, scoring='f1', verbose=1)"
      ]
     },
     "execution_count": 50,
     "metadata": {},
     "output_type": "execute_result"
    }
   ],
   "source": [
    "# grid search\n",
    "params = {'n_neighbors': np.arange(0,10)+70}\n",
    "\n",
    "knn_GS =  GridSearchCV(knn, param_grid = params,\n",
    "                       cv=s_kf, n_jobs=(-1), verbose = 1,\n",
    "                       return_train_score = True,\n",
    "                       scoring = 'f1')\n",
    "\n",
    "knn_GS.fit(X_ros, y_ros)"
   ]
  },
  {
   "cell_type": "code",
   "execution_count": 51,
   "metadata": {},
   "outputs": [
    {
     "name": "stdout",
     "output_type": "stream",
     "text": [
      "KNN Grid Search Best params:  {'n_neighbors': 71}\n",
      "KNN Grid Search Training set F1 score:  0.8602794411177646\n",
      "KNN Grid Search Validation set F1 score:  0.5306122448979592\n",
      "KNN Grid Search Validation set business score:  0.6534105557115972\n"
     ]
    }
   ],
   "source": [
    "print(\"KNN Grid Search Best params: \", knn_GS.best_params_)\n",
    "best_knn = knn_GS.best_estimator_\n",
    "print(\"KNN Grid Search Training set F1 score: \", f1_score(y_ros, best_knn.predict(X_ros)))\n",
    "print(\"KNN Grid Search Validation set F1 score: \", f1_score(y_test, best_knn.predict(X_test)))\n",
    "print(\"KNN Grid Search Validation set business score: \", businessgain(y_test, best_knn.predict(X_test)))\n",
    "imblearn_knn = f1_score(y_test, best_knn.predict(X_test))"
   ]
  },
  {
   "cell_type": "markdown",
   "metadata": {},
   "source": [
    "#### Comparing SMOTE and imblearn"
   ]
  },
  {
   "cell_type": "code",
   "execution_count": 52,
   "metadata": {},
   "outputs": [
    {
     "name": "stdout",
     "output_type": "stream",
     "text": [
      "SMOTE KNN F1 score:  0.49343832020997375 \n",
      "imblearn KNN F1 score:  0.5306122448979592\n"
     ]
    }
   ],
   "source": [
    "print('SMOTE KNN F1 score: ', SMOTE_knn, '\\nimblearn KNN F1 score: ', imblearn_knn)"
   ]
  },
  {
   "cell_type": "code",
   "execution_count": 53,
   "metadata": {},
   "outputs": [],
   "source": [
    "f1_scores.loc[2] = 'KNN', round(SMOTE_knn, 2)"
   ]
  },
  {
   "cell_type": "code",
   "execution_count": 54,
   "metadata": {},
   "outputs": [
    {
     "data": {
      "text/plain": [
       "array([[830, 151],\n",
       "       [ 10,  91]])"
      ]
     },
     "execution_count": 54,
     "metadata": {},
     "output_type": "execute_result"
    }
   ],
   "source": [
    "confusion_matrix(y_test, best_knn.predict(X_test))"
   ]
  },
  {
   "cell_type": "code",
   "execution_count": 55,
   "metadata": {},
   "outputs": [
    {
     "name": "stdout",
     "output_type": "stream",
     "text": [
      "              precision    recall  f1-score   support\n",
      "\n",
      "           0       0.85      0.99      0.91       840\n",
      "           1       0.90      0.38      0.53       242\n",
      "\n",
      "    accuracy                           0.85      1082\n",
      "   macro avg       0.87      0.68      0.72      1082\n",
      "weighted avg       0.86      0.85      0.83      1082\n",
      "\n"
     ]
    }
   ],
   "source": [
    "print(classification_report(best_knn.predict(X_test), y_test))"
   ]
  },
  {
   "cell_type": "markdown",
   "metadata": {},
   "source": [
    "### Support Vector Machine"
   ]
  },
  {
   "cell_type": "markdown",
   "metadata": {},
   "source": [
    "#### SMOTE"
   ]
  },
  {
   "cell_type": "code",
   "execution_count": 56,
   "metadata": {},
   "outputs": [
    {
     "name": "stdout",
     "output_type": "stream",
     "text": [
      "SMOTE: \n",
      "SVM BaseLine Train Set F1 Score: 0.8804951995957554\n",
      "SVM BaseLine Validation Set F1 Score: 0.5481927710843374\n"
     ]
    }
   ],
   "source": [
    "svm = SVC(class_weight='balanced')\n",
    "svm.fit(X_train_Bal, y_train_Bal)\n",
    "\n",
    "# baseline score\n",
    "svm_train_f1 = f1_score(y_train_Bal, svm.predict(X_train_Bal))\n",
    "svm_test_f1 = f1_score(y_test, svm.predict(X_test))\n",
    "\n",
    "print('SMOTE: \\nSVM BaseLine Train Set F1 Score:', svm_train_f1)\n",
    "print('SVM BaseLine Validation Set F1 Score:', svm_test_f1)"
   ]
  },
  {
   "cell_type": "code",
   "execution_count": 57,
   "metadata": {},
   "outputs": [
    {
     "name": "stdout",
     "output_type": "stream",
     "text": [
      "Fitting 5 folds for each of 20 candidates, totalling 100 fits\n"
     ]
    },
    {
     "name": "stderr",
     "output_type": "stream",
     "text": [
      "[Parallel(n_jobs=-1)]: Using backend LokyBackend with 8 concurrent workers.\n",
      "[Parallel(n_jobs=-1)]: Done  34 tasks      | elapsed:    9.5s\n",
      "[Parallel(n_jobs=-1)]: Done 100 out of 100 | elapsed:  8.0min finished\n"
     ]
    },
    {
     "data": {
      "text/plain": [
       "GridSearchCV(cv=StratifiedKFold(n_splits=5, random_state=42, shuffle=True),\n",
       "             estimator=SVC(class_weight='balanced'), n_jobs=-1,\n",
       "             param_grid={'C': array([  0.1       ,   0.21544347,   0.46415888,   1.        ,\n",
       "         2.15443469,   4.64158883,  10.        ,  21.5443469 ,\n",
       "        46.41588834, 100.        ]),\n",
       "                         'gamma': ('auto', 'scale'), 'kernel': ['linear']},\n",
       "             return_train_score=True, scoring='f1', verbose=1)"
      ]
     },
     "execution_count": 57,
     "metadata": {},
     "output_type": "execute_result"
    }
   ],
   "source": [
    "# grid search \n",
    "params = {'C': np.logspace(-1,2,10), \n",
    "          'kernel': ['linear'],\n",
    "          'gamma':('auto', 'scale')}\n",
    "\n",
    "svm_GS =  GridSearchCV(svm, params, cv=s_kf, n_jobs=(-1), verbose = 1, return_train_score = True, scoring = 'f1')\n",
    "svm_GS.fit(X_train, y_train)"
   ]
  },
  {
   "cell_type": "code",
   "execution_count": 58,
   "metadata": {},
   "outputs": [
    {
     "name": "stdout",
     "output_type": "stream",
     "text": [
      "SVM Grid Search Best params:  {'C': 0.46415888336127786, 'gamma': 'auto', 'kernel': 'linear'}\n",
      "SVM Grid Search Training set F1 score:  0.8574412532637075\n",
      "SVM Grid Search Validation set F1 score:  0.5859872611464969\n",
      "Test Set business Score: 0.7018191130000168\n"
     ]
    }
   ],
   "source": [
    "print(\"SVM Grid Search Best params: \", svm_GS.best_params_)\n",
    "best_svm = svm_GS.best_estimator_\n",
    "print(\"SVM Grid Search Training set F1 score: \", f1_score(y_train_Bal, best_svm.predict(X_train_Bal)))\n",
    "print(\"SVM Grid Search Validation set F1 score: \", f1_score(y_test, best_svm.predict(X_test)))\n",
    "print('Test Set business Score:', businessgain(y_test, best_svm.predict(X_test)))\n",
    "SMOTE_svm = f1_score(y_test, best_svm.predict(X_test))"
   ]
  },
  {
   "cell_type": "markdown",
   "metadata": {},
   "source": [
    "#### imblearn"
   ]
  },
  {
   "cell_type": "code",
   "execution_count": 59,
   "metadata": {},
   "outputs": [
    {
     "name": "stdout",
     "output_type": "stream",
     "text": [
      "imblearn: \n",
      "SVM BaseLine Train Set F1 Score: 0.8702426564495531\n",
      "SVM BaseLine Validation Set F1 Score: 0.5607476635514019\n"
     ]
    }
   ],
   "source": [
    "svm = SVC(class_weight='balanced')\n",
    "svm.fit(X_ros, y_ros)\n",
    "\n",
    "# baseline score\n",
    "svm_train_f1 = f1_score(y_ros, svm.predict(X_ros))\n",
    "svm_test_f1 = f1_score(y_test, svm.predict(X_test))\n",
    "\n",
    "print('imblearn: \\nSVM BaseLine Train Set F1 Score:', svm_train_f1)\n",
    "print('SVM BaseLine Validation Set F1 Score:', svm_test_f1)"
   ]
  },
  {
   "cell_type": "code",
   "execution_count": 60,
   "metadata": {},
   "outputs": [
    {
     "name": "stdout",
     "output_type": "stream",
     "text": [
      "Fitting 5 folds for each of 20 candidates, totalling 100 fits\n"
     ]
    },
    {
     "name": "stderr",
     "output_type": "stream",
     "text": [
      "[Parallel(n_jobs=-1)]: Using backend LokyBackend with 8 concurrent workers.\n",
      "/Users/marcuschoi/opt/anaconda3/lib/python3.7/site-packages/joblib/externals/loky/process_executor.py:706: UserWarning: A worker stopped while some jobs were given to the executor. This can be caused by a too short worker timeout or by a memory leak.\n",
      "  \"timeout or by a memory leak.\", UserWarning\n",
      "[Parallel(n_jobs=-1)]: Done  34 tasks      | elapsed:   33.2s\n",
      "[Parallel(n_jobs=-1)]: Done 100 out of 100 | elapsed: 33.6min finished\n"
     ]
    },
    {
     "data": {
      "text/plain": [
       "GridSearchCV(cv=StratifiedKFold(n_splits=5, random_state=42, shuffle=True),\n",
       "             estimator=SVC(class_weight='balanced'), n_jobs=-1,\n",
       "             param_grid={'C': array([  0.1       ,   0.21544347,   0.46415888,   1.        ,\n",
       "         2.15443469,   4.64158883,  10.        ,  21.5443469 ,\n",
       "        46.41588834, 100.        ]),\n",
       "                         'gamma': ('auto', 'scale'), 'kernel': ['linear']},\n",
       "             return_train_score=True, scoring='f1', verbose=1)"
      ]
     },
     "execution_count": 60,
     "metadata": {},
     "output_type": "execute_result"
    }
   ],
   "source": [
    "\n",
    "# grid search \n",
    "params = {'C': np.logspace(-1,2,10), \n",
    "          'kernel': ['linear'],\n",
    "          'gamma':('auto', 'scale')}\n",
    "\n",
    "svm_GS =  GridSearchCV(svm, params, cv=s_kf, n_jobs=(-1), verbose = 1, return_train_score = True, scoring = 'f1')\n",
    "svm_GS.fit(X_ros, y_ros)"
   ]
  },
  {
   "cell_type": "code",
   "execution_count": 61,
   "metadata": {},
   "outputs": [
    {
     "name": "stdout",
     "output_type": "stream",
     "text": [
      "imblearn: \n",
      "SVM Grid Search Best params:  {'C': 0.21544346900318834, 'gamma': 'auto', 'kernel': 'linear'}\n",
      "SVM Grid Search Training set F1 score:  0.8584451100403699\n",
      "SVM Grid Search Validation set F1 score:  0.5705128205128206\n",
      "Test Set business Score: 0.6387220011684863\n"
     ]
    }
   ],
   "source": [
    "print(\"imblearn: \\nSVM Grid Search Best params: \", svm_GS.best_params_)\n",
    "best_svm = svm_GS.best_estimator_\n",
    "print(\"SVM Grid Search Training set F1 score: \", f1_score(y_ros, best_svm.predict(X_ros)))\n",
    "print(\"SVM Grid Search Validation set F1 score: \", f1_score(y_test, best_svm.predict(X_test)))\n",
    "print('Test Set business Score:', businessgain(y_test, best_svm.predict(X_test)))\n",
    "imblearn_svm = f1_score(y_test, best_svm.predict(X_test))"
   ]
  },
  {
   "cell_type": "markdown",
   "metadata": {},
   "source": [
    "#### Comparing SMOTE and imblearn"
   ]
  },
  {
   "cell_type": "code",
   "execution_count": 62,
   "metadata": {},
   "outputs": [
    {
     "name": "stdout",
     "output_type": "stream",
     "text": [
      "SMOTE SVM F1 score:  0.5859872611464969 \n",
      "imblearn SVM F1 score:  0.5705128205128206\n"
     ]
    }
   ],
   "source": [
    "print('SMOTE SVM F1 score: ', SMOTE_svm, '\\nimblearn SVM F1 score: ', imblearn_svm)"
   ]
  },
  {
   "cell_type": "code",
   "execution_count": 63,
   "metadata": {},
   "outputs": [],
   "source": [
    "f1_scores.loc[3] = 'SVM', round(SMOTE_svm, 2)"
   ]
  },
  {
   "cell_type": "code",
   "execution_count": 64,
   "metadata": {},
   "outputs": [
    {
     "data": {
      "text/plain": [
       "array([[859, 122],\n",
       "       [ 12,  89]])"
      ]
     },
     "execution_count": 64,
     "metadata": {},
     "output_type": "execute_result"
    }
   ],
   "source": [
    "confusion_matrix(y_test, best_svm.predict(X_test))"
   ]
  },
  {
   "cell_type": "code",
   "execution_count": 65,
   "metadata": {},
   "outputs": [
    {
     "name": "stdout",
     "output_type": "stream",
     "text": [
      "              precision    recall  f1-score   support\n",
      "\n",
      "           0       0.88      0.99      0.93       871\n",
      "           1       0.88      0.42      0.57       211\n",
      "\n",
      "    accuracy                           0.88      1082\n",
      "   macro avg       0.88      0.70      0.75      1082\n",
      "weighted avg       0.88      0.88      0.86      1082\n",
      "\n"
     ]
    }
   ],
   "source": [
    "print(classification_report(best_svm.predict(X_test), y_test))"
   ]
  },
  {
   "cell_type": "markdown",
   "metadata": {},
   "source": [
    "### Random Forest"
   ]
  },
  {
   "cell_type": "markdown",
   "metadata": {},
   "source": [
    "#### SMOTE"
   ]
  },
  {
   "cell_type": "code",
   "execution_count": 66,
   "metadata": {},
   "outputs": [
    {
     "name": "stdout",
     "output_type": "stream",
     "text": [
      "SMOTE: \n",
      "RF BaseLine Train Set F1 Score: 1.0\n",
      "RF BaseLine Validation Set F1 Score: 0.606060606060606\n"
     ]
    }
   ],
   "source": [
    "from sklearn import ensemble\n",
    "randomForest = ensemble.RandomForestClassifier()\n",
    "\n",
    "# fit RF model on SMOTE training set\n",
    "randomForest.set_params(random_state=0)\n",
    "\n",
    "randomForest.fit(X_train_Bal, y_train_Bal)\n",
    "\n",
    "# baseline score\n",
    "print('SMOTE: \\nRF BaseLine Train Set F1 Score:', f1_score(y_train_Bal, randomForest.predict(X_train_Bal)))\n",
    "print('RF BaseLine Validation Set F1 Score:', f1_score(y_test, randomForest.predict(X_test)))"
   ]
  },
  {
   "cell_type": "code",
   "execution_count": 67,
   "metadata": {},
   "outputs": [
    {
     "name": "stdout",
     "output_type": "stream",
     "text": [
      "CPU times: user 7.7 s, sys: 420 ms, total: 8.12 s\n",
      "Wall time: 4min 51s\n"
     ]
    },
    {
     "data": {
      "text/plain": [
       "GridSearchCV(cv=StratifiedKFold(n_splits=5, random_state=42, shuffle=True),\n",
       "             estimator=RandomForestClassifier(random_state=0), n_jobs=-1,\n",
       "             param_grid={'criterion': ['entropy'], 'max_depth': range(1, 31),\n",
       "                         'n_estimators': range(10, 110, 10)},\n",
       "             scoring='f1')"
      ]
     },
     "execution_count": 67,
     "metadata": {},
     "output_type": "execute_result"
    }
   ],
   "source": [
    "# set the parameter grid\n",
    "grid_para_forest = {\n",
    "    'criterion': ['entropy'],\n",
    "    'max_depth': range(1, 31),\n",
    "    'n_estimators': range(10, 110, 10)\n",
    "}\n",
    "\n",
    "# run the RF classifier through the grid search\n",
    "grid_search_forest = ms.GridSearchCV(randomForest, grid_para_forest, scoring='f1', cv=s_kf, n_jobs=-1)\n",
    "%time grid_search_forest.fit(X_train_Bal, y_train_Bal)"
   ]
  },
  {
   "cell_type": "code",
   "execution_count": 68,
   "metadata": {},
   "outputs": [
    {
     "name": "stdout",
     "output_type": "stream",
     "text": [
      "RF Grid Search Best params:  {'criterion': 'entropy', 'max_depth': 25, 'n_estimators': 90}\n",
      "RF Grid Search Training set F1 score:  1.0\n",
      "RF Grid Search Validation set F1 score:  0.6206896551724138\n",
      "RF Grid Search Validation set Business score:  0.3445368070330654\n"
     ]
    }
   ],
   "source": [
    "print(\"RF Grid Search Best params: \", grid_search_forest.best_params_)\n",
    "best_RF = grid_search_forest.best_estimator_\n",
    "print(\"RF Grid Search Training set F1 score: \", f1_score(y_train_Bal, best_RF.predict(X_train_Bal)))\n",
    "print(\"RF Grid Search Validation set F1 score: \", f1_score(y_test, best_RF.predict(X_test)))\n",
    "print(\"RF Grid Search Validation set Business score: \", businessgain(y_test,best_RF.predict(X_test)))\n",
    "SMOTE_rf = f1_score(y_test,best_RF.predict(X_test))"
   ]
  },
  {
   "cell_type": "markdown",
   "metadata": {},
   "source": [
    "#### imblearn"
   ]
  },
  {
   "cell_type": "code",
   "execution_count": 69,
   "metadata": {},
   "outputs": [
    {
     "name": "stdout",
     "output_type": "stream",
     "text": [
      "imblearn: \n",
      "RF BaseLine Train Set F1 Score: 1.0\n",
      "RF BaseLine Validation Set F1 Score: 0.6310160427807486\n"
     ]
    }
   ],
   "source": [
    "randomForest.set_params(random_state=0)\n",
    "\n",
    "randomForest.fit(X_ros, y_ros)\n",
    "\n",
    "# baseline score\n",
    "print('imblearn: \\nRF BaseLine Train Set F1 Score:', f1_score(y_ros, randomForest.predict(X_ros)))\n",
    "print('RF BaseLine Validation Set F1 Score:', f1_score(y_test, randomForest.predict(X_test)))"
   ]
  },
  {
   "cell_type": "code",
   "execution_count": 70,
   "metadata": {},
   "outputs": [
    {
     "name": "stdout",
     "output_type": "stream",
     "text": [
      "CPU times: user 5.5 s, sys: 359 ms, total: 5.86 s\n",
      "Wall time: 2min 36s\n"
     ]
    },
    {
     "data": {
      "text/plain": [
       "GridSearchCV(cv=StratifiedKFold(n_splits=5, random_state=42, shuffle=True),\n",
       "             estimator=RandomForestClassifier(random_state=0), n_jobs=-1,\n",
       "             param_grid={'criterion': ['entropy'], 'max_depth': range(1, 31),\n",
       "                         'n_estimators': range(10, 110, 10)},\n",
       "             scoring='f1')"
      ]
     },
     "execution_count": 70,
     "metadata": {},
     "output_type": "execute_result"
    }
   ],
   "source": [
    "# set the parameter grid\n",
    "grid_para_forest = {\n",
    "    'criterion': ['entropy'],\n",
    "    'max_depth': range(1, 31),\n",
    "    'n_estimators': range(10, 110, 10)\n",
    "}\n",
    "\n",
    "# run the RF classifier through the grid search\n",
    "grid_search_forest = ms.GridSearchCV(randomForest, grid_para_forest, scoring='f1', cv=s_kf, n_jobs=-1)\n",
    "%time grid_search_forest.fit(X_ros, y_ros)"
   ]
  },
  {
   "cell_type": "code",
   "execution_count": 71,
   "metadata": {},
   "outputs": [
    {
     "name": "stdout",
     "output_type": "stream",
     "text": [
      "RF Grid Search Best params:  {'criterion': 'entropy', 'max_depth': 26, 'n_estimators': 10}\n",
      "RF Grid Search Training set F1 score:  0.9993631384537002\n",
      "RF Grid Search Validation set F1 score:  0.6666666666666667\n",
      "RF Grid Search Validation set Business score:  0.2271471802623846\n"
     ]
    }
   ],
   "source": [
    "print(\"RF Grid Search Best params: \", grid_search_forest.best_params_)\n",
    "best_RF = grid_search_forest.best_estimator_\n",
    "print(\"RF Grid Search Training set F1 score: \", f1_score(y_ros, best_RF.predict(X_ros)))\n",
    "print(\"RF Grid Search Validation set F1 score: \", f1_score(y_test, best_RF.predict(X_test)))\n",
    "print(\"RF Grid Search Validation set Business score: \", businessgain(y_test,best_RF.predict(X_test)))\n",
    "imblearn_rf = f1_score(y_test,best_RF.predict(X_test))"
   ]
  },
  {
   "cell_type": "markdown",
   "metadata": {},
   "source": [
    "#### comparing SMOTE and imblearn"
   ]
  },
  {
   "cell_type": "code",
   "execution_count": 72,
   "metadata": {},
   "outputs": [
    {
     "name": "stdout",
     "output_type": "stream",
     "text": [
      "SMOTE RF F1 score:  0.6206896551724138 \n",
      "imblearn RF F1 score:  0.6666666666666667\n"
     ]
    }
   ],
   "source": [
    "print('SMOTE RF F1 score: ', SMOTE_rf, '\\nimblearn RF F1 score: ', imblearn_rf)"
   ]
  },
  {
   "cell_type": "code",
   "execution_count": 73,
   "metadata": {},
   "outputs": [],
   "source": [
    "f1_scores.loc[4] = 'RF', round(SMOTE_rf, 2)"
   ]
  },
  {
   "cell_type": "code",
   "execution_count": 74,
   "metadata": {},
   "outputs": [
    {
     "data": {
      "text/plain": [
       "array([[952,  29],\n",
       "       [ 36,  65]])"
      ]
     },
     "execution_count": 74,
     "metadata": {},
     "output_type": "execute_result"
    }
   ],
   "source": [
    "confusion_matrix(y_test, best_RF.predict(X_test))"
   ]
  },
  {
   "cell_type": "code",
   "execution_count": 75,
   "metadata": {},
   "outputs": [
    {
     "name": "stdout",
     "output_type": "stream",
     "text": [
      "              precision    recall  f1-score   support\n",
      "\n",
      "           0       0.97      0.96      0.97       988\n",
      "           1       0.64      0.69      0.67        94\n",
      "\n",
      "    accuracy                           0.94      1082\n",
      "   macro avg       0.81      0.83      0.82      1082\n",
      "weighted avg       0.94      0.94      0.94      1082\n",
      "\n"
     ]
    }
   ],
   "source": [
    "print(classification_report(best_RF.predict(X_test), y_test))"
   ]
  },
  {
   "cell_type": "markdown",
   "metadata": {},
   "source": [
    "### XGBOOST"
   ]
  },
  {
   "cell_type": "markdown",
   "metadata": {},
   "source": [
    "#### SMOTE"
   ]
  },
  {
   "cell_type": "code",
   "execution_count": 76,
   "metadata": {},
   "outputs": [
    {
     "name": "stdout",
     "output_type": "stream",
     "text": [
      "SMOTE: \n",
      "XGB BaseLine Train Set F1 Score: 1.0\n",
      "XGB BaseLine Validation Set F1 Score: 0.6153846153846154\n"
     ]
    }
   ],
   "source": [
    "xgb = XGBClassifier(random_state=0)\n",
    "xgb.fit(X_train_Bal, y_train_Bal)\n",
    "\n",
    "print('SMOTE: \\nXGB BaseLine Train Set F1 Score:', f1_score(y_train_Bal, xgb.predict(X_train_Bal)))\n",
    "print('XGB BaseLine Validation Set F1 Score:', f1_score(y_test, xgb.predict(X_test)))"
   ]
  },
  {
   "cell_type": "code",
   "execution_count": 77,
   "metadata": {},
   "outputs": [
    {
     "name": "stdout",
     "output_type": "stream",
     "text": [
      "CPU times: user 2.14 s, sys: 141 ms, total: 2.28 s\n",
      "Wall time: 14.1 s\n"
     ]
    },
    {
     "data": {
      "text/plain": [
       "GridSearchCV(cv=StratifiedKFold(n_splits=5, random_state=42, shuffle=True),\n",
       "             estimator=XGBClassifier(base_score=0.5, booster='gbtree',\n",
       "                                     colsample_bylevel=1, colsample_bynode=1,\n",
       "                                     colsample_bytree=1, gamma=0, gpu_id=-1,\n",
       "                                     importance_type='gain',\n",
       "                                     interaction_constraints='',\n",
       "                                     learning_rate=0.300000012,\n",
       "                                     max_delta_step=0, max_depth=6,\n",
       "                                     min_child_weight=1, missing=nan,\n",
       "                                     monotone_...ints='()',\n",
       "                                     n_estimators=100, n_jobs=0,\n",
       "                                     num_parallel_tree=1, random_state=0,\n",
       "                                     reg_alpha=0, reg_lambda=1,\n",
       "                                     scale_pos_weight=1, subsample=1,\n",
       "                                     tree_method='exact', validate_parameters=1,\n",
       "                                     verbosity=None),\n",
       "             n_jobs=-1,\n",
       "             param_grid={'learning_rate': [0.001, 0.01, 0.1],\n",
       "                         'max_depth': [1, 3, 10], 'n_estimators': [2, 5, 10],\n",
       "                         'scale_pos_weight': [400, 500, 600],\n",
       "                         'subsample': [0.9]},\n",
       "             scoring='f1')"
      ]
     },
     "execution_count": 77,
     "metadata": {},
     "output_type": "execute_result"
    }
   ],
   "source": [
    "# parameter tuning\n",
    "grid_para_xgb = {'scale_pos_weight': [400,500,600],\n",
    "                 'learning_rate': [0.001, 0.010, 0.1],\n",
    "                 'n_estimators': [2,5,10] ,\n",
    "                 'max_depth': [1,3,10],\n",
    "                 'subsample': [0.9]\n",
    "                 } \n",
    "\n",
    "grid_search_xgb = GridSearchCV(xgb, grid_para_xgb, scoring='f1', cv=s_kf, n_jobs=-1)\n",
    "%time grid_search_xgb.fit(X_train_Bal, y_train_Bal)"
   ]
  },
  {
   "cell_type": "code",
   "execution_count": 78,
   "metadata": {},
   "outputs": [
    {
     "name": "stdout",
     "output_type": "stream",
     "text": [
      "XGB Grid Search Best params:  {'learning_rate': 0.1, 'max_depth': 10, 'n_estimators': 2, 'scale_pos_weight': 400, 'subsample': 0.9}\n",
      "XGB BaseLine Train Set F1 Score: 0.8115882048629074\n",
      "XGB BaseLine Validation Set F1 Score: 0.3055555555555556\n",
      "XGB BaseLine Validation Set business Score: 0.5451392753884813\n"
     ]
    }
   ],
   "source": [
    "print(\"XGB Grid Search Best params: \", grid_search_xgb.best_params_)\n",
    "best_xgb = grid_search_xgb.best_estimator_\n",
    "print('XGB BaseLine Train Set F1 Score:', f1_score(y_train_Bal, best_xgb.predict(X_train_Bal)))\n",
    "print('XGB BaseLine Validation Set F1 Score:', f1_score(y_test, best_xgb.predict(X_test)))\n",
    "print('XGB BaseLine Validation Set business Score:', businessgain(y_test, best_xgb.predict(X_test)))\n",
    "SMOTE_xgb = f1_score(y_test, best_xgb.predict(X_test))"
   ]
  },
  {
   "cell_type": "markdown",
   "metadata": {},
   "source": [
    "#### imblearn"
   ]
  },
  {
   "cell_type": "code",
   "execution_count": 79,
   "metadata": {},
   "outputs": [
    {
     "name": "stdout",
     "output_type": "stream",
     "text": [
      "imblearn: \n",
      "XGB BaseLine Train Set F1 Score: 1.0\n",
      "XGB BaseLine Validation Set F1 Score: 0.6192893401015228\n"
     ]
    }
   ],
   "source": [
    "xgb = XGBClassifier(random_state=0)\n",
    "xgb.fit(X_ros, y_ros)\n",
    "print('imblearn: \\nXGB BaseLine Train Set F1 Score:', f1_score(y_ros, xgb.predict(X_ros)))\n",
    "print('XGB BaseLine Validation Set F1 Score:', f1_score(y_test, xgb.predict(X_test)))"
   ]
  },
  {
   "cell_type": "code",
   "execution_count": 80,
   "metadata": {},
   "outputs": [
    {
     "name": "stdout",
     "output_type": "stream",
     "text": [
      "CPU times: user 2.1 s, sys: 90.4 ms, total: 2.19 s\n",
      "Wall time: 10.4 s\n"
     ]
    },
    {
     "data": {
      "text/plain": [
       "GridSearchCV(cv=StratifiedKFold(n_splits=5, random_state=42, shuffle=True),\n",
       "             estimator=XGBClassifier(base_score=0.5, booster='gbtree',\n",
       "                                     colsample_bylevel=1, colsample_bynode=1,\n",
       "                                     colsample_bytree=1, gamma=0, gpu_id=-1,\n",
       "                                     importance_type='gain',\n",
       "                                     interaction_constraints='',\n",
       "                                     learning_rate=0.300000012,\n",
       "                                     max_delta_step=0, max_depth=6,\n",
       "                                     min_child_weight=1, missing=nan,\n",
       "                                     monotone_...ints='()',\n",
       "                                     n_estimators=100, n_jobs=0,\n",
       "                                     num_parallel_tree=1, random_state=0,\n",
       "                                     reg_alpha=0, reg_lambda=1,\n",
       "                                     scale_pos_weight=1, subsample=1,\n",
       "                                     tree_method='exact', validate_parameters=1,\n",
       "                                     verbosity=None),\n",
       "             n_jobs=-1,\n",
       "             param_grid={'learning_rate': [0.001, 0.01, 0.1],\n",
       "                         'max_depth': [1, 3, 10], 'n_estimators': [2, 5, 10],\n",
       "                         'scale_pos_weight': [400, 500, 600],\n",
       "                         'subsample': [0.9]},\n",
       "             scoring='f1')"
      ]
     },
     "execution_count": 80,
     "metadata": {},
     "output_type": "execute_result"
    }
   ],
   "source": [
    "# parameter tuning\n",
    "grid_para_xgb = {'scale_pos_weight': [400,500,600],\n",
    "                 'learning_rate': [0.001, 0.010, 0.1],\n",
    "                 'n_estimators': [2,5,10] ,\n",
    "                 'max_depth': [1,3,10],\n",
    "                 'subsample': [0.9]\n",
    "                 }\n",
    "grid_search_xgb = GridSearchCV(xgb, grid_para_xgb, scoring='f1', cv=s_kf, n_jobs=-1)\n",
    "%time grid_search_xgb.fit(X_ros, y_ros)"
   ]
  },
  {
   "cell_type": "code",
   "execution_count": 81,
   "metadata": {},
   "outputs": [
    {
     "name": "stdout",
     "output_type": "stream",
     "text": [
      "XGB BaseLine Train Set F1 Score: 0.821914938194008\n",
      "XGB BaseLine Validation Set F1 Score: 0.3166397415185784\n",
      "XGB BaseLine Validation Set business Score: 0.5502527010433903\n"
     ]
    }
   ],
   "source": [
    "best_xgb = grid_search_xgb.best_estimator_\n",
    "print('XGB BaseLine Train Set F1 Score:', f1_score(y_ros, best_xgb.predict(X_ros)))\n",
    "print('XGB BaseLine Validation Set F1 Score:', f1_score(y_test, best_xgb.predict(X_test)))\n",
    "print('XGB BaseLine Validation Set business Score:', businessgain(y_test, best_xgb.predict(X_test)))\n",
    "imblearn_xgb = f1_score(y_test, best_xgb.predict(X_test))"
   ]
  },
  {
   "cell_type": "markdown",
   "metadata": {},
   "source": [
    "#### comparing SMOTE and imblearn"
   ]
  },
  {
   "cell_type": "code",
   "execution_count": 82,
   "metadata": {},
   "outputs": [
    {
     "name": "stdout",
     "output_type": "stream",
     "text": [
      "SMOTE XGB F1 score:  0.3055555555555556 \n",
      "imblearn XGB F1 score:  0.3166397415185784\n"
     ]
    }
   ],
   "source": [
    "print('SMOTE XGB F1 score: ', SMOTE_xgb, '\\nimblearn XGB F1 score: ', imblearn_xgb)"
   ]
  },
  {
   "cell_type": "code",
   "execution_count": 83,
   "metadata": {},
   "outputs": [],
   "source": [
    "f1_scores.loc[5] = 'XGBoost', round(SMOTE_xgb, 2)"
   ]
  },
  {
   "cell_type": "code",
   "execution_count": 84,
   "metadata": {},
   "outputs": [
    {
     "data": {
      "text/plain": [
       "array([[561, 420],\n",
       "       [  3,  98]])"
      ]
     },
     "execution_count": 84,
     "metadata": {},
     "output_type": "execute_result"
    }
   ],
   "source": [
    "confusion_matrix(y_test, best_xgb.predict(X_test))"
   ]
  },
  {
   "cell_type": "code",
   "execution_count": 85,
   "metadata": {},
   "outputs": [
    {
     "name": "stdout",
     "output_type": "stream",
     "text": [
      "              precision    recall  f1-score   support\n",
      "\n",
      "           0       0.57      0.99      0.73       564\n",
      "           1       0.97      0.19      0.32       518\n",
      "\n",
      "    accuracy                           0.61      1082\n",
      "   macro avg       0.77      0.59      0.52      1082\n",
      "weighted avg       0.76      0.61      0.53      1082\n",
      "\n"
     ]
    }
   ],
   "source": [
    "print(classification_report(best_xgb.predict(X_test), y_test))"
   ]
  },
  {
   "cell_type": "markdown",
   "metadata": {},
   "source": [
    "### F1 Performance Plot"
   ]
  },
  {
   "cell_type": "code",
   "execution_count": 86,
   "metadata": {},
   "outputs": [
    {
     "data": {
      "text/html": [
       "<div>\n",
       "<style scoped>\n",
       "    .dataframe tbody tr th:only-of-type {\n",
       "        vertical-align: middle;\n",
       "    }\n",
       "\n",
       "    .dataframe tbody tr th {\n",
       "        vertical-align: top;\n",
       "    }\n",
       "\n",
       "    .dataframe thead th {\n",
       "        text-align: right;\n",
       "    }\n",
       "</style>\n",
       "<table border=\"1\" class=\"dataframe\">\n",
       "  <thead>\n",
       "    <tr style=\"text-align: right;\">\n",
       "      <th></th>\n",
       "      <th>Model</th>\n",
       "      <th>Score</th>\n",
       "    </tr>\n",
       "  </thead>\n",
       "  <tbody>\n",
       "    <tr>\n",
       "      <th>0</th>\n",
       "      <td>Logistic</td>\n",
       "      <td>0.60</td>\n",
       "    </tr>\n",
       "    <tr>\n",
       "      <th>1</th>\n",
       "      <td>SGD</td>\n",
       "      <td>0.36</td>\n",
       "    </tr>\n",
       "    <tr>\n",
       "      <th>2</th>\n",
       "      <td>KNN</td>\n",
       "      <td>0.49</td>\n",
       "    </tr>\n",
       "    <tr>\n",
       "      <th>3</th>\n",
       "      <td>SVM</td>\n",
       "      <td>0.59</td>\n",
       "    </tr>\n",
       "    <tr>\n",
       "      <th>4</th>\n",
       "      <td>RF</td>\n",
       "      <td>0.62</td>\n",
       "    </tr>\n",
       "    <tr>\n",
       "      <th>5</th>\n",
       "      <td>XGBoost</td>\n",
       "      <td>0.31</td>\n",
       "    </tr>\n",
       "  </tbody>\n",
       "</table>\n",
       "</div>"
      ],
      "text/plain": [
       "      Model  Score\n",
       "0  Logistic   0.60\n",
       "1       SGD   0.36\n",
       "2       KNN   0.49\n",
       "3       SVM   0.59\n",
       "4        RF   0.62\n",
       "5   XGBoost   0.31"
      ]
     },
     "execution_count": 86,
     "metadata": {},
     "output_type": "execute_result"
    },
    {
     "data": {
      "image/png": "[encoded data removed]",
      "text/plain": [
       "<Figure size 432x288 with 1 Axes>"
      ]
     },
     "metadata": {},
     "output_type": "display_data"
    }
   ],
   "source": [
    "f1_scores.plot.bar(x = 'Model', color = 'skyblue')\n",
    "plt.title('Model F1 Performance')\n",
    "f1_scores"
   ]
  }
 ],
 "metadata": {
  "kernelspec": {
   "display_name": "Python 3",
   "language": "python",
   "name": "python3"
  },
  "language_info": {
   "codemirror_mode": {
    "name": "ipython",
    "version": 3
   },
   "file_extension": ".py",
   "mimetype": "text/x-python",
   "name": "python",
   "nbconvert_exporter": "python",
   "pygments_lexer": "ipython3",
   "version": "3.7.6"
  }
 },
 "nbformat": 4,
 "nbformat_minor": 4
}
