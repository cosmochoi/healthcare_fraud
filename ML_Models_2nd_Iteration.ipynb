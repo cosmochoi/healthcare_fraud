{
 "cells": [
  {
   "cell_type": "markdown",
   "metadata": {},
   "source": [
    "### Import Libraries"
   ]
  },
  {
   "cell_type": "code",
   "execution_count": 1,
   "metadata": {},
   "outputs": [],
   "source": [
    "from Feature_Engineering import feature_engineering\n",
    "from businessscoring import businessgain\n",
    "import pandas as pd\n",
    "import numpy as np\n",
    "\n",
    "from xgboost import XGBClassifier\n",
    "import sklearn.model_selection as ms\n",
    "from sklearn.linear_model import SGDClassifier\n",
    "from sklearn.linear_model import LogisticRegression\n",
    "from sklearn.neighbors import KNeighborsClassifier\n",
    "from sklearn.svm import SVC\n",
    "from sklearn.preprocessing import RobustScaler\n",
    "from sklearn.model_selection import GridSearchCV, StratifiedKFold, train_test_split\n",
    "from sklearn.metrics import confusion_matrix, recall_score, f1_score, classification_report, make_scorer\n",
    "from imblearn.over_sampling import RandomOverSampler\n",
    "from imblearn import over_sampling\n",
    "\n",
    "import matplotlib.pyplot as plt\n",
    "plt.style.use('ggplot')"
   ]
  },
  {
   "cell_type": "markdown",
   "metadata": {},
   "source": [
    "### Pre-Processsing"
   ]
  },
  {
   "cell_type": "code",
   "execution_count": 2,
   "metadata": {},
   "outputs": [],
   "source": [
    "#feature engineering on full dataset\n",
    "features = feature_engineering(j_flag=0)"
   ]
  },
  {
   "cell_type": "code",
   "execution_count": 3,
   "metadata": {},
   "outputs": [],
   "source": [
    "#convert potential fraud values to 0 and 1\n",
    "features['PotentialFraud'] = features['PotentialFraud'].map({'No': 0, 'Yes': 1})"
   ]
  },
  {
   "cell_type": "code",
   "execution_count": 6,
   "metadata": {},
   "outputs": [
    {
     "data": {
      "text/plain": [
       "Index(['Provider', 'Phys_Count', 'Patient_Count', 'Norm_Patient_Count',\n",
       "       'Claim_Count', 'Norm_Claim_Count', 'Service_Type', 'Both_Service',\n",
       "       'Inpatient', 'Outpatient', 'Inpatient_Count', 'Outpatient_Count',\n",
       "       'Norm_Inpatient_Count', 'Norm_Outpatient_Count', 'DuplicateClaims',\n",
       "       'Duplicate_Claims_Percent', 'AvgClaimDuration', 'Avg_Cost', 'Avg_Age',\n",
       "       'Gender1', 'Gender2', 'Race1', 'Race2', 'Race3', 'Race5',\n",
       "       'ChronicCond_Alzheimer_1', 'ChronicCond_Alzheimer_2',\n",
       "       'ChronicCond_KidneyDisease_1', 'ChronicCond_KidneyDisease_2',\n",
       "       'ChronicCond_Cancer_1', 'ChronicCond_Cancer_2',\n",
       "       'ChronicCond_ObstrPulmonary_1', 'ChronicCond_ObstrPulmonary_2',\n",
       "       'ChronicCond_Depression_1', 'ChronicCond_Depression_2',\n",
       "       'ChronicCond_Diabetes_1', 'ChronicCond_Diabetes_2',\n",
       "       'ChronicCond_IschemicHeart_1', 'ChronicCond_IschemicHeart_2',\n",
       "       'ChronicCond_Osteoporasis_1', 'ChronicCond_Osteoporasis_2',\n",
       "       'ChronicCond_rheumatoidarthritis_1',\n",
       "       'ChronicCond_rheumatoidarthritis_2', 'ChronicCond_stroke_1',\n",
       "       'ChronicCond_stroke_2', 'PotentialFraud', 'NetworkDegree',\n",
       "       'isFraudConnected', 'NoPhysicianCount'],\n",
       "      dtype='object')"
      ]
     },
     "execution_count": 6,
     "metadata": {},
     "output_type": "execute_result"
    }
   ],
   "source": [
    "features.columns"
   ]
  },
  {
   "cell_type": "code",
   "execution_count": 13,
   "metadata": {},
   "outputs": [],
   "source": [
    "#create variables for features and target\n",
    "X = features.drop(['PotentialFraud','Provider', 'Both_Service', 'Gender2', 'Race5', 'Inpatient_Count', 'Outpatient_Count',\n",
    "                  'Outpatient', 'Inpatient', 'Service_Type'], axis=1)\n",
    "y = features['PotentialFraud'] "
   ]
  },
  {
   "cell_type": "code",
   "execution_count": 11,
   "metadata": {},
   "outputs": [
    {
     "data": {
      "text/plain": [
       "<matplotlib.axes._subplots.AxesSubplot at 0x7fbc702d7790>"
      ]
     },
     "execution_count": 11,
     "metadata": {},
     "output_type": "execute_result"
    },
    {
     "data": {
      "image/png": "[encoded data removed]",
      "text/plain": [
       "<Figure size 432x288 with 1 Axes>"
      ]
     },
     "metadata": {},
     "output_type": "display_data"
    }
   ],
   "source": [
    "import seaborn as sns\n",
    "sns.boxplot(x='PotentialFraud', y='Inpatient_Count', data=features, showfliers=False)"
   ]
  },
  {
   "cell_type": "code",
   "execution_count": 10,
   "metadata": {},
   "outputs": [
    {
     "data": {
      "text/plain": [
       "<matplotlib.axes._subplots.AxesSubplot at 0x7fbc702d79d0>"
      ]
     },
     "execution_count": 10,
     "metadata": {},
     "output_type": "execute_result"
    },
    {
     "data": {
      "image/png": "[encoded data removed]",
      "text/plain": [
       "<Figure size 432x288 with 1 Axes>"
      ]
     },
     "metadata": {},
     "output_type": "display_data"
    }
   ],
   "source": [
    "sns.boxplot(x='PotentialFraud', y='Outpatient_Count', data=features, showfliers=False)"
   ]
  },
  {
   "cell_type": "code",
   "execution_count": 14,
   "metadata": {},
   "outputs": [
    {
     "ename": "KeyError",
     "evalue": "\"['Outpatient'] not in index\"",
     "output_type": "error",
     "traceback": [
      "\u001b[0;31m---------------------------------------------------------------------------\u001b[0m",
      "\u001b[0;31mKeyError\u001b[0m                                  Traceback (most recent call last)",
      "\u001b[0;32m<ipython-input-14-3a32aba909f7>\u001b[0m in \u001b[0;36m<module>\u001b[0;34m\u001b[0m\n\u001b[1;32m      1\u001b[0m \u001b[0;31m#create seperate dataset with dummy variables to add back after scaling\u001b[0m\u001b[0;34m\u001b[0m\u001b[0;34m\u001b[0m\u001b[0;34m\u001b[0m\u001b[0m\n\u001b[0;32m----> 2\u001b[0;31m \u001b[0mnon_num\u001b[0m \u001b[0;34m=\u001b[0m \u001b[0mX\u001b[0m\u001b[0;34m[\u001b[0m\u001b[0;34m[\u001b[0m\u001b[0;34m'Outpatient'\u001b[0m\u001b[0;34m,\u001b[0m\u001b[0;34m'isFraudConnected'\u001b[0m\u001b[0;34m]\u001b[0m\u001b[0;34m]\u001b[0m\u001b[0;34m\u001b[0m\u001b[0;34m\u001b[0m\u001b[0m\n\u001b[0m\u001b[1;32m      3\u001b[0m \u001b[0;34m\u001b[0m\u001b[0m\n\u001b[1;32m      4\u001b[0m \u001b[0;31m#drop dummy variables\u001b[0m\u001b[0;34m\u001b[0m\u001b[0;34m\u001b[0m\u001b[0;34m\u001b[0m\u001b[0m\n\u001b[1;32m      5\u001b[0m \u001b[0mX\u001b[0m \u001b[0;34m=\u001b[0m \u001b[0mX\u001b[0m\u001b[0;34m.\u001b[0m\u001b[0mdrop\u001b[0m\u001b[0;34m(\u001b[0m\u001b[0;34m[\u001b[0m\u001b[0;34m'Outpatient'\u001b[0m\u001b[0;34m,\u001b[0m\u001b[0;34m'isFraudConnected'\u001b[0m\u001b[0;34m]\u001b[0m\u001b[0;34m,\u001b[0m \u001b[0maxis\u001b[0m \u001b[0;34m=\u001b[0m\u001b[0;36m1\u001b[0m\u001b[0;34m)\u001b[0m\u001b[0;34m\u001b[0m\u001b[0;34m\u001b[0m\u001b[0m\n",
      "\u001b[0;32m~/anaconda3/lib/python3.7/site-packages/pandas/core/frame.py\u001b[0m in \u001b[0;36m__getitem__\u001b[0;34m(self, key)\u001b[0m\n\u001b[1;32m   2804\u001b[0m             \u001b[0;32mif\u001b[0m \u001b[0mis_iterator\u001b[0m\u001b[0;34m(\u001b[0m\u001b[0mkey\u001b[0m\u001b[0;34m)\u001b[0m\u001b[0;34m:\u001b[0m\u001b[0;34m\u001b[0m\u001b[0;34m\u001b[0m\u001b[0m\n\u001b[1;32m   2805\u001b[0m                 \u001b[0mkey\u001b[0m \u001b[0;34m=\u001b[0m \u001b[0mlist\u001b[0m\u001b[0;34m(\u001b[0m\u001b[0mkey\u001b[0m\u001b[0;34m)\u001b[0m\u001b[0;34m\u001b[0m\u001b[0;34m\u001b[0m\u001b[0m\n\u001b[0;32m-> 2806\u001b[0;31m             \u001b[0mindexer\u001b[0m \u001b[0;34m=\u001b[0m \u001b[0mself\u001b[0m\u001b[0;34m.\u001b[0m\u001b[0mloc\u001b[0m\u001b[0;34m.\u001b[0m\u001b[0m_get_listlike_indexer\u001b[0m\u001b[0;34m(\u001b[0m\u001b[0mkey\u001b[0m\u001b[0;34m,\u001b[0m \u001b[0maxis\u001b[0m\u001b[0;34m=\u001b[0m\u001b[0;36m1\u001b[0m\u001b[0;34m,\u001b[0m \u001b[0mraise_missing\u001b[0m\u001b[0;34m=\u001b[0m\u001b[0;32mTrue\u001b[0m\u001b[0;34m)\u001b[0m\u001b[0;34m[\u001b[0m\u001b[0;36m1\u001b[0m\u001b[0;34m]\u001b[0m\u001b[0;34m\u001b[0m\u001b[0;34m\u001b[0m\u001b[0m\n\u001b[0m\u001b[1;32m   2807\u001b[0m \u001b[0;34m\u001b[0m\u001b[0m\n\u001b[1;32m   2808\u001b[0m         \u001b[0;31m# take() does not accept boolean indexers\u001b[0m\u001b[0;34m\u001b[0m\u001b[0;34m\u001b[0m\u001b[0;34m\u001b[0m\u001b[0m\n",
      "\u001b[0;32m~/anaconda3/lib/python3.7/site-packages/pandas/core/indexing.py\u001b[0m in \u001b[0;36m_get_listlike_indexer\u001b[0;34m(self, key, axis, raise_missing)\u001b[0m\n\u001b[1;32m   1550\u001b[0m \u001b[0;34m\u001b[0m\u001b[0m\n\u001b[1;32m   1551\u001b[0m         self._validate_read_indexer(\n\u001b[0;32m-> 1552\u001b[0;31m             \u001b[0mkeyarr\u001b[0m\u001b[0;34m,\u001b[0m \u001b[0mindexer\u001b[0m\u001b[0;34m,\u001b[0m \u001b[0mo\u001b[0m\u001b[0;34m.\u001b[0m\u001b[0m_get_axis_number\u001b[0m\u001b[0;34m(\u001b[0m\u001b[0maxis\u001b[0m\u001b[0;34m)\u001b[0m\u001b[0;34m,\u001b[0m \u001b[0mraise_missing\u001b[0m\u001b[0;34m=\u001b[0m\u001b[0mraise_missing\u001b[0m\u001b[0;34m\u001b[0m\u001b[0;34m\u001b[0m\u001b[0m\n\u001b[0m\u001b[1;32m   1553\u001b[0m         )\n\u001b[1;32m   1554\u001b[0m         \u001b[0;32mreturn\u001b[0m \u001b[0mkeyarr\u001b[0m\u001b[0;34m,\u001b[0m \u001b[0mindexer\u001b[0m\u001b[0;34m\u001b[0m\u001b[0;34m\u001b[0m\u001b[0m\n",
      "\u001b[0;32m~/anaconda3/lib/python3.7/site-packages/pandas/core/indexing.py\u001b[0m in \u001b[0;36m_validate_read_indexer\u001b[0;34m(self, key, indexer, axis, raise_missing)\u001b[0m\n\u001b[1;32m   1643\u001b[0m             \u001b[0;32mif\u001b[0m \u001b[0;32mnot\u001b[0m \u001b[0;34m(\u001b[0m\u001b[0mself\u001b[0m\u001b[0;34m.\u001b[0m\u001b[0mname\u001b[0m \u001b[0;34m==\u001b[0m \u001b[0;34m\"loc\"\u001b[0m \u001b[0;32mand\u001b[0m \u001b[0;32mnot\u001b[0m \u001b[0mraise_missing\u001b[0m\u001b[0;34m)\u001b[0m\u001b[0;34m:\u001b[0m\u001b[0;34m\u001b[0m\u001b[0;34m\u001b[0m\u001b[0m\n\u001b[1;32m   1644\u001b[0m                 \u001b[0mnot_found\u001b[0m \u001b[0;34m=\u001b[0m \u001b[0mlist\u001b[0m\u001b[0;34m(\u001b[0m\u001b[0mset\u001b[0m\u001b[0;34m(\u001b[0m\u001b[0mkey\u001b[0m\u001b[0;34m)\u001b[0m \u001b[0;34m-\u001b[0m \u001b[0mset\u001b[0m\u001b[0;34m(\u001b[0m\u001b[0max\u001b[0m\u001b[0;34m)\u001b[0m\u001b[0;34m)\u001b[0m\u001b[0;34m\u001b[0m\u001b[0;34m\u001b[0m\u001b[0m\n\u001b[0;32m-> 1645\u001b[0;31m                 \u001b[0;32mraise\u001b[0m \u001b[0mKeyError\u001b[0m\u001b[0;34m(\u001b[0m\u001b[0;34mf\"{not_found} not in index\"\u001b[0m\u001b[0;34m)\u001b[0m\u001b[0;34m\u001b[0m\u001b[0;34m\u001b[0m\u001b[0m\n\u001b[0m\u001b[1;32m   1646\u001b[0m \u001b[0;34m\u001b[0m\u001b[0m\n\u001b[1;32m   1647\u001b[0m             \u001b[0;31m# we skip the warning on Categorical/Interval\u001b[0m\u001b[0;34m\u001b[0m\u001b[0;34m\u001b[0m\u001b[0;34m\u001b[0m\u001b[0m\n",
      "\u001b[0;31mKeyError\u001b[0m: \"['Outpatient'] not in index\""
     ]
    }
   ],
   "source": [
    "#create seperate dataset with dummy variables to add back after scaling\n",
    "non_num = X[['Outpatient','isFraudConnected']]\n",
    "\n",
    "#drop dummy variables\n",
    "X = X.drop(['Outpatient','isFraudConnected'], axis =1)"
   ]
  },
  {
   "cell_type": "code",
   "execution_count": 6,
   "metadata": {},
   "outputs": [],
   "source": [
    "#scale on the training set \n",
    "scaler = RobustScaler()\n",
    "X_scaled = pd.DataFrame(scaler.fit_transform(X), columns=(X.columns), index=X.index)\n",
    "\n",
    "#add back dummy variables to scaled dataset \n",
    "X_scaled = pd.concat((X_scaled, non_num), axis=1)"
   ]
  },
  {
   "cell_type": "code",
   "execution_count": 7,
   "metadata": {},
   "outputs": [],
   "source": [
    "#use as cv=skf, ensures results are consistent in each partition\n",
    "s_kf = StratifiedKFold(n_splits=5, random_state=42, shuffle=True)"
   ]
  },
  {
   "cell_type": "code",
   "execution_count": 8,
   "metadata": {},
   "outputs": [],
   "source": [
    "#train/test split\n",
    "X_train, X_test, y_train, y_test = train_test_split(X_scaled, y, test_size=0.2, random_state=42, stratify=y)"
   ]
  },
  {
   "cell_type": "code",
   "execution_count": 9,
   "metadata": {},
   "outputs": [
    {
     "data": {
      "text/plain": [
       "1    3923\n",
       "0    3923\n",
       "Name: PotentialFraud, dtype: int64"
      ]
     },
     "execution_count": 9,
     "metadata": {},
     "output_type": "execute_result"
    }
   ],
   "source": [
    "#SMOTE upsampling\n",
    "oversample = over_sampling.SMOTE()\n",
    "X_train_Bal, y_train_Bal = oversample.fit_resample(X_train, y_train)\n",
    "\n",
    "y_train_Bal.value_counts()"
   ]
  },
  {
   "cell_type": "code",
   "execution_count": 10,
   "metadata": {},
   "outputs": [],
   "source": [
    "#random over sampling \n",
    "ros = RandomOverSampler()\n",
    "X_ros, y_ros = ros.fit_sample(X_train, y_train)"
   ]
  },
  {
   "cell_type": "code",
   "execution_count": 11,
   "metadata": {},
   "outputs": [],
   "source": [
    "f1_scores = pd.DataFrame(columns=('Model', 'Score'))"
   ]
  },
  {
   "cell_type": "markdown",
   "metadata": {},
   "source": [
    "## Logistic Regression"
   ]
  },
  {
   "cell_type": "markdown",
   "metadata": {},
   "source": [
    "#### SMOTE"
   ]
  },
  {
   "cell_type": "code",
   "execution_count": 12,
   "metadata": {},
   "outputs": [
    {
     "name": "stdout",
     "output_type": "stream",
     "text": [
      "SMOTE; \n",
      "Logistic Regression Baseline F1 score:  0.858447488584475\n"
     ]
    }
   ],
   "source": [
    "# SMOTE balancing\n",
    "logistic = LogisticRegression(C=0.237, solver = 'liblinear',penalty='l2')\n",
    "logistic.fit(X_train_Bal, y_train_Bal)\n",
    "logistic.score(X_test, y_test)\n",
    "print(\"SMOTE; \\nLogistic Regression Baseline F1 score: \", f1_score(y_test,logistic.predict(X_test)))"
   ]
  },
  {
   "cell_type": "code",
   "execution_count": 13,
   "metadata": {},
   "outputs": [
    {
     "name": "stdout",
     "output_type": "stream",
     "text": [
      "CPU times: user 790 ms, sys: 123 ms, total: 914 ms\n",
      "Wall time: 5.12 s\n"
     ]
    },
    {
     "data": {
      "text/plain": [
       "GridSearchCV(cv=StratifiedKFold(n_splits=5, random_state=42, shuffle=True),\n",
       "             estimator=LogisticRegression(C=0.237, solver='liblinear'),\n",
       "             n_jobs=-1,\n",
       "             param_grid={'C': array([0.        , 0.07894737, 0.15789474, 0.23684211, 0.31578947,\n",
       "       0.39473684, 0.47368421, 0.55263158, 0.63157895, 0.71052632,\n",
       "       0.78947368, 0.86842105, 0.94736842, 1.02631579, 1.10526316,\n",
       "       1.18421053, 1.26315789, 1.34210526, 1.42105263, 1.5       ])},\n",
       "             scoring='f1')"
      ]
     },
     "execution_count": 13,
     "metadata": {},
     "output_type": "execute_result"
    }
   ],
   "source": [
    "grid_para_logit = {\n",
    "    'C': np.linspace(0,1.5,20)\n",
    "}\n",
    "\n",
    "grid_search_logit = ms.GridSearchCV(logistic, grid_para_logit, cv=s_kf, scoring='f1', n_jobs=-1)\n",
    "%time grid_search_logit.fit(X_train_Bal, y_train_Bal)"
   ]
  },
  {
   "cell_type": "code",
   "execution_count": 14,
   "metadata": {},
   "outputs": [
    {
     "name": "stdout",
     "output_type": "stream",
     "text": [
      "{'C': 1.5}\n",
      "Logistic Regression Grid Search train F1 score:  0.9675343165635428\n",
      "Logistic Best Estimator Validation set F1 score:  0.8663594470046083\n",
      "Logistic Best Estimator Validation set business score:  0.834625147142197\n"
     ]
    }
   ],
   "source": [
    "#SMOTE\n",
    "logit_final = grid_search_logit.best_estimator_\n",
    "print(grid_search_logit.best_params_)\n",
    "print(\"Logistic Regression Grid Search train F1 score: \", grid_search_logit.best_score_)\n",
    "print(\"Logistic Best Estimator Validation set F1 score: \", f1_score(y_test,logit_final.predict(X_test)))\n",
    "print(\"Logistic Best Estimator Validation set business score: \", businessgain(y_test,logit_final.predict(X_test)))\n",
    "SMOTE_logit = f1_score(y_test,logit_final.predict(X_test))"
   ]
  },
  {
   "cell_type": "markdown",
   "metadata": {},
   "source": [
    "#### imblearn"
   ]
  },
  {
   "cell_type": "code",
   "execution_count": 15,
   "metadata": {},
   "outputs": [
    {
     "name": "stdout",
     "output_type": "stream",
     "text": [
      "Random oversampling; \n",
      "Logistic Regression Baseline F1 score:  0.8281938325991189\n"
     ]
    }
   ],
   "source": [
    "# imblearn balancing\n",
    "logistic = LogisticRegression(C=0.237, solver = 'liblinear',penalty='l2')\n",
    "logistic.fit(X_ros, y_ros)\n",
    "logistic.score(X_test, y_test)\n",
    "print(\"Random oversampling; \\nLogistic Regression Baseline F1 score: \", f1_score(y_test,logistic.predict(X_test)))"
   ]
  },
  {
   "cell_type": "code",
   "execution_count": 16,
   "metadata": {},
   "outputs": [
    {
     "name": "stdout",
     "output_type": "stream",
     "text": [
      "CPU times: user 658 ms, sys: 42.8 ms, total: 701 ms\n",
      "Wall time: 3.22 s\n"
     ]
    },
    {
     "data": {
      "text/plain": [
       "GridSearchCV(cv=StratifiedKFold(n_splits=5, random_state=42, shuffle=True),\n",
       "             estimator=LogisticRegression(C=0.237, solver='liblinear'),\n",
       "             n_jobs=-1,\n",
       "             param_grid={'C': array([0.        , 0.07894737, 0.15789474, 0.23684211, 0.31578947,\n",
       "       0.39473684, 0.47368421, 0.55263158, 0.63157895, 0.71052632,\n",
       "       0.78947368, 0.86842105, 0.94736842, 1.02631579, 1.10526316,\n",
       "       1.18421053, 1.26315789, 1.34210526, 1.42105263, 1.5       ])},\n",
       "             scoring='f1')"
      ]
     },
     "execution_count": 16,
     "metadata": {},
     "output_type": "execute_result"
    }
   ],
   "source": [
    "grid_para_logit = {\n",
    "    'C': np.linspace(0,1.5,20)\n",
    "}\n",
    "grid_search_logit = ms.GridSearchCV(logistic, grid_para_logit, cv=s_kf, scoring='f1', n_jobs=-1)\n",
    "%time grid_search_logit.fit(X_ros, y_ros)"
   ]
  },
  {
   "cell_type": "code",
   "execution_count": 17,
   "metadata": {},
   "outputs": [
    {
     "name": "stdout",
     "output_type": "stream",
     "text": [
      "{'C': 1.5}\n",
      "Logistic Regression Grid Search train F1 score:  0.958116650637127\n",
      "Logistic Best Estimator Validation set F1 score:  0.8444444444444444\n",
      "Logistic Best Estimator Validation set business score:  0.8488903704840106\n"
     ]
    }
   ],
   "source": [
    "logit_final = grid_search_logit.best_estimator_\n",
    "print(grid_search_logit.best_params_)\n",
    "print(\"Logistic Regression Grid Search train F1 score: \", grid_search_logit.best_score_)\n",
    "print(\"Logistic Best Estimator Validation set F1 score: \", f1_score(y_test,logit_final.predict(X_test)))\n",
    "print(\"Logistic Best Estimator Validation set business score: \", businessgain(y_test,logit_final.predict(X_test)))\n",
    "imblearn_logit = f1_score(y_test,logit_final.predict(X_test))"
   ]
  },
  {
   "cell_type": "markdown",
   "metadata": {},
   "source": [
    "#### Comparing SMOTE and imblearn"
   ]
  },
  {
   "cell_type": "code",
   "execution_count": 19,
   "metadata": {},
   "outputs": [
    {
     "name": "stdout",
     "output_type": "stream",
     "text": [
      "SMOTE logit F1 score:  0.8663594470046083 \n",
      "imblearn logit F1 score:  0.8444444444444444\n"
     ]
    }
   ],
   "source": [
    "print('SMOTE logit F1 score: ', SMOTE_logit, '\\nimblearn logit F1 score: ', imblearn_logit)"
   ]
  },
  {
   "cell_type": "code",
   "execution_count": 20,
   "metadata": {},
   "outputs": [],
   "source": [
    "f1_scores.loc[0] = 'Logistic', round(SMOTE_logit, 2)"
   ]
  },
  {
   "cell_type": "code",
   "execution_count": 21,
   "metadata": {},
   "outputs": [
    {
     "data": {
      "text/plain": [
       "array([[952,  29],\n",
       "       [  6,  95]])"
      ]
     },
     "execution_count": 21,
     "metadata": {},
     "output_type": "execute_result"
    }
   ],
   "source": [
    "confusion_matrix(y_test, logit_final.predict(X_test))"
   ]
  },
  {
   "cell_type": "code",
   "execution_count": 75,
   "metadata": {},
   "outputs": [
    {
     "name": "stdout",
     "output_type": "stream",
     "text": [
      "              precision    recall  f1-score   support\n",
      "\n",
      "           0       0.97      0.99      0.98       958\n",
      "           1       0.94      0.77      0.84       124\n",
      "\n",
      "    accuracy                           0.97      1082\n",
      "   macro avg       0.96      0.88      0.91      1082\n",
      "weighted avg       0.97      0.97      0.97      1082\n",
      "\n"
     ]
    }
   ],
   "source": [
    "print(classification_report(logit_final.predict(X_test), y_test))"
   ]
  },
  {
   "cell_type": "markdown",
   "metadata": {},
   "source": [
    "#### feature importance for logistic regression"
   ]
  },
  {
   "cell_type": "code",
   "execution_count": 22,
   "metadata": {},
   "outputs": [
    {
     "data": {
      "text/html": [
       "<div>\n",
       "<style scoped>\n",
       "    .dataframe tbody tr th:only-of-type {\n",
       "        vertical-align: middle;\n",
       "    }\n",
       "\n",
       "    .dataframe tbody tr th {\n",
       "        vertical-align: top;\n",
       "    }\n",
       "\n",
       "    .dataframe thead th {\n",
       "        text-align: right;\n",
       "    }\n",
       "</style>\n",
       "<table border=\"1\" class=\"dataframe\">\n",
       "  <thead>\n",
       "    <tr style=\"text-align: right;\">\n",
       "      <th></th>\n",
       "      <th>Feature</th>\n",
       "      <th>Score</th>\n",
       "    </tr>\n",
       "  </thead>\n",
       "  <tbody>\n",
       "    <tr>\n",
       "      <th>41</th>\n",
       "      <td>isFraudConnected</td>\n",
       "      <td>13.975509</td>\n",
       "    </tr>\n",
       "    <tr>\n",
       "      <th>38</th>\n",
       "      <td>NetworkDegree</td>\n",
       "      <td>4.172359</td>\n",
       "    </tr>\n",
       "    <tr>\n",
       "      <th>40</th>\n",
       "      <td>Outpatient</td>\n",
       "      <td>1.370874</td>\n",
       "    </tr>\n",
       "    <tr>\n",
       "      <th>3</th>\n",
       "      <td>Claim_Count</td>\n",
       "      <td>1.006471</td>\n",
       "    </tr>\n",
       "    <tr>\n",
       "      <th>6</th>\n",
       "      <td>Outpatient_Count</td>\n",
       "      <td>0.875564</td>\n",
       "    </tr>\n",
       "    <tr>\n",
       "      <th>9</th>\n",
       "      <td>DuplicateClaims</td>\n",
       "      <td>0.856368</td>\n",
       "    </tr>\n",
       "    <tr>\n",
       "      <th>27</th>\n",
       "      <td>ChronicCond_Depression_2</td>\n",
       "      <td>0.597264</td>\n",
       "    </tr>\n",
       "    <tr>\n",
       "      <th>26</th>\n",
       "      <td>ChronicCond_Depression_1</td>\n",
       "      <td>0.576701</td>\n",
       "    </tr>\n",
       "    <tr>\n",
       "      <th>20</th>\n",
       "      <td>ChronicCond_KidneyDisease_1</td>\n",
       "      <td>0.550101</td>\n",
       "    </tr>\n",
       "    <tr>\n",
       "      <th>21</th>\n",
       "      <td>ChronicCond_KidneyDisease_2</td>\n",
       "      <td>0.438447</td>\n",
       "    </tr>\n",
       "    <tr>\n",
       "      <th>32</th>\n",
       "      <td>ChronicCond_Osteoporasis_1</td>\n",
       "      <td>0.418851</td>\n",
       "    </tr>\n",
       "    <tr>\n",
       "      <th>0</th>\n",
       "      <td>Phys_Count</td>\n",
       "      <td>0.406331</td>\n",
       "    </tr>\n",
       "    <tr>\n",
       "      <th>34</th>\n",
       "      <td>ChronicCond_rheumatoidarthritis_1</td>\n",
       "      <td>0.393265</td>\n",
       "    </tr>\n",
       "    <tr>\n",
       "      <th>35</th>\n",
       "      <td>ChronicCond_rheumatoidarthritis_2</td>\n",
       "      <td>0.331464</td>\n",
       "    </tr>\n",
       "    <tr>\n",
       "      <th>36</th>\n",
       "      <td>ChronicCond_stroke_1</td>\n",
       "      <td>0.330094</td>\n",
       "    </tr>\n",
       "    <tr>\n",
       "      <th>5</th>\n",
       "      <td>Inpatient_Count</td>\n",
       "      <td>0.321337</td>\n",
       "    </tr>\n",
       "    <tr>\n",
       "      <th>29</th>\n",
       "      <td>ChronicCond_Diabetes_2</td>\n",
       "      <td>0.237793</td>\n",
       "    </tr>\n",
       "    <tr>\n",
       "      <th>30</th>\n",
       "      <td>ChronicCond_IschemicHeart_1</td>\n",
       "      <td>0.203853</td>\n",
       "    </tr>\n",
       "    <tr>\n",
       "      <th>31</th>\n",
       "      <td>ChronicCond_IschemicHeart_2</td>\n",
       "      <td>0.180901</td>\n",
       "    </tr>\n",
       "    <tr>\n",
       "      <th>15</th>\n",
       "      <td>Race1</td>\n",
       "      <td>0.161496</td>\n",
       "    </tr>\n",
       "    <tr>\n",
       "      <th>16</th>\n",
       "      <td>Race2</td>\n",
       "      <td>0.156187</td>\n",
       "    </tr>\n",
       "    <tr>\n",
       "      <th>37</th>\n",
       "      <td>ChronicCond_stroke_2</td>\n",
       "      <td>0.151283</td>\n",
       "    </tr>\n",
       "    <tr>\n",
       "      <th>33</th>\n",
       "      <td>ChronicCond_Osteoporasis_2</td>\n",
       "      <td>0.135499</td>\n",
       "    </tr>\n",
       "    <tr>\n",
       "      <th>11</th>\n",
       "      <td>AvgClaimDuration</td>\n",
       "      <td>0.122301</td>\n",
       "    </tr>\n",
       "    <tr>\n",
       "      <th>25</th>\n",
       "      <td>ChronicCond_ObstrPulmonary_2</td>\n",
       "      <td>0.114138</td>\n",
       "    </tr>\n",
       "    <tr>\n",
       "      <th>10</th>\n",
       "      <td>Duplicate_Claims_Percent</td>\n",
       "      <td>0.092292</td>\n",
       "    </tr>\n",
       "    <tr>\n",
       "      <th>2</th>\n",
       "      <td>Norm_Patient_Count</td>\n",
       "      <td>0.090403</td>\n",
       "    </tr>\n",
       "    <tr>\n",
       "      <th>18</th>\n",
       "      <td>ChronicCond_Alzheimer_1</td>\n",
       "      <td>0.078148</td>\n",
       "    </tr>\n",
       "    <tr>\n",
       "      <th>24</th>\n",
       "      <td>ChronicCond_ObstrPulmonary_1</td>\n",
       "      <td>0.075458</td>\n",
       "    </tr>\n",
       "    <tr>\n",
       "      <th>22</th>\n",
       "      <td>ChronicCond_Cancer_1</td>\n",
       "      <td>0.066122</td>\n",
       "    </tr>\n",
       "    <tr>\n",
       "      <th>39</th>\n",
       "      <td>NoPhysicianCount</td>\n",
       "      <td>0.063744</td>\n",
       "    </tr>\n",
       "    <tr>\n",
       "      <th>28</th>\n",
       "      <td>ChronicCond_Diabetes_1</td>\n",
       "      <td>0.053300</td>\n",
       "    </tr>\n",
       "    <tr>\n",
       "      <th>12</th>\n",
       "      <td>Avg_Cost</td>\n",
       "      <td>0.052953</td>\n",
       "    </tr>\n",
       "    <tr>\n",
       "      <th>4</th>\n",
       "      <td>Norm_Claim_Count</td>\n",
       "      <td>0.051478</td>\n",
       "    </tr>\n",
       "    <tr>\n",
       "      <th>1</th>\n",
       "      <td>Patient_Count</td>\n",
       "      <td>0.039559</td>\n",
       "    </tr>\n",
       "    <tr>\n",
       "      <th>23</th>\n",
       "      <td>ChronicCond_Cancer_2</td>\n",
       "      <td>0.034579</td>\n",
       "    </tr>\n",
       "    <tr>\n",
       "      <th>13</th>\n",
       "      <td>Avg_Age</td>\n",
       "      <td>0.033667</td>\n",
       "    </tr>\n",
       "    <tr>\n",
       "      <th>17</th>\n",
       "      <td>Race3</td>\n",
       "      <td>0.032618</td>\n",
       "    </tr>\n",
       "    <tr>\n",
       "      <th>14</th>\n",
       "      <td>Gender1</td>\n",
       "      <td>0.032399</td>\n",
       "    </tr>\n",
       "    <tr>\n",
       "      <th>7</th>\n",
       "      <td>Norm_Inpatient_Count</td>\n",
       "      <td>0.024719</td>\n",
       "    </tr>\n",
       "    <tr>\n",
       "      <th>8</th>\n",
       "      <td>Norm_Outpatient_Count</td>\n",
       "      <td>0.024284</td>\n",
       "    </tr>\n",
       "    <tr>\n",
       "      <th>19</th>\n",
       "      <td>ChronicCond_Alzheimer_2</td>\n",
       "      <td>0.015304</td>\n",
       "    </tr>\n",
       "  </tbody>\n",
       "</table>\n",
       "</div>"
      ],
      "text/plain": [
       "                              Feature      Score\n",
       "41                   isFraudConnected  13.975509\n",
       "38                      NetworkDegree   4.172359\n",
       "40                         Outpatient   1.370874\n",
       "3                         Claim_Count   1.006471\n",
       "6                    Outpatient_Count   0.875564\n",
       "9                     DuplicateClaims   0.856368\n",
       "27           ChronicCond_Depression_2   0.597264\n",
       "26           ChronicCond_Depression_1   0.576701\n",
       "20        ChronicCond_KidneyDisease_1   0.550101\n",
       "21        ChronicCond_KidneyDisease_2   0.438447\n",
       "32         ChronicCond_Osteoporasis_1   0.418851\n",
       "0                          Phys_Count   0.406331\n",
       "34  ChronicCond_rheumatoidarthritis_1   0.393265\n",
       "35  ChronicCond_rheumatoidarthritis_2   0.331464\n",
       "36               ChronicCond_stroke_1   0.330094\n",
       "5                     Inpatient_Count   0.321337\n",
       "29             ChronicCond_Diabetes_2   0.237793\n",
       "30        ChronicCond_IschemicHeart_1   0.203853\n",
       "31        ChronicCond_IschemicHeart_2   0.180901\n",
       "15                              Race1   0.161496\n",
       "16                              Race2   0.156187\n",
       "37               ChronicCond_stroke_2   0.151283\n",
       "33         ChronicCond_Osteoporasis_2   0.135499\n",
       "11                   AvgClaimDuration   0.122301\n",
       "25       ChronicCond_ObstrPulmonary_2   0.114138\n",
       "10           Duplicate_Claims_Percent   0.092292\n",
       "2                  Norm_Patient_Count   0.090403\n",
       "18            ChronicCond_Alzheimer_1   0.078148\n",
       "24       ChronicCond_ObstrPulmonary_1   0.075458\n",
       "22               ChronicCond_Cancer_1   0.066122\n",
       "39                   NoPhysicianCount   0.063744\n",
       "28             ChronicCond_Diabetes_1   0.053300\n",
       "12                           Avg_Cost   0.052953\n",
       "4                    Norm_Claim_Count   0.051478\n",
       "1                       Patient_Count   0.039559\n",
       "23               ChronicCond_Cancer_2   0.034579\n",
       "13                            Avg_Age   0.033667\n",
       "17                              Race3   0.032618\n",
       "14                            Gender1   0.032399\n",
       "7                Norm_Inpatient_Count   0.024719\n",
       "8               Norm_Outpatient_Count   0.024284\n",
       "19            ChronicCond_Alzheimer_2   0.015304"
      ]
     },
     "execution_count": 22,
     "metadata": {},
     "output_type": "execute_result"
    },
    {
     "data": {
      "image/png": "[encoded data removed]",
      "text/plain": [
       "<Figure size 432x288 with 1 Axes>"
      ]
     },
     "metadata": {},
     "output_type": "display_data"
    }
   ],
   "source": [
    "importance = logit_final.coef_[0]\n",
    "feature_importance = pd.DataFrame(columns = ('Feature', 'Score'))\n",
    "\n",
    "# summarize feature importance\n",
    "for i,v in enumerate(importance):\n",
    "    feature_importance.loc[i] = X_train_Bal.columns[i], np.abs(v)\n",
    "    \n",
    "# plot feature importance\n",
    "scores = feature_importance.sort_values(by = 'Score', ascending=False)\n",
    "scores.plot.bar()\n",
    "scores"
   ]
  },
  {
   "cell_type": "markdown",
   "metadata": {},
   "source": [
    "## Stochastic Gradient Descent Classifier"
   ]
  },
  {
   "cell_type": "markdown",
   "metadata": {},
   "source": [
    "#### SMOTE"
   ]
  },
  {
   "cell_type": "code",
   "execution_count": 23,
   "metadata": {},
   "outputs": [
    {
     "name": "stdout",
     "output_type": "stream",
     "text": [
      "SMOTE: \n",
      "SGD Baseline F1 score:  0.5221932114882506\n"
     ]
    }
   ],
   "source": [
    "#SMOTE\n",
    "sgd = SGDClassifier(loss='log', max_iter=1e4, l1_ratio=0, alpha=1e-4, shuffle=False)\n",
    "sgd.fit(X_train_Bal, y_train_Bal)\n",
    "print(\"SMOTE: \\nSGD Baseline F1 score: \", f1_score(y_test,sgd.predict(X_test)))"
   ]
  },
  {
   "cell_type": "code",
   "execution_count": 24,
   "metadata": {},
   "outputs": [
    {
     "name": "stdout",
     "output_type": "stream",
     "text": [
      "CPU times: user 2.28 s, sys: 128 ms, total: 2.4 s\n",
      "Wall time: 9.8 s\n"
     ]
    },
    {
     "data": {
      "text/plain": [
       "GridSearchCV(cv=StratifiedKFold(n_splits=5, random_state=42, shuffle=True),\n",
       "             estimator=SGDClassifier(l1_ratio=0, loss='log', max_iter=10000.0,\n",
       "                                     shuffle=False),\n",
       "             n_jobs=-1,\n",
       "             param_grid={'alpha': array([0.0005    , 0.00048621, 0.00047241, 0.00045862, 0.00044483,\n",
       "       0.00043103, 0.00041724, 0.00040345, 0.00038966, 0.00037586,\n",
       "       0.00036207, 0.00034828, 0.00033448, 0.00032069, 0.0003069 ,\n",
       "       0.0002931 , 0.00027931, 0.00026552, 0.00025172, 0.00023793,\n",
       "       0.00022414, 0.00021034, 0.00019655, 0.00018276, 0.00016897,\n",
       "       0.00015517, 0.00014138, 0.00012759, 0.00011379, 0.0001    ]),\n",
       "                         'max_iter': [0.001, 0.01, 0.1, 1, 10, 100, 1000,\n",
       "                                      10000]},\n",
       "             scoring='f1')"
      ]
     },
     "execution_count": 24,
     "metadata": {},
     "output_type": "execute_result"
    }
   ],
   "source": [
    "grid_para_sgd = {\n",
    "    'max_iter': [0.001, 0.01, 0.1, 1, 10, 100, 1000, 10000],\n",
    "    'alpha': np.linspace(5e-4,1e-4,30)\n",
    "}\n",
    "grid_search_sgd = ms.GridSearchCV(sgd, grid_para_sgd, cv=s_kf, scoring='f1', n_jobs=-1)\n",
    "%time grid_search_sgd.fit(X_train_Bal, y_train_Bal)"
   ]
  },
  {
   "cell_type": "code",
   "execution_count": 25,
   "metadata": {},
   "outputs": [
    {
     "name": "stdout",
     "output_type": "stream",
     "text": [
      "SMOTE: \n",
      "\n",
      "SGD Grid Search best params:  {'alpha': 0.00037586206896551724, 'max_iter': 1000}\n",
      "SGD Grid Search Training set F1 score:  0.9107649610319525\n",
      "SGD Best Estimator Validation set F1 score:  0.49875311720698257\n",
      "SGD Best Estimator Validation set business score:  0.7947166651190662\n"
     ]
    }
   ],
   "source": [
    "print(\"SMOTE: \\n\")\n",
    "print(\"SGD Grid Search best params: \", grid_search_sgd.best_params_)\n",
    "print(\"SGD Grid Search Training set F1 score: \", grid_search_sgd.best_score_)\n",
    "sgd_final = grid_search_sgd.best_estimator_\n",
    "print(\"SGD Best Estimator Validation set F1 score: \", f1_score(y_test,sgd_final.predict(X_test)))\n",
    "print(\"SGD Best Estimator Validation set business score: \", businessgain(y_test,sgd_final.predict(X_test)))\n",
    "SMOTE_sgd = f1_score(y_test,sgd_final.predict(X_test))"
   ]
  },
  {
   "cell_type": "markdown",
   "metadata": {},
   "source": [
    "#### imblearn"
   ]
  },
  {
   "cell_type": "code",
   "execution_count": 26,
   "metadata": {},
   "outputs": [
    {
     "name": "stdout",
     "output_type": "stream",
     "text": [
      "Imblearn Balanced: \n",
      "SGD Baseline F1 score:  0.510204081632653\n"
     ]
    }
   ],
   "source": [
    "sgd = SGDClassifier(loss='log', max_iter=1e4, l1_ratio=0, alpha=1e-4, shuffle=False)\n",
    "sgd.fit(X_ros, y_ros)\n",
    "print(\"Imblearn Balanced: \\nSGD Baseline F1 score: \", f1_score(y_test,sgd.predict(X_test)))"
   ]
  },
  {
   "cell_type": "code",
   "execution_count": 27,
   "metadata": {},
   "outputs": [
    {
     "name": "stdout",
     "output_type": "stream",
     "text": [
      "CPU times: user 2.56 s, sys: 139 ms, total: 2.7 s\n",
      "Wall time: 10.8 s\n"
     ]
    },
    {
     "data": {
      "text/plain": [
       "GridSearchCV(cv=StratifiedKFold(n_splits=5, random_state=42, shuffle=True),\n",
       "             estimator=SGDClassifier(l1_ratio=0, loss='log', max_iter=10000.0,\n",
       "                                     shuffle=False),\n",
       "             n_jobs=-1,\n",
       "             param_grid={'alpha': array([0.0005    , 0.00048621, 0.00047241, 0.00045862, 0.00044483,\n",
       "       0.00043103, 0.00041724, 0.00040345, 0.00038966, 0.00037586,\n",
       "       0.00036207, 0.00034828, 0.00033448, 0.00032069, 0.0003069 ,\n",
       "       0.0002931 , 0.00027931, 0.00026552, 0.00025172, 0.00023793,\n",
       "       0.00022414, 0.00021034, 0.00019655, 0.00018276, 0.00016897,\n",
       "       0.00015517, 0.00014138, 0.00012759, 0.00011379, 0.0001    ]),\n",
       "                         'max_iter': [0.001, 0.01, 0.1, 1, 10, 100, 1000,\n",
       "                                      10000]},\n",
       "             scoring='f1')"
      ]
     },
     "execution_count": 27,
     "metadata": {},
     "output_type": "execute_result"
    }
   ],
   "source": [
    "grid_para_sgd = {\n",
    "    'max_iter': [0.001, 0.01, 0.1, 1, 10, 100, 1000, 10000],\n",
    "    'alpha': np.linspace(5e-4,1e-4,30)\n",
    "}\n",
    "grid_search_sgd = ms.GridSearchCV(sgd, grid_para_sgd, cv=s_kf, scoring='f1', n_jobs=-1)\n",
    "%time grid_search_sgd.fit(X_ros, y_ros)"
   ]
  },
  {
   "cell_type": "code",
   "execution_count": 28,
   "metadata": {},
   "outputs": [
    {
     "name": "stdout",
     "output_type": "stream",
     "text": [
      "SGD Grid Search best params:  {'alpha': 0.0003206896551724138, 'max_iter': 1000}\n",
      "SGD Grid Search Training set F1 score:  0.9022825655826414\n",
      "SGD Best Estimator Validation set F1 score:  0.49751243781094534\n",
      "SGD Best Estimator Validation set business score:  0.7937938723096986\n"
     ]
    }
   ],
   "source": [
    "print(\"SGD Grid Search best params: \", grid_search_sgd.best_params_)\n",
    "print(\"SGD Grid Search Training set F1 score: \", grid_search_sgd.best_score_)\n",
    "sgd_final = grid_search_sgd.best_estimator_\n",
    "print(\"SGD Best Estimator Validation set F1 score: \", f1_score(y_test,sgd_final.predict(X_test)))\n",
    "print(\"SGD Best Estimator Validation set business score: \", businessgain(y_test,sgd_final.predict(X_test)))\n",
    "imblearn_sgd = f1_score(y_test,sgd_final.predict(X_test))"
   ]
  },
  {
   "cell_type": "markdown",
   "metadata": {},
   "source": [
    "#### Comparing SMOTE with imblearn"
   ]
  },
  {
   "cell_type": "code",
   "execution_count": 30,
   "metadata": {},
   "outputs": [
    {
     "name": "stdout",
     "output_type": "stream",
     "text": [
      "SMOTE SGD F1 score:  0.49875311720698257 \n",
      "imblearn SGD F1 score:  0.49751243781094534\n"
     ]
    }
   ],
   "source": [
    "print('SMOTE SGD F1 score: ', SMOTE_sgd, '\\nimblearn SGD F1 score: ', imblearn_sgd)"
   ]
  },
  {
   "cell_type": "code",
   "execution_count": 31,
   "metadata": {},
   "outputs": [],
   "source": [
    "f1_scores.loc[1] = 'SGD', round(SMOTE_sgd, 2)"
   ]
  },
  {
   "cell_type": "code",
   "execution_count": 32,
   "metadata": {},
   "outputs": [
    {
     "data": {
      "text/plain": [
       "array([[780, 201],\n",
       "       [  1, 100]])"
      ]
     },
     "execution_count": 32,
     "metadata": {},
     "output_type": "execute_result"
    }
   ],
   "source": [
    "confusion_matrix(y_test, sgd_final.predict(X_test))"
   ]
  },
  {
   "cell_type": "code",
   "execution_count": 76,
   "metadata": {},
   "outputs": [
    {
     "name": "stdout",
     "output_type": "stream",
     "text": [
      "              precision    recall  f1-score   support\n",
      "\n",
      "           0       0.80      1.00      0.89       781\n",
      "           1       0.99      0.33      0.50       301\n",
      "\n",
      "    accuracy                           0.81      1082\n",
      "   macro avg       0.89      0.67      0.69      1082\n",
      "weighted avg       0.85      0.81      0.78      1082\n",
      "\n"
     ]
    }
   ],
   "source": [
    "print(classification_report(sgd_final.predict(X_test), y_test))"
   ]
  },
  {
   "cell_type": "markdown",
   "metadata": {},
   "source": [
    "#### SGD feature Importance"
   ]
  },
  {
   "cell_type": "code",
   "execution_count": 33,
   "metadata": {},
   "outputs": [
    {
     "data": {
      "text/html": [
       "<div>\n",
       "<style scoped>\n",
       "    .dataframe tbody tr th:only-of-type {\n",
       "        vertical-align: middle;\n",
       "    }\n",
       "\n",
       "    .dataframe tbody tr th {\n",
       "        vertical-align: top;\n",
       "    }\n",
       "\n",
       "    .dataframe thead th {\n",
       "        text-align: right;\n",
       "    }\n",
       "</style>\n",
       "<table border=\"1\" class=\"dataframe\">\n",
       "  <thead>\n",
       "    <tr style=\"text-align: right;\">\n",
       "      <th></th>\n",
       "      <th>Feature</th>\n",
       "      <th>Score</th>\n",
       "    </tr>\n",
       "  </thead>\n",
       "  <tbody>\n",
       "    <tr>\n",
       "      <th>41</th>\n",
       "      <td>isFraudConnected</td>\n",
       "      <td>15.313834</td>\n",
       "    </tr>\n",
       "    <tr>\n",
       "      <th>38</th>\n",
       "      <td>NetworkDegree</td>\n",
       "      <td>4.290920</td>\n",
       "    </tr>\n",
       "    <tr>\n",
       "      <th>6</th>\n",
       "      <td>Outpatient_Count</td>\n",
       "      <td>2.551387</td>\n",
       "    </tr>\n",
       "    <tr>\n",
       "      <th>40</th>\n",
       "      <td>Outpatient</td>\n",
       "      <td>2.096876</td>\n",
       "    </tr>\n",
       "    <tr>\n",
       "      <th>29</th>\n",
       "      <td>ChronicCond_Diabetes_2</td>\n",
       "      <td>1.940007</td>\n",
       "    </tr>\n",
       "    <tr>\n",
       "      <th>26</th>\n",
       "      <td>ChronicCond_Depression_1</td>\n",
       "      <td>1.573828</td>\n",
       "    </tr>\n",
       "    <tr>\n",
       "      <th>9</th>\n",
       "      <td>DuplicateClaims</td>\n",
       "      <td>1.149288</td>\n",
       "    </tr>\n",
       "    <tr>\n",
       "      <th>0</th>\n",
       "      <td>Phys_Count</td>\n",
       "      <td>0.974622</td>\n",
       "    </tr>\n",
       "    <tr>\n",
       "      <th>3</th>\n",
       "      <td>Claim_Count</td>\n",
       "      <td>0.860740</td>\n",
       "    </tr>\n",
       "    <tr>\n",
       "      <th>36</th>\n",
       "      <td>ChronicCond_stroke_1</td>\n",
       "      <td>0.856178</td>\n",
       "    </tr>\n",
       "    <tr>\n",
       "      <th>5</th>\n",
       "      <td>Inpatient_Count</td>\n",
       "      <td>0.804542</td>\n",
       "    </tr>\n",
       "    <tr>\n",
       "      <th>27</th>\n",
       "      <td>ChronicCond_Depression_2</td>\n",
       "      <td>0.746169</td>\n",
       "    </tr>\n",
       "    <tr>\n",
       "      <th>22</th>\n",
       "      <td>ChronicCond_Cancer_1</td>\n",
       "      <td>0.686053</td>\n",
       "    </tr>\n",
       "    <tr>\n",
       "      <th>7</th>\n",
       "      <td>Norm_Inpatient_Count</td>\n",
       "      <td>0.685625</td>\n",
       "    </tr>\n",
       "    <tr>\n",
       "      <th>8</th>\n",
       "      <td>Norm_Outpatient_Count</td>\n",
       "      <td>0.685625</td>\n",
       "    </tr>\n",
       "    <tr>\n",
       "      <th>21</th>\n",
       "      <td>ChronicCond_KidneyDisease_2</td>\n",
       "      <td>0.571840</td>\n",
       "    </tr>\n",
       "    <tr>\n",
       "      <th>24</th>\n",
       "      <td>ChronicCond_ObstrPulmonary_1</td>\n",
       "      <td>0.489915</td>\n",
       "    </tr>\n",
       "    <tr>\n",
       "      <th>28</th>\n",
       "      <td>ChronicCond_Diabetes_1</td>\n",
       "      <td>0.477642</td>\n",
       "    </tr>\n",
       "    <tr>\n",
       "      <th>15</th>\n",
       "      <td>Race1</td>\n",
       "      <td>0.454047</td>\n",
       "    </tr>\n",
       "    <tr>\n",
       "      <th>39</th>\n",
       "      <td>NoPhysicianCount</td>\n",
       "      <td>0.444043</td>\n",
       "    </tr>\n",
       "    <tr>\n",
       "      <th>13</th>\n",
       "      <td>Avg_Age</td>\n",
       "      <td>0.442973</td>\n",
       "    </tr>\n",
       "    <tr>\n",
       "      <th>2</th>\n",
       "      <td>Norm_Patient_Count</td>\n",
       "      <td>0.442398</td>\n",
       "    </tr>\n",
       "    <tr>\n",
       "      <th>12</th>\n",
       "      <td>Avg_Cost</td>\n",
       "      <td>0.433404</td>\n",
       "    </tr>\n",
       "    <tr>\n",
       "      <th>18</th>\n",
       "      <td>ChronicCond_Alzheimer_1</td>\n",
       "      <td>0.416991</td>\n",
       "    </tr>\n",
       "    <tr>\n",
       "      <th>17</th>\n",
       "      <td>Race3</td>\n",
       "      <td>0.413251</td>\n",
       "    </tr>\n",
       "    <tr>\n",
       "      <th>33</th>\n",
       "      <td>ChronicCond_Osteoporasis_2</td>\n",
       "      <td>0.323066</td>\n",
       "    </tr>\n",
       "    <tr>\n",
       "      <th>14</th>\n",
       "      <td>Gender1</td>\n",
       "      <td>0.311416</td>\n",
       "    </tr>\n",
       "    <tr>\n",
       "      <th>1</th>\n",
       "      <td>Patient_Count</td>\n",
       "      <td>0.294206</td>\n",
       "    </tr>\n",
       "    <tr>\n",
       "      <th>35</th>\n",
       "      <td>ChronicCond_rheumatoidarthritis_2</td>\n",
       "      <td>0.252715</td>\n",
       "    </tr>\n",
       "    <tr>\n",
       "      <th>32</th>\n",
       "      <td>ChronicCond_Osteoporasis_1</td>\n",
       "      <td>0.231676</td>\n",
       "    </tr>\n",
       "    <tr>\n",
       "      <th>30</th>\n",
       "      <td>ChronicCond_IschemicHeart_1</td>\n",
       "      <td>0.228429</td>\n",
       "    </tr>\n",
       "    <tr>\n",
       "      <th>23</th>\n",
       "      <td>ChronicCond_Cancer_2</td>\n",
       "      <td>0.220734</td>\n",
       "    </tr>\n",
       "    <tr>\n",
       "      <th>19</th>\n",
       "      <td>ChronicCond_Alzheimer_2</td>\n",
       "      <td>0.217027</td>\n",
       "    </tr>\n",
       "    <tr>\n",
       "      <th>10</th>\n",
       "      <td>Duplicate_Claims_Percent</td>\n",
       "      <td>0.216295</td>\n",
       "    </tr>\n",
       "    <tr>\n",
       "      <th>11</th>\n",
       "      <td>AvgClaimDuration</td>\n",
       "      <td>0.188160</td>\n",
       "    </tr>\n",
       "    <tr>\n",
       "      <th>31</th>\n",
       "      <td>ChronicCond_IschemicHeart_2</td>\n",
       "      <td>0.181775</td>\n",
       "    </tr>\n",
       "    <tr>\n",
       "      <th>4</th>\n",
       "      <td>Norm_Claim_Count</td>\n",
       "      <td>0.148036</td>\n",
       "    </tr>\n",
       "    <tr>\n",
       "      <th>37</th>\n",
       "      <td>ChronicCond_stroke_2</td>\n",
       "      <td>0.138813</td>\n",
       "    </tr>\n",
       "    <tr>\n",
       "      <th>34</th>\n",
       "      <td>ChronicCond_rheumatoidarthritis_1</td>\n",
       "      <td>0.136932</td>\n",
       "    </tr>\n",
       "    <tr>\n",
       "      <th>16</th>\n",
       "      <td>Race2</td>\n",
       "      <td>0.133192</td>\n",
       "    </tr>\n",
       "    <tr>\n",
       "      <th>20</th>\n",
       "      <td>ChronicCond_KidneyDisease_1</td>\n",
       "      <td>0.116210</td>\n",
       "    </tr>\n",
       "    <tr>\n",
       "      <th>25</th>\n",
       "      <td>ChronicCond_ObstrPulmonary_2</td>\n",
       "      <td>0.099802</td>\n",
       "    </tr>\n",
       "  </tbody>\n",
       "</table>\n",
       "</div>"
      ],
      "text/plain": [
       "                              Feature      Score\n",
       "41                   isFraudConnected  15.313834\n",
       "38                      NetworkDegree   4.290920\n",
       "6                    Outpatient_Count   2.551387\n",
       "40                         Outpatient   2.096876\n",
       "29             ChronicCond_Diabetes_2   1.940007\n",
       "26           ChronicCond_Depression_1   1.573828\n",
       "9                     DuplicateClaims   1.149288\n",
       "0                          Phys_Count   0.974622\n",
       "3                         Claim_Count   0.860740\n",
       "36               ChronicCond_stroke_1   0.856178\n",
       "5                     Inpatient_Count   0.804542\n",
       "27           ChronicCond_Depression_2   0.746169\n",
       "22               ChronicCond_Cancer_1   0.686053\n",
       "7                Norm_Inpatient_Count   0.685625\n",
       "8               Norm_Outpatient_Count   0.685625\n",
       "21        ChronicCond_KidneyDisease_2   0.571840\n",
       "24       ChronicCond_ObstrPulmonary_1   0.489915\n",
       "28             ChronicCond_Diabetes_1   0.477642\n",
       "15                              Race1   0.454047\n",
       "39                   NoPhysicianCount   0.444043\n",
       "13                            Avg_Age   0.442973\n",
       "2                  Norm_Patient_Count   0.442398\n",
       "12                           Avg_Cost   0.433404\n",
       "18            ChronicCond_Alzheimer_1   0.416991\n",
       "17                              Race3   0.413251\n",
       "33         ChronicCond_Osteoporasis_2   0.323066\n",
       "14                            Gender1   0.311416\n",
       "1                       Patient_Count   0.294206\n",
       "35  ChronicCond_rheumatoidarthritis_2   0.252715\n",
       "32         ChronicCond_Osteoporasis_1   0.231676\n",
       "30        ChronicCond_IschemicHeart_1   0.228429\n",
       "23               ChronicCond_Cancer_2   0.220734\n",
       "19            ChronicCond_Alzheimer_2   0.217027\n",
       "10           Duplicate_Claims_Percent   0.216295\n",
       "11                   AvgClaimDuration   0.188160\n",
       "31        ChronicCond_IschemicHeart_2   0.181775\n",
       "4                    Norm_Claim_Count   0.148036\n",
       "37               ChronicCond_stroke_2   0.138813\n",
       "34  ChronicCond_rheumatoidarthritis_1   0.136932\n",
       "16                              Race2   0.133192\n",
       "20        ChronicCond_KidneyDisease_1   0.116210\n",
       "25       ChronicCond_ObstrPulmonary_2   0.099802"
      ]
     },
     "execution_count": 33,
     "metadata": {},
     "output_type": "execute_result"
    },
    {
     "data": {
      "image/png": "[encoded data removed]",
      "text/plain": [
       "<Figure size 432x288 with 1 Axes>"
      ]
     },
     "metadata": {},
     "output_type": "display_data"
    }
   ],
   "source": [
    "importance = sgd_final.coef_[0]\n",
    "feature_importance = pd.DataFrame(columns = ('Feature', 'Score'))\n",
    "\n",
    "# summarize feature importance\n",
    "for i,v in enumerate(importance):\n",
    "    feature_importance.loc[i] = X_train_Bal.columns[i], np.abs(v)\n",
    "    \n",
    "# plot feature importance\n",
    "scores = feature_importance.sort_values(by = 'Score', ascending=False)\n",
    "scores.plot.bar()\n",
    "scores"
   ]
  },
  {
   "cell_type": "markdown",
   "metadata": {},
   "source": [
    "### K-Nearest Neighbors"
   ]
  },
  {
   "cell_type": "markdown",
   "metadata": {},
   "source": [
    "#### SMOTE"
   ]
  },
  {
   "cell_type": "code",
   "execution_count": 34,
   "metadata": {},
   "outputs": [
    {
     "name": "stdout",
     "output_type": "stream",
     "text": [
      "SMOTE: \n",
      "KNN Baseline Training Set F1 score:  0.9588437040666339\n",
      "KNN Baseline Validation Set F1 score:  0.6411149825783973\n"
     ]
    }
   ],
   "source": [
    "knn = KNeighborsClassifier()\n",
    "knn.fit(X_train_Bal, y_train_Bal)\n",
    "print(\"SMOTE: \\nKNN Baseline Training Set F1 score: \", f1_score(y_train_Bal,knn.predict(X_train_Bal)))\n",
    "print(\"KNN Baseline Validation Set F1 score: \", f1_score(y_test,knn.predict(X_test)))"
   ]
  },
  {
   "cell_type": "code",
   "execution_count": 35,
   "metadata": {},
   "outputs": [
    {
     "name": "stdout",
     "output_type": "stream",
     "text": [
      "Fitting 5 folds for each of 10 candidates, totalling 50 fits\n"
     ]
    },
    {
     "name": "stderr",
     "output_type": "stream",
     "text": [
      "[Parallel(n_jobs=-1)]: Using backend LokyBackend with 8 concurrent workers.\n",
      "[Parallel(n_jobs=-1)]: Done  34 tasks      | elapsed:   17.7s\n",
      "[Parallel(n_jobs=-1)]: Done  50 out of  50 | elapsed:   22.7s finished\n"
     ]
    },
    {
     "data": {
      "text/plain": [
       "GridSearchCV(cv=StratifiedKFold(n_splits=5, random_state=42, shuffle=True),\n",
       "             estimator=KNeighborsClassifier(), n_jobs=-1,\n",
       "             param_grid={'n_neighbors': array([70, 71, 72, 73, 74, 75, 76, 77, 78, 79])},\n",
       "             return_train_score=True, scoring='f1', verbose=1)"
      ]
     },
     "execution_count": 35,
     "metadata": {},
     "output_type": "execute_result"
    }
   ],
   "source": [
    "# grid search\n",
    "params = {'n_neighbors': np.arange(0,10)+70}\n",
    "\n",
    "knn_GS =  GridSearchCV(knn, param_grid = params,\n",
    "                       cv=s_kf, n_jobs=(-1), verbose = 1,\n",
    "                       return_train_score = True,\n",
    "                       scoring = 'f1')\n",
    "\n",
    "knn_GS.fit(X_train_Bal, y_train_Bal)"
   ]
  },
  {
   "cell_type": "code",
   "execution_count": 36,
   "metadata": {},
   "outputs": [
    {
     "name": "stdout",
     "output_type": "stream",
     "text": [
      "KNN Grid Search Best params:  {'n_neighbors': 70}\n",
      "KNN Grid Search Training set F1 score:  0.8972232239451857\n",
      "KNN Grid Search Validation set F1 score:  0.5191256830601093\n",
      "KNN Grid Search Validation set business score:  0.7187765843631605\n"
     ]
    }
   ],
   "source": [
    "print(\"KNN Grid Search Best params: \", knn_GS.best_params_)\n",
    "best_knn = knn_GS.best_estimator_\n",
    "print(\"KNN Grid Search Training set F1 score: \", f1_score(y_train_Bal, best_knn.predict(X_train_Bal)))\n",
    "print(\"KNN Grid Search Validation set F1 score: \", f1_score(y_test, best_knn.predict(X_test)))\n",
    "print(\"KNN Grid Search Validation set business score: \", businessgain(y_test, best_knn.predict(X_test)))\n",
    "SMOTE_knn = f1_score(y_test, best_knn.predict(X_test))"
   ]
  },
  {
   "cell_type": "markdown",
   "metadata": {},
   "source": [
    "#### imblearn"
   ]
  },
  {
   "cell_type": "code",
   "execution_count": 37,
   "metadata": {},
   "outputs": [
    {
     "name": "stdout",
     "output_type": "stream",
     "text": [
      "imblearn: \n",
      "KNN Baseline Training Set F1 score:  0.9695845697329377\n",
      "KNN Baseline Validation Set F1 score:  0.6666666666666667\n"
     ]
    }
   ],
   "source": [
    "knn = KNeighborsClassifier()\n",
    "knn.fit(X_ros, y_ros)\n",
    "print(\"imblearn: \\nKNN Baseline Training Set F1 score: \", f1_score(y_ros,knn.predict(X_ros)))\n",
    "print(\"KNN Baseline Validation Set F1 score: \", f1_score(y_test,knn.predict(X_test)))"
   ]
  },
  {
   "cell_type": "code",
   "execution_count": 38,
   "metadata": {},
   "outputs": [
    {
     "name": "stdout",
     "output_type": "stream",
     "text": [
      "Fitting 5 folds for each of 10 candidates, totalling 50 fits\n"
     ]
    },
    {
     "name": "stderr",
     "output_type": "stream",
     "text": [
      "[Parallel(n_jobs=-1)]: Using backend LokyBackend with 8 concurrent workers.\n",
      "[Parallel(n_jobs=-1)]: Done  34 tasks      | elapsed:   20.6s\n",
      "[Parallel(n_jobs=-1)]: Done  50 out of  50 | elapsed:   25.9s finished\n"
     ]
    },
    {
     "data": {
      "text/plain": [
       "GridSearchCV(cv=StratifiedKFold(n_splits=5, random_state=42, shuffle=True),\n",
       "             estimator=KNeighborsClassifier(), n_jobs=-1,\n",
       "             param_grid={'n_neighbors': array([70, 71, 72, 73, 74, 75, 76, 77, 78, 79])},\n",
       "             return_train_score=True, scoring='f1', verbose=1)"
      ]
     },
     "execution_count": 38,
     "metadata": {},
     "output_type": "execute_result"
    }
   ],
   "source": [
    "# grid search\n",
    "params = {'n_neighbors': np.arange(0,10)+70}\n",
    "\n",
    "knn_GS =  GridSearchCV(knn, param_grid = params,\n",
    "                       cv=s_kf, n_jobs=(-1), verbose = 1,\n",
    "                       return_train_score = True,\n",
    "                       scoring = 'f1')\n",
    "\n",
    "knn_GS.fit(X_ros, y_ros)"
   ]
  },
  {
   "cell_type": "code",
   "execution_count": 39,
   "metadata": {},
   "outputs": [
    {
     "name": "stdout",
     "output_type": "stream",
     "text": [
      "KNN Grid Search Best params:  {'n_neighbors': 73}\n",
      "KNN Grid Search Training set F1 score:  0.8817843866171003\n",
      "KNN Grid Search Validation set F1 score:  0.543859649122807\n",
      "KNN Grid Search Validation set business score:  0.6976284801544754\n"
     ]
    }
   ],
   "source": [
    "print(\"KNN Grid Search Best params: \", knn_GS.best_params_)\n",
    "best_knn = knn_GS.best_estimator_\n",
    "print(\"KNN Grid Search Training set F1 score: \", f1_score(y_ros, best_knn.predict(X_ros)))\n",
    "print(\"KNN Grid Search Validation set F1 score: \", f1_score(y_test, best_knn.predict(X_test)))\n",
    "print(\"KNN Grid Search Validation set business score: \", businessgain(y_test, best_knn.predict(X_test)))\n",
    "imblearn_knn = f1_score(y_test, best_knn.predict(X_test))"
   ]
  },
  {
   "cell_type": "markdown",
   "metadata": {},
   "source": [
    "#### Comparing SMOTE and imblearn"
   ]
  },
  {
   "cell_type": "code",
   "execution_count": 41,
   "metadata": {},
   "outputs": [
    {
     "name": "stdout",
     "output_type": "stream",
     "text": [
      "SMOTE KNN F1 score:  0.5191256830601093 \n",
      "imblearn KNN F1 score:  0.543859649122807\n"
     ]
    }
   ],
   "source": [
    "print('SMOTE KNN F1 score: ', SMOTE_knn, '\\nimblearn KNN F1 score: ', imblearn_knn)"
   ]
  },
  {
   "cell_type": "code",
   "execution_count": 42,
   "metadata": {},
   "outputs": [],
   "source": [
    "f1_scores.loc[2] = 'KNN', round(SMOTE_knn, 2)"
   ]
  },
  {
   "cell_type": "code",
   "execution_count": 43,
   "metadata": {},
   "outputs": [
    {
     "data": {
      "text/plain": [
       "array([[833, 148],\n",
       "       [  8,  93]])"
      ]
     },
     "execution_count": 43,
     "metadata": {},
     "output_type": "execute_result"
    }
   ],
   "source": [
    "confusion_matrix(y_test, best_knn.predict(X_test))"
   ]
  },
  {
   "cell_type": "code",
   "execution_count": 77,
   "metadata": {},
   "outputs": [
    {
     "name": "stdout",
     "output_type": "stream",
     "text": [
      "              precision    recall  f1-score   support\n",
      "\n",
      "           0       0.85      0.99      0.91       841\n",
      "           1       0.92      0.39      0.54       241\n",
      "\n",
      "    accuracy                           0.86      1082\n",
      "   macro avg       0.88      0.69      0.73      1082\n",
      "weighted avg       0.87      0.86      0.83      1082\n",
      "\n"
     ]
    }
   ],
   "source": [
    "print(classification_report(best_knn.predict(X_test), y_test))"
   ]
  },
  {
   "cell_type": "markdown",
   "metadata": {},
   "source": [
    "### Support Vector Machine"
   ]
  },
  {
   "cell_type": "markdown",
   "metadata": {},
   "source": [
    "#### SMOTE"
   ]
  },
  {
   "cell_type": "code",
   "execution_count": 44,
   "metadata": {},
   "outputs": [
    {
     "name": "stdout",
     "output_type": "stream",
     "text": [
      "SMOTE: \n",
      "SVM BaseLine Train Set F1 Score: 0.9521871820956257\n",
      "SVM BaseLine Validation Set F1 Score: 0.708171206225681\n"
     ]
    }
   ],
   "source": [
    "svm = SVC(class_weight='balanced')\n",
    "svm.fit(X_train_Bal, y_train_Bal)\n",
    "\n",
    "# baseline score\n",
    "svm_train_f1 = f1_score(y_train_Bal, svm.predict(X_train_Bal))\n",
    "svm_test_f1 = f1_score(y_test, svm.predict(X_test))\n",
    "\n",
    "print('SMOTE: \\nSVM BaseLine Train Set F1 Score:', svm_train_f1)\n",
    "print('SVM BaseLine Validation Set F1 Score:', svm_test_f1)"
   ]
  },
  {
   "cell_type": "code",
   "execution_count": 45,
   "metadata": {},
   "outputs": [
    {
     "name": "stdout",
     "output_type": "stream",
     "text": [
      "Fitting 5 folds for each of 20 candidates, totalling 100 fits\n"
     ]
    },
    {
     "name": "stderr",
     "output_type": "stream",
     "text": [
      "[Parallel(n_jobs=-1)]: Using backend LokyBackend with 8 concurrent workers.\n",
      "[Parallel(n_jobs=-1)]: Done  34 tasks      | elapsed:    3.5s\n",
      "[Parallel(n_jobs=-1)]: Done 100 out of 100 | elapsed:  1.9min finished\n"
     ]
    },
    {
     "data": {
      "text/plain": [
       "GridSearchCV(cv=StratifiedKFold(n_splits=5, random_state=42, shuffle=True),\n",
       "             estimator=SVC(class_weight='balanced'), n_jobs=-1,\n",
       "             param_grid={'C': array([  0.1       ,   0.21544347,   0.46415888,   1.        ,\n",
       "         2.15443469,   4.64158883,  10.        ,  21.5443469 ,\n",
       "        46.41588834, 100.        ]),\n",
       "                         'gamma': ('auto', 'scale'), 'kernel': ['linear']},\n",
       "             return_train_score=True, scoring='f1', verbose=1)"
      ]
     },
     "execution_count": 45,
     "metadata": {},
     "output_type": "execute_result"
    }
   ],
   "source": [
    "# grid search \n",
    "params = {'C': np.logspace(-1,2,10), \n",
    "          'kernel': ['linear'],\n",
    "          'gamma':('auto', 'scale')}\n",
    "\n",
    "svm_GS =  GridSearchCV(svm, params, cv=s_kf, n_jobs=(-1), verbose = 1, return_train_score = True, scoring = 'f1')\n",
    "svm_GS.fit(X_train, y_train)"
   ]
  },
  {
   "cell_type": "code",
   "execution_count": 46,
   "metadata": {},
   "outputs": [
    {
     "name": "stdout",
     "output_type": "stream",
     "text": [
      "SVM Grid Search Best params:  {'C': 1.0, 'gamma': 'auto', 'kernel': 'linear'}\n",
      "SVM Grid Search Training set F1 score:  0.9704111694633022\n",
      "SVM Grid Search Validation set F1 score:  0.8434782608695651\n",
      "Test Set business Score: 0.8875715380706825\n"
     ]
    }
   ],
   "source": [
    "print(\"SVM Grid Search Best params: \", svm_GS.best_params_)\n",
    "best_svm = svm_GS.best_estimator_\n",
    "print(\"SVM Grid Search Training set F1 score: \", f1_score(y_train_Bal, best_svm.predict(X_train_Bal)))\n",
    "print(\"SVM Grid Search Validation set F1 score: \", f1_score(y_test, best_svm.predict(X_test)))\n",
    "print('Test Set business Score:', businessgain(y_test, best_svm.predict(X_test)))\n",
    "SMOTE_svm = f1_score(y_test, best_svm.predict(X_test))"
   ]
  },
  {
   "cell_type": "markdown",
   "metadata": {},
   "source": [
    "#### imblearn"
   ]
  },
  {
   "cell_type": "code",
   "execution_count": 47,
   "metadata": {},
   "outputs": [
    {
     "name": "stdout",
     "output_type": "stream",
     "text": [
      "imblearn: \n",
      "SVM BaseLine Train Set F1 Score: 0.946348923155346\n",
      "SVM BaseLine Validation Set F1 Score: 0.7258687258687259\n"
     ]
    }
   ],
   "source": [
    "svm = SVC(class_weight='balanced')\n",
    "svm.fit(X_ros, y_ros)\n",
    "\n",
    "# baseline score\n",
    "svm_train_f1 = f1_score(y_ros, svm.predict(X_ros))\n",
    "svm_test_f1 = f1_score(y_test, svm.predict(X_test))\n",
    "\n",
    "print('imblearn: \\nSVM BaseLine Train Set F1 Score:', svm_train_f1)\n",
    "print('SVM BaseLine Validation Set F1 Score:', svm_test_f1)"
   ]
  },
  {
   "cell_type": "code",
   "execution_count": 48,
   "metadata": {},
   "outputs": [
    {
     "name": "stdout",
     "output_type": "stream",
     "text": [
      "Fitting 5 folds for each of 20 candidates, totalling 100 fits\n"
     ]
    },
    {
     "name": "stderr",
     "output_type": "stream",
     "text": [
      "[Parallel(n_jobs=-1)]: Using backend LokyBackend with 8 concurrent workers.\n",
      "[Parallel(n_jobs=-1)]: Done  34 tasks      | elapsed:   11.4s\n",
      "[Parallel(n_jobs=-1)]: Done 100 out of 100 | elapsed: 11.3min finished\n"
     ]
    },
    {
     "data": {
      "text/plain": [
       "GridSearchCV(cv=StratifiedKFold(n_splits=5, random_state=42, shuffle=True),\n",
       "             estimator=SVC(class_weight='balanced'), n_jobs=-1,\n",
       "             param_grid={'C': array([  0.1       ,   0.21544347,   0.46415888,   1.        ,\n",
       "         2.15443469,   4.64158883,  10.        ,  21.5443469 ,\n",
       "        46.41588834, 100.        ]),\n",
       "                         'gamma': ('auto', 'scale'), 'kernel': ['linear']},\n",
       "             return_train_score=True, scoring='f1', verbose=1)"
      ]
     },
     "execution_count": 48,
     "metadata": {},
     "output_type": "execute_result"
    }
   ],
   "source": [
    "\n",
    "# grid search \n",
    "params = {'C': np.logspace(-1,2,10), \n",
    "          'kernel': ['linear'],\n",
    "          'gamma':('auto', 'scale')}\n",
    "\n",
    "svm_GS =  GridSearchCV(svm, params, cv=s_kf, n_jobs=(-1), verbose = 1, return_train_score = True, scoring = 'f1')\n",
    "svm_GS.fit(X_ros, y_ros)"
   ]
  },
  {
   "cell_type": "code",
   "execution_count": 49,
   "metadata": {},
   "outputs": [
    {
     "name": "stdout",
     "output_type": "stream",
     "text": [
      "imblearn: \n",
      "SVM Grid Search Best params:  {'C': 100.0, 'gamma': 'auto', 'kernel': 'linear'}\n",
      "SVM Grid Search Training set F1 score:  0.9725330620549338\n",
      "SVM Grid Search Validation set F1 score:  0.8533333333333333\n",
      "Test Set business Score: 0.8705379363007659\n"
     ]
    }
   ],
   "source": [
    "print(\"imblearn: \\nSVM Grid Search Best params: \", svm_GS.best_params_)\n",
    "best_svm = svm_GS.best_estimator_\n",
    "print(\"SVM Grid Search Training set F1 score: \", f1_score(y_ros, best_svm.predict(X_ros)))\n",
    "print(\"SVM Grid Search Validation set F1 score: \", f1_score(y_test, best_svm.predict(X_test)))\n",
    "print('Test Set business Score:', businessgain(y_test, best_svm.predict(X_test)))\n",
    "imblearn_svm = f1_score(y_test, best_svm.predict(X_test))"
   ]
  },
  {
   "cell_type": "markdown",
   "metadata": {},
   "source": [
    "#### Comparing SMOTE and imblearn"
   ]
  },
  {
   "cell_type": "code",
   "execution_count": 51,
   "metadata": {},
   "outputs": [
    {
     "name": "stdout",
     "output_type": "stream",
     "text": [
      "SMOTE SVM F1 score:  0.8434782608695651 \n",
      "imblearn SVM F1 score:  0.8533333333333333\n"
     ]
    }
   ],
   "source": [
    "print('SMOTE SVM F1 score: ', SMOTE_svm, '\\nimblearn SVM F1 score: ', imblearn_svm)"
   ]
  },
  {
   "cell_type": "code",
   "execution_count": 52,
   "metadata": {},
   "outputs": [],
   "source": [
    "f1_scores.loc[3] = 'SVM', round(SMOTE_svm, 2)"
   ]
  },
  {
   "cell_type": "code",
   "execution_count": 53,
   "metadata": {},
   "outputs": [
    {
     "data": {
      "text/plain": [
       "array([[953,  28],\n",
       "       [  5,  96]])"
      ]
     },
     "execution_count": 53,
     "metadata": {},
     "output_type": "execute_result"
    }
   ],
   "source": [
    "confusion_matrix(y_test, best_svm.predict(X_test))"
   ]
  },
  {
   "cell_type": "code",
   "execution_count": 78,
   "metadata": {},
   "outputs": [
    {
     "name": "stdout",
     "output_type": "stream",
     "text": [
      "              precision    recall  f1-score   support\n",
      "\n",
      "           0       0.97      0.99      0.98       958\n",
      "           1       0.95      0.77      0.85       124\n",
      "\n",
      "    accuracy                           0.97      1082\n",
      "   macro avg       0.96      0.88      0.92      1082\n",
      "weighted avg       0.97      0.97      0.97      1082\n",
      "\n"
     ]
    }
   ],
   "source": [
    "print(classification_report(best_svm.predict(X_test), y_test))"
   ]
  },
  {
   "cell_type": "markdown",
   "metadata": {},
   "source": [
    "### Random Forest"
   ]
  },
  {
   "cell_type": "markdown",
   "metadata": {},
   "source": [
    "#### SMOTE"
   ]
  },
  {
   "cell_type": "code",
   "execution_count": 54,
   "metadata": {},
   "outputs": [
    {
     "name": "stdout",
     "output_type": "stream",
     "text": [
      "SMOTE: \n",
      "RF BaseLine Train Set F1 Score: 1.0\n",
      "RF BaseLine Validation Set F1 Score: 0.9183673469387755\n"
     ]
    }
   ],
   "source": [
    "from sklearn import ensemble\n",
    "randomForest = ensemble.RandomForestClassifier()\n",
    "\n",
    "# fit RF model on SMOTE training set\n",
    "randomForest.set_params(random_state=0)\n",
    "\n",
    "randomForest.fit(X_train_Bal, y_train_Bal)\n",
    "\n",
    "# baseline score\n",
    "print('SMOTE: \\nRF BaseLine Train Set F1 Score:', f1_score(y_train_Bal, randomForest.predict(X_train_Bal)))\n",
    "print('RF BaseLine Validation Set F1 Score:', f1_score(y_test, randomForest.predict(X_test)))"
   ]
  },
  {
   "cell_type": "code",
   "execution_count": 55,
   "metadata": {},
   "outputs": [
    {
     "name": "stdout",
     "output_type": "stream",
     "text": [
      "CPU times: user 7.24 s, sys: 372 ms, total: 7.61 s\n",
      "Wall time: 3min 20s\n"
     ]
    },
    {
     "data": {
      "text/plain": [
       "GridSearchCV(cv=StratifiedKFold(n_splits=5, random_state=42, shuffle=True),\n",
       "             estimator=RandomForestClassifier(random_state=0), n_jobs=-1,\n",
       "             param_grid={'criterion': ['entropy'], 'max_depth': range(1, 31),\n",
       "                         'n_estimators': range(10, 110, 10)},\n",
       "             scoring='f1')"
      ]
     },
     "execution_count": 55,
     "metadata": {},
     "output_type": "execute_result"
    }
   ],
   "source": [
    "# set the parameter grid\n",
    "grid_para_forest = {\n",
    "    'criterion': ['entropy'],\n",
    "    'max_depth': range(1, 31),\n",
    "    'n_estimators': range(10, 110, 10)\n",
    "}\n",
    "\n",
    "# run the RF classifier through the grid search\n",
    "grid_search_forest = ms.GridSearchCV(randomForest, grid_para_forest, scoring='f1', cv=s_kf, n_jobs=-1)\n",
    "%time grid_search_forest.fit(X_train_Bal, y_train_Bal)"
   ]
  },
  {
   "cell_type": "code",
   "execution_count": 56,
   "metadata": {},
   "outputs": [
    {
     "name": "stdout",
     "output_type": "stream",
     "text": [
      "RF Grid Search Best params:  {'criterion': 'entropy', 'max_depth': 16, 'n_estimators': 80}\n",
      "RF Grid Search Training set F1 score:  1.0\n",
      "RF Grid Search Validation set F1 score:  0.8965517241379312\n",
      "RF Grid Search Validation set Business score:  0.7826015490230797\n"
     ]
    }
   ],
   "source": [
    "print(\"RF Grid Search Best params: \", grid_search_forest.best_params_)\n",
    "best_RF = grid_search_forest.best_estimator_\n",
    "print(\"RF Grid Search Training set F1 score: \", f1_score(y_train_Bal, best_RF.predict(X_train_Bal)))\n",
    "print(\"RF Grid Search Validation set F1 score: \", f1_score(y_test, best_RF.predict(X_test)))\n",
    "print(\"RF Grid Search Validation set Business score: \", businessgain(y_test,best_RF.predict(X_test)))\n",
    "SMOTE_rf = f1_score(y_test,best_RF.predict(X_test))"
   ]
  },
  {
   "cell_type": "markdown",
   "metadata": {},
   "source": [
    "#### imblearn"
   ]
  },
  {
   "cell_type": "code",
   "execution_count": 57,
   "metadata": {},
   "outputs": [
    {
     "name": "stdout",
     "output_type": "stream",
     "text": [
      "imblearn: \n",
      "RF BaseLine Train Set F1 Score: 1.0\n",
      "RF BaseLine Validation Set F1 Score: 0.9278350515463919\n"
     ]
    }
   ],
   "source": [
    "randomForest.set_params(random_state=0)\n",
    "\n",
    "randomForest.fit(X_ros, y_ros)\n",
    "\n",
    "# baseline score\n",
    "print('imblearn: \\nRF BaseLine Train Set F1 Score:', f1_score(y_ros, randomForest.predict(X_ros)))\n",
    "print('RF BaseLine Validation Set F1 Score:', f1_score(y_test, randomForest.predict(X_test)))"
   ]
  },
  {
   "cell_type": "code",
   "execution_count": 58,
   "metadata": {},
   "outputs": [
    {
     "name": "stdout",
     "output_type": "stream",
     "text": [
      "CPU times: user 6.62 s, sys: 383 ms, total: 7.01 s\n",
      "Wall time: 2min 10s\n"
     ]
    },
    {
     "data": {
      "text/plain": [
       "GridSearchCV(cv=StratifiedKFold(n_splits=5, random_state=42, shuffle=True),\n",
       "             estimator=RandomForestClassifier(random_state=0), n_jobs=-1,\n",
       "             param_grid={'criterion': ['entropy'], 'max_depth': range(1, 31),\n",
       "                         'n_estimators': range(10, 110, 10)},\n",
       "             scoring='f1')"
      ]
     },
     "execution_count": 58,
     "metadata": {},
     "output_type": "execute_result"
    }
   ],
   "source": [
    "# set the parameter grid\n",
    "grid_para_forest = {\n",
    "    'criterion': ['entropy'],\n",
    "    'max_depth': range(1, 31),\n",
    "    'n_estimators': range(10, 110, 10)\n",
    "}\n",
    "\n",
    "# run the RF classifier through the grid search\n",
    "grid_search_forest = ms.GridSearchCV(randomForest, grid_para_forest, scoring='f1', cv=s_kf, n_jobs=-1)\n",
    "%time grid_search_forest.fit(X_ros, y_ros)"
   ]
  },
  {
   "cell_type": "code",
   "execution_count": 59,
   "metadata": {},
   "outputs": [
    {
     "name": "stdout",
     "output_type": "stream",
     "text": [
      "RF Grid Search Best params:  {'criterion': 'entropy', 'max_depth': 18, 'n_estimators': 60}\n",
      "RF Grid Search Training set F1 score:  1.0\n",
      "RF Grid Search Validation set F1 score:  0.9238578680203046\n",
      "RF Grid Search Validation set Business score:  0.788138305879286\n"
     ]
    }
   ],
   "source": [
    "print(\"RF Grid Search Best params: \", grid_search_forest.best_params_)\n",
    "best_RF = grid_search_forest.best_estimator_\n",
    "print(\"RF Grid Search Training set F1 score: \", f1_score(y_ros, best_RF.predict(X_ros)))\n",
    "print(\"RF Grid Search Validation set F1 score: \", f1_score(y_test, best_RF.predict(X_test)))\n",
    "print(\"RF Grid Search Validation set Business score: \", businessgain(y_test,best_RF.predict(X_test)))\n",
    "imblearn_rf = f1_score(y_test,best_RF.predict(X_test))"
   ]
  },
  {
   "cell_type": "markdown",
   "metadata": {},
   "source": [
    "#### comparing SMOTE and imblearn"
   ]
  },
  {
   "cell_type": "code",
   "execution_count": 61,
   "metadata": {},
   "outputs": [
    {
     "name": "stdout",
     "output_type": "stream",
     "text": [
      "SMOTE RF F1 score:  0.8965517241379312 \n",
      "imblearn RF F1 score:  0.9238578680203046\n"
     ]
    }
   ],
   "source": [
    "print('SMOTE RF F1 score: ', SMOTE_rf, '\\nimblearn RF F1 score: ', imblearn_rf)"
   ]
  },
  {
   "cell_type": "code",
   "execution_count": 62,
   "metadata": {},
   "outputs": [],
   "source": [
    "f1_scores.loc[4] = 'RF', round(SMOTE_rf, 2)"
   ]
  },
  {
   "cell_type": "code",
   "execution_count": 63,
   "metadata": {},
   "outputs": [
    {
     "data": {
      "text/plain": [
       "array([[976,   5],\n",
       "       [ 10,  91]])"
      ]
     },
     "execution_count": 63,
     "metadata": {},
     "output_type": "execute_result"
    }
   ],
   "source": [
    "confusion_matrix(y_test, best_RF.predict(X_test))"
   ]
  },
  {
   "cell_type": "code",
   "execution_count": 79,
   "metadata": {},
   "outputs": [
    {
     "name": "stdout",
     "output_type": "stream",
     "text": [
      "              precision    recall  f1-score   support\n",
      "\n",
      "           0       0.99      0.99      0.99       986\n",
      "           1       0.90      0.95      0.92        96\n",
      "\n",
      "    accuracy                           0.99      1082\n",
      "   macro avg       0.95      0.97      0.96      1082\n",
      "weighted avg       0.99      0.99      0.99      1082\n",
      "\n"
     ]
    }
   ],
   "source": [
    "print(classification_report(best_RF.predict(X_test), y_test))"
   ]
  },
  {
   "cell_type": "markdown",
   "metadata": {},
   "source": [
    "### XGBOOST"
   ]
  },
  {
   "cell_type": "markdown",
   "metadata": {},
   "source": [
    "#### SMOTE"
   ]
  },
  {
   "cell_type": "code",
   "execution_count": 64,
   "metadata": {},
   "outputs": [
    {
     "name": "stdout",
     "output_type": "stream",
     "text": [
      "SMOTE: \n",
      "XGB BaseLine Train Set F1 Score: 0.9998725302740599\n",
      "XGB BaseLine Validation Set F1 Score: 0.9073170731707317\n"
     ]
    }
   ],
   "source": [
    "xgb = XGBClassifier(random_state=0)\n",
    "xgb.fit(X_train_Bal, y_train_Bal)\n",
    "\n",
    "print('SMOTE: \\nXGB BaseLine Train Set F1 Score:', f1_score(y_train_Bal, xgb.predict(X_train_Bal)))\n",
    "print('XGB BaseLine Validation Set F1 Score:', f1_score(y_test, xgb.predict(X_test)))"
   ]
  },
  {
   "cell_type": "code",
   "execution_count": 65,
   "metadata": {},
   "outputs": [
    {
     "name": "stdout",
     "output_type": "stream",
     "text": [
      "CPU times: user 1.76 s, sys: 106 ms, total: 1.86 s\n",
      "Wall time: 12.3 s\n"
     ]
    },
    {
     "data": {
      "text/plain": [
       "GridSearchCV(cv=StratifiedKFold(n_splits=5, random_state=42, shuffle=True),\n",
       "             estimator=XGBClassifier(base_score=0.5, booster='gbtree',\n",
       "                                     colsample_bylevel=1, colsample_bynode=1,\n",
       "                                     colsample_bytree=1, gamma=0, gpu_id=-1,\n",
       "                                     importance_type='gain',\n",
       "                                     interaction_constraints='',\n",
       "                                     learning_rate=0.300000012,\n",
       "                                     max_delta_step=0, max_depth=6,\n",
       "                                     min_child_weight=1, missing=nan,\n",
       "                                     monotone_...ints='()',\n",
       "                                     n_estimators=100, n_jobs=0,\n",
       "                                     num_parallel_tree=1, random_state=0,\n",
       "                                     reg_alpha=0, reg_lambda=1,\n",
       "                                     scale_pos_weight=1, subsample=1,\n",
       "                                     tree_method='exact', validate_parameters=1,\n",
       "                                     verbosity=None),\n",
       "             n_jobs=-1,\n",
       "             param_grid={'learning_rate': [0.001, 0.01, 0.1],\n",
       "                         'max_depth': [1, 3, 10], 'n_estimators': [2, 5, 10],\n",
       "                         'scale_pos_weight': [400, 500, 600],\n",
       "                         'subsample': [0.9]},\n",
       "             scoring='f1')"
      ]
     },
     "execution_count": 65,
     "metadata": {},
     "output_type": "execute_result"
    }
   ],
   "source": [
    "# parameter tuning\n",
    "grid_para_xgb = {'scale_pos_weight': [400,500,600],\n",
    "                 'learning_rate': [0.001, 0.010, 0.1],\n",
    "                 'n_estimators': [2,5,10] ,\n",
    "                 'max_depth': [1,3,10],\n",
    "                 'subsample': [0.9]\n",
    "                 } \n",
    "\n",
    "grid_search_xgb = GridSearchCV(xgb, grid_para_xgb, scoring='f1', cv=s_kf, n_jobs=-1)\n",
    "%time grid_search_xgb.fit(X_train_Bal, y_train_Bal)"
   ]
  },
  {
   "cell_type": "code",
   "execution_count": 66,
   "metadata": {},
   "outputs": [
    {
     "name": "stdout",
     "output_type": "stream",
     "text": [
      "XGB Grid Search Best params:  {'learning_rate': 0.1, 'max_depth': 10, 'n_estimators': 2, 'scale_pos_weight': 400, 'subsample': 0.9}\n",
      "XGB BaseLine Train Set F1 Score: 0.9169978957213001\n",
      "XGB BaseLine Validation Set F1 Score: 0.544959128065395\n",
      "XGB BaseLine Validation Set business Score: 0.8260916206375691\n"
     ]
    }
   ],
   "source": [
    "print(\"XGB Grid Search Best params: \", grid_search_xgb.best_params_)\n",
    "best_xgb = grid_search_xgb.best_estimator_\n",
    "print('XGB BaseLine Train Set F1 Score:', f1_score(y_train_Bal, best_xgb.predict(X_train_Bal)))\n",
    "print('XGB BaseLine Validation Set F1 Score:', f1_score(y_test, best_xgb.predict(X_test)))\n",
    "print('XGB BaseLine Validation Set business Score:', businessgain(y_test, best_xgb.predict(X_test)))\n",
    "SMOTE_xgb = f1_score(y_test, best_xgb.predict(X_test))"
   ]
  },
  {
   "cell_type": "markdown",
   "metadata": {},
   "source": [
    "#### imblearn"
   ]
  },
  {
   "cell_type": "code",
   "execution_count": 67,
   "metadata": {},
   "outputs": [
    {
     "name": "stdout",
     "output_type": "stream",
     "text": [
      "imblearn: \n",
      "XGB BaseLine Train Set F1 Score: 1.0\n",
      "XGB BaseLine Validation Set F1 Score: 0.8921568627450982\n"
     ]
    }
   ],
   "source": [
    "xgb = XGBClassifier(random_state=0)\n",
    "xgb.fit(X_ros, y_ros)\n",
    "print('imblearn: \\nXGB BaseLine Train Set F1 Score:', f1_score(y_ros, xgb.predict(X_ros)))\n",
    "print('XGB BaseLine Validation Set F1 Score:', f1_score(y_test, xgb.predict(X_test)))"
   ]
  },
  {
   "cell_type": "code",
   "execution_count": 68,
   "metadata": {},
   "outputs": [
    {
     "name": "stdout",
     "output_type": "stream",
     "text": [
      "CPU times: user 2.24 s, sys: 118 ms, total: 2.36 s\n",
      "Wall time: 9.34 s\n"
     ]
    },
    {
     "data": {
      "text/plain": [
       "GridSearchCV(cv=StratifiedKFold(n_splits=5, random_state=42, shuffle=True),\n",
       "             estimator=XGBClassifier(base_score=0.5, booster='gbtree',\n",
       "                                     colsample_bylevel=1, colsample_bynode=1,\n",
       "                                     colsample_bytree=1, gamma=0, gpu_id=-1,\n",
       "                                     importance_type='gain',\n",
       "                                     interaction_constraints='',\n",
       "                                     learning_rate=0.300000012,\n",
       "                                     max_delta_step=0, max_depth=6,\n",
       "                                     min_child_weight=1, missing=nan,\n",
       "                                     monotone_...ints='()',\n",
       "                                     n_estimators=100, n_jobs=0,\n",
       "                                     num_parallel_tree=1, random_state=0,\n",
       "                                     reg_alpha=0, reg_lambda=1,\n",
       "                                     scale_pos_weight=1, subsample=1,\n",
       "                                     tree_method='exact', validate_parameters=1,\n",
       "                                     verbosity=None),\n",
       "             n_jobs=-1,\n",
       "             param_grid={'learning_rate': [0.001, 0.01, 0.1],\n",
       "                         'max_depth': [1, 3, 10], 'n_estimators': [2, 5, 10],\n",
       "                         'scale_pos_weight': [400, 500, 600],\n",
       "                         'subsample': [0.9]},\n",
       "             scoring='f1')"
      ]
     },
     "execution_count": 68,
     "metadata": {},
     "output_type": "execute_result"
    }
   ],
   "source": [
    "# parameter tuning\n",
    "grid_para_xgb = {'scale_pos_weight': [400,500,600],\n",
    "                 'learning_rate': [0.001, 0.010, 0.1],\n",
    "                 'n_estimators': [2,5,10] ,\n",
    "                 'max_depth': [1,3,10],\n",
    "                 'subsample': [0.9]\n",
    "                 }\n",
    "grid_search_xgb = GridSearchCV(xgb, grid_para_xgb, scoring='f1', cv=s_kf, n_jobs=-1)\n",
    "%time grid_search_xgb.fit(X_ros, y_ros)"
   ]
  },
  {
   "cell_type": "code",
   "execution_count": 69,
   "metadata": {},
   "outputs": [
    {
     "name": "stdout",
     "output_type": "stream",
     "text": [
      "XGB BaseLine Train Set F1 Score: 0.9021501667241577\n",
      "XGB BaseLine Validation Set F1 Score: 0.495\n",
      "XGB BaseLine Validation Set business Score: 0.7739918921116786\n"
     ]
    }
   ],
   "source": [
    "best_xgb = grid_search_xgb.best_estimator_\n",
    "print('XGB BaseLine Train Set F1 Score:', f1_score(y_ros, best_xgb.predict(X_ros)))\n",
    "print('XGB BaseLine Validation Set F1 Score:', f1_score(y_test, best_xgb.predict(X_test)))\n",
    "print('XGB BaseLine Validation Set business Score:', businessgain(y_test, best_xgb.predict(X_test)))\n",
    "imblearn_xgb = f1_score(y_test, best_xgb.predict(X_test))"
   ]
  },
  {
   "cell_type": "markdown",
   "metadata": {},
   "source": [
    "#### comparing SMOTE and imblearn"
   ]
  },
  {
   "cell_type": "code",
   "execution_count": 71,
   "metadata": {},
   "outputs": [
    {
     "name": "stdout",
     "output_type": "stream",
     "text": [
      "SMOTE XGB F1 score:  0.544959128065395 \n",
      "imblearn XGB F1 score:  0.495\n"
     ]
    }
   ],
   "source": [
    "print('SMOTE XGB F1 score: ', SMOTE_xgb, '\\nimblearn XGB F1 score: ', imblearn_xgb)"
   ]
  },
  {
   "cell_type": "code",
   "execution_count": 72,
   "metadata": {},
   "outputs": [],
   "source": [
    "f1_scores.loc[5] = 'XGBoost', round(SMOTE_xgb, 2)"
   ]
  },
  {
   "cell_type": "code",
   "execution_count": 73,
   "metadata": {},
   "outputs": [
    {
     "data": {
      "text/plain": [
       "array([[781, 200],\n",
       "       [  2,  99]])"
      ]
     },
     "execution_count": 73,
     "metadata": {},
     "output_type": "execute_result"
    }
   ],
   "source": [
    "confusion_matrix(y_test, best_xgb.predict(X_test))"
   ]
  },
  {
   "cell_type": "code",
   "execution_count": 80,
   "metadata": {},
   "outputs": [
    {
     "name": "stdout",
     "output_type": "stream",
     "text": [
      "              precision    recall  f1-score   support\n",
      "\n",
      "           0       0.80      1.00      0.89       783\n",
      "           1       0.98      0.33      0.49       299\n",
      "\n",
      "    accuracy                           0.81      1082\n",
      "   macro avg       0.89      0.66      0.69      1082\n",
      "weighted avg       0.85      0.81      0.78      1082\n",
      "\n"
     ]
    }
   ],
   "source": [
    "print(classification_report(best_xgb.predict(X_test), y_test))"
   ]
  },
  {
   "cell_type": "markdown",
   "metadata": {},
   "source": [
    "### F1 Performance Plot"
   ]
  },
  {
   "cell_type": "code",
   "execution_count": 74,
   "metadata": {},
   "outputs": [
    {
     "data": {
      "text/html": [
       "<div>\n",
       "<style scoped>\n",
       "    .dataframe tbody tr th:only-of-type {\n",
       "        vertical-align: middle;\n",
       "    }\n",
       "\n",
       "    .dataframe tbody tr th {\n",
       "        vertical-align: top;\n",
       "    }\n",
       "\n",
       "    .dataframe thead th {\n",
       "        text-align: right;\n",
       "    }\n",
       "</style>\n",
       "<table border=\"1\" class=\"dataframe\">\n",
       "  <thead>\n",
       "    <tr style=\"text-align: right;\">\n",
       "      <th></th>\n",
       "      <th>Model</th>\n",
       "      <th>Score</th>\n",
       "    </tr>\n",
       "  </thead>\n",
       "  <tbody>\n",
       "    <tr>\n",
       "      <th>0</th>\n",
       "      <td>Logistic</td>\n",
       "      <td>0.87</td>\n",
       "    </tr>\n",
       "    <tr>\n",
       "      <th>1</th>\n",
       "      <td>SGD</td>\n",
       "      <td>0.50</td>\n",
       "    </tr>\n",
       "    <tr>\n",
       "      <th>2</th>\n",
       "      <td>KNN</td>\n",
       "      <td>0.52</td>\n",
       "    </tr>\n",
       "    <tr>\n",
       "      <th>3</th>\n",
       "      <td>SVM</td>\n",
       "      <td>0.84</td>\n",
       "    </tr>\n",
       "    <tr>\n",
       "      <th>4</th>\n",
       "      <td>RF</td>\n",
       "      <td>0.90</td>\n",
       "    </tr>\n",
       "    <tr>\n",
       "      <th>5</th>\n",
       "      <td>XGBoost</td>\n",
       "      <td>0.54</td>\n",
       "    </tr>\n",
       "  </tbody>\n",
       "</table>\n",
       "</div>"
      ],
      "text/plain": [
       "      Model  Score\n",
       "0  Logistic   0.87\n",
       "1       SGD   0.50\n",
       "2       KNN   0.52\n",
       "3       SVM   0.84\n",
       "4        RF   0.90\n",
       "5   XGBoost   0.54"
      ]
     },
     "execution_count": 74,
     "metadata": {},
     "output_type": "execute_result"
    },
    {
     "data": {
      "image/png": "[encoded data removed]",
      "text/plain": [
       "<Figure size 432x288 with 1 Axes>"
      ]
     },
     "metadata": {},
     "output_type": "display_data"
    }
   ],
   "source": [
    "f1_scores.plot.bar(x = 'Model', color = 'skyblue')\n",
    "plt.title('Model F1 Performance')\n",
    "f1_scores"
   ]
  }
 ],
 "metadata": {
  "kernelspec": {
   "display_name": "Python 3",
   "language": "python",
   "name": "python3"
  },
  "language_info": {
   "codemirror_mode": {
    "name": "ipython",
    "version": 3
   },
   "file_extension": ".py",
   "mimetype": "text/x-python",
   "name": "python",
   "nbconvert_exporter": "python",
   "pygments_lexer": "ipython3",
   "version": "3.7.6"
  }
 },
 "nbformat": 4,
 "nbformat_minor": 4
}
