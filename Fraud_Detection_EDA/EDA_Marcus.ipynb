{
 "cells": [
  {
   "cell_type": "markdown",
   "metadata": {},
   "source": [
    "# Pre-processing"
   ]
  },
  {
   "cell_type": "code",
   "execution_count": 41,
   "metadata": {},
   "outputs": [],
   "source": [
    "#Import Libraries\n",
    "import numpy as np\n",
    "import pandas as pd\n",
    "%matplotlib inline\n",
    "import matplotlib.pyplot as plt\n",
    "import seaborn as sns"
   ]
  },
  {
   "cell_type": "code",
   "execution_count": 42,
   "metadata": {},
   "outputs": [],
   "source": [
    "#show all columns\n",
    "pd.set_option('display.max_columns', 100)"
   ]
  },
  {
   "cell_type": "markdown",
   "metadata": {},
   "source": [
    "### - Train/Test Beneficiary"
   ]
  },
  {
   "cell_type": "code",
   "execution_count": 43,
   "metadata": {},
   "outputs": [],
   "source": [
    "#Load Training/Test datasets\n",
    "bene_train_df = pd.read_csv('Train_Beneficiarydata-1542865627584.csv')\n",
    "bene_test_df = pd.read_csv('Test_Beneficiarydata-1542969243754.csv')"
   ]
  },
  {
   "cell_type": "code",
   "execution_count": 44,
   "metadata": {},
   "outputs": [
    {
     "name": "stdout",
     "output_type": "stream",
     "text": [
      "(138556, 25)\n",
      "(63968, 25)\n"
     ]
    }
   ],
   "source": [
    "print(bene_train_df.shape) # number of rows and columns\n",
    "print(bene_test_df.shape)  "
   ]
  },
  {
   "cell_type": "code",
   "execution_count": 45,
   "metadata": {},
   "outputs": [],
   "source": [
    "bene_df = pd.concat([bene_train_df, bene_test_df], axis=0)"
   ]
  },
  {
   "cell_type": "code",
   "execution_count": 46,
   "metadata": {},
   "outputs": [],
   "source": [
    "#convert DOD dates to 1 (dead) and missing values to 0 (alive)\n",
    "bene_df['DOD'] = bene_df['DOD'].fillna(0)\n",
    "bene_df['DOD'] = bene_df['DOD'].str.contains('2009') == 1"
   ]
  },
  {
   "cell_type": "code",
   "execution_count": 47,
   "metadata": {},
   "outputs": [
    {
     "data": {
      "text/plain": [
       "0    200529\n",
       "1      1995\n",
       "Name: DOD, dtype: int64"
      ]
     },
     "execution_count": 47,
     "metadata": {},
     "output_type": "execute_result"
    }
   ],
   "source": [
    "bene_df['DOD'] = bene_df['DOD'].map({False:0, True:1})\n",
    "bene_df['DOD'].value_counts()"
   ]
  },
  {
   "cell_type": "code",
   "execution_count": 48,
   "metadata": {},
   "outputs": [],
   "source": [
    "#Convert age of patient to datetime \n",
    "bene_df['DOB'] = pd.to_datetime(bene_df['DOB'], format='%Y/%m/%d')"
   ]
  },
  {
   "cell_type": "code",
   "execution_count": 49,
   "metadata": {},
   "outputs": [],
   "source": [
    "#convert currency into float\n",
    "bene_df['IPAnnualReimbursementAmt'] = bene_df['IPAnnualReimbursementAmt'].astype(float)\n",
    "bene_df['IPAnnualDeductibleAmt'] = bene_df['IPAnnualDeductibleAmt'].astype(float)\n",
    "bene_df['OPAnnualReimbursementAmt'] = bene_df['OPAnnualReimbursementAmt'].astype(float)\n",
    "bene_df['OPAnnualDeductibleAmt'] = bene_df['OPAnnualDeductibleAmt'].astype(float)"
   ]
  },
  {
   "cell_type": "markdown",
   "metadata": {},
   "source": [
    "### - Train/Test Fraud Label"
   ]
  },
  {
   "cell_type": "code",
   "execution_count": 50,
   "metadata": {},
   "outputs": [],
   "source": [
    "# load training/testing labels\n",
    "label_train_df = pd.read_csv('Train-1542865627584.csv')\n",
    "label_test_df = pd.read_csv('Test-1542969243754.csv')"
   ]
  },
  {
   "cell_type": "code",
   "execution_count": 51,
   "metadata": {},
   "outputs": [],
   "source": [
    "label_train_df['PotentialFraud'] = label_train_df['PotentialFraud'].map({'No': 0, 'Yes': 1})"
   ]
  },
  {
   "cell_type": "markdown",
   "metadata": {},
   "source": [
    "### - Train/Test Inpatient and Outpatient Data"
   ]
  },
  {
   "cell_type": "code",
   "execution_count": 52,
   "metadata": {},
   "outputs": [],
   "source": [
    "#import inpatient/outpatient datasets\n",
    "ip_train_df = pd.read_csv('Train_Inpatientdata-1542865627584.csv',na_values=[''])\n",
    "ip_test_df = pd.read_csv('Test_Inpatientdata-1542969243754.csv',na_values=[''])\n",
    "\n",
    "op_train_df = pd.read_csv('Train_Outpatientdata-1542865627584.csv',na_values=[''])\n",
    "op_test_df = pd.read_csv('Test_Outpatientdata-1542969243754.csv',na_values=[''])"
   ]
  },
  {
   "cell_type": "code",
   "execution_count": 53,
   "metadata": {},
   "outputs": [],
   "source": [
    "# combine inpatient test and train sets \n",
    "ip_df = pd.concat([ip_train_df,ip_test_df], axis=0).reset_index(drop = True)\n",
    "\n",
    "# replace NAs in deductible amount with 0\n",
    "ip_df.loc[:,'DeductibleAmtPaid'].fillna(0, inplace = True)\n",
    "\n",
    "# replace NAs in the remaining columns with 'None'\n",
    "ip_df.fillna('None', inplace = True)\n",
    "\n",
    "# change data types of the data frame\n",
    "ip_df = ip_df.astype(str)\n",
    "ip_df.DeductibleAmtPaid=ip_df.DeductibleAmtPaid.astype(float)\n",
    "ip_df.InscClaimAmtReimbursed=ip_df.InscClaimAmtReimbursed.astype(float)\n",
    "\n",
    "# change date strings to datetime type\n",
    "from datetime import date\n",
    "ip_df['AdmissionDt'] = ip_df['AdmissionDt'].map(lambda x: date.fromisoformat(x))\n",
    "ip_df['DischargeDt'] = ip_df['DischargeDt'].map(lambda x: date.fromisoformat(x))\n",
    "ip_df['ClaimStartDt'] = ip_df['ClaimStartDt'].map(lambda x: date.fromisoformat(x))\n",
    "ip_df['ClaimEndDt'] = ip_df['ClaimEndDt'].map(lambda x: date.fromisoformat(x))\n",
    "\n",
    "# calculate time duration\n",
    "ip_df['HospitalDuration'] = ip_df['DischargeDt'] - ip_df['AdmissionDt']\n",
    "ip_df['ClaimDuration'] = ip_df['ClaimEndDt'] - ip_df['ClaimStartDt']\n",
    "\n",
    "# convert durations to integers\n",
    "ip_df['HospitalDuration'] = ip_df['HospitalDuration'].map(lambda x: x.days)\n",
    "ip_df['ClaimDuration'] = ip_df['ClaimDuration'].map(lambda x: x.days) "
   ]
  },
  {
   "cell_type": "code",
   "execution_count": 54,
   "metadata": {},
   "outputs": [],
   "source": [
    "# Combine outpatient test and train set\n",
    "op_df = pd.concat((op_train_df, op_test_df)).reset_index(drop=True)\n",
    "\n",
    "# Imputing NA values with None (should only be None)\n",
    "op_df.fillna('None', inplace = True)\n",
    "\n",
    "# Convert dates into datetime\n",
    "from datetime import datetime\n",
    "op_df = op_df.astype(str)\n",
    "op_df['ClaimStartDt'] = [datetime.strptime(date, '%Y-%m-%d') for date in op_df.ClaimStartDt]\n",
    "op_df['ClaimEndDt'] = [datetime.strptime(date, '%Y-%m-%d') for date in op_df.ClaimEndDt]\n",
    "op_df['Claimduration'] = op_df['ClaimEndDt'] - op_df['ClaimStartDt']\n",
    "op_df['Claimduration'] = op_df['Claimduration'].map(lambda x: x.days)\n",
    "\n",
    "# Make a column called month for the month of claim\n",
    "op_df['ClaimMonth'] = op_df['ClaimStartDt'].map(lambda x: x.month)\n",
    "\n",
    "# Change Dollar amount to float type\n",
    "op_df['InscClaimAmtReimbursed'] = op_df['InscClaimAmtReimbursed'].astype(float)\n",
    "op_df['DeductibleAmtPaid'] = op_df['DeductibleAmtPaid'].astype(float)"
   ]
  },
  {
   "cell_type": "code",
   "execution_count": 55,
   "metadata": {},
   "outputs": [],
   "source": [
    "# create column indicating patient type\n",
    "ip_df['PatientType'] = np.repeat('Inpatient', len(ip_df))\n",
    "op_df['PatientType'] = np.repeat('Outpatient', len(op_df))\n",
    "\n",
    "# combine all datasets\n",
    "ip_op_df = pd.concat((ip_df, op_df), axis=0)\n",
    "full_df = pd.merge(ip_op_df, bene_df, on = 'BeneID', how = 'left')\n",
    "full_df  = pd.merge(full_df, label_train_df, how = 'inner', on = 'Provider')"
   ]
  },
  {
   "cell_type": "markdown",
   "metadata": {},
   "source": [
    "## Warmup Question 1:\n",
    "#### - How many medical doctors are there in the train outpatient dataset? How many medical doctors are there in the train inpatient dataset? Do they match with those from the outpatient record?"
   ]
  },
  {
   "cell_type": "code",
   "execution_count": 56,
   "metadata": {},
   "outputs": [
    {
     "name": "stdout",
     "output_type": "stream",
     "text": [
      "74110\n",
      "11605\n"
     ]
    }
   ],
   "source": [
    "print(op_train_df['AttendingPhysician'].unique().shape[0]) \n",
    "print(ip_train_df['AttendingPhysician'].unique().shape[0]) \n"
   ]
  },
  {
   "cell_type": "markdown",
   "metadata": {},
   "source": [
    "- There are 62,505 more physicians for outpatients compared to inpatients "
   ]
  },
  {
   "cell_type": "markdown",
   "metadata": {},
   "source": [
    "#### - Do those inpatient patients show worse health conditions (in terms of chronic diseases) than typical outpatient patients?"
   ]
  },
  {
   "cell_type": "code",
   "execution_count": 57,
   "metadata": {},
   "outputs": [
    {
     "data": {
      "text/html": [
       "<div>\n",
       "<style scoped>\n",
       "    .dataframe tbody tr th:only-of-type {\n",
       "        vertical-align: middle;\n",
       "    }\n",
       "\n",
       "    .dataframe tbody tr th {\n",
       "        vertical-align: top;\n",
       "    }\n",
       "\n",
       "    .dataframe thead th {\n",
       "        text-align: right;\n",
       "    }\n",
       "</style>\n",
       "<table border=\"1\" class=\"dataframe\">\n",
       "  <thead>\n",
       "    <tr style=\"text-align: right;\">\n",
       "      <th></th>\n",
       "      <th>index</th>\n",
       "      <th>Cond_Count</th>\n",
       "      <th>BeneID</th>\n",
       "      <th>ClaimID</th>\n",
       "      <th>PatientType</th>\n",
       "      <th>PotentialFraud</th>\n",
       "    </tr>\n",
       "  </thead>\n",
       "  <tbody>\n",
       "    <tr>\n",
       "      <th>0</th>\n",
       "      <td>0</td>\n",
       "      <td>7</td>\n",
       "      <td>BENE11001</td>\n",
       "      <td>CLM46614</td>\n",
       "      <td>Inpatient</td>\n",
       "      <td>1</td>\n",
       "    </tr>\n",
       "    <tr>\n",
       "      <th>1</th>\n",
       "      <td>1</td>\n",
       "      <td>7</td>\n",
       "      <td>BENE11001</td>\n",
       "      <td>CLM46614</td>\n",
       "      <td>Inpatient</td>\n",
       "      <td>1</td>\n",
       "    </tr>\n",
       "    <tr>\n",
       "      <th>2</th>\n",
       "      <td>2</td>\n",
       "      <td>5</td>\n",
       "      <td>BENE17521</td>\n",
       "      <td>CLM34721</td>\n",
       "      <td>Inpatient</td>\n",
       "      <td>1</td>\n",
       "    </tr>\n",
       "    <tr>\n",
       "      <th>3</th>\n",
       "      <td>3</td>\n",
       "      <td>2</td>\n",
       "      <td>BENE21718</td>\n",
       "      <td>CLM72336</td>\n",
       "      <td>Inpatient</td>\n",
       "      <td>1</td>\n",
       "    </tr>\n",
       "    <tr>\n",
       "      <th>4</th>\n",
       "      <td>4</td>\n",
       "      <td>6</td>\n",
       "      <td>BENE22934</td>\n",
       "      <td>CLM73394</td>\n",
       "      <td>Inpatient</td>\n",
       "      <td>1</td>\n",
       "    </tr>\n",
       "  </tbody>\n",
       "</table>\n",
       "</div>"
      ],
      "text/plain": [
       "   index  Cond_Count     BeneID   ClaimID PatientType  PotentialFraud\n",
       "0      0           7  BENE11001  CLM46614   Inpatient               1\n",
       "1      1           7  BENE11001  CLM46614   Inpatient               1\n",
       "2      2           5  BENE17521  CLM34721   Inpatient               1\n",
       "3      3           2  BENE21718  CLM72336   Inpatient               1\n",
       "4      4           6  BENE22934  CLM73394   Inpatient               1"
      ]
     },
     "execution_count": 57,
     "metadata": {},
     "output_type": "execute_result"
    }
   ],
   "source": [
    "# create new column with count of conditions\n",
    "chron_patient = full_df.filter(regex='Chron').replace(to_replace=2, value=0).sum(axis=1).reset_index(name='Cond_Count')\n",
    "condition = pd.concat([chron_patient, full_df[['BeneID', 'ClaimID', 'PatientType', 'PotentialFraud']]], axis=1)\n",
    "\n",
    "condition.head()"
   ]
  },
  {
   "cell_type": "code",
   "execution_count": 58,
   "metadata": {},
   "outputs": [
    {
     "data": {
      "text/plain": [
       "Text(0, 0.5, 'Number of Chronic Conditions')"
      ]
     },
     "execution_count": 58,
     "metadata": {},
     "output_type": "execute_result"
    },
    {
     "data": {
      "image/png": "[encoded data removed]",
      "text/plain": [
       "<Figure size 432x288 with 1 Axes>"
      ]
     },
     "metadata": {
      "needs_background": "light"
     },
     "output_type": "display_data"
    }
   ],
   "source": [
    "#boxplot of average conditions for type of patient\n",
    "sns.boxplot(x='PatientType', y='Cond_Count', data=condition)\n",
    "plt.title('Comparison of Chronic Conditions by Patient Type')\n",
    "plt.xlabel('Patient Type')\n",
    "plt.ylabel('Number of Chronic Conditions')"
   ]
  },
  {
   "cell_type": "markdown",
   "metadata": {},
   "source": [
    "- Inpatients have a higher average number of chronic conditions compared to outpatient patients. "
   ]
  },
  {
   "cell_type": "markdown",
   "metadata": {},
   "source": [
    "#### - Do those who have more visits to the providers have worse health conditions? "
   ]
  },
  {
   "cell_type": "code",
   "execution_count": 59,
   "metadata": {},
   "outputs": [
    {
     "data": {
      "text/html": [
       "<div>\n",
       "<style scoped>\n",
       "    .dataframe tbody tr th:only-of-type {\n",
       "        vertical-align: middle;\n",
       "    }\n",
       "\n",
       "    .dataframe tbody tr th {\n",
       "        vertical-align: top;\n",
       "    }\n",
       "\n",
       "    .dataframe thead th {\n",
       "        text-align: right;\n",
       "    }\n",
       "</style>\n",
       "<table border=\"1\" class=\"dataframe\">\n",
       "  <thead>\n",
       "    <tr style=\"text-align: right;\">\n",
       "      <th></th>\n",
       "      <th>Cond_Count</th>\n",
       "      <th>Claim_Count</th>\n",
       "    </tr>\n",
       "  </thead>\n",
       "  <tbody>\n",
       "    <tr>\n",
       "      <th>0</th>\n",
       "      <td>0</td>\n",
       "      <td>26575</td>\n",
       "    </tr>\n",
       "    <tr>\n",
       "      <th>1</th>\n",
       "      <td>1</td>\n",
       "      <td>53745</td>\n",
       "    </tr>\n",
       "    <tr>\n",
       "      <th>2</th>\n",
       "      <td>2</td>\n",
       "      <td>81276</td>\n",
       "    </tr>\n",
       "    <tr>\n",
       "      <th>3</th>\n",
       "      <td>3</td>\n",
       "      <td>101023</td>\n",
       "    </tr>\n",
       "    <tr>\n",
       "      <th>4</th>\n",
       "      <td>4</td>\n",
       "      <td>119901</td>\n",
       "    </tr>\n",
       "  </tbody>\n",
       "</table>\n",
       "</div>"
      ],
      "text/plain": [
       "   Cond_Count  Claim_Count\n",
       "0           0        26575\n",
       "1           1        53745\n",
       "2           2        81276\n",
       "3           3       101023\n",
       "4           4       119901"
      ]
     },
     "execution_count": 59,
     "metadata": {},
     "output_type": "execute_result"
    }
   ],
   "source": [
    "# create chronic conditions and claims counts\n",
    "condition2 = pd.concat([chron_patient, full_df[['Provider', 'ClaimID']]], axis=1)\n",
    "chronic = condition2.groupby(['Cond_Count'])['ClaimID'].count().reset_index(name='Claim_Count')\n",
    "\n",
    "chronic.head()"
   ]
  },
  {
   "cell_type": "code",
   "execution_count": 60,
   "metadata": {},
   "outputs": [
    {
     "data": {
      "text/plain": [
       "Text(0, 0.5, 'Number of Claims')"
      ]
     },
     "execution_count": 60,
     "metadata": {},
     "output_type": "execute_result"
    },
    {
     "data": {
      "image/png": "[encoded data removed]",
      "text/plain": [
       "<Figure size 432x288 with 1 Axes>"
      ]
     },
     "metadata": {
      "needs_background": "light"
     },
     "output_type": "display_data"
    }
   ],
   "source": [
    "chronic.plot.bar(legend=None)\n",
    "plt.title('Number Of Chronic Condtions By Number Of Claims')\n",
    "plt.xlabel('Number of Chronic Condtions')\n",
    "plt.ylabel('Number of Claims')"
   ]
  },
  {
   "cell_type": "code",
   "execution_count": 61,
   "metadata": {},
   "outputs": [
    {
     "data": {
      "text/html": [
       "<div>\n",
       "<style scoped>\n",
       "    .dataframe tbody tr th:only-of-type {\n",
       "        vertical-align: middle;\n",
       "    }\n",
       "\n",
       "    .dataframe tbody tr th {\n",
       "        vertical-align: top;\n",
       "    }\n",
       "\n",
       "    .dataframe thead th {\n",
       "        text-align: right;\n",
       "    }\n",
       "</style>\n",
       "<table border=\"1\" class=\"dataframe\">\n",
       "  <thead>\n",
       "    <tr style=\"text-align: right;\">\n",
       "      <th></th>\n",
       "      <th>Provider</th>\n",
       "      <th>Avg_Cond</th>\n",
       "      <th>Avg_Claim</th>\n",
       "      <th>PotentialFraud</th>\n",
       "    </tr>\n",
       "  </thead>\n",
       "  <tbody>\n",
       "    <tr>\n",
       "      <th>0</th>\n",
       "      <td>PRV51001</td>\n",
       "      <td>5.888889</td>\n",
       "      <td>4.000000</td>\n",
       "      <td>0</td>\n",
       "    </tr>\n",
       "    <tr>\n",
       "      <th>1</th>\n",
       "      <td>PRV51003</td>\n",
       "      <td>5.000000</td>\n",
       "      <td>19.272727</td>\n",
       "      <td>1</td>\n",
       "    </tr>\n",
       "    <tr>\n",
       "      <th>2</th>\n",
       "      <td>PRV51004</td>\n",
       "      <td>4.500000</td>\n",
       "      <td>22.800000</td>\n",
       "      <td>0</td>\n",
       "    </tr>\n",
       "    <tr>\n",
       "      <th>3</th>\n",
       "      <td>PRV51005</td>\n",
       "      <td>4.500000</td>\n",
       "      <td>154.500000</td>\n",
       "      <td>1</td>\n",
       "    </tr>\n",
       "    <tr>\n",
       "      <th>4</th>\n",
       "      <td>PRV51007</td>\n",
       "      <td>4.000000</td>\n",
       "      <td>11.888889</td>\n",
       "      <td>0</td>\n",
       "    </tr>\n",
       "  </tbody>\n",
       "</table>\n",
       "</div>"
      ],
      "text/plain": [
       "   Provider  Avg_Cond   Avg_Claim  PotentialFraud\n",
       "0  PRV51001  5.888889    4.000000               0\n",
       "1  PRV51003  5.000000   19.272727               1\n",
       "2  PRV51004  4.500000   22.800000               0\n",
       "3  PRV51005  4.500000  154.500000               1\n",
       "4  PRV51007  4.000000   11.888889               0"
      ]
     },
     "execution_count": 61,
     "metadata": {},
     "output_type": "execute_result"
    }
   ],
   "source": [
    "# create avg cond and acg claim columns\n",
    "chronic2 = condition2.groupby(['Provider', 'Cond_Count'])['ClaimID'].count().reset_index(name='Claim_Count')\\\n",
    "           .groupby('Provider').agg({'Cond_Count': 'mean', 'Claim_Count': 'mean'}).reset_index()\\\n",
    "           .rename(columns={'Cond_Count':'Avg_Cond', 'Claim_Count': 'Avg_Claim'}) \n",
    "\n",
    "# merge labels\n",
    "chronic3 = pd.merge(chronic2, label_train_df, on='Provider', how='left')\n",
    "chronic3.head()"
   ]
  },
  {
   "cell_type": "code",
   "execution_count": 62,
   "metadata": {},
   "outputs": [
    {
     "data": {
      "text/plain": [
       "Text(0, 0.5, 'Number of Avg Claims')"
      ]
     },
     "execution_count": 62,
     "metadata": {},
     "output_type": "execute_result"
    },
    {
     "data": {
      "image/png": "[encoded data removed]",
      "text/plain": [
       "<Figure size 432x288 with 1 Axes>"
      ]
     },
     "metadata": {
      "needs_background": "light"
     },
     "output_type": "display_data"
    }
   ],
   "source": [
    "sns.scatterplot(x='Avg_Cond', y='Avg_Claim', data=chronic3, hue='PotentialFraud')\n",
    "plt.title('Avg Chronic Condtions By Avg Claims')\n",
    "plt.xlabel('Number of Avg Chronic Condtions')\n",
    "plt.ylabel('Number of Avg Claims')"
   ]
  },
  {
   "cell_type": "markdown",
   "metadata": {},
   "source": [
    "#### - How many medical doctors are there in the train inpatient dataset?  Do they match with those from the outpatient record?"
   ]
  },
  {
   "cell_type": "code",
   "execution_count": 63,
   "metadata": {},
   "outputs": [
    {
     "name": "stdout",
     "output_type": "stream",
     "text": [
      "133980\n",
      "31289\n"
     ]
    }
   ],
   "source": [
    "print(op_train_df['BeneID'].unique().shape[0])\n",
    "print(ip_train_df['BeneID'].unique().shape[0])\n",
    "\n",
    "# 133980 distinct IDs for outpatients and 31289 distinct IDs for inpatients"
   ]
  },
  {
   "cell_type": "markdown",
   "metadata": {},
   "source": [
    "#### - Do doctors serve for different providers? Study the distribution of hospital counts/doctor? Is it possible to characterize those doctors who move around among different providers?"
   ]
  },
  {
   "cell_type": "code",
   "execution_count": 64,
   "metadata": {},
   "outputs": [
    {
     "data": {
      "text/plain": [
       "Provider\n",
       "1    76844\n",
       "2     4741\n",
       "3      382\n",
       "4       65\n",
       "5       19\n",
       "6        9\n",
       "7        1\n",
       "8        1\n",
       "9        1\n",
       "Name: AttendingPhysician, dtype: int64"
      ]
     },
     "execution_count": 64,
     "metadata": {},
     "output_type": "execute_result"
    }
   ],
   "source": [
    "#Provider count for each physicians\n",
    "\n",
    "provider_count = pd.DataFrame(full_df.groupby('AttendingPhysician')['Provider']\\\n",
    "                    .agg('nunique')).sort_values(ascending = False, by = 'Provider').\\\n",
    "                    drop('None', axis = 0).reset_index()\n",
    "\n",
    "provider_count = provider_count.groupby('Provider')['AttendingPhysician'].agg('count')\n",
    "provider_count"
   ]
  },
  {
   "cell_type": "code",
   "execution_count": 65,
   "metadata": {},
   "outputs": [],
   "source": [
    "# create physician count column \n",
    "provider_count2 = full_df.groupby(['Provider', 'AttendingPhysician'])['AttendingPhysician'].count().\\\n",
    "                  reset_index(name='Phys_Count').groupby('Provider')['Phys_Count'].count().reset_index()\n",
    "\n",
    "# merge label\n",
    "provider_count2 = pd.merge(provider_count2, label_train_df, on='Provider', how='left')"
   ]
  },
  {
   "cell_type": "code",
   "execution_count": 66,
   "metadata": {},
   "outputs": [
    {
     "data": {
      "text/plain": [
       "(0, 200)"
      ]
     },
     "execution_count": 66,
     "metadata": {},
     "output_type": "execute_result"
    },
    {
     "data": {
      "image/png": "[encoded data removed]",
      "text/plain": [
       "<Figure size 432x288 with 1 Axes>"
      ]
     },
     "metadata": {
      "needs_background": "light"
     },
     "output_type": "display_data"
    }
   ],
   "source": [
    "sns.boxplot(x='PotentialFraud', y='Phys_Count', data=provider_count2)\n",
    "plt.xlabel('Potential fraud')\n",
    "plt.ylabel('Number of Physicians per Provider')\n",
    "plt.ylim([0,200])"
   ]
  },
  {
   "cell_type": "markdown",
   "metadata": {},
   "source": [
    " - Higher chance of potential fruad if a providers have many physicians compared to providers with less physicians"
   ]
  },
  {
   "cell_type": "markdown",
   "metadata": {},
   "source": [
    "#### - Do patients go to different hospitals? Study the distribution of hospital counts/patient? It is possible to characterize those patients who receive services from a lot of different hospitals?"
   ]
  },
  {
   "cell_type": "code",
   "execution_count": 67,
   "metadata": {},
   "outputs": [
    {
     "data": {
      "text/plain": [
       "Provider\n",
       "1    46903\n",
       "2    35118\n",
       "3    23059\n",
       "4    14232\n",
       "5     8381\n",
       "Name: BeneID, dtype: int64"
      ]
     },
     "execution_count": 67,
     "metadata": {},
     "output_type": "execute_result"
    }
   ],
   "source": [
    "#patient count per provider\n",
    "patient_count = full_df.groupby('BeneID')['Provider'].agg('nunique').sort_values(ascending = False).reset_index()\n",
    "patient_count = patient_count.groupby('Provider')['BeneID'].agg('count')\n",
    "patient_count.head()"
   ]
  },
  {
   "cell_type": "code",
   "execution_count": 68,
   "metadata": {},
   "outputs": [
    {
     "data": {
      "text/html": [
       "<div>\n",
       "<style scoped>\n",
       "    .dataframe tbody tr th:only-of-type {\n",
       "        vertical-align: middle;\n",
       "    }\n",
       "\n",
       "    .dataframe tbody tr th {\n",
       "        vertical-align: top;\n",
       "    }\n",
       "\n",
       "    .dataframe thead th {\n",
       "        text-align: right;\n",
       "    }\n",
       "</style>\n",
       "<table border=\"1\" class=\"dataframe\">\n",
       "  <thead>\n",
       "    <tr style=\"text-align: right;\">\n",
       "      <th></th>\n",
       "      <th>BeneID</th>\n",
       "      <th>PotentialFraud</th>\n",
       "      <th>Prov_Count</th>\n",
       "    </tr>\n",
       "  </thead>\n",
       "  <tbody>\n",
       "    <tr>\n",
       "      <th>0</th>\n",
       "      <td>BENE100000</td>\n",
       "      <td>1</td>\n",
       "      <td>1</td>\n",
       "    </tr>\n",
       "    <tr>\n",
       "      <th>1</th>\n",
       "      <td>BENE100001</td>\n",
       "      <td>0</td>\n",
       "      <td>4</td>\n",
       "    </tr>\n",
       "    <tr>\n",
       "      <th>2</th>\n",
       "      <td>BENE100001</td>\n",
       "      <td>1</td>\n",
       "      <td>2</td>\n",
       "    </tr>\n",
       "    <tr>\n",
       "      <th>3</th>\n",
       "      <td>BENE100002</td>\n",
       "      <td>0</td>\n",
       "      <td>7</td>\n",
       "    </tr>\n",
       "    <tr>\n",
       "      <th>4</th>\n",
       "      <td>BENE100002</td>\n",
       "      <td>1</td>\n",
       "      <td>4</td>\n",
       "    </tr>\n",
       "  </tbody>\n",
       "</table>\n",
       "</div>"
      ],
      "text/plain": [
       "       BeneID  PotentialFraud  Prov_Count\n",
       "0  BENE100000               1           1\n",
       "1  BENE100001               0           4\n",
       "2  BENE100001               1           2\n",
       "3  BENE100002               0           7\n",
       "4  BENE100002               1           4"
      ]
     },
     "execution_count": 68,
     "metadata": {},
     "output_type": "execute_result"
    }
   ],
   "source": [
    "# create column with provider count per patient\n",
    "provider_patient = full_df.groupby(['BeneID', 'Provider', 'PotentialFraud'])['BeneID'].count().\\\n",
    "                   reset_index(name='Prov_Count').groupby(['BeneID', 'PotentialFraud'])['Prov_Count']\\\n",
    "                   .count().reset_index()\n",
    "\n",
    "provider_patient.head()"
   ]
  },
  {
   "cell_type": "code",
   "execution_count": 69,
   "metadata": {},
   "outputs": [
    {
     "data": {
      "text/html": [
       "<div>\n",
       "<style scoped>\n",
       "    .dataframe tbody tr th:only-of-type {\n",
       "        vertical-align: middle;\n",
       "    }\n",
       "\n",
       "    .dataframe tbody tr th {\n",
       "        vertical-align: top;\n",
       "    }\n",
       "\n",
       "    .dataframe thead th {\n",
       "        text-align: right;\n",
       "    }\n",
       "</style>\n",
       "<table border=\"1\" class=\"dataframe\">\n",
       "  <thead>\n",
       "    <tr style=\"text-align: right;\">\n",
       "      <th></th>\n",
       "      <th>Provider</th>\n",
       "      <th>Patient_Count</th>\n",
       "      <th>PotentialFraud</th>\n",
       "    </tr>\n",
       "  </thead>\n",
       "  <tbody>\n",
       "    <tr>\n",
       "      <th>0</th>\n",
       "      <td>PRV51001</td>\n",
       "      <td>24</td>\n",
       "      <td>0</td>\n",
       "    </tr>\n",
       "    <tr>\n",
       "      <th>1</th>\n",
       "      <td>PRV51003</td>\n",
       "      <td>117</td>\n",
       "      <td>1</td>\n",
       "    </tr>\n",
       "    <tr>\n",
       "      <th>2</th>\n",
       "      <td>PRV51004</td>\n",
       "      <td>138</td>\n",
       "      <td>0</td>\n",
       "    </tr>\n",
       "    <tr>\n",
       "      <th>3</th>\n",
       "      <td>PRV51005</td>\n",
       "      <td>495</td>\n",
       "      <td>1</td>\n",
       "    </tr>\n",
       "    <tr>\n",
       "      <th>4</th>\n",
       "      <td>PRV51007</td>\n",
       "      <td>58</td>\n",
       "      <td>0</td>\n",
       "    </tr>\n",
       "  </tbody>\n",
       "</table>\n",
       "</div>"
      ],
      "text/plain": [
       "   Provider  Patient_Count  PotentialFraud\n",
       "0  PRV51001             24               0\n",
       "1  PRV51003            117               1\n",
       "2  PRV51004            138               0\n",
       "3  PRV51005            495               1\n",
       "4  PRV51007             58               0"
      ]
     },
     "execution_count": 69,
     "metadata": {},
     "output_type": "execute_result"
    }
   ],
   "source": [
    "# create patient count column per provider \n",
    "Patients = full_df.groupby(['Provider', 'BeneID'])['BeneID'].count().reset_index(name='Patient_Count')\\\n",
    "           .groupby('Provider')['Patient_Count'].count().reset_index()\n",
    "\n",
    "# merge label\n",
    "pat_prov_count = pd.merge(Patients, label_train_df, on='Provider', how='left')\n",
    "\n",
    "pat_prov_count.head()"
   ]
  },
  {
   "cell_type": "code",
   "execution_count": 70,
   "metadata": {},
   "outputs": [
    {
     "data": {
      "text/plain": [
       "Text(0, 0.5, 'Number of Patients Per Provider')"
      ]
     },
     "execution_count": 70,
     "metadata": {},
     "output_type": "execute_result"
    },
    {
     "data": {
      "image/png": "[encoded data removed]",
      "text/plain": [
       "<Figure size 432x288 with 1 Axes>"
      ]
     },
     "metadata": {
      "needs_background": "light"
     },
     "output_type": "display_data"
    }
   ],
   "source": [
    "sns.boxplot(x='PotentialFraud', y='Patient_Count', data=pat_prov_count, showfliers=False)\n",
    "plt.title('Potential Fraud of Providers by Patient Count')\n",
    "plt.ylabel('Number of Patients Per Provider')"
   ]
  },
  {
   "cell_type": "markdown",
   "metadata": {},
   "source": [
    "#### - Do the same providers provide both inpatient and outpatient services? Summarize your finding."
   ]
  },
  {
   "cell_type": "code",
   "execution_count": 71,
   "metadata": {},
   "outputs": [
    {
     "data": {
      "text/html": [
       "<div>\n",
       "<style scoped>\n",
       "    .dataframe tbody tr th:only-of-type {\n",
       "        vertical-align: middle;\n",
       "    }\n",
       "\n",
       "    .dataframe tbody tr th {\n",
       "        vertical-align: top;\n",
       "    }\n",
       "\n",
       "    .dataframe thead th {\n",
       "        text-align: right;\n",
       "    }\n",
       "</style>\n",
       "<table border=\"1\" class=\"dataframe\">\n",
       "  <thead>\n",
       "    <tr style=\"text-align: right;\">\n",
       "      <th></th>\n",
       "      <th>Provider</th>\n",
       "      <th>PatientType</th>\n",
       "    </tr>\n",
       "  </thead>\n",
       "  <tbody>\n",
       "    <tr>\n",
       "      <th>0</th>\n",
       "      <td>PRV51001</td>\n",
       "      <td>Inpatient</td>\n",
       "    </tr>\n",
       "    <tr>\n",
       "      <th>1</th>\n",
       "      <td>PRV51001</td>\n",
       "      <td>Outpatient</td>\n",
       "    </tr>\n",
       "    <tr>\n",
       "      <th>2</th>\n",
       "      <td>PRV51003</td>\n",
       "      <td>Inpatient</td>\n",
       "    </tr>\n",
       "    <tr>\n",
       "      <th>3</th>\n",
       "      <td>PRV51003</td>\n",
       "      <td>Outpatient</td>\n",
       "    </tr>\n",
       "    <tr>\n",
       "      <th>4</th>\n",
       "      <td>PRV51004</td>\n",
       "      <td>Outpatient</td>\n",
       "    </tr>\n",
       "  </tbody>\n",
       "</table>\n",
       "</div>"
      ],
      "text/plain": [
       "   Provider PatientType\n",
       "0  PRV51001   Inpatient\n",
       "1  PRV51001  Outpatient\n",
       "2  PRV51003   Inpatient\n",
       "3  PRV51003  Outpatient\n",
       "4  PRV51004  Outpatient"
      ]
     },
     "execution_count": 71,
     "metadata": {},
     "output_type": "execute_result"
    }
   ],
   "source": [
    "# groupy provider and patient type\n",
    "prov_type = full_df.groupby(['Provider', 'PatientType'])['BeneID'].count().reset_index(name='').drop('', axis=1)\n",
    "prov_type.head()"
   ]
  },
  {
   "cell_type": "code",
   "execution_count": 72,
   "metadata": {},
   "outputs": [],
   "source": [
    "# create a dictionary provider by service type\n",
    "lst_prov_type = list(zip(prov_type['Provider'], prov_type['PatientType']))"
   ]
  },
  {
   "cell_type": "code",
   "execution_count": 73,
   "metadata": {},
   "outputs": [],
   "source": [
    "# feed in empty dict with values inpatient, outpatient, or both\n",
    "prov_type_dict = {}\n",
    "\n",
    "for i in lst_prov_type:\n",
    "    if i[0] not in prov_type_dict:\n",
    "        prov_type_dict[i[0]]= i[1]    \n",
    "    else:\n",
    "        prov_type_dict[i[0]] = 'Both'\n",
    "        \n",
    "\n",
    "# creaete new column type of service by provider\n",
    "prov_service = pd.DataFrame(prov_type_dict.keys(), prov_type_dict.values()).reset_index().\\\n",
    "rename(columns={'index':'Service_Type', 0:'Provider'})"
   ]
  },
  {
   "cell_type": "code",
   "execution_count": 74,
   "metadata": {},
   "outputs": [
    {
     "data": {
      "text/html": [
       "<div>\n",
       "<style scoped>\n",
       "    .dataframe tbody tr th:only-of-type {\n",
       "        vertical-align: middle;\n",
       "    }\n",
       "\n",
       "    .dataframe tbody tr th {\n",
       "        vertical-align: top;\n",
       "    }\n",
       "\n",
       "    .dataframe thead th {\n",
       "        text-align: right;\n",
       "    }\n",
       "</style>\n",
       "<table border=\"1\" class=\"dataframe\">\n",
       "  <thead>\n",
       "    <tr style=\"text-align: right;\">\n",
       "      <th></th>\n",
       "      <th>Service_Type</th>\n",
       "      <th>Provider</th>\n",
       "    </tr>\n",
       "  </thead>\n",
       "  <tbody>\n",
       "    <tr>\n",
       "      <th>0</th>\n",
       "      <td>Both</td>\n",
       "      <td>PRV51001</td>\n",
       "    </tr>\n",
       "    <tr>\n",
       "      <th>1</th>\n",
       "      <td>Both</td>\n",
       "      <td>PRV51003</td>\n",
       "    </tr>\n",
       "    <tr>\n",
       "      <th>2</th>\n",
       "      <td>Outpatient</td>\n",
       "      <td>PRV51004</td>\n",
       "    </tr>\n",
       "    <tr>\n",
       "      <th>3</th>\n",
       "      <td>Outpatient</td>\n",
       "      <td>PRV51005</td>\n",
       "    </tr>\n",
       "    <tr>\n",
       "      <th>4</th>\n",
       "      <td>Both</td>\n",
       "      <td>PRV51007</td>\n",
       "    </tr>\n",
       "  </tbody>\n",
       "</table>\n",
       "</div>"
      ],
      "text/plain": [
       "  Service_Type  Provider\n",
       "0         Both  PRV51001\n",
       "1         Both  PRV51003\n",
       "2   Outpatient  PRV51004\n",
       "3   Outpatient  PRV51005\n",
       "4         Both  PRV51007"
      ]
     },
     "execution_count": 74,
     "metadata": {},
     "output_type": "execute_result"
    }
   ],
   "source": [
    "prov_service.head()"
   ]
  },
  {
   "cell_type": "code",
   "execution_count": 75,
   "metadata": {},
   "outputs": [
    {
     "name": "stdout",
     "output_type": "stream",
     "text": [
      "Service_Type\n",
      "Both          1694\n",
      "Inpatient      398\n",
      "Outpatient    3318\n",
      "Name: Provider, dtype: int64\n"
     ]
    }
   ],
   "source": [
    "#number of providers by service types and potential fraud\n",
    "service_type = pd.merge(prov_service, label_train_df, on='Provider')\n",
    "\n",
    "print(service_type.groupby('Service_Type')['Provider'].count())"
   ]
  },
  {
   "cell_type": "markdown",
   "metadata": {},
   "source": [
    "## Potential Feature Engineering"
   ]
  },
  {
   "cell_type": "code",
   "execution_count": 76,
   "metadata": {},
   "outputs": [],
   "source": [
    "# new df with physician count column\n",
    "phys_count2 = full_df.groupby(['AttendingPhysician', 'Provider'])['AttendingPhysician'].count()\\\n",
    "              .reset_index(name='Phys_Count').groupby(['Provider'])['Phys_Count'].count().reset_index()\n",
    "\n",
    "#train_features1 = pd.merge(label_train_df, phys_count2, on='Provider')"
   ]
  },
  {
   "cell_type": "code",
   "execution_count": 77,
   "metadata": {},
   "outputs": [],
   "source": [
    "# add patient count column \n",
    "Patients = full_df.groupby(['Provider', 'BeneID'])['BeneID'].count().reset_index(name='Patient_Count')\\\n",
    "           .groupby('Provider')['Patient_Count'].count().reset_index()\n",
    "\n",
    "train_features1 = pd.merge(phys_count2, Patients, on='Provider')"
   ]
  },
  {
   "cell_type": "code",
   "execution_count": 78,
   "metadata": {},
   "outputs": [],
   "source": [
    "# add claim count column \n",
    "Claims = full_df.groupby(['Provider', 'ClaimID'])['ClaimID'].count().reset_index(name='Claim_Count').\\\n",
    "         groupby('Provider')['Claim_Count'].count().reset_index()\n",
    "\n",
    "train_features2 = pd.merge(train_features1, Claims, on='Provider')"
   ]
  },
  {
   "cell_type": "code",
   "execution_count": 79,
   "metadata": {},
   "outputs": [],
   "source": [
    "#number of providers by service types and potential fraud\n",
    "service_type = pd.merge(prov_service, label_train_df, on='Provider')"
   ]
  },
  {
   "cell_type": "code",
   "execution_count": 80,
   "metadata": {},
   "outputs": [
    {
     "data": {
      "text/html": [
       "<div>\n",
       "<style scoped>\n",
       "    .dataframe tbody tr th:only-of-type {\n",
       "        vertical-align: middle;\n",
       "    }\n",
       "\n",
       "    .dataframe tbody tr th {\n",
       "        vertical-align: top;\n",
       "    }\n",
       "\n",
       "    .dataframe thead th {\n",
       "        text-align: right;\n",
       "    }\n",
       "</style>\n",
       "<table border=\"1\" class=\"dataframe\">\n",
       "  <thead>\n",
       "    <tr style=\"text-align: right;\">\n",
       "      <th></th>\n",
       "      <th>Provider</th>\n",
       "      <th>Phys_Count</th>\n",
       "      <th>Patient_Count</th>\n",
       "      <th>Claim_Count</th>\n",
       "      <th>Service_Type</th>\n",
       "      <th>PotentialFraud</th>\n",
       "    </tr>\n",
       "  </thead>\n",
       "  <tbody>\n",
       "    <tr>\n",
       "      <th>0</th>\n",
       "      <td>PRV51001</td>\n",
       "      <td>14</td>\n",
       "      <td>24</td>\n",
       "      <td>25</td>\n",
       "      <td>Both</td>\n",
       "      <td>0</td>\n",
       "    </tr>\n",
       "    <tr>\n",
       "      <th>1</th>\n",
       "      <td>PRV51003</td>\n",
       "      <td>44</td>\n",
       "      <td>117</td>\n",
       "      <td>132</td>\n",
       "      <td>Both</td>\n",
       "      <td>1</td>\n",
       "    </tr>\n",
       "    <tr>\n",
       "      <th>2</th>\n",
       "      <td>PRV51004</td>\n",
       "      <td>38</td>\n",
       "      <td>138</td>\n",
       "      <td>149</td>\n",
       "      <td>Outpatient</td>\n",
       "      <td>0</td>\n",
       "    </tr>\n",
       "    <tr>\n",
       "      <th>3</th>\n",
       "      <td>PRV51005</td>\n",
       "      <td>7</td>\n",
       "      <td>495</td>\n",
       "      <td>1165</td>\n",
       "      <td>Outpatient</td>\n",
       "      <td>1</td>\n",
       "    </tr>\n",
       "    <tr>\n",
       "      <th>4</th>\n",
       "      <td>PRV51007</td>\n",
       "      <td>10</td>\n",
       "      <td>58</td>\n",
       "      <td>72</td>\n",
       "      <td>Both</td>\n",
       "      <td>0</td>\n",
       "    </tr>\n",
       "  </tbody>\n",
       "</table>\n",
       "</div>"
      ],
      "text/plain": [
       "   Provider  Phys_Count  Patient_Count  Claim_Count Service_Type  \\\n",
       "0  PRV51001          14             24           25         Both   \n",
       "1  PRV51003          44            117          132         Both   \n",
       "2  PRV51004          38            138          149   Outpatient   \n",
       "3  PRV51005           7            495         1165   Outpatient   \n",
       "4  PRV51007          10             58           72         Both   \n",
       "\n",
       "   PotentialFraud  \n",
       "0               0  \n",
       "1               1  \n",
       "2               0  \n",
       "3               1  \n",
       "4               0  "
      ]
     },
     "execution_count": 80,
     "metadata": {},
     "output_type": "execute_result"
    }
   ],
   "source": [
    "#add type of service column \n",
    "train_features3 = pd.merge(train_features2, service_type, on='Provider')\n",
    "train_features3.head()"
   ]
  },
  {
   "cell_type": "code",
   "execution_count": 81,
   "metadata": {},
   "outputs": [
    {
     "data": {
      "text/plain": [
       "Text(0, 0.5, 'Number of Patients')"
      ]
     },
     "execution_count": 81,
     "metadata": {},
     "output_type": "execute_result"
    },
    {
     "data": {
      "image/png": "[encoded data removed]",
      "text/plain": [
       "<Figure size 432x288 with 1 Axes>"
      ]
     },
     "metadata": {
      "needs_background": "light"
     },
     "output_type": "display_data"
    }
   ],
   "source": [
    "# graph of patients vs physicians by potential fraud\n",
    "\n",
    "sns.scatterplot(x='Phys_Count', y='Patient_Count', data=train_features3, hue='PotentialFraud')\n",
    "plt.title('Physicans vs Patients per Provider')\n",
    "plt.xlabel('Number of Physicians')\n",
    "plt.ylabel('Number of Patients')"
   ]
  },
  {
   "cell_type": "markdown",
   "metadata": {},
   "source": [
    "### Warmup Question 2:\n",
    "#### - Study the relationship between the patient ages (at the time of their service) and the counts of medical claims."
   ]
  },
  {
   "cell_type": "code",
   "execution_count": 87,
   "metadata": {},
   "outputs": [],
   "source": [
    "# reformat claim start date column and DOB column \n",
    "claim_start = full_df['ClaimStartDt'].apply(pd.to_datetime, errors='coerce', format='%Y-%m-%d')\n",
    "birth_date = full_df['DOB']\n",
    "\n",
    "# create Age column of patient at time of claim\n",
    "full_df['Age'] = claim_start - birth_date\n",
    "\n",
    "#turn column in Years and integer type\n",
    "full_df['Age'] = full_df['Age'] / np.timedelta64(1, 'Y')\n",
    "full_df['Age'] = full_df['Age'].astype(int)"
   ]
  },
  {
   "cell_type": "code",
   "execution_count": 88,
   "metadata": {},
   "outputs": [
    {
     "data": {
      "text/plain": [
       "Text(0, 0.5, 'Number of Claims')"
      ]
     },
     "execution_count": 88,
     "metadata": {},
     "output_type": "execute_result"
    },
    {
     "data": {
      "image/png": "[encoded data removed]",
      "text/plain": [
       "<Figure size 432x288 with 1 Axes>"
      ]
     },
     "metadata": {
      "needs_background": "light"
     },
     "output_type": "display_data"
    }
   ],
   "source": [
    "age_claim_count = full_df.groupby(['PotentialFraud', 'Age'])['ClaimID'].count().reset_index(name = 'Claim_Count') \n",
    "\n",
    "sns.lineplot(data = age_claim_count, x = 'Age', y = 'Claim_Count', hue = 'PotentialFraud', palette='ocean_r')\n",
    "plt.title('Number of Claims by Age')\n",
    "plt.xlabel('Paitent Age')\n",
    "plt.ylabel('Number of Claims')"
   ]
  },
  {
   "cell_type": "code",
   "execution_count": 91,
   "metadata": {},
   "outputs": [
    {
     "data": {
      "text/html": [
       "<div>\n",
       "<style scoped>\n",
       "    .dataframe tbody tr th:only-of-type {\n",
       "        vertical-align: middle;\n",
       "    }\n",
       "\n",
       "    .dataframe tbody tr th {\n",
       "        vertical-align: top;\n",
       "    }\n",
       "\n",
       "    .dataframe thead th {\n",
       "        text-align: right;\n",
       "    }\n",
       "</style>\n",
       "<table border=\"1\" class=\"dataframe\">\n",
       "  <thead>\n",
       "    <tr style=\"text-align: right;\">\n",
       "      <th></th>\n",
       "      <th>Provider</th>\n",
       "      <th>Avg_Age</th>\n",
       "    </tr>\n",
       "  </thead>\n",
       "  <tbody>\n",
       "    <tr>\n",
       "      <th>0</th>\n",
       "      <td>PRV51001</td>\n",
       "      <td>77</td>\n",
       "    </tr>\n",
       "    <tr>\n",
       "      <th>1</th>\n",
       "      <td>PRV51003</td>\n",
       "      <td>68</td>\n",
       "    </tr>\n",
       "    <tr>\n",
       "      <th>2</th>\n",
       "      <td>PRV51004</td>\n",
       "      <td>71</td>\n",
       "    </tr>\n",
       "    <tr>\n",
       "      <th>3</th>\n",
       "      <td>PRV51005</td>\n",
       "      <td>69</td>\n",
       "    </tr>\n",
       "    <tr>\n",
       "      <th>4</th>\n",
       "      <td>PRV51007</td>\n",
       "      <td>67</td>\n",
       "    </tr>\n",
       "  </tbody>\n",
       "</table>\n",
       "</div>"
      ],
      "text/plain": [
       "   Provider  Avg_Age\n",
       "0  PRV51001       77\n",
       "1  PRV51003       68\n",
       "2  PRV51004       71\n",
       "3  PRV51005       69\n",
       "4  PRV51007       67"
      ]
     },
     "execution_count": 91,
     "metadata": {},
     "output_type": "execute_result"
    }
   ],
   "source": [
    "#create average age by provider column \n",
    "avg_age = full_df.groupby(['Provider', 'BeneID'])['Age'].mean().reset_index(name = \"Avg_Age\").dropna()\\\n",
    "          .groupby('Provider')['Avg_Age'].mean().reset_index()\n",
    "\n",
    "#convert avg_age column into integer\n",
    "avg_age['Avg_Age'] = avg_age['Avg_Age'].astype(int)\n",
    "\n",
    "avg_age.head()"
   ]
  },
  {
   "cell_type": "markdown",
   "metadata": {},
   "source": [
    "#### - Study the relationship between the patient age and their chronic conditions. Within the train-samples, do these chronic conditions show a definite trend with respect to increasing ages?"
   ]
  },
  {
   "cell_type": "code",
   "execution_count": 92,
   "metadata": {},
   "outputs": [
    {
     "data": {
      "text/html": [
       "<div>\n",
       "<style scoped>\n",
       "    .dataframe tbody tr th:only-of-type {\n",
       "        vertical-align: middle;\n",
       "    }\n",
       "\n",
       "    .dataframe tbody tr th {\n",
       "        vertical-align: top;\n",
       "    }\n",
       "\n",
       "    .dataframe thead th {\n",
       "        text-align: right;\n",
       "    }\n",
       "</style>\n",
       "<table border=\"1\" class=\"dataframe\">\n",
       "  <thead>\n",
       "    <tr style=\"text-align: right;\">\n",
       "      <th></th>\n",
       "      <th>Cond_Count</th>\n",
       "      <th>BeneID</th>\n",
       "      <th>ClaimID</th>\n",
       "      <th>PatientType</th>\n",
       "      <th>PotentialFraud</th>\n",
       "      <th>Age</th>\n",
       "    </tr>\n",
       "  </thead>\n",
       "  <tbody>\n",
       "    <tr>\n",
       "      <th>0</th>\n",
       "      <td>7</td>\n",
       "      <td>BENE11001</td>\n",
       "      <td>CLM46614</td>\n",
       "      <td>Inpatient</td>\n",
       "      <td>1</td>\n",
       "      <td>66</td>\n",
       "    </tr>\n",
       "    <tr>\n",
       "      <th>1</th>\n",
       "      <td>7</td>\n",
       "      <td>BENE11001</td>\n",
       "      <td>CLM46614</td>\n",
       "      <td>Inpatient</td>\n",
       "      <td>1</td>\n",
       "      <td>66</td>\n",
       "    </tr>\n",
       "    <tr>\n",
       "      <th>2</th>\n",
       "      <td>5</td>\n",
       "      <td>BENE17521</td>\n",
       "      <td>CLM34721</td>\n",
       "      <td>Inpatient</td>\n",
       "      <td>1</td>\n",
       "      <td>95</td>\n",
       "    </tr>\n",
       "    <tr>\n",
       "      <th>3</th>\n",
       "      <td>2</td>\n",
       "      <td>BENE21718</td>\n",
       "      <td>CLM72336</td>\n",
       "      <td>Inpatient</td>\n",
       "      <td>1</td>\n",
       "      <td>87</td>\n",
       "    </tr>\n",
       "    <tr>\n",
       "      <th>4</th>\n",
       "      <td>6</td>\n",
       "      <td>BENE22934</td>\n",
       "      <td>CLM73394</td>\n",
       "      <td>Inpatient</td>\n",
       "      <td>1</td>\n",
       "      <td>79</td>\n",
       "    </tr>\n",
       "  </tbody>\n",
       "</table>\n",
       "</div>"
      ],
      "text/plain": [
       "   Cond_Count     BeneID   ClaimID PatientType  PotentialFraud  Age\n",
       "0           7  BENE11001  CLM46614   Inpatient               1   66\n",
       "1           7  BENE11001  CLM46614   Inpatient               1   66\n",
       "2           5  BENE17521  CLM34721   Inpatient               1   95\n",
       "3           2  BENE21718  CLM72336   Inpatient               1   87\n",
       "4           6  BENE22934  CLM73394   Inpatient               1   79"
      ]
     },
     "execution_count": 92,
     "metadata": {},
     "output_type": "execute_result"
    }
   ],
   "source": [
    "# df with condition count\n",
    "chron_patient = full_df.filter(regex='Chron').replace(to_replace=2, value=0).sum(axis=1).reset_index\\\n",
    "                (name='Cond_Count').drop(chron_patient.columns[0], axis=1)\n",
    "\n",
    "# concat additional columns\n",
    "condition = pd.concat([chron_patient, full_df[['BeneID', 'ClaimID', 'PatientType', 'PotentialFraud', 'Age']]], axis=1)\n",
    "\n",
    "condition.head()"
   ]
  },
  {
   "cell_type": "code",
   "execution_count": 95,
   "metadata": {},
   "outputs": [
    {
     "data": {
      "text/plain": [
       "Text(0, 0.5, 'Condition Count')"
      ]
     },
     "execution_count": 95,
     "metadata": {},
     "output_type": "execute_result"
    },
    {
     "data": {
      "image/png": "[encoded data removed]",
      "text/plain": [
       "<Figure size 432x288 with 1 Axes>"
      ]
     },
     "metadata": {
      "needs_background": "light"
     },
     "output_type": "display_data"
    }
   ],
   "source": [
    "sns.lineplot(data = condition, x = 'Age', y = 'Cond_Count', hue = 'PotentialFraud', palette='ocean_r')\n",
    "plt.title('Number of Conditions by Age')\n",
    "plt.xlabel('Patient Age')\n",
    "plt.ylabel('Condition Count')"
   ]
  },
  {
   "cell_type": "markdown",
   "metadata": {},
   "source": [
    " - There seems to be an increasing trend of potential fraud for patients with higher age and number of conditions"
   ]
  },
  {
   "cell_type": "markdown",
   "metadata": {},
   "source": [
    "####  - In order to make sure the insurance premiums can cover the claims, the insurance company would need to categorize the patients according to their resource usage. In answering the question that what types of patients would make more outpatient visits, please provide your finding."
   ]
  },
  {
   "cell_type": "code",
   "execution_count": 96,
   "metadata": {},
   "outputs": [],
   "source": [
    "op = full_df.loc[full_df['PatientType'] == 'Outpatient']\n",
    "ip = full_df.loc[full_df['PatientType'] == 'Inpatient']"
   ]
  },
  {
   "cell_type": "code",
   "execution_count": 97,
   "metadata": {},
   "outputs": [],
   "source": [
    "# aggregate sum of outpatient chronic conditions\n",
    "cond_sum_op = pd.DataFrame(op.agg({'ChronicCond_Alzheimer' : 'sum',\n",
    "                   'ChronicCond_Heartfailure' : 'sum',\n",
    "                   'ChronicCond_KidneyDisease' : 'sum',\n",
    "                   'ChronicCond_Cancer' : 'sum',\n",
    "                   'ChronicCond_ObstrPulmonary' : 'sum',\n",
    "                   'ChronicCond_Depression' : 'sum',\n",
    "                   'ChronicCond_Diabetes' : 'sum',\n",
    "                   'ChronicCond_IschemicHeart' : 'sum',\n",
    "                   'ChronicCond_Osteoporasis' : 'sum',\n",
    "                   'ChronicCond_rheumatoidarthritis' : 'sum',\n",
    "                   'ChronicCond_stroke' : 'sum'}))\n",
    "                   #'RenalDiseaseIndicator' : 'sum'})\n",
    "\n",
    "# aggregate sum of inpatient chronic conditions\n",
    "cond_sum_ip = pd.DataFrame(ip.agg({'ChronicCond_Alzheimer' : 'sum',\n",
    "                   'ChronicCond_Heartfailure' : 'sum',\n",
    "                   'ChronicCond_KidneyDisease' : 'sum',\n",
    "                   'ChronicCond_Cancer' : 'sum',\n",
    "                   'ChronicCond_ObstrPulmonary' : 'sum',\n",
    "                   'ChronicCond_Depression' : 'sum',\n",
    "                   'ChronicCond_Diabetes' : 'sum',\n",
    "                   'ChronicCond_IschemicHeart' : 'sum',\n",
    "                   'ChronicCond_Osteoporasis' : 'sum',\n",
    "                   'ChronicCond_rheumatoidarthritis' : 'sum',\n",
    "                   'ChronicCond_stroke' : 'sum'}))    "
   ]
  },
  {
   "cell_type": "code",
   "execution_count": 98,
   "metadata": {},
   "outputs": [],
   "source": [
    "#reset index and rename index to plot bar chart for outpatient and inpatient\n",
    "cond_sum_op = cond_sum_op.rename(columns={cond_sum_op .columns[0]: \"Count\" }).reset_index()\n",
    "cond_sum_op = cond_sum_op.rename(columns={cond_sum_op .columns[0]: \"ChronicCond\" })\n",
    "\n",
    "cond_sum_ip = cond_sum_ip.rename(columns={cond_sum_ip.columns[0]: \"Count\" }).reset_index()\n",
    "cond_sum_ip = cond_sum_ip.rename(columns={cond_sum_ip.columns[0]: \"ChronicCond\" })"
   ]
  },
  {
   "cell_type": "code",
   "execution_count": 99,
   "metadata": {},
   "outputs": [
    {
     "data": {
      "image/png": "[encoded data removed]",
      "text/plain": [
       "<Figure size 432x288 with 1 Axes>"
      ]
     },
     "metadata": {
      "needs_background": "light"
     },
     "output_type": "display_data"
    }
   ],
   "source": [
    "ax = sns.barplot(x='ChronicCond', y='Count', data=cond_sum_op)\n",
    "ax.set_xticklabels(ax.get_xticklabels(), rotation=65)\n",
    "sns.set(rc={'figure.figsize':(10,7)})\n",
    "plt.title('Outpatient Chronic Condition Count')\n",
    "\n",
    "for p in ax.patches:\n",
    "    ax.annotate(\"%.0f\" % p.get_height(), (p.get_x() + p.get_width() / 2., p.get_height()),\n",
    "    ha='center', va='center', fontsize=10, color='black', xytext=(0, 5),\n",
    "    textcoords='offset points')"
   ]
  },
  {
   "cell_type": "markdown",
   "metadata": {},
   "source": [
    "#### - In answering what types of patients would make more inpatient service claims, please provide your findings."
   ]
  },
  {
   "cell_type": "code",
   "execution_count": 100,
   "metadata": {},
   "outputs": [
    {
     "data": {
      "image/png": "[encoded data removed]",
      "text/plain": [
       "<Figure size 720x504 with 1 Axes>"
      ]
     },
     "metadata": {},
     "output_type": "display_data"
    }
   ],
   "source": [
    "ax = sns.barplot(x='ChronicCond', y='Count', data=cond_sum_ip)\n",
    "ax.set_xticklabels(ax.get_xticklabels(), rotation=65)\n",
    "sns.set(rc={'figure.figsize':(10,7)})\n",
    "plt.title('Inpatient Chronic Condition Count')\n",
    "\n",
    "for p in ax.patches:\n",
    "    ax.annotate(\"%.0f\" % p.get_height(), (p.get_x() + p.get_width() / 2., p.get_height()),\n",
    "    ha='center', va='center', fontsize=10, color='black', xytext=(0, 5),\n",
    "    textcoords='offset points')"
   ]
  },
  {
   "cell_type": "markdown",
   "metadata": {},
   "source": [
    "#### - From the prospect of the insurance company, the reimbursed amounts are their coverage on the claims.  Please analyze the patterns of the total reimbursed amounts (or average reimbursed amounts/visit) vs different types of patients."
   ]
  },
  {
   "cell_type": "markdown",
   "metadata": {},
   "source": [
    "#### - From the prospect of the providers, the sum of reimbursed amounts and deductibles are flowing to the providers. Based on this, analyze which types of patients contribute more to the providers in terms of the aggregate charges or the average charge per visit. "
   ]
  }
 ],
 "metadata": {
  "kernelspec": {
   "display_name": "Python 3",
   "language": "python",
   "name": "python3"
  },
  "language_info": {
   "codemirror_mode": {
    "name": "ipython",
    "version": 3
   },
   "file_extension": ".py",
   "mimetype": "text/x-python",
   "name": "python",
   "nbconvert_exporter": "python",
   "pygments_lexer": "ipython3",
   "version": "3.7.6"
  }
 },
 "nbformat": 4,
 "nbformat_minor": 4
}
