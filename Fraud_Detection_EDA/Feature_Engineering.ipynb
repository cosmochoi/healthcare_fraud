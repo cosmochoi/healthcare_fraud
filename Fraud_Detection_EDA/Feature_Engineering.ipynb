{
 "cells": [
  {
   "cell_type": "markdown",
   "metadata": {},
   "source": [
    "## Pre-processing"
   ]
  },
  {
   "cell_type": "code",
   "execution_count": 211,
   "metadata": {},
   "outputs": [],
   "source": [
    "import pandas as pd\n",
    "import numpy as np"
   ]
  },
  {
   "cell_type": "code",
   "execution_count": 212,
   "metadata": {},
   "outputs": [],
   "source": [
    "# import preprocessing routine\n",
    "from preprocess_module import fraud_preprocessor\n",
    "\n",
    "# call preprocessor \n",
    "full_df = fraud_preprocessor(i_flag=0)"
   ]
  },
  {
   "cell_type": "markdown",
   "metadata": {},
   "source": [
    "## Feature Engineering"
   ]
  },
  {
   "cell_type": "code",
   "execution_count": 213,
   "metadata": {},
   "outputs": [],
   "source": [
    "# create physician count column \n",
    "phys_count = full_df.groupby(['AttendingPhysician', 'Provider'])['AttendingPhysician'].count()\\\n",
    "           .reset_index(name='Phys_Count').groupby(['Provider'])['Phys_Count'].count().reset_index()\n"
   ]
  },
  {
   "cell_type": "code",
   "execution_count": 214,
   "metadata": {},
   "outputs": [],
   "source": [
    "# create patient count column \n",
    "patient_count = full_df.groupby(['Provider', 'BeneID'])['BeneID'].count().reset_index(name='Patient_Count')\\\n",
    "                .groupby('Provider')['Patient_Count'].count().reset_index()\n",
    "\n",
    "features1 = pd.merge(phys_count, patient_count, on='Provider')"
   ]
  },
  {
   "cell_type": "code",
   "execution_count": 215,
   "metadata": {},
   "outputs": [],
   "source": [
    "# create claim count column \n",
    "claim_count = full_df.groupby(['Provider', 'ClaimID'])['ClaimID'].count().reset_index(name='Claim_Count').\\\n",
    "         groupby('Provider')['Claim_Count'].count().reset_index()\n",
    "\n",
    "features2 = pd.merge(features1, claim_count, on='Provider')"
   ]
  },
  {
   "cell_type": "code",
   "execution_count": 216,
   "metadata": {},
   "outputs": [],
   "source": [
    "##create service type column\n",
    "prov_type = full_df.groupby(['Provider', 'PatientType'])['BeneID'].count().reset_index(name='').drop('', axis=1)\n",
    "prov_type.head()\n",
    "\n",
    "# create a dictionary provider by service type\n",
    "lst_prov_type = list(zip(prov_type['Provider'], prov_type['PatientType']))\n",
    "\n",
    "# feed in empty dict with values inpatient, outpatient, or both\n",
    "prov_type_dict = {}\n",
    "for i in lst_prov_type:\n",
    "    if i[0] not in prov_type_dict:\n",
    "        prov_type_dict[i[0]]= i[1]    \n",
    "    else:\n",
    "        prov_type_dict[i[0]] = 'Both'\n",
    "        \n",
    "# create new column service type by povider\n",
    "service_type = pd.DataFrame(prov_type_dict.keys(), prov_type_dict.values()).reset_index().\\\n",
    "               rename(columns={'index':'Service_Type', 0:'Provider'})\n",
    "\n",
    "# add service type column \n",
    "features3 = pd.merge(features2, service_type, on='Provider')"
   ]
  },
  {
   "cell_type": "code",
   "execution_count": 217,
   "metadata": {},
   "outputs": [],
   "source": [
    "# create new column with count of conditions\n",
    "cond_count = full_df.filter(regex='Chron').replace(to_replace=2, value=0).sum(axis=1).\\\n",
    "             reset_index(name='Cond_Count')\n",
    "\n",
    "# add provider and claimID\n",
    "cond_count = pd.concat([cond_count, full_df[['Provider', 'ClaimID']]], axis=1)\n",
    "\n",
    "# create avg cond and avg claim columns\n",
    "avg_cond_claim = cond_count.groupby(['Provider', 'Cond_Count'])['ClaimID'].count().reset_index(name='Claim_Count')\\\n",
    "                 .groupby('Provider').agg({'Cond_Count': 'mean', 'Claim_Count': 'mean'}).reset_index()\\\n",
    "                 .rename(columns={'Cond_Count':'Avg_Cond', 'Claim_Count': 'Avg_Claim'}).round() \n",
    "\n",
    "# add avg cond and avg claim columns\n",
    "features4 = pd.merge(features3, avg_cond_claim, on='Provider')"
   ]
  },
  {
   "cell_type": "code",
   "execution_count": 220,
   "metadata": {},
   "outputs": [],
   "source": [
    "# reformat claim start date column and DOB column \n",
    "claim_start = full_df['ClaimStartDt'].apply(pd.to_datetime, errors='coerce', format='%Y-%m-%d')\n",
    "birth_date = full_df['DOB']\n",
    "\n",
    "# create Age column of patient at time of claim\n",
    "full_df['Age'] = claim_start - birth_date\n",
    "\n",
    "#turn column in Years\n",
    "full_df['Age'] = full_df['Age'] / np.timedelta64(1, 'Y')\n",
    "\n",
    "#create average age by provider column \n",
    "avg_age = full_df.groupby(['Provider', 'BeneID'])['Age'].mean().reset_index(name = \"Avg_Age\").dropna()\\\n",
    "          .groupby('Provider')['Avg_Age'].mean().reset_index()\n",
    "\n",
    "#convert avg_age column into integer\n",
    "avg_age['Avg_Age'] = avg_age['Avg_Age'].astype(int)\n",
    "\n",
    "# add avg age age column to feature data set\n",
    "features5 = pd.merge(features4, avg_age, on='Provider')"
   ]
  },
  {
   "cell_type": "code",
   "execution_count": 221,
   "metadata": {},
   "outputs": [
    {
     "data": {
      "text/html": [
       "<div>\n",
       "<style scoped>\n",
       "    .dataframe tbody tr th:only-of-type {\n",
       "        vertical-align: middle;\n",
       "    }\n",
       "\n",
       "    .dataframe tbody tr th {\n",
       "        vertical-align: top;\n",
       "    }\n",
       "\n",
       "    .dataframe thead th {\n",
       "        text-align: right;\n",
       "    }\n",
       "</style>\n",
       "<table border=\"1\" class=\"dataframe\">\n",
       "  <thead>\n",
       "    <tr style=\"text-align: right;\">\n",
       "      <th></th>\n",
       "      <th>Provider</th>\n",
       "      <th>Phys_Count</th>\n",
       "      <th>Patient_Count</th>\n",
       "      <th>Claim_Count</th>\n",
       "      <th>Service_Type</th>\n",
       "      <th>Avg_Cond</th>\n",
       "      <th>Avg_Claim</th>\n",
       "      <th>Avg_Age</th>\n",
       "      <th>PotentialFraud</th>\n",
       "    </tr>\n",
       "  </thead>\n",
       "  <tbody>\n",
       "    <tr>\n",
       "      <th>0</th>\n",
       "      <td>PRV51001</td>\n",
       "      <td>14</td>\n",
       "      <td>24</td>\n",
       "      <td>25</td>\n",
       "      <td>Both</td>\n",
       "      <td>6.0</td>\n",
       "      <td>4.0</td>\n",
       "      <td>78</td>\n",
       "      <td>No</td>\n",
       "    </tr>\n",
       "    <tr>\n",
       "      <th>1</th>\n",
       "      <td>PRV51003</td>\n",
       "      <td>44</td>\n",
       "      <td>117</td>\n",
       "      <td>132</td>\n",
       "      <td>Both</td>\n",
       "      <td>5.0</td>\n",
       "      <td>19.0</td>\n",
       "      <td>68</td>\n",
       "      <td>Yes</td>\n",
       "    </tr>\n",
       "    <tr>\n",
       "      <th>2</th>\n",
       "      <td>PRV51004</td>\n",
       "      <td>38</td>\n",
       "      <td>138</td>\n",
       "      <td>149</td>\n",
       "      <td>Outpatient</td>\n",
       "      <td>4.0</td>\n",
       "      <td>23.0</td>\n",
       "      <td>72</td>\n",
       "      <td>No</td>\n",
       "    </tr>\n",
       "    <tr>\n",
       "      <th>3</th>\n",
       "      <td>PRV51005</td>\n",
       "      <td>7</td>\n",
       "      <td>495</td>\n",
       "      <td>1165</td>\n",
       "      <td>Outpatient</td>\n",
       "      <td>4.0</td>\n",
       "      <td>154.0</td>\n",
       "      <td>70</td>\n",
       "      <td>Yes</td>\n",
       "    </tr>\n",
       "    <tr>\n",
       "      <th>4</th>\n",
       "      <td>PRV51007</td>\n",
       "      <td>10</td>\n",
       "      <td>58</td>\n",
       "      <td>72</td>\n",
       "      <td>Both</td>\n",
       "      <td>4.0</td>\n",
       "      <td>12.0</td>\n",
       "      <td>67</td>\n",
       "      <td>No</td>\n",
       "    </tr>\n",
       "  </tbody>\n",
       "</table>\n",
       "</div>"
      ],
      "text/plain": [
       "   Provider  Phys_Count  Patient_Count  Claim_Count Service_Type  Avg_Cond  \\\n",
       "0  PRV51001          14             24           25         Both       6.0   \n",
       "1  PRV51003          44            117          132         Both       5.0   \n",
       "2  PRV51004          38            138          149   Outpatient       4.0   \n",
       "3  PRV51005           7            495         1165   Outpatient       4.0   \n",
       "4  PRV51007          10             58           72         Both       4.0   \n",
       "\n",
       "   Avg_Claim  Avg_Age PotentialFraud  \n",
       "0        4.0       78             No  \n",
       "1       19.0       68            Yes  \n",
       "2       23.0       72             No  \n",
       "3      154.0       70            Yes  \n",
       "4       12.0       67             No  "
      ]
     },
     "execution_count": 221,
     "metadata": {},
     "output_type": "execute_result"
    }
   ],
   "source": [
    "#import train label df\n",
    "label_train_df = pd.read_csv('Train-1542865627584.csv')\n",
    "\n",
    "#add label column\n",
    "train_features = pd.merge(features5, label_train_df, on='Provider')\n",
    "train_features.head()"
   ]
  }
 ],
 "metadata": {
  "kernelspec": {
   "display_name": "Python 3",
   "language": "python",
   "name": "python3"
  },
  "language_info": {
   "codemirror_mode": {
    "name": "ipython",
    "version": 3
   },
   "file_extension": ".py",
   "mimetype": "text/x-python",
   "name": "python",
   "nbconvert_exporter": "python",
   "pygments_lexer": "ipython3",
   "version": "3.7.6"
  }
 },
 "nbformat": 4,
 "nbformat_minor": 4
}
