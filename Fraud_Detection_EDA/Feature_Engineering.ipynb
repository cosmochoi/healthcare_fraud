{
 "cells": [
  {
   "cell_type": "markdown",
   "metadata": {},
   "source": [
    "## Pre-processing"
   ]
  },
  {
   "cell_type": "code",
   "execution_count": null,
   "metadata": {},
   "outputs": [],
   "source": [
    "import pandas as pd\n",
    "import numpy as np"
   ]
  },
  {
   "cell_type": "code",
   "execution_count": null,
   "metadata": {},
   "outputs": [],
   "source": [
    "# import preprocessing routine\n",
    "from preprocess_module import fraud_preprocessor\n",
    "\n",
    "# call preprocessor \n",
    "full_df = fraud_preprocessor(i_flag=0)"
   ]
  },
  {
   "cell_type": "markdown",
   "metadata": {},
   "source": [
    "## Feature Engineering"
   ]
  },
  {
   "cell_type": "code",
   "execution_count": 52,
   "metadata": {},
   "outputs": [],
   "source": [
    "# create physician count column \n",
    "phys_count = full_df.groupby(['AttendingPhysician', 'Provider'])['AttendingPhysician'].count()\\\n",
    "           .reset_index(name='Phys_Count').groupby(['Provider'])['Phys_Count'].count().reset_index()\n"
   ]
  },
  {
   "cell_type": "code",
   "execution_count": 53,
   "metadata": {},
   "outputs": [],
   "source": [
    "# create patient count column \n",
    "patient_count = full_df.groupby(['Provider', 'BeneID'])['BeneID'].count().reset_index(name='Patient_Count')\\\n",
    "                .groupby('Provider')['Patient_Count'].count().reset_index()\n",
    "\n",
    "train_features1 = pd.merge(phys_count, patient_count, on='Provider')"
   ]
  },
  {
   "cell_type": "code",
   "execution_count": 54,
   "metadata": {},
   "outputs": [],
   "source": [
    "# create claim count column \n",
    "claim_count = full_df.groupby(['Provider', 'ClaimID'])['ClaimID'].count().reset_index(name='Claim_Count').\\\n",
    "         groupby('Provider')['Claim_Count'].count().reset_index()\n",
    "\n",
    "train_features2 = pd.merge(train_features1, claim_count, on='Provider')"
   ]
  },
  {
   "cell_type": "code",
   "execution_count": 55,
   "metadata": {},
   "outputs": [],
   "source": [
    "##create service type column\n",
    "prov_type = full_df.groupby(['Provider', 'PatientType'])['BeneID'].count().reset_index(name='').drop('', axis=1)\n",
    "prov_type.head()\n",
    "\n",
    "# create a dictionary provider by service type\n",
    "lst_prov_type = list(zip(prov_type['Provider'], prov_type['PatientType']))\n",
    "\n",
    "# feed in empty dict with values inpatient, outpatient, or both\n",
    "prov_type_dict = {}\n",
    "\n",
    "for i in lst_prov_type:\n",
    "    if i[0] not in prov_type_dict:\n",
    "        prov_type_dict[i[0]]= i[1]    \n",
    "    else:\n",
    "        prov_type_dict[i[0]] = 'Both'\n",
    "        \n",
    "\n",
    "# creaete new column type of service by povider\n",
    "service_type = pd.DataFrame(prov_type_dict.keys(), prov_type_dict.values()).reset_index().\\\n",
    "               rename(columns={'index':'Service_Type', 0:'Provider'})\n",
    "\n",
    "# add Service column \n",
    "train_features3 = pd.merge(train_features2, service_type, on='Provider')"
   ]
  },
  {
   "cell_type": "code",
   "execution_count": 61,
   "metadata": {},
   "outputs": [
    {
     "data": {
      "text/html": [
       "<div>\n",
       "<style scoped>\n",
       "    .dataframe tbody tr th:only-of-type {\n",
       "        vertical-align: middle;\n",
       "    }\n",
       "\n",
       "    .dataframe tbody tr th {\n",
       "        vertical-align: top;\n",
       "    }\n",
       "\n",
       "    .dataframe thead th {\n",
       "        text-align: right;\n",
       "    }\n",
       "</style>\n",
       "<table border=\"1\" class=\"dataframe\">\n",
       "  <thead>\n",
       "    <tr style=\"text-align: right;\">\n",
       "      <th></th>\n",
       "      <th>Provider</th>\n",
       "      <th>Phys_Count</th>\n",
       "      <th>Patient_Count</th>\n",
       "      <th>Claim_Count</th>\n",
       "      <th>Service_Type</th>\n",
       "      <th>PotentialFraud</th>\n",
       "    </tr>\n",
       "  </thead>\n",
       "  <tbody>\n",
       "    <tr>\n",
       "      <th>0</th>\n",
       "      <td>PRV51001</td>\n",
       "      <td>14</td>\n",
       "      <td>24</td>\n",
       "      <td>25</td>\n",
       "      <td>Both</td>\n",
       "      <td>No</td>\n",
       "    </tr>\n",
       "    <tr>\n",
       "      <th>1</th>\n",
       "      <td>PRV51003</td>\n",
       "      <td>44</td>\n",
       "      <td>117</td>\n",
       "      <td>132</td>\n",
       "      <td>Both</td>\n",
       "      <td>Yes</td>\n",
       "    </tr>\n",
       "    <tr>\n",
       "      <th>2</th>\n",
       "      <td>PRV51004</td>\n",
       "      <td>38</td>\n",
       "      <td>138</td>\n",
       "      <td>149</td>\n",
       "      <td>Outpatient</td>\n",
       "      <td>No</td>\n",
       "    </tr>\n",
       "    <tr>\n",
       "      <th>3</th>\n",
       "      <td>PRV51005</td>\n",
       "      <td>7</td>\n",
       "      <td>495</td>\n",
       "      <td>1165</td>\n",
       "      <td>Outpatient</td>\n",
       "      <td>Yes</td>\n",
       "    </tr>\n",
       "    <tr>\n",
       "      <th>4</th>\n",
       "      <td>PRV51007</td>\n",
       "      <td>10</td>\n",
       "      <td>58</td>\n",
       "      <td>72</td>\n",
       "      <td>Both</td>\n",
       "      <td>No</td>\n",
       "    </tr>\n",
       "  </tbody>\n",
       "</table>\n",
       "</div>"
      ],
      "text/plain": [
       "   Provider  Phys_Count  Patient_Count  Claim_Count Service_Type  \\\n",
       "0  PRV51001          14             24           25         Both   \n",
       "1  PRV51003          44            117          132         Both   \n",
       "2  PRV51004          38            138          149   Outpatient   \n",
       "3  PRV51005           7            495         1165   Outpatient   \n",
       "4  PRV51007          10             58           72         Both   \n",
       "\n",
       "  PotentialFraud  \n",
       "0             No  \n",
       "1            Yes  \n",
       "2             No  \n",
       "3            Yes  \n",
       "4             No  "
      ]
     },
     "execution_count": 61,
     "metadata": {},
     "output_type": "execute_result"
    }
   ],
   "source": [
    "#import train label df\n",
    "label_train_df = pd.read_csv('Train-1542865627584.csv')\n",
    "\n",
    "#add label column\n",
    "features = pd.merge(train_features3, label_train_df, on='Provider')\n",
    "features.head()"
   ]
  },
  {
   "cell_type": "code",
   "execution_count": null,
   "metadata": {},
   "outputs": [],
   "source": []
  },
  {
   "cell_type": "code",
   "execution_count": null,
   "metadata": {},
   "outputs": [],
   "source": []
  }
 ],
 "metadata": {
  "kernelspec": {
   "display_name": "Python 3",
   "language": "python",
   "name": "python3"
  },
  "language_info": {
   "codemirror_mode": {
    "name": "ipython",
    "version": 3
   },
   "file_extension": ".py",
   "mimetype": "text/x-python",
   "name": "python",
   "nbconvert_exporter": "python",
   "pygments_lexer": "ipython3",
   "version": "3.7.6"
  }
 },
 "nbformat": 4,
 "nbformat_minor": 4
}
