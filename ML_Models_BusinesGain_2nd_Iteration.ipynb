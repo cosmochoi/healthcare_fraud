{
 "cells": [
  {
   "cell_type": "markdown",
   "metadata": {},
   "source": [
    "### Import Libraries"
   ]
  },
  {
   "cell_type": "code",
   "execution_count": 3,
   "metadata": {},
   "outputs": [],
   "source": [
    "from Feature_Engineering import feature_engineering\n",
    "from businessscoring import businessgain\n",
    "import pandas as pd\n",
    "import numpy as np\n",
    "\n",
    "from xgboost import XGBClassifier\n",
    "import sklearn.model_selection as ms\n",
    "from sklearn.linear_model import SGDClassifier\n",
    "from sklearn.linear_model import LogisticRegression\n",
    "from sklearn.neighbors import KNeighborsClassifier\n",
    "from sklearn.svm import SVC\n",
    "from sklearn.preprocessing import RobustScaler\n",
    "from sklearn.model_selection import GridSearchCV, StratifiedKFold, train_test_split\n",
    "from sklearn.metrics import confusion_matrix, recall_score, f1_score, classification_report, make_scorer\n",
    "from imblearn.over_sampling import RandomOverSampler\n",
    "from imblearn import over_sampling\n",
    "\n",
    "import matplotlib.pyplot as plt\n",
    "plt.style.use('ggplot')"
   ]
  },
  {
   "cell_type": "markdown",
   "metadata": {},
   "source": [
    "### Pre-Processing"
   ]
  },
  {
   "cell_type": "code",
   "execution_count": 4,
   "metadata": {},
   "outputs": [],
   "source": [
    "#feature engineering on full dataset\n",
    "features = feature_engineering(j_flag=1)"
   ]
  },
  {
   "cell_type": "code",
   "execution_count": 5,
   "metadata": {},
   "outputs": [],
   "source": [
    "#convert potential fraud values to 0 and 1\n",
    "features['PotentialFraud'] = features['PotentialFraud'].map({'No': 0, 'Yes': 1})"
   ]
  },
  {
   "cell_type": "code",
   "execution_count": 6,
   "metadata": {},
   "outputs": [],
   "source": [
    "#create variables for features and target\n",
    "X = features.drop(['PotentialFraud', 'Service_Type','Provider', 'Both_Service',\\\n",
    "                   'Inpatient', 'Gender2', 'Race5' ], axis=1)\n",
    "y = features['PotentialFraud'] "
   ]
  },
  {
   "cell_type": "code",
   "execution_count": 7,
   "metadata": {},
   "outputs": [],
   "source": [
    "#create seperate dataset with dummy variables to add back after scaling\n",
    "non_num = X[['Outpatient','isFraudConnected']]\n",
    "\n",
    "#drop dummy variables\n",
    "X = X.drop(['Outpatient','isFraudConnected'], axis =1)"
   ]
  },
  {
   "cell_type": "code",
   "execution_count": 8,
   "metadata": {},
   "outputs": [],
   "source": [
    "#scale on the training set \n",
    "scaler = RobustScaler()\n",
    "X_scaled = pd.DataFrame(scaler.fit_transform(X), columns=(X.columns), index=X.index)\n",
    "\n",
    "#add back dummy variables to scaled dataset \n",
    "X_scaled = pd.concat((X_scaled, non_num), axis=1)"
   ]
  },
  {
   "cell_type": "code",
   "execution_count": 9,
   "metadata": {},
   "outputs": [],
   "source": [
    "#use as cv=skf, ensures results are consistent in each partition\n",
    "s_kf = StratifiedKFold(n_splits=5, random_state=42, shuffle=True)"
   ]
  },
  {
   "cell_type": "code",
   "execution_count": 10,
   "metadata": {},
   "outputs": [],
   "source": [
    "#train/test split\n",
    "X_train, X_test, y_train, y_test = train_test_split(X_scaled, y, test_size=0.2, random_state=42, stratify=y)"
   ]
  },
  {
   "cell_type": "code",
   "execution_count": 11,
   "metadata": {},
   "outputs": [],
   "source": [
    "#SMOTE upsampling\n",
    "oversample = over_sampling.SMOTE()\n",
    "X_train_Bal, y_train_Bal = oversample.fit_resample(X_train, y_train)"
   ]
  },
  {
   "cell_type": "code",
   "execution_count": 12,
   "metadata": {},
   "outputs": [],
   "source": [
    "#random over sampling \n",
    "ros = RandomOverSampler()\n",
    "X_ros, y_ros = ros.fit_sample(X_train, y_train)"
   ]
  },
  {
   "cell_type": "code",
   "execution_count": 13,
   "metadata": {},
   "outputs": [],
   "source": [
    "#business_score = make_scorer(businessgain, greater_is_better=True)"
   ]
  },
  {
   "cell_type": "code",
   "execution_count": 14,
   "metadata": {},
   "outputs": [],
   "source": [
    "#create dataframe for model plot\n",
    "business_scores = pd.DataFrame(columns=('Model', 'Score'))"
   ]
  },
  {
   "cell_type": "markdown",
   "metadata": {},
   "source": [
    "### Logistic Regression"
   ]
  },
  {
   "cell_type": "markdown",
   "metadata": {},
   "source": [
    "#### SMOTE"
   ]
  },
  {
   "cell_type": "code",
   "execution_count": 15,
   "metadata": {},
   "outputs": [
    {
     "name": "stdout",
     "output_type": "stream",
     "text": [
      "SMOTE; \n",
      "Logistic Regression Baseline F1 score:  0.5602409638554218\n"
     ]
    }
   ],
   "source": [
    "# SMOTE balancing\n",
    "logistic = LogisticRegression(C=0.237, solver = 'liblinear',penalty='l2')\n",
    "logistic.fit(X_train_Bal, y_train_Bal)\n",
    "logistic.score(X_test, y_test)\n",
    "print(\"SMOTE; \\nLogistic Regression Baseline F1 score: \", f1_score(y_test,logistic.predict(X_test)))"
   ]
  },
  {
   "cell_type": "code",
   "execution_count": 16,
   "metadata": {},
   "outputs": [
    {
     "name": "stdout",
     "output_type": "stream",
     "text": [
      "CPU times: user 806 ms, sys: 126 ms, total: 933 ms\n",
      "Wall time: 5.18 s\n"
     ]
    },
    {
     "data": {
      "text/plain": [
       "GridSearchCV(cv=StratifiedKFold(n_splits=5, random_state=42, shuffle=True),\n",
       "             estimator=LogisticRegression(C=0.237, solver='liblinear'),\n",
       "             n_jobs=-1,\n",
       "             param_grid={'C': array([0.        , 0.07894737, 0.15789474, 0.23684211, 0.31578947,\n",
       "       0.39473684, 0.47368421, 0.55263158, 0.63157895, 0.71052632,\n",
       "       0.78947368, 0.86842105, 0.94736842, 1.02631579, 1.10526316,\n",
       "       1.18421053, 1.26315789, 1.34210526, 1.42105263, 1.5       ])},\n",
       "             scoring='f1')"
      ]
     },
     "execution_count": 16,
     "metadata": {},
     "output_type": "execute_result"
    }
   ],
   "source": [
    "grid_para_logit = {\n",
    "    'C': np.linspace(0,1.5,20)\n",
    "}\n",
    "\n",
    "grid_search_logit = ms.GridSearchCV(logistic, grid_para_logit, cv=s_kf, scoring='f1', n_jobs=-1)\n",
    "%time grid_search_logit.fit(X_train_Bal, y_train_Bal)"
   ]
  },
  {
   "cell_type": "code",
   "execution_count": 17,
   "metadata": {},
   "outputs": [
    {
     "name": "stdout",
     "output_type": "stream",
     "text": [
      "{'C': 0.23684210526315788}\n",
      "Logistic Regression Grid Search train F1 score:  0.8817944744164935\n",
      "Logistic Best Estimator Validation set F1 score:  0.5585585585585586\n",
      "Logistic Best Estimator Validation set business score:  0.7059336154387851\n"
     ]
    }
   ],
   "source": [
    "#SMOTE\n",
    "logit_final = grid_search_logit.best_estimator_\n",
    "print(grid_search_logit.best_params_)\n",
    "print(\"Logistic Regression Grid Search train F1 score: \", grid_search_logit.best_score_)\n",
    "print(\"Logistic Best Estimator Validation set F1 score: \", f1_score(y_test,logit_final.predict(X_test)))\n",
    "print(\"Logistic Best Estimator Validation set business score: \", businessgain(y_test,logit_final.predict(X_test)))\n",
    "SMOTE_logit = businessgain(y_test,logit_final.predict(X_test))"
   ]
  },
  {
   "cell_type": "markdown",
   "metadata": {},
   "source": [
    "#### imblearn"
   ]
  },
  {
   "cell_type": "code",
   "execution_count": 18,
   "metadata": {},
   "outputs": [
    {
     "name": "stdout",
     "output_type": "stream",
     "text": [
      "Random oversampling; \n",
      "Logistic Regression Baseline F1 score:  0.563467492260062\n"
     ]
    }
   ],
   "source": [
    "# imblearn balancing\n",
    "logistic = LogisticRegression(C=0.237, solver = 'liblinear',penalty='l2')\n",
    "logistic.fit(X_ros, y_ros)\n",
    "logistic.score(X_test, y_test)\n",
    "print(\"Random oversampling; \\nLogistic Regression Baseline F1 score: \", f1_score(y_test,logistic.predict(X_test)))"
   ]
  },
  {
   "cell_type": "code",
   "execution_count": 19,
   "metadata": {},
   "outputs": [
    {
     "name": "stdout",
     "output_type": "stream",
     "text": [
      "CPU times: user 666 ms, sys: 36 ms, total: 702 ms\n",
      "Wall time: 3.88 s\n"
     ]
    },
    {
     "data": {
      "text/plain": [
       "GridSearchCV(cv=StratifiedKFold(n_splits=5, random_state=42, shuffle=True),\n",
       "             estimator=LogisticRegression(C=0.237, solver='liblinear'),\n",
       "             n_jobs=-1,\n",
       "             param_grid={'C': array([0.        , 0.07894737, 0.15789474, 0.23684211, 0.31578947,\n",
       "       0.39473684, 0.47368421, 0.55263158, 0.63157895, 0.71052632,\n",
       "       0.78947368, 0.86842105, 0.94736842, 1.02631579, 1.10526316,\n",
       "       1.18421053, 1.26315789, 1.34210526, 1.42105263, 1.5       ])},\n",
       "             scoring='f1')"
      ]
     },
     "execution_count": 19,
     "metadata": {},
     "output_type": "execute_result"
    }
   ],
   "source": [
    "grid_para_logit = {\n",
    "    'C': np.linspace(0,1.5,20)\n",
    "}\n",
    "grid_search_logit = ms.GridSearchCV(logistic, grid_para_logit, cv=s_kf, scoring='f1', n_jobs=-1)\n",
    "%time grid_search_logit.fit(X_ros, y_ros)"
   ]
  },
  {
   "cell_type": "code",
   "execution_count": 20,
   "metadata": {},
   "outputs": [
    {
     "name": "stdout",
     "output_type": "stream",
     "text": [
      "{'C': 1.3421052631578947}\n",
      "Logistic Regression Grid Search train F1 score:  0.8661027061063995\n",
      "Logistic Best Estimator Validation set F1 score:  0.5607476635514019\n",
      "Logistic Best Estimator Validation set business score:  0.6520644317009321\n"
     ]
    }
   ],
   "source": [
    "logit_final = grid_search_logit.best_estimator_\n",
    "print(grid_search_logit.best_params_)\n",
    "print(\"Logistic Regression Grid Search train F1 score: \", grid_search_logit.best_score_)\n",
    "print(\"Logistic Best Estimator Validation set F1 score: \", f1_score(y_test,logit_final.predict(X_test)))\n",
    "print(\"Logistic Best Estimator Validation set business score: \", businessgain(y_test,logit_final.predict(X_test)))\n",
    "imblearn_logit = businessgain(y_test,logit_final.predict(X_test))"
   ]
  },
  {
   "cell_type": "markdown",
   "metadata": {},
   "source": [
    "#### Comparing SMOTE and imblearn"
   ]
  },
  {
   "cell_type": "code",
   "execution_count": 21,
   "metadata": {},
   "outputs": [
    {
     "name": "stdout",
     "output_type": "stream",
     "text": [
      "SMOTE logit business score:  0.7059336154387851 \n",
      "imblearn logit business score:  0.6520644317009321\n"
     ]
    }
   ],
   "source": [
    "print('SMOTE logit business score: ', SMOTE_logit, '\\nimblearn logit business score: ', imblearn_logit)"
   ]
  },
  {
   "cell_type": "code",
   "execution_count": 22,
   "metadata": {},
   "outputs": [],
   "source": [
    "business_scores.loc[0] = 'Logistic', round(SMOTE_logit, 2)"
   ]
  },
  {
   "cell_type": "code",
   "execution_count": 23,
   "metadata": {},
   "outputs": [
    {
     "data": {
      "text/plain": [
       "array([[851, 130],\n",
       "       [ 11,  90]])"
      ]
     },
     "execution_count": 23,
     "metadata": {},
     "output_type": "execute_result"
    }
   ],
   "source": [
    "confusion_matrix(y_test, logit_final.predict(X_test))"
   ]
  },
  {
   "cell_type": "code",
   "execution_count": 24,
   "metadata": {},
   "outputs": [
    {
     "name": "stdout",
     "output_type": "stream",
     "text": [
      "              precision    recall  f1-score   support\n",
      "\n",
      "           0       0.87      0.99      0.92       862\n",
      "           1       0.89      0.41      0.56       220\n",
      "\n",
      "    accuracy                           0.87      1082\n",
      "   macro avg       0.88      0.70      0.74      1082\n",
      "weighted avg       0.87      0.87      0.85      1082\n",
      "\n"
     ]
    }
   ],
   "source": [
    "print(classification_report(logit_final.predict(X_test), y_test))"
   ]
  },
  {
   "cell_type": "markdown",
   "metadata": {},
   "source": [
    "#### feature importance for logistic regression"
   ]
  },
  {
   "cell_type": "code",
   "execution_count": 25,
   "metadata": {},
   "outputs": [
    {
     "data": {
      "text/html": [
       "<div>\n",
       "<style scoped>\n",
       "    .dataframe tbody tr th:only-of-type {\n",
       "        vertical-align: middle;\n",
       "    }\n",
       "\n",
       "    .dataframe tbody tr th {\n",
       "        vertical-align: top;\n",
       "    }\n",
       "\n",
       "    .dataframe thead th {\n",
       "        text-align: right;\n",
       "    }\n",
       "</style>\n",
       "<table border=\"1\" class=\"dataframe\">\n",
       "  <thead>\n",
       "    <tr style=\"text-align: right;\">\n",
       "      <th></th>\n",
       "      <th>Feature</th>\n",
       "      <th>Score</th>\n",
       "    </tr>\n",
       "  </thead>\n",
       "  <tbody>\n",
       "    <tr>\n",
       "      <th>55</th>\n",
       "      <td>Outpatient</td>\n",
       "      <td>1.853643</td>\n",
       "    </tr>\n",
       "    <tr>\n",
       "      <th>6</th>\n",
       "      <td>Outpatient_Count</td>\n",
       "      <td>1.114500</td>\n",
       "    </tr>\n",
       "    <tr>\n",
       "      <th>3</th>\n",
       "      <td>Claim_Count</td>\n",
       "      <td>1.099573</td>\n",
       "    </tr>\n",
       "    <tr>\n",
       "      <th>48</th>\n",
       "      <td>Diagnosis_3_Count</td>\n",
       "      <td>0.974655</td>\n",
       "    </tr>\n",
       "    <tr>\n",
       "      <th>53</th>\n",
       "      <td>Diagnosis_8_Count</td>\n",
       "      <td>0.830431</td>\n",
       "    </tr>\n",
       "    <tr>\n",
       "      <th>20</th>\n",
       "      <td>ChronicCond_KidneyDisease_1</td>\n",
       "      <td>0.660344</td>\n",
       "    </tr>\n",
       "    <tr>\n",
       "      <th>15</th>\n",
       "      <td>Race1</td>\n",
       "      <td>0.645084</td>\n",
       "    </tr>\n",
       "    <tr>\n",
       "      <th>18</th>\n",
       "      <td>ChronicCond_Alzheimer_1</td>\n",
       "      <td>0.564371</td>\n",
       "    </tr>\n",
       "    <tr>\n",
       "      <th>50</th>\n",
       "      <td>Diagnosis_5_Count</td>\n",
       "      <td>0.551812</td>\n",
       "    </tr>\n",
       "    <tr>\n",
       "      <th>46</th>\n",
       "      <td>Diagnosis_1_Count</td>\n",
       "      <td>0.540093</td>\n",
       "    </tr>\n",
       "    <tr>\n",
       "      <th>47</th>\n",
       "      <td>Diagnosis_2_Count</td>\n",
       "      <td>0.455295</td>\n",
       "    </tr>\n",
       "    <tr>\n",
       "      <th>21</th>\n",
       "      <td>ChronicCond_KidneyDisease_2</td>\n",
       "      <td>0.417654</td>\n",
       "    </tr>\n",
       "    <tr>\n",
       "      <th>44</th>\n",
       "      <td>Procedure_4_Count</td>\n",
       "      <td>0.413313</td>\n",
       "    </tr>\n",
       "    <tr>\n",
       "      <th>31</th>\n",
       "      <td>ChronicCond_IschemicHeart_2</td>\n",
       "      <td>0.386362</td>\n",
       "    </tr>\n",
       "    <tr>\n",
       "      <th>19</th>\n",
       "      <td>ChronicCond_Alzheimer_2</td>\n",
       "      <td>0.382967</td>\n",
       "    </tr>\n",
       "    <tr>\n",
       "      <th>9</th>\n",
       "      <td>DuplicateClaims</td>\n",
       "      <td>0.375892</td>\n",
       "    </tr>\n",
       "    <tr>\n",
       "      <th>5</th>\n",
       "      <td>Inpatient_Count</td>\n",
       "      <td>0.366450</td>\n",
       "    </tr>\n",
       "    <tr>\n",
       "      <th>45</th>\n",
       "      <td>Procedure_5_Count</td>\n",
       "      <td>0.364296</td>\n",
       "    </tr>\n",
       "    <tr>\n",
       "      <th>34</th>\n",
       "      <td>ChronicCond_rheumatoidarthritis_1</td>\n",
       "      <td>0.349542</td>\n",
       "    </tr>\n",
       "    <tr>\n",
       "      <th>10</th>\n",
       "      <td>Duplicate_Claims_Percent</td>\n",
       "      <td>0.312854</td>\n",
       "    </tr>\n",
       "    <tr>\n",
       "      <th>13</th>\n",
       "      <td>Avg_Age</td>\n",
       "      <td>0.293463</td>\n",
       "    </tr>\n",
       "    <tr>\n",
       "      <th>51</th>\n",
       "      <td>Diagnosis_6_Count</td>\n",
       "      <td>0.284660</td>\n",
       "    </tr>\n",
       "    <tr>\n",
       "      <th>24</th>\n",
       "      <td>ChronicCond_ObstrPulmonary_1</td>\n",
       "      <td>0.265556</td>\n",
       "    </tr>\n",
       "    <tr>\n",
       "      <th>36</th>\n",
       "      <td>ChronicCond_stroke_1</td>\n",
       "      <td>0.210699</td>\n",
       "    </tr>\n",
       "    <tr>\n",
       "      <th>16</th>\n",
       "      <td>Race2</td>\n",
       "      <td>0.208058</td>\n",
       "    </tr>\n",
       "    <tr>\n",
       "      <th>52</th>\n",
       "      <td>Diagnosis_7_Count</td>\n",
       "      <td>0.206897</td>\n",
       "    </tr>\n",
       "    <tr>\n",
       "      <th>56</th>\n",
       "      <td>isFraudConnected</td>\n",
       "      <td>0.179813</td>\n",
       "    </tr>\n",
       "    <tr>\n",
       "      <th>32</th>\n",
       "      <td>ChronicCond_Osteoporasis_1</td>\n",
       "      <td>0.174156</td>\n",
       "    </tr>\n",
       "    <tr>\n",
       "      <th>26</th>\n",
       "      <td>ChronicCond_Depression_1</td>\n",
       "      <td>0.171501</td>\n",
       "    </tr>\n",
       "    <tr>\n",
       "      <th>12</th>\n",
       "      <td>Avg_Cost</td>\n",
       "      <td>0.170707</td>\n",
       "    </tr>\n",
       "    <tr>\n",
       "      <th>14</th>\n",
       "      <td>Gender1</td>\n",
       "      <td>0.170027</td>\n",
       "    </tr>\n",
       "    <tr>\n",
       "      <th>35</th>\n",
       "      <td>ChronicCond_rheumatoidarthritis_2</td>\n",
       "      <td>0.155755</td>\n",
       "    </tr>\n",
       "    <tr>\n",
       "      <th>43</th>\n",
       "      <td>Procedure_3_Count</td>\n",
       "      <td>0.152050</td>\n",
       "    </tr>\n",
       "    <tr>\n",
       "      <th>0</th>\n",
       "      <td>Phys_Count</td>\n",
       "      <td>0.148040</td>\n",
       "    </tr>\n",
       "    <tr>\n",
       "      <th>11</th>\n",
       "      <td>AvgClaimDuration</td>\n",
       "      <td>0.136407</td>\n",
       "    </tr>\n",
       "    <tr>\n",
       "      <th>30</th>\n",
       "      <td>ChronicCond_IschemicHeart_1</td>\n",
       "      <td>0.132813</td>\n",
       "    </tr>\n",
       "    <tr>\n",
       "      <th>27</th>\n",
       "      <td>ChronicCond_Depression_2</td>\n",
       "      <td>0.130057</td>\n",
       "    </tr>\n",
       "    <tr>\n",
       "      <th>25</th>\n",
       "      <td>ChronicCond_ObstrPulmonary_2</td>\n",
       "      <td>0.118294</td>\n",
       "    </tr>\n",
       "    <tr>\n",
       "      <th>22</th>\n",
       "      <td>ChronicCond_Cancer_1</td>\n",
       "      <td>0.116709</td>\n",
       "    </tr>\n",
       "    <tr>\n",
       "      <th>54</th>\n",
       "      <td>Diagnosis_9_Count</td>\n",
       "      <td>0.116145</td>\n",
       "    </tr>\n",
       "    <tr>\n",
       "      <th>42</th>\n",
       "      <td>Procedure_2_Count</td>\n",
       "      <td>0.113496</td>\n",
       "    </tr>\n",
       "    <tr>\n",
       "      <th>8</th>\n",
       "      <td>Norm_Outpatient_Count</td>\n",
       "      <td>0.107001</td>\n",
       "    </tr>\n",
       "    <tr>\n",
       "      <th>40</th>\n",
       "      <td>FraudNeighbor_Count</td>\n",
       "      <td>0.106902</td>\n",
       "    </tr>\n",
       "    <tr>\n",
       "      <th>7</th>\n",
       "      <td>Norm_Inpatient_Count</td>\n",
       "      <td>0.106477</td>\n",
       "    </tr>\n",
       "    <tr>\n",
       "      <th>39</th>\n",
       "      <td>NoPhysicianCount</td>\n",
       "      <td>0.087583</td>\n",
       "    </tr>\n",
       "    <tr>\n",
       "      <th>2</th>\n",
       "      <td>Norm_Patient_Count</td>\n",
       "      <td>0.084537</td>\n",
       "    </tr>\n",
       "    <tr>\n",
       "      <th>29</th>\n",
       "      <td>ChronicCond_Diabetes_2</td>\n",
       "      <td>0.065391</td>\n",
       "    </tr>\n",
       "    <tr>\n",
       "      <th>33</th>\n",
       "      <td>ChronicCond_Osteoporasis_2</td>\n",
       "      <td>0.055055</td>\n",
       "    </tr>\n",
       "    <tr>\n",
       "      <th>4</th>\n",
       "      <td>Norm_Claim_Count</td>\n",
       "      <td>0.047935</td>\n",
       "    </tr>\n",
       "    <tr>\n",
       "      <th>41</th>\n",
       "      <td>Procedure_1_Count</td>\n",
       "      <td>0.042955</td>\n",
       "    </tr>\n",
       "    <tr>\n",
       "      <th>23</th>\n",
       "      <td>ChronicCond_Cancer_2</td>\n",
       "      <td>0.042459</td>\n",
       "    </tr>\n",
       "    <tr>\n",
       "      <th>37</th>\n",
       "      <td>ChronicCond_stroke_2</td>\n",
       "      <td>0.028628</td>\n",
       "    </tr>\n",
       "    <tr>\n",
       "      <th>49</th>\n",
       "      <td>Diagnosis_4_Count</td>\n",
       "      <td>0.025089</td>\n",
       "    </tr>\n",
       "    <tr>\n",
       "      <th>17</th>\n",
       "      <td>Race3</td>\n",
       "      <td>0.020589</td>\n",
       "    </tr>\n",
       "    <tr>\n",
       "      <th>1</th>\n",
       "      <td>Patient_Count</td>\n",
       "      <td>0.017327</td>\n",
       "    </tr>\n",
       "    <tr>\n",
       "      <th>28</th>\n",
       "      <td>ChronicCond_Diabetes_1</td>\n",
       "      <td>0.004983</td>\n",
       "    </tr>\n",
       "    <tr>\n",
       "      <th>38</th>\n",
       "      <td>NetworkDegree</td>\n",
       "      <td>0.004620</td>\n",
       "    </tr>\n",
       "  </tbody>\n",
       "</table>\n",
       "</div>"
      ],
      "text/plain": [
       "                              Feature     Score\n",
       "55                         Outpatient  1.853643\n",
       "6                    Outpatient_Count  1.114500\n",
       "3                         Claim_Count  1.099573\n",
       "48                  Diagnosis_3_Count  0.974655\n",
       "53                  Diagnosis_8_Count  0.830431\n",
       "20        ChronicCond_KidneyDisease_1  0.660344\n",
       "15                              Race1  0.645084\n",
       "18            ChronicCond_Alzheimer_1  0.564371\n",
       "50                  Diagnosis_5_Count  0.551812\n",
       "46                  Diagnosis_1_Count  0.540093\n",
       "47                  Diagnosis_2_Count  0.455295\n",
       "21        ChronicCond_KidneyDisease_2  0.417654\n",
       "44                  Procedure_4_Count  0.413313\n",
       "31        ChronicCond_IschemicHeart_2  0.386362\n",
       "19            ChronicCond_Alzheimer_2  0.382967\n",
       "9                     DuplicateClaims  0.375892\n",
       "5                     Inpatient_Count  0.366450\n",
       "45                  Procedure_5_Count  0.364296\n",
       "34  ChronicCond_rheumatoidarthritis_1  0.349542\n",
       "10           Duplicate_Claims_Percent  0.312854\n",
       "13                            Avg_Age  0.293463\n",
       "51                  Diagnosis_6_Count  0.284660\n",
       "24       ChronicCond_ObstrPulmonary_1  0.265556\n",
       "36               ChronicCond_stroke_1  0.210699\n",
       "16                              Race2  0.208058\n",
       "52                  Diagnosis_7_Count  0.206897\n",
       "56                   isFraudConnected  0.179813\n",
       "32         ChronicCond_Osteoporasis_1  0.174156\n",
       "26           ChronicCond_Depression_1  0.171501\n",
       "12                           Avg_Cost  0.170707\n",
       "14                            Gender1  0.170027\n",
       "35  ChronicCond_rheumatoidarthritis_2  0.155755\n",
       "43                  Procedure_3_Count  0.152050\n",
       "0                          Phys_Count  0.148040\n",
       "11                   AvgClaimDuration  0.136407\n",
       "30        ChronicCond_IschemicHeart_1  0.132813\n",
       "27           ChronicCond_Depression_2  0.130057\n",
       "25       ChronicCond_ObstrPulmonary_2  0.118294\n",
       "22               ChronicCond_Cancer_1  0.116709\n",
       "54                  Diagnosis_9_Count  0.116145\n",
       "42                  Procedure_2_Count  0.113496\n",
       "8               Norm_Outpatient_Count  0.107001\n",
       "40                FraudNeighbor_Count  0.106902\n",
       "7                Norm_Inpatient_Count  0.106477\n",
       "39                   NoPhysicianCount  0.087583\n",
       "2                  Norm_Patient_Count  0.084537\n",
       "29             ChronicCond_Diabetes_2  0.065391\n",
       "33         ChronicCond_Osteoporasis_2  0.055055\n",
       "4                    Norm_Claim_Count  0.047935\n",
       "41                  Procedure_1_Count  0.042955\n",
       "23               ChronicCond_Cancer_2  0.042459\n",
       "37               ChronicCond_stroke_2  0.028628\n",
       "49                  Diagnosis_4_Count  0.025089\n",
       "17                              Race3  0.020589\n",
       "1                       Patient_Count  0.017327\n",
       "28             ChronicCond_Diabetes_1  0.004983\n",
       "38                      NetworkDegree  0.004620"
      ]
     },
     "execution_count": 25,
     "metadata": {},
     "output_type": "execute_result"
    },
    {
     "data": {
      "image/png": "[encoded data removed]",
      "text/plain": [
       "<Figure size 432x288 with 1 Axes>"
      ]
     },
     "metadata": {},
     "output_type": "display_data"
    }
   ],
   "source": [
    "importance = logit_final.coef_[0]\n",
    "feature_importance = pd.DataFrame(columns = ('Feature', 'Score'))\n",
    "\n",
    "# summarize feature importance\n",
    "for i,v in enumerate(importance):\n",
    "    feature_importance.loc[i] = X_train_Bal.columns[i], np.abs(v)\n",
    "    \n",
    "# plot feature importance\n",
    "scores = feature_importance.sort_values(by = 'Score', ascending=False)\n",
    "scores.plot.bar()\n",
    "scores"
   ]
  },
  {
   "cell_type": "markdown",
   "metadata": {},
   "source": [
    "### Stochastic Gradient Descent"
   ]
  },
  {
   "cell_type": "markdown",
   "metadata": {},
   "source": [
    "#### SMOTE"
   ]
  },
  {
   "cell_type": "code",
   "execution_count": 26,
   "metadata": {},
   "outputs": [
    {
     "name": "stdout",
     "output_type": "stream",
     "text": [
      "SMOTE: \n",
      "SGD Baseline F1 score:  0.30886850152905204\n"
     ]
    }
   ],
   "source": [
    "#SMOTE\n",
    "sgd = SGDClassifier(loss='log', max_iter=1e4, l1_ratio=0, alpha=1e-4, shuffle=False)\n",
    "sgd.fit(X_train_Bal, y_train_Bal)\n",
    "print(\"SMOTE: \\nSGD Baseline F1 score: \", f1_score(y_test,sgd.predict(X_test)))"
   ]
  },
  {
   "cell_type": "code",
   "execution_count": 27,
   "metadata": {},
   "outputs": [
    {
     "name": "stdout",
     "output_type": "stream",
     "text": [
      "CPU times: user 2.43 s, sys: 132 ms, total: 2.56 s\n",
      "Wall time: 13.4 s\n"
     ]
    },
    {
     "name": "stderr",
     "output_type": "stream",
     "text": [
      "/Users/marcuschoi/opt/anaconda3/lib/python3.7/site-packages/sklearn/linear_model/_stochastic_gradient.py:573: ConvergenceWarning: Maximum number of iteration reached before convergence. Consider increasing max_iter to improve the fit.\n",
      "  ConvergenceWarning)\n"
     ]
    },
    {
     "data": {
      "text/plain": [
       "GridSearchCV(cv=StratifiedKFold(n_splits=5, random_state=42, shuffle=True),\n",
       "             estimator=SGDClassifier(l1_ratio=0, loss='log', max_iter=10000.0,\n",
       "                                     shuffle=False),\n",
       "             n_jobs=-1,\n",
       "             param_grid={'alpha': array([0.0005    , 0.00048621, 0.00047241, 0.00045862, 0.00044483,\n",
       "       0.00043103, 0.00041724, 0.00040345, 0.00038966, 0.00037586,\n",
       "       0.00036207, 0.00034828, 0.00033448, 0.00032069, 0.0003069 ,\n",
       "       0.0002931 , 0.00027931, 0.00026552, 0.00025172, 0.00023793,\n",
       "       0.00022414, 0.00021034, 0.00019655, 0.00018276, 0.00016897,\n",
       "       0.00015517, 0.00014138, 0.00012759, 0.00011379, 0.0001    ]),\n",
       "                         'max_iter': [0.001, 0.01, 0.1, 1, 10, 100, 1000,\n",
       "                                      10000]},\n",
       "             scoring='f1')"
      ]
     },
     "execution_count": 27,
     "metadata": {},
     "output_type": "execute_result"
    }
   ],
   "source": [
    "grid_para_sgd = {\n",
    "    'max_iter': [0.001, 0.01, 0.1, 1, 10, 100, 1000, 10000],\n",
    "    'alpha': np.linspace(5e-4,1e-4,30)\n",
    "}\n",
    "grid_search_sgd = ms.GridSearchCV(sgd, grid_para_sgd, cv=s_kf, scoring='f1', n_jobs=-1)\n",
    "%time grid_search_sgd.fit(X_train_Bal, y_train_Bal)"
   ]
  },
  {
   "cell_type": "code",
   "execution_count": 28,
   "metadata": {},
   "outputs": [
    {
     "name": "stdout",
     "output_type": "stream",
     "text": [
      "SMOTE: \n",
      "\n",
      "SGD Grid Search best params:  {'alpha': 0.00044482758620689657, 'max_iter': 1}\n",
      "SGD Grid Search Training set F1 score:  0.8217737972906353\n",
      "SGD Best Estimator Validation set F1 score:  0.33169129720853857\n",
      "SGD Best Estimator Validation set business score:  0.6244233265873335\n"
     ]
    }
   ],
   "source": [
    "print(\"SMOTE: \\n\")\n",
    "print(\"SGD Grid Search best params: \", grid_search_sgd.best_params_)\n",
    "print(\"SGD Grid Search Training set F1 score: \", grid_search_sgd.best_score_)\n",
    "sgd_final = grid_search_sgd.best_estimator_\n",
    "print(\"SGD Best Estimator Validation set F1 score: \", f1_score(y_test,sgd_final.predict(X_test)))\n",
    "print(\"SGD Best Estimator Validation set business score: \", businessgain(y_test,sgd_final.predict(X_test)))\n",
    "SMOTE_sgd = businessgain(y_test,sgd_final.predict(X_test))"
   ]
  },
  {
   "cell_type": "markdown",
   "metadata": {},
   "source": [
    "#### imblearn"
   ]
  },
  {
   "cell_type": "code",
   "execution_count": 29,
   "metadata": {},
   "outputs": [
    {
     "name": "stdout",
     "output_type": "stream",
     "text": [
      "Imblearn Balanced: \n",
      "SGD Baseline F1 score:  0.30467571644042235\n"
     ]
    }
   ],
   "source": [
    "sgd = SGDClassifier(loss='log', max_iter=1e4, l1_ratio=0, alpha=1e-4, shuffle=False)\n",
    "sgd.fit(X_ros, y_ros)\n",
    "print(\"Imblearn Balanced: \\nSGD Baseline F1 score: \", f1_score(y_test,sgd.predict(X_test)))"
   ]
  },
  {
   "cell_type": "code",
   "execution_count": 30,
   "metadata": {},
   "outputs": [
    {
     "name": "stdout",
     "output_type": "stream",
     "text": [
      "CPU times: user 2.64 s, sys: 128 ms, total: 2.77 s\n",
      "Wall time: 13.6 s\n"
     ]
    },
    {
     "name": "stderr",
     "output_type": "stream",
     "text": [
      "/Users/marcuschoi/opt/anaconda3/lib/python3.7/site-packages/sklearn/linear_model/_stochastic_gradient.py:573: ConvergenceWarning: Maximum number of iteration reached before convergence. Consider increasing max_iter to improve the fit.\n",
      "  ConvergenceWarning)\n"
     ]
    },
    {
     "data": {
      "text/plain": [
       "GridSearchCV(cv=StratifiedKFold(n_splits=5, random_state=42, shuffle=True),\n",
       "             estimator=SGDClassifier(l1_ratio=0, loss='log', max_iter=10000.0,\n",
       "                                     shuffle=False),\n",
       "             n_jobs=-1,\n",
       "             param_grid={'alpha': array([0.0005    , 0.00048621, 0.00047241, 0.00045862, 0.00044483,\n",
       "       0.00043103, 0.00041724, 0.00040345, 0.00038966, 0.00037586,\n",
       "       0.00036207, 0.00034828, 0.00033448, 0.00032069, 0.0003069 ,\n",
       "       0.0002931 , 0.00027931, 0.00026552, 0.00025172, 0.00023793,\n",
       "       0.00022414, 0.00021034, 0.00019655, 0.00018276, 0.00016897,\n",
       "       0.00015517, 0.00014138, 0.00012759, 0.00011379, 0.0001    ]),\n",
       "                         'max_iter': [0.001, 0.01, 0.1, 1, 10, 100, 1000,\n",
       "                                      10000]},\n",
       "             scoring='f1')"
      ]
     },
     "execution_count": 30,
     "metadata": {},
     "output_type": "execute_result"
    }
   ],
   "source": [
    "grid_para_sgd = {\n",
    "    'max_iter': [0.001, 0.01, 0.1, 1, 10, 100, 1000, 10000],\n",
    "    'alpha': np.linspace(5e-4,1e-4,30)\n",
    "}\n",
    "grid_search_sgd = ms.GridSearchCV(sgd, grid_para_sgd, cv=s_kf, scoring='f1', n_jobs=-1)\n",
    "%time grid_search_sgd.fit(X_ros, y_ros)"
   ]
  },
  {
   "cell_type": "code",
   "execution_count": 31,
   "metadata": {},
   "outputs": [
    {
     "name": "stdout",
     "output_type": "stream",
     "text": [
      "SGD Grid Search best params:  {'alpha': 0.00038965517241379313, 'max_iter': 10}\n",
      "SGD Grid Search Training set F1 score:  0.8242513544707799\n",
      "SGD Best Estimator Validation set F1 score:  0.34246575342465757\n",
      "SGD Best Estimator Validation set business score:  0.6258455810047715\n"
     ]
    }
   ],
   "source": [
    "print(\"SGD Grid Search best params: \", grid_search_sgd.best_params_)\n",
    "print(\"SGD Grid Search Training set F1 score: \", grid_search_sgd.best_score_)\n",
    "sgd_final = grid_search_sgd.best_estimator_\n",
    "print(\"SGD Best Estimator Validation set F1 score: \", f1_score(y_test,sgd_final.predict(X_test)))\n",
    "print(\"SGD Best Estimator Validation set business score: \", businessgain(y_test,sgd_final.predict(X_test)))\n",
    "imblearn_sgd = businessgain(y_test,sgd_final.predict(X_test))"
   ]
  },
  {
   "cell_type": "markdown",
   "metadata": {},
   "source": [
    "#### Comparing SMOTE with imblearn"
   ]
  },
  {
   "cell_type": "code",
   "execution_count": 32,
   "metadata": {},
   "outputs": [
    {
     "name": "stdout",
     "output_type": "stream",
     "text": [
      "SMOTE SGD business score:  0.6244233265873335 \n",
      "imblearn SGD business score:  0.6258455810047715\n"
     ]
    }
   ],
   "source": [
    "print('SMOTE SGD business score: ', SMOTE_sgd, '\\nimblearn SGD business score: ', imblearn_sgd)"
   ]
  },
  {
   "cell_type": "code",
   "execution_count": 33,
   "metadata": {},
   "outputs": [],
   "source": [
    "business_scores.loc[1] = 'SGD', round(SMOTE_sgd, 2)"
   ]
  },
  {
   "cell_type": "code",
   "execution_count": 34,
   "metadata": {},
   "outputs": [
    {
     "data": {
      "text/plain": [
       "array([[598, 383],\n",
       "       [  1, 100]])"
      ]
     },
     "execution_count": 34,
     "metadata": {},
     "output_type": "execute_result"
    }
   ],
   "source": [
    "confusion_matrix(y_test, sgd_final.predict(X_test))"
   ]
  },
  {
   "cell_type": "code",
   "execution_count": 35,
   "metadata": {},
   "outputs": [
    {
     "name": "stdout",
     "output_type": "stream",
     "text": [
      "              precision    recall  f1-score   support\n",
      "\n",
      "           0       0.61      1.00      0.76       599\n",
      "           1       0.99      0.21      0.34       483\n",
      "\n",
      "    accuracy                           0.65      1082\n",
      "   macro avg       0.80      0.60      0.55      1082\n",
      "weighted avg       0.78      0.65      0.57      1082\n",
      "\n"
     ]
    }
   ],
   "source": [
    "print(classification_report(sgd_final.predict(X_test), y_test))"
   ]
  },
  {
   "cell_type": "markdown",
   "metadata": {},
   "source": [
    "#### SGD feature Importance"
   ]
  },
  {
   "cell_type": "code",
   "execution_count": 36,
   "metadata": {},
   "outputs": [
    {
     "data": {
      "text/html": [
       "<div>\n",
       "<style scoped>\n",
       "    .dataframe tbody tr th:only-of-type {\n",
       "        vertical-align: middle;\n",
       "    }\n",
       "\n",
       "    .dataframe tbody tr th {\n",
       "        vertical-align: top;\n",
       "    }\n",
       "\n",
       "    .dataframe thead th {\n",
       "        text-align: right;\n",
       "    }\n",
       "</style>\n",
       "<table border=\"1\" class=\"dataframe\">\n",
       "  <thead>\n",
       "    <tr style=\"text-align: right;\">\n",
       "      <th></th>\n",
       "      <th>Feature</th>\n",
       "      <th>Score</th>\n",
       "    </tr>\n",
       "  </thead>\n",
       "  <tbody>\n",
       "    <tr>\n",
       "      <th>55</th>\n",
       "      <td>Outpatient</td>\n",
       "      <td>18.169690</td>\n",
       "    </tr>\n",
       "    <tr>\n",
       "      <th>6</th>\n",
       "      <td>Outpatient_Count</td>\n",
       "      <td>11.688448</td>\n",
       "    </tr>\n",
       "    <tr>\n",
       "      <th>5</th>\n",
       "      <td>Inpatient_Count</td>\n",
       "      <td>10.399796</td>\n",
       "    </tr>\n",
       "    <tr>\n",
       "      <th>8</th>\n",
       "      <td>Norm_Outpatient_Count</td>\n",
       "      <td>9.945290</td>\n",
       "    </tr>\n",
       "    <tr>\n",
       "      <th>7</th>\n",
       "      <td>Norm_Inpatient_Count</td>\n",
       "      <td>9.920244</td>\n",
       "    </tr>\n",
       "    <tr>\n",
       "      <th>38</th>\n",
       "      <td>NetworkDegree</td>\n",
       "      <td>9.888177</td>\n",
       "    </tr>\n",
       "    <tr>\n",
       "      <th>46</th>\n",
       "      <td>Diagnosis_1_Count</td>\n",
       "      <td>7.944082</td>\n",
       "    </tr>\n",
       "    <tr>\n",
       "      <th>3</th>\n",
       "      <td>Claim_Count</td>\n",
       "      <td>7.835182</td>\n",
       "    </tr>\n",
       "    <tr>\n",
       "      <th>41</th>\n",
       "      <td>Procedure_1_Count</td>\n",
       "      <td>7.384267</td>\n",
       "    </tr>\n",
       "    <tr>\n",
       "      <th>12</th>\n",
       "      <td>Avg_Cost</td>\n",
       "      <td>6.929895</td>\n",
       "    </tr>\n",
       "    <tr>\n",
       "      <th>36</th>\n",
       "      <td>ChronicCond_stroke_1</td>\n",
       "      <td>6.892615</td>\n",
       "    </tr>\n",
       "    <tr>\n",
       "      <th>9</th>\n",
       "      <td>DuplicateClaims</td>\n",
       "      <td>6.130961</td>\n",
       "    </tr>\n",
       "    <tr>\n",
       "      <th>13</th>\n",
       "      <td>Avg_Age</td>\n",
       "      <td>6.029531</td>\n",
       "    </tr>\n",
       "    <tr>\n",
       "      <th>50</th>\n",
       "      <td>Diagnosis_5_Count</td>\n",
       "      <td>5.963611</td>\n",
       "    </tr>\n",
       "    <tr>\n",
       "      <th>0</th>\n",
       "      <td>Phys_Count</td>\n",
       "      <td>5.357678</td>\n",
       "    </tr>\n",
       "    <tr>\n",
       "      <th>17</th>\n",
       "      <td>Race3</td>\n",
       "      <td>5.137599</td>\n",
       "    </tr>\n",
       "    <tr>\n",
       "      <th>47</th>\n",
       "      <td>Diagnosis_2_Count</td>\n",
       "      <td>5.104629</td>\n",
       "    </tr>\n",
       "    <tr>\n",
       "      <th>42</th>\n",
       "      <td>Procedure_2_Count</td>\n",
       "      <td>4.614352</td>\n",
       "    </tr>\n",
       "    <tr>\n",
       "      <th>56</th>\n",
       "      <td>isFraudConnected</td>\n",
       "      <td>4.487738</td>\n",
       "    </tr>\n",
       "    <tr>\n",
       "      <th>40</th>\n",
       "      <td>FraudNeighbor_Count</td>\n",
       "      <td>3.251796</td>\n",
       "    </tr>\n",
       "    <tr>\n",
       "      <th>39</th>\n",
       "      <td>NoPhysicianCount</td>\n",
       "      <td>3.227964</td>\n",
       "    </tr>\n",
       "    <tr>\n",
       "      <th>18</th>\n",
       "      <td>ChronicCond_Alzheimer_1</td>\n",
       "      <td>3.161596</td>\n",
       "    </tr>\n",
       "    <tr>\n",
       "      <th>51</th>\n",
       "      <td>Diagnosis_6_Count</td>\n",
       "      <td>3.056336</td>\n",
       "    </tr>\n",
       "    <tr>\n",
       "      <th>22</th>\n",
       "      <td>ChronicCond_Cancer_1</td>\n",
       "      <td>3.010518</td>\n",
       "    </tr>\n",
       "    <tr>\n",
       "      <th>49</th>\n",
       "      <td>Diagnosis_4_Count</td>\n",
       "      <td>2.950050</td>\n",
       "    </tr>\n",
       "    <tr>\n",
       "      <th>2</th>\n",
       "      <td>Norm_Patient_Count</td>\n",
       "      <td>2.911325</td>\n",
       "    </tr>\n",
       "    <tr>\n",
       "      <th>4</th>\n",
       "      <td>Norm_Claim_Count</td>\n",
       "      <td>2.790708</td>\n",
       "    </tr>\n",
       "    <tr>\n",
       "      <th>16</th>\n",
       "      <td>Race2</td>\n",
       "      <td>2.735875</td>\n",
       "    </tr>\n",
       "    <tr>\n",
       "      <th>53</th>\n",
       "      <td>Diagnosis_8_Count</td>\n",
       "      <td>2.357316</td>\n",
       "    </tr>\n",
       "    <tr>\n",
       "      <th>24</th>\n",
       "      <td>ChronicCond_ObstrPulmonary_1</td>\n",
       "      <td>2.201725</td>\n",
       "    </tr>\n",
       "    <tr>\n",
       "      <th>29</th>\n",
       "      <td>ChronicCond_Diabetes_2</td>\n",
       "      <td>1.687845</td>\n",
       "    </tr>\n",
       "    <tr>\n",
       "      <th>21</th>\n",
       "      <td>ChronicCond_KidneyDisease_2</td>\n",
       "      <td>1.611409</td>\n",
       "    </tr>\n",
       "    <tr>\n",
       "      <th>33</th>\n",
       "      <td>ChronicCond_Osteoporasis_2</td>\n",
       "      <td>1.597419</td>\n",
       "    </tr>\n",
       "    <tr>\n",
       "      <th>54</th>\n",
       "      <td>Diagnosis_9_Count</td>\n",
       "      <td>1.294696</td>\n",
       "    </tr>\n",
       "    <tr>\n",
       "      <th>1</th>\n",
       "      <td>Patient_Count</td>\n",
       "      <td>1.044920</td>\n",
       "    </tr>\n",
       "    <tr>\n",
       "      <th>28</th>\n",
       "      <td>ChronicCond_Diabetes_1</td>\n",
       "      <td>0.767875</td>\n",
       "    </tr>\n",
       "    <tr>\n",
       "      <th>44</th>\n",
       "      <td>Procedure_4_Count</td>\n",
       "      <td>0.760827</td>\n",
       "    </tr>\n",
       "    <tr>\n",
       "      <th>43</th>\n",
       "      <td>Procedure_3_Count</td>\n",
       "      <td>0.760508</td>\n",
       "    </tr>\n",
       "    <tr>\n",
       "      <th>25</th>\n",
       "      <td>ChronicCond_ObstrPulmonary_2</td>\n",
       "      <td>0.756736</td>\n",
       "    </tr>\n",
       "    <tr>\n",
       "      <th>23</th>\n",
       "      <td>ChronicCond_Cancer_2</td>\n",
       "      <td>0.676371</td>\n",
       "    </tr>\n",
       "    <tr>\n",
       "      <th>37</th>\n",
       "      <td>ChronicCond_stroke_2</td>\n",
       "      <td>0.660789</td>\n",
       "    </tr>\n",
       "    <tr>\n",
       "      <th>11</th>\n",
       "      <td>AvgClaimDuration</td>\n",
       "      <td>0.600979</td>\n",
       "    </tr>\n",
       "    <tr>\n",
       "      <th>31</th>\n",
       "      <td>ChronicCond_IschemicHeart_2</td>\n",
       "      <td>0.518510</td>\n",
       "    </tr>\n",
       "    <tr>\n",
       "      <th>48</th>\n",
       "      <td>Diagnosis_3_Count</td>\n",
       "      <td>0.502275</td>\n",
       "    </tr>\n",
       "    <tr>\n",
       "      <th>26</th>\n",
       "      <td>ChronicCond_Depression_1</td>\n",
       "      <td>0.422165</td>\n",
       "    </tr>\n",
       "    <tr>\n",
       "      <th>52</th>\n",
       "      <td>Diagnosis_7_Count</td>\n",
       "      <td>0.371005</td>\n",
       "    </tr>\n",
       "    <tr>\n",
       "      <th>30</th>\n",
       "      <td>ChronicCond_IschemicHeart_1</td>\n",
       "      <td>0.355655</td>\n",
       "    </tr>\n",
       "    <tr>\n",
       "      <th>45</th>\n",
       "      <td>Procedure_5_Count</td>\n",
       "      <td>0.298395</td>\n",
       "    </tr>\n",
       "    <tr>\n",
       "      <th>19</th>\n",
       "      <td>ChronicCond_Alzheimer_2</td>\n",
       "      <td>0.285561</td>\n",
       "    </tr>\n",
       "    <tr>\n",
       "      <th>20</th>\n",
       "      <td>ChronicCond_KidneyDisease_1</td>\n",
       "      <td>0.207503</td>\n",
       "    </tr>\n",
       "    <tr>\n",
       "      <th>15</th>\n",
       "      <td>Race1</td>\n",
       "      <td>0.174771</td>\n",
       "    </tr>\n",
       "    <tr>\n",
       "      <th>35</th>\n",
       "      <td>ChronicCond_rheumatoidarthritis_2</td>\n",
       "      <td>0.160552</td>\n",
       "    </tr>\n",
       "    <tr>\n",
       "      <th>32</th>\n",
       "      <td>ChronicCond_Osteoporasis_1</td>\n",
       "      <td>0.152159</td>\n",
       "    </tr>\n",
       "    <tr>\n",
       "      <th>10</th>\n",
       "      <td>Duplicate_Claims_Percent</td>\n",
       "      <td>0.102666</td>\n",
       "    </tr>\n",
       "    <tr>\n",
       "      <th>14</th>\n",
       "      <td>Gender1</td>\n",
       "      <td>0.096751</td>\n",
       "    </tr>\n",
       "    <tr>\n",
       "      <th>27</th>\n",
       "      <td>ChronicCond_Depression_2</td>\n",
       "      <td>0.079685</td>\n",
       "    </tr>\n",
       "    <tr>\n",
       "      <th>34</th>\n",
       "      <td>ChronicCond_rheumatoidarthritis_1</td>\n",
       "      <td>0.049908</td>\n",
       "    </tr>\n",
       "  </tbody>\n",
       "</table>\n",
       "</div>"
      ],
      "text/plain": [
       "                              Feature      Score\n",
       "55                         Outpatient  18.169690\n",
       "6                    Outpatient_Count  11.688448\n",
       "5                     Inpatient_Count  10.399796\n",
       "8               Norm_Outpatient_Count   9.945290\n",
       "7                Norm_Inpatient_Count   9.920244\n",
       "38                      NetworkDegree   9.888177\n",
       "46                  Diagnosis_1_Count   7.944082\n",
       "3                         Claim_Count   7.835182\n",
       "41                  Procedure_1_Count   7.384267\n",
       "12                           Avg_Cost   6.929895\n",
       "36               ChronicCond_stroke_1   6.892615\n",
       "9                     DuplicateClaims   6.130961\n",
       "13                            Avg_Age   6.029531\n",
       "50                  Diagnosis_5_Count   5.963611\n",
       "0                          Phys_Count   5.357678\n",
       "17                              Race3   5.137599\n",
       "47                  Diagnosis_2_Count   5.104629\n",
       "42                  Procedure_2_Count   4.614352\n",
       "56                   isFraudConnected   4.487738\n",
       "40                FraudNeighbor_Count   3.251796\n",
       "39                   NoPhysicianCount   3.227964\n",
       "18            ChronicCond_Alzheimer_1   3.161596\n",
       "51                  Diagnosis_6_Count   3.056336\n",
       "22               ChronicCond_Cancer_1   3.010518\n",
       "49                  Diagnosis_4_Count   2.950050\n",
       "2                  Norm_Patient_Count   2.911325\n",
       "4                    Norm_Claim_Count   2.790708\n",
       "16                              Race2   2.735875\n",
       "53                  Diagnosis_8_Count   2.357316\n",
       "24       ChronicCond_ObstrPulmonary_1   2.201725\n",
       "29             ChronicCond_Diabetes_2   1.687845\n",
       "21        ChronicCond_KidneyDisease_2   1.611409\n",
       "33         ChronicCond_Osteoporasis_2   1.597419\n",
       "54                  Diagnosis_9_Count   1.294696\n",
       "1                       Patient_Count   1.044920\n",
       "28             ChronicCond_Diabetes_1   0.767875\n",
       "44                  Procedure_4_Count   0.760827\n",
       "43                  Procedure_3_Count   0.760508\n",
       "25       ChronicCond_ObstrPulmonary_2   0.756736\n",
       "23               ChronicCond_Cancer_2   0.676371\n",
       "37               ChronicCond_stroke_2   0.660789\n",
       "11                   AvgClaimDuration   0.600979\n",
       "31        ChronicCond_IschemicHeart_2   0.518510\n",
       "48                  Diagnosis_3_Count   0.502275\n",
       "26           ChronicCond_Depression_1   0.422165\n",
       "52                  Diagnosis_7_Count   0.371005\n",
       "30        ChronicCond_IschemicHeart_1   0.355655\n",
       "45                  Procedure_5_Count   0.298395\n",
       "19            ChronicCond_Alzheimer_2   0.285561\n",
       "20        ChronicCond_KidneyDisease_1   0.207503\n",
       "15                              Race1   0.174771\n",
       "35  ChronicCond_rheumatoidarthritis_2   0.160552\n",
       "32         ChronicCond_Osteoporasis_1   0.152159\n",
       "10           Duplicate_Claims_Percent   0.102666\n",
       "14                            Gender1   0.096751\n",
       "27           ChronicCond_Depression_2   0.079685\n",
       "34  ChronicCond_rheumatoidarthritis_1   0.049908"
      ]
     },
     "execution_count": 36,
     "metadata": {},
     "output_type": "execute_result"
    },
    {
     "data": {
      "image/png": "[encoded data removed]",
      "text/plain": [
       "<Figure size 432x288 with 1 Axes>"
      ]
     },
     "metadata": {},
     "output_type": "display_data"
    }
   ],
   "source": [
    "importance = sgd_final.coef_[0]\n",
    "feature_importance = pd.DataFrame(columns = ('Feature', 'Score'))\n",
    "\n",
    "# summarize feature importance\n",
    "for i,v in enumerate(importance):\n",
    "    feature_importance.loc[i] = X_train_Bal.columns[i], np.abs(v)\n",
    "    \n",
    "# plot feature importance\n",
    "scores = feature_importance.sort_values(by = 'Score', ascending=False)\n",
    "scores.plot.bar()\n",
    "scores"
   ]
  },
  {
   "cell_type": "markdown",
   "metadata": {},
   "source": [
    "### K-Nearest Neighbors"
   ]
  },
  {
   "cell_type": "markdown",
   "metadata": {},
   "source": [
    "#### SMOTE"
   ]
  },
  {
   "cell_type": "code",
   "execution_count": 37,
   "metadata": {},
   "outputs": [
    {
     "name": "stdout",
     "output_type": "stream",
     "text": [
      "SMOTE: \n",
      "KNN Baseline Training Set F1 score:  0.9407942238267148\n",
      "KNN Baseline Validation Set F1 score:  0.5045592705167173\n"
     ]
    }
   ],
   "source": [
    "knn = KNeighborsClassifier()\n",
    "knn.fit(X_train_Bal, y_train_Bal)\n",
    "print(\"SMOTE: \\nKNN Baseline Training Set F1 score: \", f1_score(y_train_Bal,knn.predict(X_train_Bal)))\n",
    "print(\"KNN Baseline Validation Set F1 score: \", f1_score(y_test,knn.predict(X_test)))"
   ]
  },
  {
   "cell_type": "code",
   "execution_count": 38,
   "metadata": {},
   "outputs": [
    {
     "name": "stdout",
     "output_type": "stream",
     "text": [
      "Fitting 5 folds for each of 10 candidates, totalling 50 fits\n"
     ]
    },
    {
     "name": "stderr",
     "output_type": "stream",
     "text": [
      "[Parallel(n_jobs=-1)]: Using backend LokyBackend with 8 concurrent workers.\n",
      "[Parallel(n_jobs=-1)]: Done  34 tasks      | elapsed:   23.9s\n",
      "[Parallel(n_jobs=-1)]: Done  50 out of  50 | elapsed:   30.8s finished\n"
     ]
    },
    {
     "data": {
      "text/plain": [
       "GridSearchCV(cv=StratifiedKFold(n_splits=5, random_state=42, shuffle=True),\n",
       "             estimator=KNeighborsClassifier(), n_jobs=-1,\n",
       "             param_grid={'n_neighbors': array([70, 71, 72, 73, 74, 75, 76, 77, 78, 79])},\n",
       "             return_train_score=True, scoring='f1', verbose=1)"
      ]
     },
     "execution_count": 38,
     "metadata": {},
     "output_type": "execute_result"
    }
   ],
   "source": [
    "# grid search\n",
    "params = {'n_neighbors': np.arange(0,10)+70}\n",
    "\n",
    "knn_GS =  GridSearchCV(knn, param_grid = params,\n",
    "                       cv=s_kf, n_jobs=(-1), verbose = 1,\n",
    "                       return_train_score = True,\n",
    "                       scoring = 'f1')\n",
    "\n",
    "knn_GS.fit(X_train_Bal, y_train_Bal)"
   ]
  },
  {
   "cell_type": "code",
   "execution_count": 39,
   "metadata": {},
   "outputs": [
    {
     "name": "stdout",
     "output_type": "stream",
     "text": [
      "KNN Grid Search Best params:  {'n_neighbors': 70}\n",
      "KNN Grid Search Training set F1 score:  0.8814903846153846\n",
      "KNN Grid Search Validation set F1 score:  0.5000000000000001\n",
      "KNN Grid Search Validation set business score:  0.6699446958734435\n"
     ]
    }
   ],
   "source": [
    "print(\"KNN Grid Search Best params: \", knn_GS.best_params_)\n",
    "best_knn = knn_GS.best_estimator_\n",
    "print(\"KNN Grid Search Training set F1 score: \", f1_score(y_train_Bal, best_knn.predict(X_train_Bal)))\n",
    "print(\"KNN Grid Search Validation set F1 score: \", f1_score(y_test, best_knn.predict(X_test)))\n",
    "print(\"KNN Grid Search Validation set business score: \", businessgain(y_test, best_knn.predict(X_test)))\n",
    "SMOTE_knn = businessgain(y_test, best_knn.predict(X_test))"
   ]
  },
  {
   "cell_type": "markdown",
   "metadata": {},
   "source": [
    "#### imblearn"
   ]
  },
  {
   "cell_type": "code",
   "execution_count": 40,
   "metadata": {},
   "outputs": [
    {
     "name": "stdout",
     "output_type": "stream",
     "text": [
      "imblearn: \n",
      "KNN Baseline Training Set F1 score:  0.9594032770848618\n",
      "KNN Baseline Validation Set F1 score:  0.5342960288808665\n"
     ]
    }
   ],
   "source": [
    "knn = KNeighborsClassifier()\n",
    "knn.fit(X_ros, y_ros)\n",
    "print(\"imblearn: \\nKNN Baseline Training Set F1 score: \", f1_score(y_ros,knn.predict(X_ros)))\n",
    "print(\"KNN Baseline Validation Set F1 score: \", f1_score(y_test,knn.predict(X_test)))"
   ]
  },
  {
   "cell_type": "code",
   "execution_count": 41,
   "metadata": {},
   "outputs": [
    {
     "name": "stdout",
     "output_type": "stream",
     "text": [
      "Fitting 5 folds for each of 10 candidates, totalling 50 fits\n"
     ]
    },
    {
     "name": "stderr",
     "output_type": "stream",
     "text": [
      "[Parallel(n_jobs=-1)]: Using backend LokyBackend with 8 concurrent workers.\n",
      "[Parallel(n_jobs=-1)]: Done  34 tasks      | elapsed:   23.3s\n",
      "[Parallel(n_jobs=-1)]: Done  50 out of  50 | elapsed:   30.2s finished\n"
     ]
    },
    {
     "data": {
      "text/plain": [
       "GridSearchCV(cv=StratifiedKFold(n_splits=5, random_state=42, shuffle=True),\n",
       "             estimator=KNeighborsClassifier(), n_jobs=-1,\n",
       "             param_grid={'n_neighbors': array([70, 71, 72, 73, 74, 75, 76, 77, 78, 79])},\n",
       "             return_train_score=True, scoring='f1', verbose=1)"
      ]
     },
     "execution_count": 41,
     "metadata": {},
     "output_type": "execute_result"
    }
   ],
   "source": [
    "# grid search\n",
    "params = {'n_neighbors': np.arange(0,10)+70}\n",
    "\n",
    "knn_GS =  GridSearchCV(knn, param_grid = params,\n",
    "                       cv=s_kf, n_jobs=(-1), verbose = 1,\n",
    "                       return_train_score = True,\n",
    "                       scoring = 'f1')\n",
    "\n",
    "knn_GS.fit(X_ros, y_ros)"
   ]
  },
  {
   "cell_type": "code",
   "execution_count": 42,
   "metadata": {},
   "outputs": [
    {
     "name": "stdout",
     "output_type": "stream",
     "text": [
      "KNN Grid Search Best params:  {'n_neighbors': 79}\n",
      "KNN Grid Search Training set F1 score:  0.8667828685258964\n",
      "KNN Grid Search Validation set F1 score:  0.5481049562682216\n",
      "KNN Grid Search Validation set business score:  0.7183532531618629\n"
     ]
    }
   ],
   "source": [
    "print(\"KNN Grid Search Best params: \", knn_GS.best_params_)\n",
    "best_knn = knn_GS.best_estimator_\n",
    "print(\"KNN Grid Search Training set F1 score: \", f1_score(y_ros, best_knn.predict(X_ros)))\n",
    "print(\"KNN Grid Search Validation set F1 score: \", f1_score(y_test, best_knn.predict(X_test)))\n",
    "print(\"KNN Grid Search Validation set business score: \", businessgain(y_test, best_knn.predict(X_test)))\n",
    "imblearn_knn = businessgain(y_test, best_knn.predict(X_test))"
   ]
  },
  {
   "cell_type": "markdown",
   "metadata": {},
   "source": [
    "#### Comparing SMOTE and imblearn"
   ]
  },
  {
   "cell_type": "code",
   "execution_count": 43,
   "metadata": {},
   "outputs": [
    {
     "name": "stdout",
     "output_type": "stream",
     "text": [
      "SMOTE KNN business score:  0.6699446958734435 \n",
      "imblearn KNN business score:  0.7183532531618629\n"
     ]
    }
   ],
   "source": [
    "print('SMOTE KNN business score: ', SMOTE_knn, '\\nimblearn KNN business score: ', imblearn_knn)"
   ]
  },
  {
   "cell_type": "code",
   "execution_count": 44,
   "metadata": {},
   "outputs": [],
   "source": [
    "business_scores.loc[2] = 'KNN', round(SMOTE_knn, 2)"
   ]
  },
  {
   "cell_type": "code",
   "execution_count": 45,
   "metadata": {},
   "outputs": [
    {
     "data": {
      "text/plain": [
       "array([[833, 148],\n",
       "       [  7,  94]])"
      ]
     },
     "execution_count": 45,
     "metadata": {},
     "output_type": "execute_result"
    }
   ],
   "source": [
    "confusion_matrix(y_test, best_knn.predict(X_test))"
   ]
  },
  {
   "cell_type": "code",
   "execution_count": 46,
   "metadata": {},
   "outputs": [
    {
     "name": "stdout",
     "output_type": "stream",
     "text": [
      "              precision    recall  f1-score   support\n",
      "\n",
      "           0       0.85      0.99      0.91       840\n",
      "           1       0.93      0.39      0.55       242\n",
      "\n",
      "    accuracy                           0.86      1082\n",
      "   macro avg       0.89      0.69      0.73      1082\n",
      "weighted avg       0.87      0.86      0.83      1082\n",
      "\n"
     ]
    }
   ],
   "source": [
    "print(classification_report(best_knn.predict(X_test), y_test))"
   ]
  },
  {
   "cell_type": "markdown",
   "metadata": {},
   "source": [
    "### Support Vector Machine"
   ]
  },
  {
   "cell_type": "markdown",
   "metadata": {},
   "source": [
    "#### SMOTE"
   ]
  },
  {
   "cell_type": "code",
   "execution_count": 47,
   "metadata": {},
   "outputs": [
    {
     "name": "stdout",
     "output_type": "stream",
     "text": [
      "SMOTE: \n",
      "SVM BaseLine Train Set F1 Score: 0.8812105926860027\n",
      "SVM BaseLine Validation Set F1 Score: 0.5548780487804879\n"
     ]
    }
   ],
   "source": [
    "svm = SVC(class_weight='balanced')\n",
    "svm.fit(X_train_Bal, y_train_Bal)\n",
    "\n",
    "# baseline score\n",
    "svm_train_f1 = f1_score(y_train_Bal, svm.predict(X_train_Bal))\n",
    "svm_test_f1 = f1_score(y_test, svm.predict(X_test))\n",
    "\n",
    "print('SMOTE: \\nSVM BaseLine Train Set F1 Score:', svm_train_f1)\n",
    "print('SVM BaseLine Validation Set F1 Score:', svm_test_f1)"
   ]
  },
  {
   "cell_type": "code",
   "execution_count": 48,
   "metadata": {},
   "outputs": [
    {
     "name": "stdout",
     "output_type": "stream",
     "text": [
      "Fitting 5 folds for each of 20 candidates, totalling 100 fits\n"
     ]
    },
    {
     "name": "stderr",
     "output_type": "stream",
     "text": [
      "[Parallel(n_jobs=-1)]: Using backend LokyBackend with 8 concurrent workers.\n",
      "[Parallel(n_jobs=-1)]: Done  34 tasks      | elapsed:    8.4s\n",
      "[Parallel(n_jobs=-1)]: Done 100 out of 100 | elapsed:  6.1min finished\n"
     ]
    },
    {
     "data": {
      "text/plain": [
       "GridSearchCV(cv=StratifiedKFold(n_splits=5, random_state=42, shuffle=True),\n",
       "             estimator=SVC(class_weight='balanced'), n_jobs=-1,\n",
       "             param_grid={'C': array([  0.1       ,   0.21544347,   0.46415888,   1.        ,\n",
       "         2.15443469,   4.64158883,  10.        ,  21.5443469 ,\n",
       "        46.41588834, 100.        ]),\n",
       "                         'gamma': ('auto', 'scale'), 'kernel': ['linear']},\n",
       "             return_train_score=True, scoring='f1', verbose=1)"
      ]
     },
     "execution_count": 48,
     "metadata": {},
     "output_type": "execute_result"
    }
   ],
   "source": [
    "# grid search \n",
    "params = {'C': np.logspace(-1,2,10), \n",
    "          'kernel': ['linear'],\n",
    "          'gamma':('auto', 'scale')}\n",
    "\n",
    "svm_GS =  GridSearchCV(svm, params, cv=s_kf, n_jobs=(-1), verbose = 1, return_train_score = True, scoring = 'f1')\n",
    "svm_GS.fit(X_train, y_train)"
   ]
  },
  {
   "cell_type": "code",
   "execution_count": 49,
   "metadata": {},
   "outputs": [
    {
     "name": "stdout",
     "output_type": "stream",
     "text": [
      "SVM Grid Search Best params:  {'C': 46.41588833612777, 'gamma': 'auto', 'kernel': 'linear'}\n",
      "SVM Grid Search Training set F1 score:  0.8744710860366712\n",
      "SVM Grid Search Validation set F1 score:  0.5723270440251573\n",
      "Test Set business Score: 0.6764803759457906\n"
     ]
    }
   ],
   "source": [
    "print(\"SVM Grid Search Best params: \", svm_GS.best_params_)\n",
    "best_svm = svm_GS.best_estimator_\n",
    "print(\"SVM Grid Search Training set F1 score: \", f1_score(y_train_Bal, best_svm.predict(X_train_Bal)))\n",
    "print(\"SVM Grid Search Validation set F1 score: \", f1_score(y_test, best_svm.predict(X_test)))\n",
    "print('Test Set business Score:', businessgain(y_test, best_svm.predict(X_test)))\n",
    "SMOTE_svm = businessgain(y_test, best_svm.predict(X_test))"
   ]
  },
  {
   "cell_type": "markdown",
   "metadata": {},
   "source": [
    "#### imblearn"
   ]
  },
  {
   "cell_type": "code",
   "execution_count": 50,
   "metadata": {},
   "outputs": [
    {
     "name": "stdout",
     "output_type": "stream",
     "text": [
      "imblearn: \n",
      "SVM BaseLine Train Set F1 Score: 0.8733256792958286\n",
      "SVM BaseLine Validation Set F1 Score: 0.5652173913043478\n"
     ]
    }
   ],
   "source": [
    "svm = SVC(class_weight='balanced')\n",
    "svm.fit(X_ros, y_ros)\n",
    "\n",
    "# baseline score\n",
    "svm_train_f1 = f1_score(y_ros, svm.predict(X_ros))\n",
    "svm_test_f1 = f1_score(y_test, svm.predict(X_test))\n",
    "\n",
    "print('imblearn: \\nSVM BaseLine Train Set F1 Score:', svm_train_f1)\n",
    "print('SVM BaseLine Validation Set F1 Score:', svm_test_f1)"
   ]
  },
  {
   "cell_type": "code",
   "execution_count": 51,
   "metadata": {},
   "outputs": [
    {
     "name": "stdout",
     "output_type": "stream",
     "text": [
      "Fitting 5 folds for each of 20 candidates, totalling 100 fits\n"
     ]
    },
    {
     "name": "stderr",
     "output_type": "stream",
     "text": [
      "[Parallel(n_jobs=-1)]: Using backend LokyBackend with 8 concurrent workers.\n",
      "/Users/marcuschoi/opt/anaconda3/lib/python3.7/site-packages/joblib/externals/loky/process_executor.py:706: UserWarning: A worker stopped while some jobs were given to the executor. This can be caused by a too short worker timeout or by a memory leak.\n",
      "  \"timeout or by a memory leak.\", UserWarning\n",
      "[Parallel(n_jobs=-1)]: Done  34 tasks      | elapsed:   37.3s\n",
      "[Parallel(n_jobs=-1)]: Done 100 out of 100 | elapsed: 42.4min finished\n"
     ]
    },
    {
     "data": {
      "text/plain": [
       "GridSearchCV(cv=StratifiedKFold(n_splits=5, random_state=42, shuffle=True),\n",
       "             estimator=SVC(class_weight='balanced'), n_jobs=-1,\n",
       "             param_grid={'C': array([  0.1       ,   0.21544347,   0.46415888,   1.        ,\n",
       "         2.15443469,   4.64158883,  10.        ,  21.5443469 ,\n",
       "        46.41588834, 100.        ]),\n",
       "                         'gamma': ('auto', 'scale'), 'kernel': ['linear']},\n",
       "             return_train_score=True, scoring='f1', verbose=1)"
      ]
     },
     "execution_count": 51,
     "metadata": {},
     "output_type": "execute_result"
    }
   ],
   "source": [
    "# grid search \n",
    "params = {'C': np.logspace(-1,2,10), \n",
    "          'kernel': ['linear'],\n",
    "          'gamma':('auto', 'scale')}\n",
    "\n",
    "svm_GS =  GridSearchCV(svm, params, cv=s_kf, n_jobs=(-1), verbose = 1, return_train_score = True, scoring = 'f1')\n",
    "svm_GS.fit(X_ros, y_ros)"
   ]
  },
  {
   "cell_type": "code",
   "execution_count": 52,
   "metadata": {},
   "outputs": [
    {
     "name": "stdout",
     "output_type": "stream",
     "text": [
      "imblearn: \n",
      "SVM Grid Search Best params:  {'C': 4.6415888336127775, 'gamma': 'auto', 'kernel': 'linear'}\n",
      "SVM Grid Search Training set F1 score:  0.8717684887459807\n",
      "SVM Grid Search Validation set F1 score:  0.5741324921135647\n",
      "Test Set business Score: 0.6774031687551583\n"
     ]
    }
   ],
   "source": [
    "print(\"imblearn: \\nSVM Grid Search Best params: \", svm_GS.best_params_)\n",
    "best_svm = svm_GS.best_estimator_\n",
    "print(\"SVM Grid Search Training set F1 score: \", f1_score(y_ros, best_svm.predict(X_ros)))\n",
    "print(\"SVM Grid Search Validation set F1 score: \", f1_score(y_test, best_svm.predict(X_test)))\n",
    "print('Test Set business Score:', businessgain(y_test, best_svm.predict(X_test)))\n",
    "imblearn_svm = businessgain(y_test, best_svm.predict(X_test))"
   ]
  },
  {
   "cell_type": "markdown",
   "metadata": {},
   "source": [
    "#### Comparing SMOTE and imblearn"
   ]
  },
  {
   "cell_type": "code",
   "execution_count": 53,
   "metadata": {},
   "outputs": [
    {
     "name": "stdout",
     "output_type": "stream",
     "text": [
      "SMOTE SVM business score:  0.6764803759457906 \n",
      "imblearn SVM business score:  0.6774031687551583\n"
     ]
    }
   ],
   "source": [
    "print('SMOTE SVM business score: ', SMOTE_svm, '\\nimblearn SVM business score: ', imblearn_svm)"
   ]
  },
  {
   "cell_type": "code",
   "execution_count": 54,
   "metadata": {},
   "outputs": [],
   "source": [
    "business_scores.loc[3] = 'SVM', round(SMOTE_svm, 2)"
   ]
  },
  {
   "cell_type": "code",
   "execution_count": 55,
   "metadata": {},
   "outputs": [
    {
     "data": {
      "text/plain": [
       "array([[856, 125],\n",
       "       [ 10,  91]])"
      ]
     },
     "execution_count": 55,
     "metadata": {},
     "output_type": "execute_result"
    }
   ],
   "source": [
    "confusion_matrix(y_test, best_svm.predict(X_test))"
   ]
  },
  {
   "cell_type": "code",
   "execution_count": 56,
   "metadata": {},
   "outputs": [
    {
     "name": "stdout",
     "output_type": "stream",
     "text": [
      "              precision    recall  f1-score   support\n",
      "\n",
      "           0       0.87      0.99      0.93       866\n",
      "           1       0.90      0.42      0.57       216\n",
      "\n",
      "    accuracy                           0.88      1082\n",
      "   macro avg       0.89      0.70      0.75      1082\n",
      "weighted avg       0.88      0.88      0.86      1082\n",
      "\n"
     ]
    }
   ],
   "source": [
    "print(classification_report(best_svm.predict(X_test), y_test))"
   ]
  },
  {
   "cell_type": "markdown",
   "metadata": {},
   "source": [
    "### Random Forest"
   ]
  },
  {
   "cell_type": "markdown",
   "metadata": {},
   "source": [
    "#### SMOTE"
   ]
  },
  {
   "cell_type": "code",
   "execution_count": 57,
   "metadata": {},
   "outputs": [
    {
     "name": "stdout",
     "output_type": "stream",
     "text": [
      "SMOTE: \n",
      "RF BaseLine Train Set F1 Score: 1.0\n",
      "RF BaseLine Validation Set F1 Score: 0.5991561181434599\n"
     ]
    }
   ],
   "source": [
    "from sklearn import ensemble\n",
    "randomForest = ensemble.RandomForestClassifier()\n",
    "\n",
    "# fit RF model on SMOTE training set\n",
    "randomForest.set_params(random_state=0)\n",
    "\n",
    "randomForest.fit(X_train_Bal, y_train_Bal)\n",
    "\n",
    "# baseline score\n",
    "print('SMOTE: \\nRF BaseLine Train Set F1 Score:', f1_score(y_train_Bal, randomForest.predict(X_train_Bal)))\n",
    "print('RF BaseLine Validation Set F1 Score:', f1_score(y_test, randomForest.predict(X_test)))"
   ]
  },
  {
   "cell_type": "code",
   "execution_count": 58,
   "metadata": {},
   "outputs": [
    {
     "name": "stdout",
     "output_type": "stream",
     "text": [
      "CPU times: user 8.11 s, sys: 585 ms, total: 8.7 s\n",
      "Wall time: 4min 55s\n"
     ]
    },
    {
     "data": {
      "text/plain": [
       "GridSearchCV(cv=StratifiedKFold(n_splits=5, random_state=42, shuffle=True),\n",
       "             estimator=RandomForestClassifier(random_state=0), n_jobs=-1,\n",
       "             param_grid={'criterion': ['entropy'], 'max_depth': range(1, 31),\n",
       "                         'n_estimators': range(10, 110, 10)},\n",
       "             scoring='f1')"
      ]
     },
     "execution_count": 58,
     "metadata": {},
     "output_type": "execute_result"
    }
   ],
   "source": [
    "# set the parameter grid\n",
    "grid_para_forest = {\n",
    "    'criterion': ['entropy'],\n",
    "    'max_depth': range(1, 31),\n",
    "    'n_estimators': range(10, 110, 10)\n",
    "}\n",
    "\n",
    "# run the RF classifier through the grid search\n",
    "grid_search_forest = ms.GridSearchCV(randomForest, grid_para_forest, scoring='f1', cv=s_kf, n_jobs=-1)\n",
    "%time grid_search_forest.fit(X_train_Bal, y_train_Bal)"
   ]
  },
  {
   "cell_type": "code",
   "execution_count": 59,
   "metadata": {},
   "outputs": [
    {
     "name": "stdout",
     "output_type": "stream",
     "text": [
      "RF Grid Search Best params:  {'criterion': 'entropy', 'max_depth': 24, 'n_estimators': 80}\n",
      "RF Grid Search Training set F1 score:  1.0\n",
      "RF Grid Search Validation set F1 score:  0.6026200873362445\n",
      "RF Grid Search Validation set Business score:  0.2823624880109028\n"
     ]
    }
   ],
   "source": [
    "print(\"RF Grid Search Best params: \", grid_search_forest.best_params_)\n",
    "best_RF = grid_search_forest.best_estimator_\n",
    "print(\"RF Grid Search Training set F1 score: \", f1_score(y_train_Bal, best_RF.predict(X_train_Bal)))\n",
    "print(\"RF Grid Search Validation set F1 score: \", f1_score(y_test, best_RF.predict(X_test)))\n",
    "print(\"RF Grid Search Validation set Business score: \", businessgain(y_test,best_RF.predict(X_test)))\n",
    "SMOTE_rf = businessgain(y_test,best_RF.predict(X_test))"
   ]
  },
  {
   "cell_type": "markdown",
   "metadata": {},
   "source": [
    "#### imblearn"
   ]
  },
  {
   "cell_type": "code",
   "execution_count": 60,
   "metadata": {},
   "outputs": [
    {
     "name": "stdout",
     "output_type": "stream",
     "text": [
      "imblearn: \n",
      "RF BaseLine Train Set F1 Score: 1.0\n",
      "RF BaseLine Validation Set F1 Score: 0.6632124352331605\n"
     ]
    }
   ],
   "source": [
    "randomForest.set_params(random_state=0)\n",
    "\n",
    "randomForest.fit(X_ros, y_ros)\n",
    "\n",
    "# baseline score\n",
    "print('imblearn: \\nRF BaseLine Train Set F1 Score:', f1_score(y_ros, randomForest.predict(X_ros)))\n",
    "print('RF BaseLine Validation Set F1 Score:', f1_score(y_test, randomForest.predict(X_test)))"
   ]
  },
  {
   "cell_type": "code",
   "execution_count": 61,
   "metadata": {},
   "outputs": [
    {
     "name": "stdout",
     "output_type": "stream",
     "text": [
      "CPU times: user 6.25 s, sys: 392 ms, total: 6.64 s\n",
      "Wall time: 2min 45s\n"
     ]
    },
    {
     "data": {
      "text/plain": [
       "GridSearchCV(cv=StratifiedKFold(n_splits=5, random_state=42, shuffle=True),\n",
       "             estimator=RandomForestClassifier(random_state=0), n_jobs=-1,\n",
       "             param_grid={'criterion': ['entropy'], 'max_depth': range(1, 31),\n",
       "                         'n_estimators': range(10, 110, 10)},\n",
       "             scoring='f1')"
      ]
     },
     "execution_count": 61,
     "metadata": {},
     "output_type": "execute_result"
    }
   ],
   "source": [
    "# set the parameter grid\n",
    "grid_para_forest = {\n",
    "    'criterion': ['entropy'],\n",
    "    'max_depth': range(1, 31),\n",
    "    'n_estimators': range(10, 110, 10)\n",
    "}\n",
    "\n",
    "# run the RF classifier through the grid search\n",
    "grid_search_forest = ms.GridSearchCV(randomForest, grid_para_forest, scoring='f1', cv=s_kf, n_jobs=-1)\n",
    "%time grid_search_forest.fit(X_ros, y_ros)"
   ]
  },
  {
   "cell_type": "code",
   "execution_count": 62,
   "metadata": {},
   "outputs": [
    {
     "name": "stdout",
     "output_type": "stream",
     "text": [
      "RF Grid Search Best params:  {'criterion': 'entropy', 'max_depth': 28, 'n_estimators': 20}\n",
      "RF Grid Search Training set F1 score:  1.0\n",
      "RF Grid Search Validation set F1 score:  0.6358974358974359\n",
      "RF Grid Search Validation set Business score:  0.1622044828121188\n"
     ]
    }
   ],
   "source": [
    "print(\"RF Grid Search Best params: \", grid_search_forest.best_params_)\n",
    "best_RF = grid_search_forest.best_estimator_\n",
    "print(\"RF Grid Search Training set F1 score: \", f1_score(y_ros, best_RF.predict(X_ros)))\n",
    "print(\"RF Grid Search Validation set F1 score: \", f1_score(y_test, best_RF.predict(X_test)))\n",
    "print(\"RF Grid Search Validation set Business score: \", businessgain(y_test,best_RF.predict(X_test)))\n",
    "imblearn_rf = businessgain(y_test,best_RF.predict(X_test))"
   ]
  },
  {
   "cell_type": "markdown",
   "metadata": {},
   "source": [
    "#### comparing SMOTE and imblearn"
   ]
  },
  {
   "cell_type": "code",
   "execution_count": 63,
   "metadata": {},
   "outputs": [
    {
     "name": "stdout",
     "output_type": "stream",
     "text": [
      "SMOTE RF business score:  0.2823624880109028 \n",
      "imblearn RF business score:  0.1622044828121188\n"
     ]
    }
   ],
   "source": [
    "print('SMOTE RF business score: ', SMOTE_rf, '\\nimblearn RF business score: ', imblearn_rf)"
   ]
  },
  {
   "cell_type": "code",
   "execution_count": 64,
   "metadata": {},
   "outputs": [],
   "source": [
    "business_scores.loc[4] = 'RF', round(SMOTE_rf, 2)"
   ]
  },
  {
   "cell_type": "code",
   "execution_count": 65,
   "metadata": {},
   "outputs": [
    {
     "data": {
      "text/plain": [
       "array([[949,  32],\n",
       "       [ 39,  62]])"
      ]
     },
     "execution_count": 65,
     "metadata": {},
     "output_type": "execute_result"
    }
   ],
   "source": [
    "confusion_matrix(y_test, best_RF.predict(X_test))"
   ]
  },
  {
   "cell_type": "code",
   "execution_count": 66,
   "metadata": {},
   "outputs": [
    {
     "name": "stdout",
     "output_type": "stream",
     "text": [
      "              precision    recall  f1-score   support\n",
      "\n",
      "           0       0.97      0.96      0.96       988\n",
      "           1       0.61      0.66      0.64        94\n",
      "\n",
      "    accuracy                           0.93      1082\n",
      "   macro avg       0.79      0.81      0.80      1082\n",
      "weighted avg       0.94      0.93      0.94      1082\n",
      "\n"
     ]
    }
   ],
   "source": [
    "print(classification_report(best_RF.predict(X_test), y_test))"
   ]
  },
  {
   "cell_type": "markdown",
   "metadata": {},
   "source": [
    "### XGBOOST"
   ]
  },
  {
   "cell_type": "markdown",
   "metadata": {},
   "source": [
    "#### SMOTE"
   ]
  },
  {
   "cell_type": "code",
   "execution_count": 67,
   "metadata": {},
   "outputs": [
    {
     "name": "stdout",
     "output_type": "stream",
     "text": [
      "SMOTE: \n",
      "XGB BaseLine Train Set F1 Score: 0.9998725302740599\n",
      "XGB BaseLine Validation Set F1 Score: 0.6138613861386139\n"
     ]
    }
   ],
   "source": [
    "xgb = XGBClassifier(random_state=0)\n",
    "xgb.fit(X_train_Bal, y_train_Bal)\n",
    "\n",
    "print('SMOTE: \\nXGB BaseLine Train Set F1 Score:', f1_score(y_train_Bal, xgb.predict(X_train_Bal)))\n",
    "print('XGB BaseLine Validation Set F1 Score:', f1_score(y_test, xgb.predict(X_test)))"
   ]
  },
  {
   "cell_type": "code",
   "execution_count": 68,
   "metadata": {},
   "outputs": [
    {
     "name": "stdout",
     "output_type": "stream",
     "text": [
      "CPU times: user 3.21 s, sys: 158 ms, total: 3.37 s\n",
      "Wall time: 15.7 s\n"
     ]
    },
    {
     "data": {
      "text/plain": [
       "GridSearchCV(cv=StratifiedKFold(n_splits=5, random_state=42, shuffle=True),\n",
       "             estimator=XGBClassifier(base_score=0.5, booster='gbtree',\n",
       "                                     colsample_bylevel=1, colsample_bynode=1,\n",
       "                                     colsample_bytree=1, gamma=0, gpu_id=-1,\n",
       "                                     importance_type='gain',\n",
       "                                     interaction_constraints='',\n",
       "                                     learning_rate=0.300000012,\n",
       "                                     max_delta_step=0, max_depth=6,\n",
       "                                     min_child_weight=1, missing=nan,\n",
       "                                     monotone_...ints='()',\n",
       "                                     n_estimators=100, n_jobs=0,\n",
       "                                     num_parallel_tree=1, random_state=0,\n",
       "                                     reg_alpha=0, reg_lambda=1,\n",
       "                                     scale_pos_weight=1, subsample=1,\n",
       "                                     tree_method='exact', validate_parameters=1,\n",
       "                                     verbosity=None),\n",
       "             n_jobs=-1,\n",
       "             param_grid={'learning_rate': [0.001, 0.01, 0.1],\n",
       "                         'max_depth': [1, 3, 10], 'n_estimators': [2, 5, 10],\n",
       "                         'scale_pos_weight': [400, 500, 600],\n",
       "                         'subsample': [0.9]},\n",
       "             scoring='f1')"
      ]
     },
     "execution_count": 68,
     "metadata": {},
     "output_type": "execute_result"
    }
   ],
   "source": [
    "# parameter tuning\n",
    "grid_para_xgb = {'scale_pos_weight': [400,500,600],\n",
    "                 'learning_rate': [0.001, 0.010, 0.1],\n",
    "                 'n_estimators': [2,5,10] ,\n",
    "                 'max_depth': [1,3,10],\n",
    "                 'subsample': [0.9]\n",
    "                 } \n",
    "\n",
    "grid_search_xgb = GridSearchCV(xgb, grid_para_xgb, scoring='f1', cv=s_kf, n_jobs=-1)\n",
    "%time grid_search_xgb.fit(X_train_Bal, y_train_Bal)"
   ]
  },
  {
   "cell_type": "code",
   "execution_count": 69,
   "metadata": {},
   "outputs": [
    {
     "name": "stdout",
     "output_type": "stream",
     "text": [
      "XGB Grid Search Best params:  {'learning_rate': 0.1, 'max_depth': 10, 'n_estimators': 10, 'scale_pos_weight': 400, 'subsample': 0.9}\n",
      "XGB BaseLine Train Set F1 Score: 0.8056268610740323\n",
      "XGB BaseLine Validation Set F1 Score: 0.29596412556053814\n",
      "XGB BaseLine Validation Set business Score: 0.5257606263917589\n"
     ]
    }
   ],
   "source": [
    "print(\"XGB Grid Search Best params: \", grid_search_xgb.best_params_)\n",
    "best_xgb = grid_search_xgb.best_estimator_\n",
    "print('XGB BaseLine Train Set F1 Score:', f1_score(y_train_Bal, best_xgb.predict(X_train_Bal)))\n",
    "print('XGB BaseLine Validation Set F1 Score:', f1_score(y_test, best_xgb.predict(X_test)))\n",
    "print('XGB BaseLine Validation Set business Score:', businessgain(y_test, best_xgb.predict(X_test)))\n",
    "SMOTE_xgb = businessgain(y_test, best_xgb.predict(X_test))"
   ]
  },
  {
   "cell_type": "markdown",
   "metadata": {},
   "source": [
    "#### imblearn"
   ]
  },
  {
   "cell_type": "code",
   "execution_count": 70,
   "metadata": {},
   "outputs": [
    {
     "name": "stdout",
     "output_type": "stream",
     "text": [
      "imblearn: \n",
      "XGB BaseLine Train Set F1 Score: 1.0\n",
      "XGB BaseLine Validation Set F1 Score: 0.6220095693779905\n"
     ]
    }
   ],
   "source": [
    "xgb = XGBClassifier(random_state=0)\n",
    "xgb.fit(X_ros, y_ros)\n",
    "print('imblearn: \\nXGB BaseLine Train Set F1 Score:', f1_score(y_ros, xgb.predict(X_ros)))\n",
    "print('XGB BaseLine Validation Set F1 Score:', f1_score(y_test, xgb.predict(X_test)))"
   ]
  },
  {
   "cell_type": "code",
   "execution_count": 71,
   "metadata": {},
   "outputs": [
    {
     "name": "stdout",
     "output_type": "stream",
     "text": [
      "CPU times: user 2.37 s, sys: 109 ms, total: 2.48 s\n",
      "Wall time: 12 s\n"
     ]
    },
    {
     "data": {
      "text/plain": [
       "GridSearchCV(cv=StratifiedKFold(n_splits=5, random_state=42, shuffle=True),\n",
       "             estimator=XGBClassifier(base_score=0.5, booster='gbtree',\n",
       "                                     colsample_bylevel=1, colsample_bynode=1,\n",
       "                                     colsample_bytree=1, gamma=0, gpu_id=-1,\n",
       "                                     importance_type='gain',\n",
       "                                     interaction_constraints='',\n",
       "                                     learning_rate=0.300000012,\n",
       "                                     max_delta_step=0, max_depth=6,\n",
       "                                     min_child_weight=1, missing=nan,\n",
       "                                     monotone_...ints='()',\n",
       "                                     n_estimators=100, n_jobs=0,\n",
       "                                     num_parallel_tree=1, random_state=0,\n",
       "                                     reg_alpha=0, reg_lambda=1,\n",
       "                                     scale_pos_weight=1, subsample=1,\n",
       "                                     tree_method='exact', validate_parameters=1,\n",
       "                                     verbosity=None),\n",
       "             n_jobs=-1,\n",
       "             param_grid={'learning_rate': [0.001, 0.01, 0.1],\n",
       "                         'max_depth': [1, 3, 10], 'n_estimators': [2, 5, 10],\n",
       "                         'scale_pos_weight': [400, 500, 600],\n",
       "                         'subsample': [0.9]},\n",
       "             scoring='f1')"
      ]
     },
     "execution_count": 71,
     "metadata": {},
     "output_type": "execute_result"
    }
   ],
   "source": [
    "# parameter tuning\n",
    "grid_para_xgb = {'scale_pos_weight': [400,500,600],\n",
    "                 'learning_rate': [0.001, 0.010, 0.1],\n",
    "                 'n_estimators': [2,5,10] ,\n",
    "                 'max_depth': [1,3,10],\n",
    "                 'subsample': [0.9]\n",
    "                 }\n",
    "grid_search_xgb = GridSearchCV(xgb, grid_para_xgb, scoring='f1', cv=s_kf, n_jobs=-1)\n",
    "%time grid_search_xgb.fit(X_ros, y_ros)"
   ]
  },
  {
   "cell_type": "code",
   "execution_count": 72,
   "metadata": {},
   "outputs": [
    {
     "name": "stdout",
     "output_type": "stream",
     "text": [
      "XGB BaseLine Train Set F1 Score: 0.8177175612298072\n",
      "XGB BaseLine Validation Set F1 Score: 0.31578947368421056\n",
      "XGB BaseLine Validation Set business Score: 0.5645179243852037\n"
     ]
    }
   ],
   "source": [
    "best_xgb = grid_search_xgb.best_estimator_\n",
    "print('XGB BaseLine Train Set F1 Score:', f1_score(y_ros, best_xgb.predict(X_ros)))\n",
    "print('XGB BaseLine Validation Set F1 Score:', f1_score(y_test, best_xgb.predict(X_test)))\n",
    "print('XGB BaseLine Validation Set business Score:', businessgain(y_test, best_xgb.predict(X_test)))\n",
    "imblearn_xgb = f1_score(y_test, best_xgb.predict(X_test))"
   ]
  },
  {
   "cell_type": "markdown",
   "metadata": {},
   "source": [
    "#### comparing SMOTE and imblearn"
   ]
  },
  {
   "cell_type": "code",
   "execution_count": 73,
   "metadata": {},
   "outputs": [
    {
     "name": "stdout",
     "output_type": "stream",
     "text": [
      "SMOTE XGB business score:  0.5257606263917589 \n",
      "imblearn XGB business score:  0.31578947368421056\n"
     ]
    }
   ],
   "source": [
    "print('SMOTE XGB business score: ', SMOTE_xgb, '\\nimblearn XGB business score: ', imblearn_xgb)"
   ]
  },
  {
   "cell_type": "code",
   "execution_count": 74,
   "metadata": {},
   "outputs": [],
   "source": [
    "business_scores.loc[5] = 'XGBoost', round(SMOTE_xgb, 2)"
   ]
  },
  {
   "cell_type": "code",
   "execution_count": 75,
   "metadata": {},
   "outputs": [
    {
     "data": {
      "text/plain": [
       "array([[554, 427],\n",
       "       [  2,  99]])"
      ]
     },
     "execution_count": 75,
     "metadata": {},
     "output_type": "execute_result"
    }
   ],
   "source": [
    "confusion_matrix(y_test, best_xgb.predict(X_test))"
   ]
  },
  {
   "cell_type": "code",
   "execution_count": 76,
   "metadata": {},
   "outputs": [
    {
     "name": "stdout",
     "output_type": "stream",
     "text": [
      "              precision    recall  f1-score   support\n",
      "\n",
      "           0       0.56      1.00      0.72       556\n",
      "           1       0.98      0.19      0.32       526\n",
      "\n",
      "    accuracy                           0.60      1082\n",
      "   macro avg       0.77      0.59      0.52      1082\n",
      "weighted avg       0.77      0.60      0.52      1082\n",
      "\n"
     ]
    }
   ],
   "source": [
    "print(classification_report(best_xgb.predict(X_test), y_test))"
   ]
  },
  {
   "cell_type": "markdown",
   "metadata": {},
   "source": [
    "### Business Gain Plot"
   ]
  },
  {
   "cell_type": "code",
   "execution_count": 77,
   "metadata": {},
   "outputs": [
    {
     "data": {
      "text/html": [
       "<div>\n",
       "<style scoped>\n",
       "    .dataframe tbody tr th:only-of-type {\n",
       "        vertical-align: middle;\n",
       "    }\n",
       "\n",
       "    .dataframe tbody tr th {\n",
       "        vertical-align: top;\n",
       "    }\n",
       "\n",
       "    .dataframe thead th {\n",
       "        text-align: right;\n",
       "    }\n",
       "</style>\n",
       "<table border=\"1\" class=\"dataframe\">\n",
       "  <thead>\n",
       "    <tr style=\"text-align: right;\">\n",
       "      <th></th>\n",
       "      <th>Model</th>\n",
       "      <th>Score</th>\n",
       "    </tr>\n",
       "  </thead>\n",
       "  <tbody>\n",
       "    <tr>\n",
       "      <th>0</th>\n",
       "      <td>Logistic</td>\n",
       "      <td>0.71</td>\n",
       "    </tr>\n",
       "    <tr>\n",
       "      <th>1</th>\n",
       "      <td>SGD</td>\n",
       "      <td>0.62</td>\n",
       "    </tr>\n",
       "    <tr>\n",
       "      <th>2</th>\n",
       "      <td>KNN</td>\n",
       "      <td>0.67</td>\n",
       "    </tr>\n",
       "    <tr>\n",
       "      <th>3</th>\n",
       "      <td>SVM</td>\n",
       "      <td>0.68</td>\n",
       "    </tr>\n",
       "    <tr>\n",
       "      <th>4</th>\n",
       "      <td>RF</td>\n",
       "      <td>0.28</td>\n",
       "    </tr>\n",
       "    <tr>\n",
       "      <th>5</th>\n",
       "      <td>XGBoost</td>\n",
       "      <td>0.53</td>\n",
       "    </tr>\n",
       "  </tbody>\n",
       "</table>\n",
       "</div>"
      ],
      "text/plain": [
       "      Model  Score\n",
       "0  Logistic   0.71\n",
       "1       SGD   0.62\n",
       "2       KNN   0.67\n",
       "3       SVM   0.68\n",
       "4        RF   0.28\n",
       "5   XGBoost   0.53"
      ]
     },
     "execution_count": 77,
     "metadata": {},
     "output_type": "execute_result"
    },
    {
     "data": {
      "image/png": "[encoded data removed]",
      "text/plain": [
       "<Figure size 432x288 with 1 Axes>"
      ]
     },
     "metadata": {},
     "output_type": "display_data"
    }
   ],
   "source": [
    "business_scores.plot.bar(x = 'Model', color = 'skyblue')\n",
    "plt.title('Model Business Gain')\n",
    "business_scores"
   ]
  }
 ],
 "metadata": {
  "kernelspec": {
   "display_name": "Python 3",
   "language": "python",
   "name": "python3"
  },
  "language_info": {
   "codemirror_mode": {
    "name": "ipython",
    "version": 3
   },
   "file_extension": ".py",
   "mimetype": "text/x-python",
   "name": "python",
   "nbconvert_exporter": "python",
   "pygments_lexer": "ipython3",
   "version": "3.7.6"
  }
 },
 "nbformat": 4,
 "nbformat_minor": 4
}
