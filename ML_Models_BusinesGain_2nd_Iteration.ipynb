{
 "cells": [
  {
   "cell_type": "markdown",
   "metadata": {},
   "source": [
    "### Import Libraries"
   ]
  },
  {
   "cell_type": "code",
   "execution_count": 49,
   "metadata": {},
   "outputs": [],
   "source": [
    "from Feature_Engineering import feature_engineering\n",
    "from businessscoring import businessgain\n",
    "import pandas as pd\n",
    "import numpy as np\n",
    "\n",
    "from xgboost import XGBClassifier\n",
    "import sklearn.model_selection as ms\n",
    "from sklearn.linear_model import SGDClassifier\n",
    "from sklearn.linear_model import LogisticRegression\n",
    "from sklearn.neighbors import KNeighborsClassifier\n",
    "from sklearn.svm import SVC\n",
    "from sklearn.preprocessing import RobustScaler\n",
    "from sklearn.model_selection import GridSearchCV, StratifiedKFold, train_test_split\n",
    "from sklearn.metrics import confusion_matrix, recall_score, f1_score, classification_report, make_scorer\n",
    "from imblearn.over_sampling import RandomOverSampler\n",
    "from imblearn import over_sampling\n",
    "\n",
    "import matplotlib.pyplot as plt\n",
    "plt.style.use('ggplot')"
   ]
  },
  {
   "cell_type": "markdown",
   "metadata": {},
   "source": [
    "### Pre-Processing"
   ]
  },
  {
   "cell_type": "code",
   "execution_count": 50,
   "metadata": {},
   "outputs": [],
   "source": [
    "#feature engineering on full dataset\n",
    "features = feature_engineering(j_flag=0)"
   ]
  },
  {
   "cell_type": "code",
   "execution_count": 51,
   "metadata": {},
   "outputs": [],
   "source": [
    "#convert potential fraud values to 0 and 1\n",
    "features['PotentialFraud'] = features['PotentialFraud'].map({'No': 0, 'Yes': 1})"
   ]
  },
  {
   "cell_type": "code",
   "execution_count": 52,
   "metadata": {},
   "outputs": [],
   "source": [
    "#create variables for features and target\n",
    "X = features.drop(['PotentialFraud', 'Service_Type','Provider', 'Both_Service',\\\n",
    "                   'Inpatient', 'Gender2', 'Race5' ], axis=1)\n",
    "y = features['PotentialFraud'] "
   ]
  },
  {
   "cell_type": "code",
   "execution_count": 53,
   "metadata": {},
   "outputs": [],
   "source": [
    "#create seperate dataset with dummy variables to add back after scaling\n",
    "non_num = X[['Outpatient','isFraudConnected']]\n",
    "\n",
    "#drop dummy variables\n",
    "X = X.drop(['Outpatient','isFraudConnected'], axis =1)"
   ]
  },
  {
   "cell_type": "code",
   "execution_count": 54,
   "metadata": {},
   "outputs": [],
   "source": [
    "#scale on the training set \n",
    "scaler = RobustScaler()\n",
    "X_scaled = pd.DataFrame(scaler.fit_transform(X), columns=(X.columns), index=X.index)\n",
    "\n",
    "#add back dummy variables to scaled dataset \n",
    "X_scaled = pd.concat((X_scaled, non_num), axis=1)"
   ]
  },
  {
   "cell_type": "code",
   "execution_count": 55,
   "metadata": {},
   "outputs": [],
   "source": [
    "#use as cv=skf, ensures results are consistent in each partition\n",
    "s_kf = StratifiedKFold(n_splits=5, random_state=42, shuffle=True)"
   ]
  },
  {
   "cell_type": "code",
   "execution_count": 56,
   "metadata": {},
   "outputs": [],
   "source": [
    "#train/test split\n",
    "X_train, X_test, y_train, y_test = train_test_split(X_scaled, y, test_size=0.2, random_state=42, stratify=y)"
   ]
  },
  {
   "cell_type": "code",
   "execution_count": 57,
   "metadata": {},
   "outputs": [],
   "source": [
    "#SMOTE upsampling\n",
    "oversample = over_sampling.SMOTE()\n",
    "X_train_Bal, y_train_Bal = oversample.fit_resample(X_train, y_train)"
   ]
  },
  {
   "cell_type": "code",
   "execution_count": 58,
   "metadata": {},
   "outputs": [],
   "source": [
    "#random over sampling \n",
    "ros = RandomOverSampler()\n",
    "X_ros, y_ros = ros.fit_sample(X_train, y_train)"
   ]
  },
  {
   "cell_type": "code",
   "execution_count": 59,
   "metadata": {},
   "outputs": [],
   "source": [
    "#business_score = make_scorer(businessgain, greater_is_better=True)"
   ]
  },
  {
   "cell_type": "code",
   "execution_count": 60,
   "metadata": {},
   "outputs": [],
   "source": [
    "#create dataframe for model plot\n",
    "business_scores = pd.DataFrame(columns=('Model', 'Score'))"
   ]
  },
  {
   "cell_type": "markdown",
   "metadata": {},
   "source": [
    "### Logistic Regression"
   ]
  },
  {
   "cell_type": "markdown",
   "metadata": {},
   "source": [
    "#### SMOTE"
   ]
  },
  {
   "cell_type": "code",
   "execution_count": 61,
   "metadata": {},
   "outputs": [
    {
     "name": "stdout",
     "output_type": "stream",
     "text": [
      "SMOTE; \n",
      "Logistic Regression Baseline F1 score:  0.8506787330316742\n"
     ]
    }
   ],
   "source": [
    "# SMOTE balancing\n",
    "logistic = LogisticRegression(C=0.237, solver = 'liblinear',penalty='l2')\n",
    "logistic.fit(X_train_Bal, y_train_Bal)\n",
    "logistic.score(X_test, y_test)\n",
    "print(\"SMOTE; \\nLogistic Regression Baseline F1 score: \", f1_score(y_test,logistic.predict(X_test)))"
   ]
  },
  {
   "cell_type": "code",
   "execution_count": 62,
   "metadata": {},
   "outputs": [
    {
     "name": "stdout",
     "output_type": "stream",
     "text": [
      "CPU times: user 781 ms, sys: 112 ms, total: 893 ms\n",
      "Wall time: 4.55 s\n"
     ]
    },
    {
     "data": {
      "text/plain": [
       "GridSearchCV(cv=StratifiedKFold(n_splits=5, random_state=42, shuffle=True),\n",
       "             estimator=LogisticRegression(C=0.237, solver='liblinear'),\n",
       "             n_jobs=-1,\n",
       "             param_grid={'C': array([0.        , 0.07894737, 0.15789474, 0.23684211, 0.31578947,\n",
       "       0.39473684, 0.47368421, 0.55263158, 0.63157895, 0.71052632,\n",
       "       0.78947368, 0.86842105, 0.94736842, 1.02631579, 1.10526316,\n",
       "       1.18421053, 1.26315789, 1.34210526, 1.42105263, 1.5       ])},\n",
       "             scoring='f1')"
      ]
     },
     "execution_count": 62,
     "metadata": {},
     "output_type": "execute_result"
    }
   ],
   "source": [
    "grid_para_logit = {\n",
    "    'C': np.linspace(0,1.5,20)\n",
    "}\n",
    "\n",
    "grid_search_logit = ms.GridSearchCV(logistic, grid_para_logit, cv=s_kf, scoring='f1', n_jobs=-1)\n",
    "%time grid_search_logit.fit(X_train_Bal, y_train_Bal)"
   ]
  },
  {
   "cell_type": "code",
   "execution_count": 63,
   "metadata": {},
   "outputs": [
    {
     "name": "stdout",
     "output_type": "stream",
     "text": [
      "{'C': 1.5}\n",
      "Logistic Regression Grid Search train F1 score:  0.9696831088046037\n",
      "Logistic Best Estimator Validation set F1 score:  0.8727272727272728\n",
      "Logistic Best Estimator Validation set business score:  0.8751519003476045\n"
     ]
    }
   ],
   "source": [
    "#SMOTE\n",
    "logit_final = grid_search_logit.best_estimator_\n",
    "print(grid_search_logit.best_params_)\n",
    "print(\"Logistic Regression Grid Search train F1 score: \", grid_search_logit.best_score_)\n",
    "print(\"Logistic Best Estimator Validation set F1 score: \", f1_score(y_test,logit_final.predict(X_test)))\n",
    "print(\"Logistic Best Estimator Validation set business score: \", businessgain(y_test,logit_final.predict(X_test)))\n",
    "SMOTE_logit = businessgain(y_test,logit_final.predict(X_test))"
   ]
  },
  {
   "cell_type": "markdown",
   "metadata": {},
   "source": [
    "#### imblearn"
   ]
  },
  {
   "cell_type": "code",
   "execution_count": 64,
   "metadata": {},
   "outputs": [
    {
     "name": "stdout",
     "output_type": "stream",
     "text": [
      "Random oversampling; \n",
      "Logistic Regression Baseline F1 score:  0.8173913043478261\n"
     ]
    }
   ],
   "source": [
    "# imblearn balancing\n",
    "logistic = LogisticRegression(C=0.237, solver = 'liblinear',penalty='l2')\n",
    "logistic.fit(X_ros, y_ros)\n",
    "logistic.score(X_test, y_test)\n",
    "print(\"Random oversampling; \\nLogistic Regression Baseline F1 score: \", f1_score(y_test,logistic.predict(X_test)))"
   ]
  },
  {
   "cell_type": "code",
   "execution_count": 65,
   "metadata": {},
   "outputs": [
    {
     "name": "stdout",
     "output_type": "stream",
     "text": [
      "CPU times: user 624 ms, sys: 34.7 ms, total: 659 ms\n",
      "Wall time: 3.12 s\n"
     ]
    },
    {
     "data": {
      "text/plain": [
       "GridSearchCV(cv=StratifiedKFold(n_splits=5, random_state=42, shuffle=True),\n",
       "             estimator=LogisticRegression(C=0.237, solver='liblinear'),\n",
       "             n_jobs=-1,\n",
       "             param_grid={'C': array([0.        , 0.07894737, 0.15789474, 0.23684211, 0.31578947,\n",
       "       0.39473684, 0.47368421, 0.55263158, 0.63157895, 0.71052632,\n",
       "       0.78947368, 0.86842105, 0.94736842, 1.02631579, 1.10526316,\n",
       "       1.18421053, 1.26315789, 1.34210526, 1.42105263, 1.5       ])},\n",
       "             scoring='f1')"
      ]
     },
     "execution_count": 65,
     "metadata": {},
     "output_type": "execute_result"
    }
   ],
   "source": [
    "grid_para_logit = {\n",
    "    'C': np.linspace(0,1.5,20)\n",
    "}\n",
    "grid_search_logit = ms.GridSearchCV(logistic, grid_para_logit, cv=s_kf, scoring='f1', n_jobs=-1)\n",
    "%time grid_search_logit.fit(X_ros, y_ros)"
   ]
  },
  {
   "cell_type": "code",
   "execution_count": 66,
   "metadata": {},
   "outputs": [
    {
     "name": "stdout",
     "output_type": "stream",
     "text": [
      "{'C': 1.5}\n",
      "Logistic Regression Grid Search train F1 score:  0.9537518231961615\n",
      "Logistic Best Estimator Validation set F1 score:  0.8240343347639485\n",
      "Logistic Best Estimator Validation set business score:  0.8631555938258241\n"
     ]
    }
   ],
   "source": [
    "logit_final = grid_search_logit.best_estimator_\n",
    "print(grid_search_logit.best_params_)\n",
    "print(\"Logistic Regression Grid Search train F1 score: \", grid_search_logit.best_score_)\n",
    "print(\"Logistic Best Estimator Validation set F1 score: \", f1_score(y_test,logit_final.predict(X_test)))\n",
    "print(\"Logistic Best Estimator Validation set business score: \", businessgain(y_test,logit_final.predict(X_test)))\n",
    "imblearn_logit = businessgain(y_test,logit_final.predict(X_test))"
   ]
  },
  {
   "cell_type": "markdown",
   "metadata": {},
   "source": [
    "#### Comparing SMOTE and imblearn"
   ]
  },
  {
   "cell_type": "code",
   "execution_count": 67,
   "metadata": {},
   "outputs": [
    {
     "name": "stdout",
     "output_type": "stream",
     "text": [
      "SMOTE logit business score:  0.8751519003476045 \n",
      "imblearn logit business score:  0.8631555938258241\n"
     ]
    }
   ],
   "source": [
    "print('SMOTE logit business score: ', SMOTE_logit, '\\nimblearn logit business score: ', imblearn_logit)"
   ]
  },
  {
   "cell_type": "code",
   "execution_count": 68,
   "metadata": {},
   "outputs": [],
   "source": [
    "business_scores.loc[0] = 'Logistic', round(SMOTE_logit, 2)"
   ]
  },
  {
   "cell_type": "code",
   "execution_count": 69,
   "metadata": {},
   "outputs": [
    {
     "data": {
      "text/plain": [
       "array([[945,  36],\n",
       "       [  5,  96]])"
      ]
     },
     "execution_count": 69,
     "metadata": {},
     "output_type": "execute_result"
    }
   ],
   "source": [
    "confusion_matrix(y_test, logit_final.predict(X_test))"
   ]
  },
  {
   "cell_type": "code",
   "execution_count": 70,
   "metadata": {},
   "outputs": [
    {
     "name": "stdout",
     "output_type": "stream",
     "text": [
      "              precision    recall  f1-score   support\n",
      "\n",
      "           0       0.96      0.99      0.98       950\n",
      "           1       0.95      0.73      0.82       132\n",
      "\n",
      "    accuracy                           0.96      1082\n",
      "   macro avg       0.96      0.86      0.90      1082\n",
      "weighted avg       0.96      0.96      0.96      1082\n",
      "\n"
     ]
    }
   ],
   "source": [
    "print(classification_report(logit_final.predict(X_test), y_test))"
   ]
  },
  {
   "cell_type": "markdown",
   "metadata": {},
   "source": [
    "#### feature importance for logistic regression"
   ]
  },
  {
   "cell_type": "code",
   "execution_count": 71,
   "metadata": {},
   "outputs": [
    {
     "data": {
      "text/html": [
       "<div>\n",
       "<style scoped>\n",
       "    .dataframe tbody tr th:only-of-type {\n",
       "        vertical-align: middle;\n",
       "    }\n",
       "\n",
       "    .dataframe tbody tr th {\n",
       "        vertical-align: top;\n",
       "    }\n",
       "\n",
       "    .dataframe thead th {\n",
       "        text-align: right;\n",
       "    }\n",
       "</style>\n",
       "<table border=\"1\" class=\"dataframe\">\n",
       "  <thead>\n",
       "    <tr style=\"text-align: right;\">\n",
       "      <th></th>\n",
       "      <th>Feature</th>\n",
       "      <th>Score</th>\n",
       "    </tr>\n",
       "  </thead>\n",
       "  <tbody>\n",
       "    <tr>\n",
       "      <th>41</th>\n",
       "      <td>isFraudConnected</td>\n",
       "      <td>14.560475</td>\n",
       "    </tr>\n",
       "    <tr>\n",
       "      <th>38</th>\n",
       "      <td>NetworkDegree</td>\n",
       "      <td>4.262470</td>\n",
       "    </tr>\n",
       "    <tr>\n",
       "      <th>40</th>\n",
       "      <td>Outpatient</td>\n",
       "      <td>1.454940</td>\n",
       "    </tr>\n",
       "    <tr>\n",
       "      <th>3</th>\n",
       "      <td>Claim_Count</td>\n",
       "      <td>0.916165</td>\n",
       "    </tr>\n",
       "    <tr>\n",
       "      <th>6</th>\n",
       "      <td>Outpatient_Count</td>\n",
       "      <td>0.787941</td>\n",
       "    </tr>\n",
       "    <tr>\n",
       "      <th>9</th>\n",
       "      <td>DuplicateClaims</td>\n",
       "      <td>0.772323</td>\n",
       "    </tr>\n",
       "    <tr>\n",
       "      <th>27</th>\n",
       "      <td>ChronicCond_Depression_2</td>\n",
       "      <td>0.541846</td>\n",
       "    </tr>\n",
       "    <tr>\n",
       "      <th>26</th>\n",
       "      <td>ChronicCond_Depression_1</td>\n",
       "      <td>0.525089</td>\n",
       "    </tr>\n",
       "    <tr>\n",
       "      <th>20</th>\n",
       "      <td>ChronicCond_KidneyDisease_1</td>\n",
       "      <td>0.467571</td>\n",
       "    </tr>\n",
       "    <tr>\n",
       "      <th>32</th>\n",
       "      <td>ChronicCond_Osteoporasis_1</td>\n",
       "      <td>0.425808</td>\n",
       "    </tr>\n",
       "    <tr>\n",
       "      <th>29</th>\n",
       "      <td>ChronicCond_Diabetes_2</td>\n",
       "      <td>0.374540</td>\n",
       "    </tr>\n",
       "    <tr>\n",
       "      <th>21</th>\n",
       "      <td>ChronicCond_KidneyDisease_2</td>\n",
       "      <td>0.371453</td>\n",
       "    </tr>\n",
       "    <tr>\n",
       "      <th>36</th>\n",
       "      <td>ChronicCond_stroke_1</td>\n",
       "      <td>0.341285</td>\n",
       "    </tr>\n",
       "    <tr>\n",
       "      <th>5</th>\n",
       "      <td>Inpatient_Count</td>\n",
       "      <td>0.329243</td>\n",
       "    </tr>\n",
       "    <tr>\n",
       "      <th>0</th>\n",
       "      <td>Phys_Count</td>\n",
       "      <td>0.327987</td>\n",
       "    </tr>\n",
       "    <tr>\n",
       "      <th>18</th>\n",
       "      <td>ChronicCond_Alzheimer_1</td>\n",
       "      <td>0.274804</td>\n",
       "    </tr>\n",
       "    <tr>\n",
       "      <th>35</th>\n",
       "      <td>ChronicCond_rheumatoidarthritis_2</td>\n",
       "      <td>0.216382</td>\n",
       "    </tr>\n",
       "    <tr>\n",
       "      <th>30</th>\n",
       "      <td>ChronicCond_IschemicHeart_1</td>\n",
       "      <td>0.182362</td>\n",
       "    </tr>\n",
       "    <tr>\n",
       "      <th>34</th>\n",
       "      <td>ChronicCond_rheumatoidarthritis_1</td>\n",
       "      <td>0.176493</td>\n",
       "    </tr>\n",
       "    <tr>\n",
       "      <th>31</th>\n",
       "      <td>ChronicCond_IschemicHeart_2</td>\n",
       "      <td>0.159811</td>\n",
       "    </tr>\n",
       "    <tr>\n",
       "      <th>33</th>\n",
       "      <td>ChronicCond_Osteoporasis_2</td>\n",
       "      <td>0.148443</td>\n",
       "    </tr>\n",
       "    <tr>\n",
       "      <th>37</th>\n",
       "      <td>ChronicCond_stroke_2</td>\n",
       "      <td>0.141251</td>\n",
       "    </tr>\n",
       "    <tr>\n",
       "      <th>11</th>\n",
       "      <td>AvgClaimDuration</td>\n",
       "      <td>0.140172</td>\n",
       "    </tr>\n",
       "    <tr>\n",
       "      <th>16</th>\n",
       "      <td>Race2</td>\n",
       "      <td>0.138744</td>\n",
       "    </tr>\n",
       "    <tr>\n",
       "      <th>25</th>\n",
       "      <td>ChronicCond_ObstrPulmonary_2</td>\n",
       "      <td>0.130954</td>\n",
       "    </tr>\n",
       "    <tr>\n",
       "      <th>28</th>\n",
       "      <td>ChronicCond_Diabetes_1</td>\n",
       "      <td>0.128064</td>\n",
       "    </tr>\n",
       "    <tr>\n",
       "      <th>19</th>\n",
       "      <td>ChronicCond_Alzheimer_2</td>\n",
       "      <td>0.119154</td>\n",
       "    </tr>\n",
       "    <tr>\n",
       "      <th>39</th>\n",
       "      <td>NoPhysicianCount</td>\n",
       "      <td>0.108179</td>\n",
       "    </tr>\n",
       "    <tr>\n",
       "      <th>12</th>\n",
       "      <td>Avg_Cost</td>\n",
       "      <td>0.070456</td>\n",
       "    </tr>\n",
       "    <tr>\n",
       "      <th>2</th>\n",
       "      <td>Norm_Patient_Count</td>\n",
       "      <td>0.067831</td>\n",
       "    </tr>\n",
       "    <tr>\n",
       "      <th>23</th>\n",
       "      <td>ChronicCond_Cancer_2</td>\n",
       "      <td>0.043147</td>\n",
       "    </tr>\n",
       "    <tr>\n",
       "      <th>10</th>\n",
       "      <td>Duplicate_Claims_Percent</td>\n",
       "      <td>0.041804</td>\n",
       "    </tr>\n",
       "    <tr>\n",
       "      <th>17</th>\n",
       "      <td>Race3</td>\n",
       "      <td>0.035049</td>\n",
       "    </tr>\n",
       "    <tr>\n",
       "      <th>4</th>\n",
       "      <td>Norm_Claim_Count</td>\n",
       "      <td>0.034274</td>\n",
       "    </tr>\n",
       "    <tr>\n",
       "      <th>1</th>\n",
       "      <td>Patient_Count</td>\n",
       "      <td>0.032900</td>\n",
       "    </tr>\n",
       "    <tr>\n",
       "      <th>22</th>\n",
       "      <td>ChronicCond_Cancer_1</td>\n",
       "      <td>0.021753</td>\n",
       "    </tr>\n",
       "    <tr>\n",
       "      <th>15</th>\n",
       "      <td>Race1</td>\n",
       "      <td>0.015301</td>\n",
       "    </tr>\n",
       "    <tr>\n",
       "      <th>14</th>\n",
       "      <td>Gender1</td>\n",
       "      <td>0.002108</td>\n",
       "    </tr>\n",
       "    <tr>\n",
       "      <th>24</th>\n",
       "      <td>ChronicCond_ObstrPulmonary_1</td>\n",
       "      <td>0.001403</td>\n",
       "    </tr>\n",
       "    <tr>\n",
       "      <th>8</th>\n",
       "      <td>Norm_Outpatient_Count</td>\n",
       "      <td>0.001333</td>\n",
       "    </tr>\n",
       "    <tr>\n",
       "      <th>13</th>\n",
       "      <td>Avg_Age</td>\n",
       "      <td>0.001135</td>\n",
       "    </tr>\n",
       "    <tr>\n",
       "      <th>7</th>\n",
       "      <td>Norm_Inpatient_Count</td>\n",
       "      <td>0.000983</td>\n",
       "    </tr>\n",
       "  </tbody>\n",
       "</table>\n",
       "</div>"
      ],
      "text/plain": [
       "                              Feature      Score\n",
       "41                   isFraudConnected  14.560475\n",
       "38                      NetworkDegree   4.262470\n",
       "40                         Outpatient   1.454940\n",
       "3                         Claim_Count   0.916165\n",
       "6                    Outpatient_Count   0.787941\n",
       "9                     DuplicateClaims   0.772323\n",
       "27           ChronicCond_Depression_2   0.541846\n",
       "26           ChronicCond_Depression_1   0.525089\n",
       "20        ChronicCond_KidneyDisease_1   0.467571\n",
       "32         ChronicCond_Osteoporasis_1   0.425808\n",
       "29             ChronicCond_Diabetes_2   0.374540\n",
       "21        ChronicCond_KidneyDisease_2   0.371453\n",
       "36               ChronicCond_stroke_1   0.341285\n",
       "5                     Inpatient_Count   0.329243\n",
       "0                          Phys_Count   0.327987\n",
       "18            ChronicCond_Alzheimer_1   0.274804\n",
       "35  ChronicCond_rheumatoidarthritis_2   0.216382\n",
       "30        ChronicCond_IschemicHeart_1   0.182362\n",
       "34  ChronicCond_rheumatoidarthritis_1   0.176493\n",
       "31        ChronicCond_IschemicHeart_2   0.159811\n",
       "33         ChronicCond_Osteoporasis_2   0.148443\n",
       "37               ChronicCond_stroke_2   0.141251\n",
       "11                   AvgClaimDuration   0.140172\n",
       "16                              Race2   0.138744\n",
       "25       ChronicCond_ObstrPulmonary_2   0.130954\n",
       "28             ChronicCond_Diabetes_1   0.128064\n",
       "19            ChronicCond_Alzheimer_2   0.119154\n",
       "39                   NoPhysicianCount   0.108179\n",
       "12                           Avg_Cost   0.070456\n",
       "2                  Norm_Patient_Count   0.067831\n",
       "23               ChronicCond_Cancer_2   0.043147\n",
       "10           Duplicate_Claims_Percent   0.041804\n",
       "17                              Race3   0.035049\n",
       "4                    Norm_Claim_Count   0.034274\n",
       "1                       Patient_Count   0.032900\n",
       "22               ChronicCond_Cancer_1   0.021753\n",
       "15                              Race1   0.015301\n",
       "14                            Gender1   0.002108\n",
       "24       ChronicCond_ObstrPulmonary_1   0.001403\n",
       "8               Norm_Outpatient_Count   0.001333\n",
       "13                            Avg_Age   0.001135\n",
       "7                Norm_Inpatient_Count   0.000983"
      ]
     },
     "execution_count": 71,
     "metadata": {},
     "output_type": "execute_result"
    },
    {
     "data": {
      "image/png": "[encoded data removed]",
      "text/plain": [
       "<Figure size 432x288 with 1 Axes>"
      ]
     },
     "metadata": {},
     "output_type": "display_data"
    }
   ],
   "source": [
    "importance = logit_final.coef_[0]\n",
    "feature_importance = pd.DataFrame(columns = ('Feature', 'Score'))\n",
    "\n",
    "# summarize feature importance\n",
    "for i,v in enumerate(importance):\n",
    "    feature_importance.loc[i] = X_train_Bal.columns[i], np.abs(v)\n",
    "    \n",
    "# plot feature importance\n",
    "scores = feature_importance.sort_values(by = 'Score', ascending=False)\n",
    "scores.plot.bar()\n",
    "scores"
   ]
  },
  {
   "cell_type": "markdown",
   "metadata": {},
   "source": [
    "### Stochastic Gradient Descent"
   ]
  },
  {
   "cell_type": "markdown",
   "metadata": {},
   "source": [
    "#### SMOTE"
   ]
  },
  {
   "cell_type": "code",
   "execution_count": 72,
   "metadata": {},
   "outputs": [
    {
     "name": "stdout",
     "output_type": "stream",
     "text": [
      "SMOTE: \n",
      "SGD Baseline F1 score:  0.49875311720698257\n"
     ]
    }
   ],
   "source": [
    "#SMOTE\n",
    "sgd = SGDClassifier(loss='log', max_iter=1e4, l1_ratio=0, alpha=1e-4, shuffle=False)\n",
    "sgd.fit(X_train_Bal, y_train_Bal)\n",
    "print(\"SMOTE: \\nSGD Baseline F1 score: \", f1_score(y_test,sgd.predict(X_test)))"
   ]
  },
  {
   "cell_type": "code",
   "execution_count": 73,
   "metadata": {},
   "outputs": [
    {
     "name": "stdout",
     "output_type": "stream",
     "text": [
      "CPU times: user 2.68 s, sys: 126 ms, total: 2.8 s\n",
      "Wall time: 10.6 s\n"
     ]
    },
    {
     "data": {
      "text/plain": [
       "GridSearchCV(cv=StratifiedKFold(n_splits=5, random_state=42, shuffle=True),\n",
       "             estimator=SGDClassifier(l1_ratio=0, loss='log', max_iter=10000.0,\n",
       "                                     shuffle=False),\n",
       "             n_jobs=-1,\n",
       "             param_grid={'alpha': array([0.0005    , 0.00048621, 0.00047241, 0.00045862, 0.00044483,\n",
       "       0.00043103, 0.00041724, 0.00040345, 0.00038966, 0.00037586,\n",
       "       0.00036207, 0.00034828, 0.00033448, 0.00032069, 0.0003069 ,\n",
       "       0.0002931 , 0.00027931, 0.00026552, 0.00025172, 0.00023793,\n",
       "       0.00022414, 0.00021034, 0.00019655, 0.00018276, 0.00016897,\n",
       "       0.00015517, 0.00014138, 0.00012759, 0.00011379, 0.0001    ]),\n",
       "                         'max_iter': [0.001, 0.01, 0.1, 1, 10, 100, 1000,\n",
       "                                      10000]},\n",
       "             scoring='f1')"
      ]
     },
     "execution_count": 73,
     "metadata": {},
     "output_type": "execute_result"
    }
   ],
   "source": [
    "grid_para_sgd = {\n",
    "    'max_iter': [0.001, 0.01, 0.1, 1, 10, 100, 1000, 10000],\n",
    "    'alpha': np.linspace(5e-4,1e-4,30)\n",
    "}\n",
    "grid_search_sgd = ms.GridSearchCV(sgd, grid_para_sgd, cv=s_kf, scoring='f1', n_jobs=-1)\n",
    "%time grid_search_sgd.fit(X_train_Bal, y_train_Bal)"
   ]
  },
  {
   "cell_type": "code",
   "execution_count": 74,
   "metadata": {},
   "outputs": [
    {
     "name": "stdout",
     "output_type": "stream",
     "text": [
      "SMOTE: \n",
      "\n",
      "SGD Grid Search best params:  {'alpha': 0.00038965517241379313, 'max_iter': 1000}\n",
      "SGD Grid Search Training set F1 score:  0.91161239683652\n",
      "SGD Best Estimator Validation set F1 score:  0.5076142131979696\n",
      "SGD Best Estimator Validation set business score:  0.8011762147846404\n"
     ]
    }
   ],
   "source": [
    "print(\"SMOTE: \\n\")\n",
    "print(\"SGD Grid Search best params: \", grid_search_sgd.best_params_)\n",
    "print(\"SGD Grid Search Training set F1 score: \", grid_search_sgd.best_score_)\n",
    "sgd_final = grid_search_sgd.best_estimator_\n",
    "print(\"SGD Best Estimator Validation set F1 score: \", f1_score(y_test,sgd_final.predict(X_test)))\n",
    "print(\"SGD Best Estimator Validation set business score: \", businessgain(y_test,sgd_final.predict(X_test)))\n",
    "SMOTE_sgd = businessgain(y_test,sgd_final.predict(X_test))"
   ]
  },
  {
   "cell_type": "markdown",
   "metadata": {},
   "source": [
    "#### imblearn"
   ]
  },
  {
   "cell_type": "code",
   "execution_count": 75,
   "metadata": {},
   "outputs": [
    {
     "name": "stdout",
     "output_type": "stream",
     "text": [
      "Imblearn Balanced: \n",
      "SGD Baseline F1 score:  0.4842615012106538\n"
     ]
    }
   ],
   "source": [
    "sgd = SGDClassifier(loss='log', max_iter=1e4, l1_ratio=0, alpha=1e-4, shuffle=False)\n",
    "sgd.fit(X_ros, y_ros)\n",
    "print(\"Imblearn Balanced: \\nSGD Baseline F1 score: \", f1_score(y_test,sgd.predict(X_test)))"
   ]
  },
  {
   "cell_type": "code",
   "execution_count": 76,
   "metadata": {},
   "outputs": [
    {
     "name": "stdout",
     "output_type": "stream",
     "text": [
      "CPU times: user 2.6 s, sys: 129 ms, total: 2.73 s\n",
      "Wall time: 11.2 s\n"
     ]
    },
    {
     "data": {
      "text/plain": [
       "GridSearchCV(cv=StratifiedKFold(n_splits=5, random_state=42, shuffle=True),\n",
       "             estimator=SGDClassifier(l1_ratio=0, loss='log', max_iter=10000.0,\n",
       "                                     shuffle=False),\n",
       "             n_jobs=-1,\n",
       "             param_grid={'alpha': array([0.0005    , 0.00048621, 0.00047241, 0.00045862, 0.00044483,\n",
       "       0.00043103, 0.00041724, 0.00040345, 0.00038966, 0.00037586,\n",
       "       0.00036207, 0.00034828, 0.00033448, 0.00032069, 0.0003069 ,\n",
       "       0.0002931 , 0.00027931, 0.00026552, 0.00025172, 0.00023793,\n",
       "       0.00022414, 0.00021034, 0.00019655, 0.00018276, 0.00016897,\n",
       "       0.00015517, 0.00014138, 0.00012759, 0.00011379, 0.0001    ]),\n",
       "                         'max_iter': [0.001, 0.01, 0.1, 1, 10, 100, 1000,\n",
       "                                      10000]},\n",
       "             scoring='f1')"
      ]
     },
     "execution_count": 76,
     "metadata": {},
     "output_type": "execute_result"
    }
   ],
   "source": [
    "grid_para_sgd = {\n",
    "    'max_iter': [0.001, 0.01, 0.1, 1, 10, 100, 1000, 10000],\n",
    "    'alpha': np.linspace(5e-4,1e-4,30)\n",
    "}\n",
    "grid_search_sgd = ms.GridSearchCV(sgd, grid_para_sgd, cv=s_kf, scoring='f1', n_jobs=-1)\n",
    "%time grid_search_sgd.fit(X_ros, y_ros)"
   ]
  },
  {
   "cell_type": "code",
   "execution_count": 77,
   "metadata": {},
   "outputs": [
    {
     "name": "stdout",
     "output_type": "stream",
     "text": [
      "SGD Grid Search best params:  {'alpha': 0.00015517241379310343, 'max_iter': 100}\n",
      "SGD Grid Search Training set F1 score:  0.8977602789925736\n",
      "SGD Best Estimator Validation set F1 score:  0.4739336492890995\n",
      "SGD Best Estimator Validation set business score:  0.7753380161223439\n"
     ]
    }
   ],
   "source": [
    "print(\"SGD Grid Search best params: \", grid_search_sgd.best_params_)\n",
    "print(\"SGD Grid Search Training set F1 score: \", grid_search_sgd.best_score_)\n",
    "sgd_final = grid_search_sgd.best_estimator_\n",
    "print(\"SGD Best Estimator Validation set F1 score: \", f1_score(y_test,sgd_final.predict(X_test)))\n",
    "print(\"SGD Best Estimator Validation set business score: \", businessgain(y_test,sgd_final.predict(X_test)))\n",
    "imblearn_sgd = businessgain(y_test,sgd_final.predict(X_test))"
   ]
  },
  {
   "cell_type": "markdown",
   "metadata": {},
   "source": [
    "#### Comparing SMOTE with imblearn"
   ]
  },
  {
   "cell_type": "code",
   "execution_count": 78,
   "metadata": {},
   "outputs": [
    {
     "name": "stdout",
     "output_type": "stream",
     "text": [
      "SMOTE SGD business score:  0.8011762147846404 \n",
      "imblearn SGD business score:  0.7753380161223439\n"
     ]
    }
   ],
   "source": [
    "print('SMOTE SGD business score: ', SMOTE_sgd, '\\nimblearn SGD business score: ', imblearn_sgd)"
   ]
  },
  {
   "cell_type": "code",
   "execution_count": 79,
   "metadata": {},
   "outputs": [],
   "source": [
    "business_scores.loc[1] = 'SGD', round(SMOTE_sgd, 2)"
   ]
  },
  {
   "cell_type": "code",
   "execution_count": 80,
   "metadata": {},
   "outputs": [
    {
     "data": {
      "text/plain": [
       "array([[760, 221],\n",
       "       [  1, 100]])"
      ]
     },
     "execution_count": 80,
     "metadata": {},
     "output_type": "execute_result"
    }
   ],
   "source": [
    "confusion_matrix(y_test, sgd_final.predict(X_test))"
   ]
  },
  {
   "cell_type": "code",
   "execution_count": 81,
   "metadata": {},
   "outputs": [
    {
     "name": "stdout",
     "output_type": "stream",
     "text": [
      "              precision    recall  f1-score   support\n",
      "\n",
      "           0       0.77      1.00      0.87       761\n",
      "           1       0.99      0.31      0.47       321\n",
      "\n",
      "    accuracy                           0.79      1082\n",
      "   macro avg       0.88      0.66      0.67      1082\n",
      "weighted avg       0.84      0.79      0.75      1082\n",
      "\n"
     ]
    }
   ],
   "source": [
    "print(classification_report(sgd_final.predict(X_test), y_test))"
   ]
  },
  {
   "cell_type": "markdown",
   "metadata": {},
   "source": [
    "#### SGD feature Importance"
   ]
  },
  {
   "cell_type": "code",
   "execution_count": 82,
   "metadata": {},
   "outputs": [
    {
     "data": {
      "text/html": [
       "<div>\n",
       "<style scoped>\n",
       "    .dataframe tbody tr th:only-of-type {\n",
       "        vertical-align: middle;\n",
       "    }\n",
       "\n",
       "    .dataframe tbody tr th {\n",
       "        vertical-align: top;\n",
       "    }\n",
       "\n",
       "    .dataframe thead th {\n",
       "        text-align: right;\n",
       "    }\n",
       "</style>\n",
       "<table border=\"1\" class=\"dataframe\">\n",
       "  <thead>\n",
       "    <tr style=\"text-align: right;\">\n",
       "      <th></th>\n",
       "      <th>Feature</th>\n",
       "      <th>Score</th>\n",
       "    </tr>\n",
       "  </thead>\n",
       "  <tbody>\n",
       "    <tr>\n",
       "      <th>41</th>\n",
       "      <td>isFraudConnected</td>\n",
       "      <td>43.519974</td>\n",
       "    </tr>\n",
       "    <tr>\n",
       "      <th>38</th>\n",
       "      <td>NetworkDegree</td>\n",
       "      <td>9.214278</td>\n",
       "    </tr>\n",
       "    <tr>\n",
       "      <th>6</th>\n",
       "      <td>Outpatient_Count</td>\n",
       "      <td>8.096251</td>\n",
       "    </tr>\n",
       "    <tr>\n",
       "      <th>40</th>\n",
       "      <td>Outpatient</td>\n",
       "      <td>6.285919</td>\n",
       "    </tr>\n",
       "    <tr>\n",
       "      <th>3</th>\n",
       "      <td>Claim_Count</td>\n",
       "      <td>4.599044</td>\n",
       "    </tr>\n",
       "    <tr>\n",
       "      <th>9</th>\n",
       "      <td>DuplicateClaims</td>\n",
       "      <td>4.383564</td>\n",
       "    </tr>\n",
       "    <tr>\n",
       "      <th>39</th>\n",
       "      <td>NoPhysicianCount</td>\n",
       "      <td>4.327338</td>\n",
       "    </tr>\n",
       "    <tr>\n",
       "      <th>26</th>\n",
       "      <td>ChronicCond_Depression_1</td>\n",
       "      <td>4.317909</td>\n",
       "    </tr>\n",
       "    <tr>\n",
       "      <th>29</th>\n",
       "      <td>ChronicCond_Diabetes_2</td>\n",
       "      <td>4.272186</td>\n",
       "    </tr>\n",
       "    <tr>\n",
       "      <th>5</th>\n",
       "      <td>Inpatient_Count</td>\n",
       "      <td>3.532414</td>\n",
       "    </tr>\n",
       "    <tr>\n",
       "      <th>8</th>\n",
       "      <td>Norm_Outpatient_Count</td>\n",
       "      <td>3.288850</td>\n",
       "    </tr>\n",
       "    <tr>\n",
       "      <th>7</th>\n",
       "      <td>Norm_Inpatient_Count</td>\n",
       "      <td>3.288850</td>\n",
       "    </tr>\n",
       "    <tr>\n",
       "      <th>36</th>\n",
       "      <td>ChronicCond_stroke_1</td>\n",
       "      <td>2.604902</td>\n",
       "    </tr>\n",
       "    <tr>\n",
       "      <th>27</th>\n",
       "      <td>ChronicCond_Depression_2</td>\n",
       "      <td>2.464997</td>\n",
       "    </tr>\n",
       "    <tr>\n",
       "      <th>21</th>\n",
       "      <td>ChronicCond_KidneyDisease_2</td>\n",
       "      <td>2.320278</td>\n",
       "    </tr>\n",
       "    <tr>\n",
       "      <th>17</th>\n",
       "      <td>Race3</td>\n",
       "      <td>2.186693</td>\n",
       "    </tr>\n",
       "    <tr>\n",
       "      <th>0</th>\n",
       "      <td>Phys_Count</td>\n",
       "      <td>2.150301</td>\n",
       "    </tr>\n",
       "    <tr>\n",
       "      <th>2</th>\n",
       "      <td>Norm_Patient_Count</td>\n",
       "      <td>2.119202</td>\n",
       "    </tr>\n",
       "    <tr>\n",
       "      <th>18</th>\n",
       "      <td>ChronicCond_Alzheimer_1</td>\n",
       "      <td>1.900145</td>\n",
       "    </tr>\n",
       "    <tr>\n",
       "      <th>20</th>\n",
       "      <td>ChronicCond_KidneyDisease_1</td>\n",
       "      <td>1.811490</td>\n",
       "    </tr>\n",
       "    <tr>\n",
       "      <th>12</th>\n",
       "      <td>Avg_Cost</td>\n",
       "      <td>1.689617</td>\n",
       "    </tr>\n",
       "    <tr>\n",
       "      <th>4</th>\n",
       "      <td>Norm_Claim_Count</td>\n",
       "      <td>1.640434</td>\n",
       "    </tr>\n",
       "    <tr>\n",
       "      <th>13</th>\n",
       "      <td>Avg_Age</td>\n",
       "      <td>1.632178</td>\n",
       "    </tr>\n",
       "    <tr>\n",
       "      <th>14</th>\n",
       "      <td>Gender1</td>\n",
       "      <td>1.529519</td>\n",
       "    </tr>\n",
       "    <tr>\n",
       "      <th>10</th>\n",
       "      <td>Duplicate_Claims_Percent</td>\n",
       "      <td>1.381585</td>\n",
       "    </tr>\n",
       "    <tr>\n",
       "      <th>24</th>\n",
       "      <td>ChronicCond_ObstrPulmonary_1</td>\n",
       "      <td>1.284473</td>\n",
       "    </tr>\n",
       "    <tr>\n",
       "      <th>28</th>\n",
       "      <td>ChronicCond_Diabetes_1</td>\n",
       "      <td>1.044057</td>\n",
       "    </tr>\n",
       "    <tr>\n",
       "      <th>31</th>\n",
       "      <td>ChronicCond_IschemicHeart_2</td>\n",
       "      <td>0.925173</td>\n",
       "    </tr>\n",
       "    <tr>\n",
       "      <th>22</th>\n",
       "      <td>ChronicCond_Cancer_1</td>\n",
       "      <td>0.895068</td>\n",
       "    </tr>\n",
       "    <tr>\n",
       "      <th>35</th>\n",
       "      <td>ChronicCond_rheumatoidarthritis_2</td>\n",
       "      <td>0.826365</td>\n",
       "    </tr>\n",
       "    <tr>\n",
       "      <th>30</th>\n",
       "      <td>ChronicCond_IschemicHeart_1</td>\n",
       "      <td>0.816895</td>\n",
       "    </tr>\n",
       "    <tr>\n",
       "      <th>33</th>\n",
       "      <td>ChronicCond_Osteoporasis_2</td>\n",
       "      <td>0.769159</td>\n",
       "    </tr>\n",
       "    <tr>\n",
       "      <th>34</th>\n",
       "      <td>ChronicCond_rheumatoidarthritis_1</td>\n",
       "      <td>0.655346</td>\n",
       "    </tr>\n",
       "    <tr>\n",
       "      <th>1</th>\n",
       "      <td>Patient_Count</td>\n",
       "      <td>0.653073</td>\n",
       "    </tr>\n",
       "    <tr>\n",
       "      <th>23</th>\n",
       "      <td>ChronicCond_Cancer_2</td>\n",
       "      <td>0.607699</td>\n",
       "    </tr>\n",
       "    <tr>\n",
       "      <th>15</th>\n",
       "      <td>Race1</td>\n",
       "      <td>0.463767</td>\n",
       "    </tr>\n",
       "    <tr>\n",
       "      <th>16</th>\n",
       "      <td>Race2</td>\n",
       "      <td>0.461958</td>\n",
       "    </tr>\n",
       "    <tr>\n",
       "      <th>32</th>\n",
       "      <td>ChronicCond_Osteoporasis_1</td>\n",
       "      <td>0.401554</td>\n",
       "    </tr>\n",
       "    <tr>\n",
       "      <th>11</th>\n",
       "      <td>AvgClaimDuration</td>\n",
       "      <td>0.270757</td>\n",
       "    </tr>\n",
       "    <tr>\n",
       "      <th>19</th>\n",
       "      <td>ChronicCond_Alzheimer_2</td>\n",
       "      <td>0.130800</td>\n",
       "    </tr>\n",
       "    <tr>\n",
       "      <th>37</th>\n",
       "      <td>ChronicCond_stroke_2</td>\n",
       "      <td>0.092804</td>\n",
       "    </tr>\n",
       "    <tr>\n",
       "      <th>25</th>\n",
       "      <td>ChronicCond_ObstrPulmonary_2</td>\n",
       "      <td>0.035101</td>\n",
       "    </tr>\n",
       "  </tbody>\n",
       "</table>\n",
       "</div>"
      ],
      "text/plain": [
       "                              Feature      Score\n",
       "41                   isFraudConnected  43.519974\n",
       "38                      NetworkDegree   9.214278\n",
       "6                    Outpatient_Count   8.096251\n",
       "40                         Outpatient   6.285919\n",
       "3                         Claim_Count   4.599044\n",
       "9                     DuplicateClaims   4.383564\n",
       "39                   NoPhysicianCount   4.327338\n",
       "26           ChronicCond_Depression_1   4.317909\n",
       "29             ChronicCond_Diabetes_2   4.272186\n",
       "5                     Inpatient_Count   3.532414\n",
       "8               Norm_Outpatient_Count   3.288850\n",
       "7                Norm_Inpatient_Count   3.288850\n",
       "36               ChronicCond_stroke_1   2.604902\n",
       "27           ChronicCond_Depression_2   2.464997\n",
       "21        ChronicCond_KidneyDisease_2   2.320278\n",
       "17                              Race3   2.186693\n",
       "0                          Phys_Count   2.150301\n",
       "2                  Norm_Patient_Count   2.119202\n",
       "18            ChronicCond_Alzheimer_1   1.900145\n",
       "20        ChronicCond_KidneyDisease_1   1.811490\n",
       "12                           Avg_Cost   1.689617\n",
       "4                    Norm_Claim_Count   1.640434\n",
       "13                            Avg_Age   1.632178\n",
       "14                            Gender1   1.529519\n",
       "10           Duplicate_Claims_Percent   1.381585\n",
       "24       ChronicCond_ObstrPulmonary_1   1.284473\n",
       "28             ChronicCond_Diabetes_1   1.044057\n",
       "31        ChronicCond_IschemicHeart_2   0.925173\n",
       "22               ChronicCond_Cancer_1   0.895068\n",
       "35  ChronicCond_rheumatoidarthritis_2   0.826365\n",
       "30        ChronicCond_IschemicHeart_1   0.816895\n",
       "33         ChronicCond_Osteoporasis_2   0.769159\n",
       "34  ChronicCond_rheumatoidarthritis_1   0.655346\n",
       "1                       Patient_Count   0.653073\n",
       "23               ChronicCond_Cancer_2   0.607699\n",
       "15                              Race1   0.463767\n",
       "16                              Race2   0.461958\n",
       "32         ChronicCond_Osteoporasis_1   0.401554\n",
       "11                   AvgClaimDuration   0.270757\n",
       "19            ChronicCond_Alzheimer_2   0.130800\n",
       "37               ChronicCond_stroke_2   0.092804\n",
       "25       ChronicCond_ObstrPulmonary_2   0.035101"
      ]
     },
     "execution_count": 82,
     "metadata": {},
     "output_type": "execute_result"
    },
    {
     "data": {
      "image/png": "[encoded data removed]",
      "text/plain": [
       "<Figure size 432x288 with 1 Axes>"
      ]
     },
     "metadata": {},
     "output_type": "display_data"
    }
   ],
   "source": [
    "importance = sgd_final.coef_[0]\n",
    "feature_importance = pd.DataFrame(columns = ('Feature', 'Score'))\n",
    "\n",
    "# summarize feature importance\n",
    "for i,v in enumerate(importance):\n",
    "    feature_importance.loc[i] = X_train_Bal.columns[i], np.abs(v)\n",
    "    \n",
    "# plot feature importance\n",
    "scores = feature_importance.sort_values(by = 'Score', ascending=False)\n",
    "scores.plot.bar()\n",
    "scores"
   ]
  },
  {
   "cell_type": "markdown",
   "metadata": {},
   "source": [
    "### K-Nearest Neighbors"
   ]
  },
  {
   "cell_type": "markdown",
   "metadata": {},
   "source": [
    "#### SMOTE"
   ]
  },
  {
   "cell_type": "code",
   "execution_count": 83,
   "metadata": {},
   "outputs": [
    {
     "name": "stdout",
     "output_type": "stream",
     "text": [
      "SMOTE: \n",
      "KNN Baseline Training Set F1 score:  0.9586392559960841\n",
      "KNN Baseline Validation Set F1 score:  0.6431095406360424\n"
     ]
    }
   ],
   "source": [
    "knn = KNeighborsClassifier()\n",
    "knn.fit(X_train_Bal, y_train_Bal)\n",
    "print(\"SMOTE: \\nKNN Baseline Training Set F1 score: \", f1_score(y_train_Bal,knn.predict(X_train_Bal)))\n",
    "print(\"KNN Baseline Validation Set F1 score: \", f1_score(y_test,knn.predict(X_test)))"
   ]
  },
  {
   "cell_type": "code",
   "execution_count": 84,
   "metadata": {},
   "outputs": [
    {
     "name": "stdout",
     "output_type": "stream",
     "text": [
      "Fitting 5 folds for each of 10 candidates, totalling 50 fits\n"
     ]
    },
    {
     "name": "stderr",
     "output_type": "stream",
     "text": [
      "[Parallel(n_jobs=-1)]: Using backend LokyBackend with 8 concurrent workers.\n",
      "[Parallel(n_jobs=-1)]: Done  34 tasks      | elapsed:   18.4s\n",
      "[Parallel(n_jobs=-1)]: Done  50 out of  50 | elapsed:   23.4s finished\n"
     ]
    },
    {
     "data": {
      "text/plain": [
       "GridSearchCV(cv=StratifiedKFold(n_splits=5, random_state=42, shuffle=True),\n",
       "             estimator=KNeighborsClassifier(), n_jobs=-1,\n",
       "             param_grid={'n_neighbors': array([70, 71, 72, 73, 74, 75, 76, 77, 78, 79])},\n",
       "             return_train_score=True, scoring='f1', verbose=1)"
      ]
     },
     "execution_count": 84,
     "metadata": {},
     "output_type": "execute_result"
    }
   ],
   "source": [
    "# grid search\n",
    "params = {'n_neighbors': np.arange(0,10)+70}\n",
    "\n",
    "knn_GS =  GridSearchCV(knn, param_grid = params,\n",
    "                       cv=s_kf, n_jobs=(-1), verbose = 1,\n",
    "                       return_train_score = True,\n",
    "                       scoring = 'f1')\n",
    "\n",
    "knn_GS.fit(X_train_Bal, y_train_Bal)"
   ]
  },
  {
   "cell_type": "code",
   "execution_count": 85,
   "metadata": {},
   "outputs": [
    {
     "name": "stdout",
     "output_type": "stream",
     "text": [
      "KNN Grid Search Best params:  {'n_neighbors': 70}\n",
      "KNN Grid Search Training set F1 score:  0.8982422575630754\n",
      "KNN Grid Search Validation set F1 score:  0.5274725274725275\n",
      "KNN Grid Search Validation set business score:  0.7422697357986512\n"
     ]
    }
   ],
   "source": [
    "print(\"KNN Grid Search Best params: \", knn_GS.best_params_)\n",
    "best_knn = knn_GS.best_estimator_\n",
    "print(\"KNN Grid Search Training set F1 score: \", f1_score(y_train_Bal, best_knn.predict(X_train_Bal)))\n",
    "print(\"KNN Grid Search Validation set F1 score: \", f1_score(y_test, best_knn.predict(X_test)))\n",
    "print(\"KNN Grid Search Validation set business score: \", businessgain(y_test, best_knn.predict(X_test)))\n",
    "SMOTE_knn = businessgain(y_test, best_knn.predict(X_test))"
   ]
  },
  {
   "cell_type": "markdown",
   "metadata": {},
   "source": [
    "#### imblearn"
   ]
  },
  {
   "cell_type": "code",
   "execution_count": 86,
   "metadata": {},
   "outputs": [
    {
     "name": "stdout",
     "output_type": "stream",
     "text": [
      "imblearn: \n",
      "KNN Baseline Training Set F1 score:  0.9698393077873918\n",
      "KNN Baseline Validation Set F1 score:  0.6666666666666667\n"
     ]
    }
   ],
   "source": [
    "knn = KNeighborsClassifier()\n",
    "knn.fit(X_ros, y_ros)\n",
    "print(\"imblearn: \\nKNN Baseline Training Set F1 score: \", f1_score(y_ros,knn.predict(X_ros)))\n",
    "print(\"KNN Baseline Validation Set F1 score: \", f1_score(y_test,knn.predict(X_test)))"
   ]
  },
  {
   "cell_type": "code",
   "execution_count": 87,
   "metadata": {},
   "outputs": [
    {
     "name": "stdout",
     "output_type": "stream",
     "text": [
      "Fitting 5 folds for each of 10 candidates, totalling 50 fits\n"
     ]
    },
    {
     "name": "stderr",
     "output_type": "stream",
     "text": [
      "[Parallel(n_jobs=-1)]: Using backend LokyBackend with 8 concurrent workers.\n",
      "[Parallel(n_jobs=-1)]: Done  34 tasks      | elapsed:   17.7s\n",
      "[Parallel(n_jobs=-1)]: Done  50 out of  50 | elapsed:   22.7s finished\n"
     ]
    },
    {
     "data": {
      "text/plain": [
       "GridSearchCV(cv=StratifiedKFold(n_splits=5, random_state=42, shuffle=True),\n",
       "             estimator=KNeighborsClassifier(), n_jobs=-1,\n",
       "             param_grid={'n_neighbors': array([70, 71, 72, 73, 74, 75, 76, 77, 78, 79])},\n",
       "             return_train_score=True, scoring='f1', verbose=1)"
      ]
     },
     "execution_count": 87,
     "metadata": {},
     "output_type": "execute_result"
    }
   ],
   "source": [
    "# grid search\n",
    "params = {'n_neighbors': np.arange(0,10)+70}\n",
    "\n",
    "knn_GS =  GridSearchCV(knn, param_grid = params,\n",
    "                       cv=s_kf, n_jobs=(-1), verbose = 1,\n",
    "                       return_train_score = True,\n",
    "                       scoring = 'f1')\n",
    "\n",
    "knn_GS.fit(X_ros, y_ros)"
   ]
  },
  {
   "cell_type": "code",
   "execution_count": 88,
   "metadata": {},
   "outputs": [
    {
     "name": "stdout",
     "output_type": "stream",
     "text": [
      "KNN Grid Search Best params:  {'n_neighbors': 77}\n",
      "KNN Grid Search Training set F1 score:  0.8811032426388371\n",
      "KNN Grid Search Validation set F1 score:  0.5519287833827894\n",
      "KNN Grid Search Validation set business score:  0.7022424442013141\n"
     ]
    }
   ],
   "source": [
    "print(\"KNN Grid Search Best params: \", knn_GS.best_params_)\n",
    "best_knn = knn_GS.best_estimator_\n",
    "print(\"KNN Grid Search Training set F1 score: \", f1_score(y_ros, best_knn.predict(X_ros)))\n",
    "print(\"KNN Grid Search Validation set F1 score: \", f1_score(y_test, best_knn.predict(X_test)))\n",
    "print(\"KNN Grid Search Validation set business score: \", businessgain(y_test, best_knn.predict(X_test)))\n",
    "imblearn_knn = businessgain(y_test, best_knn.predict(X_test))"
   ]
  },
  {
   "cell_type": "markdown",
   "metadata": {},
   "source": [
    "#### Comparing SMOTE and imblearn"
   ]
  },
  {
   "cell_type": "code",
   "execution_count": 89,
   "metadata": {},
   "outputs": [
    {
     "name": "stdout",
     "output_type": "stream",
     "text": [
      "SMOTE KNN business score:  0.7422697357986512 \n",
      "imblearn KNN business score:  0.7022424442013141\n"
     ]
    }
   ],
   "source": [
    "print('SMOTE KNN business score: ', SMOTE_knn, '\\nimblearn KNN business score: ', imblearn_knn)"
   ]
  },
  {
   "cell_type": "code",
   "execution_count": 90,
   "metadata": {},
   "outputs": [],
   "source": [
    "business_scores.loc[2] = 'KNN', round(SMOTE_knn, 2)"
   ]
  },
  {
   "cell_type": "code",
   "execution_count": 91,
   "metadata": {},
   "outputs": [
    {
     "data": {
      "text/plain": [
       "array([[838, 143],\n",
       "       [  8,  93]])"
      ]
     },
     "execution_count": 91,
     "metadata": {},
     "output_type": "execute_result"
    }
   ],
   "source": [
    "confusion_matrix(y_test, best_knn.predict(X_test))"
   ]
  },
  {
   "cell_type": "code",
   "execution_count": 92,
   "metadata": {},
   "outputs": [
    {
     "name": "stdout",
     "output_type": "stream",
     "text": [
      "              precision    recall  f1-score   support\n",
      "\n",
      "           0       0.85      0.99      0.92       846\n",
      "           1       0.92      0.39      0.55       236\n",
      "\n",
      "    accuracy                           0.86      1082\n",
      "   macro avg       0.89      0.69      0.73      1082\n",
      "weighted avg       0.87      0.86      0.84      1082\n",
      "\n"
     ]
    }
   ],
   "source": [
    "print(classification_report(best_knn.predict(X_test), y_test))"
   ]
  },
  {
   "cell_type": "markdown",
   "metadata": {},
   "source": [
    "### Support Vector Machine"
   ]
  },
  {
   "cell_type": "markdown",
   "metadata": {},
   "source": [
    "#### SMOTE"
   ]
  },
  {
   "cell_type": "code",
   "execution_count": 93,
   "metadata": {},
   "outputs": [
    {
     "name": "stdout",
     "output_type": "stream",
     "text": [
      "SMOTE: \n",
      "SVM BaseLine Train Set F1 Score: 0.9548795944233207\n",
      "SVM BaseLine Validation Set F1 Score: 0.708171206225681\n"
     ]
    }
   ],
   "source": [
    "svm = SVC(class_weight='balanced')\n",
    "svm.fit(X_train_Bal, y_train_Bal)\n",
    "\n",
    "# baseline score\n",
    "svm_train_f1 = f1_score(y_train_Bal, svm.predict(X_train_Bal))\n",
    "svm_test_f1 = f1_score(y_test, svm.predict(X_test))\n",
    "\n",
    "print('SMOTE: \\nSVM BaseLine Train Set F1 Score:', svm_train_f1)\n",
    "print('SVM BaseLine Validation Set F1 Score:', svm_test_f1)"
   ]
  },
  {
   "cell_type": "code",
   "execution_count": 94,
   "metadata": {},
   "outputs": [
    {
     "name": "stdout",
     "output_type": "stream",
     "text": [
      "Fitting 5 folds for each of 20 candidates, totalling 100 fits\n"
     ]
    },
    {
     "name": "stderr",
     "output_type": "stream",
     "text": [
      "[Parallel(n_jobs=-1)]: Using backend LokyBackend with 8 concurrent workers.\n",
      "[Parallel(n_jobs=-1)]: Done  34 tasks      | elapsed:    3.4s\n",
      "[Parallel(n_jobs=-1)]: Done 100 out of 100 | elapsed:  1.8min finished\n"
     ]
    },
    {
     "data": {
      "text/plain": [
       "GridSearchCV(cv=StratifiedKFold(n_splits=5, random_state=42, shuffle=True),\n",
       "             estimator=SVC(class_weight='balanced'), n_jobs=-1,\n",
       "             param_grid={'C': array([  0.1       ,   0.21544347,   0.46415888,   1.        ,\n",
       "         2.15443469,   4.64158883,  10.        ,  21.5443469 ,\n",
       "        46.41588834, 100.        ]),\n",
       "                         'gamma': ('auto', 'scale'), 'kernel': ['linear']},\n",
       "             return_train_score=True, scoring='f1', verbose=1)"
      ]
     },
     "execution_count": 94,
     "metadata": {},
     "output_type": "execute_result"
    }
   ],
   "source": [
    "# grid search \n",
    "params = {'C': np.logspace(-1,2,10), \n",
    "          'kernel': ['linear'],\n",
    "          'gamma':('auto', 'scale')}\n",
    "\n",
    "svm_GS =  GridSearchCV(svm, params, cv=s_kf, n_jobs=(-1), verbose = 1, return_train_score = True, scoring = 'f1')\n",
    "svm_GS.fit(X_train, y_train)"
   ]
  },
  {
   "cell_type": "code",
   "execution_count": 95,
   "metadata": {},
   "outputs": [
    {
     "name": "stdout",
     "output_type": "stream",
     "text": [
      "SVM Grid Search Best params:  {'C': 1.0, 'gamma': 'auto', 'kernel': 'linear'}\n",
      "SVM Grid Search Training set F1 score:  0.9725169372363542\n",
      "SVM Grid Search Validation set F1 score:  0.8434782608695651\n",
      "Test Set business Score: 0.8875715380706825\n"
     ]
    }
   ],
   "source": [
    "print(\"SVM Grid Search Best params: \", svm_GS.best_params_)\n",
    "best_svm = svm_GS.best_estimator_\n",
    "print(\"SVM Grid Search Training set F1 score: \", f1_score(y_train_Bal, best_svm.predict(X_train_Bal)))\n",
    "print(\"SVM Grid Search Validation set F1 score: \", f1_score(y_test, best_svm.predict(X_test)))\n",
    "print('Test Set business Score:', businessgain(y_test, best_svm.predict(X_test)))\n",
    "SMOTE_svm = businessgain(y_test, best_svm.predict(X_test))"
   ]
  },
  {
   "cell_type": "markdown",
   "metadata": {},
   "source": [
    "#### imblearn"
   ]
  },
  {
   "cell_type": "code",
   "execution_count": 99,
   "metadata": {},
   "outputs": [
    {
     "name": "stdout",
     "output_type": "stream",
     "text": [
      "imblearn: \n",
      "SVM BaseLine Train Set F1 Score: 0.935822040398875\n",
      "SVM BaseLine Validation Set F1 Score: 0.7011070110701106\n"
     ]
    }
   ],
   "source": [
    "svm = SVC(class_weight='balanced')\n",
    "svm.fit(X_ros, y_ros)\n",
    "\n",
    "# baseline score\n",
    "svm_train_f1 = f1_score(y_ros, svm.predict(X_ros))\n",
    "svm_test_f1 = f1_score(y_test, svm.predict(X_test))\n",
    "\n",
    "print('imblearn: \\nSVM BaseLine Train Set F1 Score:', svm_train_f1)\n",
    "print('SVM BaseLine Validation Set F1 Score:', svm_test_f1)"
   ]
  },
  {
   "cell_type": "code",
   "execution_count": 102,
   "metadata": {},
   "outputs": [
    {
     "name": "stdout",
     "output_type": "stream",
     "text": [
      "Fitting 5 folds for each of 20 candidates, totalling 100 fits\n"
     ]
    },
    {
     "name": "stderr",
     "output_type": "stream",
     "text": [
      "[Parallel(n_jobs=-1)]: Using backend LokyBackend with 8 concurrent workers.\n",
      "[Parallel(n_jobs=-1)]: Done  34 tasks      | elapsed:   16.4s\n",
      "[Parallel(n_jobs=-1)]: Done 100 out of 100 | elapsed: 15.6min finished\n"
     ]
    },
    {
     "data": {
      "text/plain": [
       "GridSearchCV(cv=StratifiedKFold(n_splits=5, random_state=42, shuffle=True),\n",
       "             estimator=SVC(class_weight='balanced'), n_jobs=-1,\n",
       "             param_grid={'C': array([  0.1       ,   0.21544347,   0.46415888,   1.        ,\n",
       "         2.15443469,   4.64158883,  10.        ,  21.5443469 ,\n",
       "        46.41588834, 100.        ]),\n",
       "                         'gamma': ('auto', 'scale'), 'kernel': ['linear']},\n",
       "             return_train_score=True, scoring='f1', verbose=1)"
      ]
     },
     "execution_count": 102,
     "metadata": {},
     "output_type": "execute_result"
    }
   ],
   "source": [
    "# grid search \n",
    "params = {'C': np.logspace(-1,2,10), \n",
    "          'kernel': ['linear'],\n",
    "          'gamma':('auto', 'scale')}\n",
    "\n",
    "svm_GS =  GridSearchCV(svm, params, cv=s_kf, n_jobs=(-1), verbose = 1, return_train_score = True, scoring = 'f1')\n",
    "svm_GS.fit(X_ros, y_ros)"
   ]
  },
  {
   "cell_type": "code",
   "execution_count": 103,
   "metadata": {},
   "outputs": [
    {
     "name": "stdout",
     "output_type": "stream",
     "text": [
      "imblearn: \n",
      "SVM Grid Search Best params:  {'C': 100.0, 'gamma': 'auto', 'kernel': 'linear'}\n",
      "SVM Grid Search Training set F1 score:  0.9678735339112697\n",
      "SVM Grid Search Validation set F1 score:  0.8571428571428571\n",
      "Test Set business Score: 0.8714607291101336\n"
     ]
    }
   ],
   "source": [
    "print(\"imblearn: \\nSVM Grid Search Best params: \", svm_GS.best_params_)\n",
    "best_svm = svm_GS.best_estimator_\n",
    "print(\"SVM Grid Search Training set F1 score: \", f1_score(y_ros, best_svm.predict(X_ros)))\n",
    "print(\"SVM Grid Search Validation set F1 score: \", f1_score(y_test, best_svm.predict(X_test)))\n",
    "print('Test Set business Score:', businessgain(y_test, best_svm.predict(X_test)))\n",
    "imblearn_svm = businessgain(y_test, best_svm.predict(X_test))"
   ]
  },
  {
   "cell_type": "markdown",
   "metadata": {},
   "source": [
    "#### Comparing SMOTE and imblearn"
   ]
  },
  {
   "cell_type": "code",
   "execution_count": 104,
   "metadata": {},
   "outputs": [
    {
     "name": "stdout",
     "output_type": "stream",
     "text": [
      "SMOTE SVM business score:  0.8875715380706825 \n",
      "imblearn SVM business score:  0.8714607291101336\n"
     ]
    }
   ],
   "source": [
    "print('SMOTE SVM business score: ', SMOTE_svm, '\\nimblearn SVM business score: ', imblearn_svm)"
   ]
  },
  {
   "cell_type": "code",
   "execution_count": 105,
   "metadata": {},
   "outputs": [],
   "source": [
    "business_scores.loc[3] = 'SVM', round(SMOTE_svm, 2)"
   ]
  },
  {
   "cell_type": "code",
   "execution_count": 106,
   "metadata": {},
   "outputs": [
    {
     "data": {
      "text/plain": [
       "array([[954,  27],\n",
       "       [  5,  96]])"
      ]
     },
     "execution_count": 106,
     "metadata": {},
     "output_type": "execute_result"
    }
   ],
   "source": [
    "confusion_matrix(y_test, best_svm.predict(X_test))"
   ]
  },
  {
   "cell_type": "code",
   "execution_count": 107,
   "metadata": {},
   "outputs": [
    {
     "name": "stdout",
     "output_type": "stream",
     "text": [
      "              precision    recall  f1-score   support\n",
      "\n",
      "           0       0.97      0.99      0.98       959\n",
      "           1       0.95      0.78      0.86       123\n",
      "\n",
      "    accuracy                           0.97      1082\n",
      "   macro avg       0.96      0.89      0.92      1082\n",
      "weighted avg       0.97      0.97      0.97      1082\n",
      "\n"
     ]
    }
   ],
   "source": [
    "print(classification_report(best_svm.predict(X_test), y_test))"
   ]
  },
  {
   "cell_type": "markdown",
   "metadata": {},
   "source": [
    "### Random Forest"
   ]
  },
  {
   "cell_type": "markdown",
   "metadata": {},
   "source": [
    "#### SMOTE"
   ]
  },
  {
   "cell_type": "code",
   "execution_count": 108,
   "metadata": {},
   "outputs": [
    {
     "name": "stdout",
     "output_type": "stream",
     "text": [
      "SMOTE: \n",
      "RF BaseLine Train Set F1 Score: 1.0\n",
      "RF BaseLine Validation Set F1 Score: 0.9090909090909091\n"
     ]
    }
   ],
   "source": [
    "from sklearn import ensemble\n",
    "randomForest = ensemble.RandomForestClassifier()\n",
    "\n",
    "# fit RF model on SMOTE training set\n",
    "randomForest.set_params(random_state=0)\n",
    "\n",
    "randomForest.fit(X_train_Bal, y_train_Bal)\n",
    "\n",
    "# baseline score\n",
    "print('SMOTE: \\nRF BaseLine Train Set F1 Score:', f1_score(y_train_Bal, randomForest.predict(X_train_Bal)))\n",
    "print('RF BaseLine Validation Set F1 Score:', f1_score(y_test, randomForest.predict(X_test)))"
   ]
  },
  {
   "cell_type": "code",
   "execution_count": 109,
   "metadata": {},
   "outputs": [
    {
     "name": "stdout",
     "output_type": "stream",
     "text": [
      "CPU times: user 7.06 s, sys: 411 ms, total: 7.48 s\n",
      "Wall time: 3min 17s\n"
     ]
    },
    {
     "data": {
      "text/plain": [
       "GridSearchCV(cv=StratifiedKFold(n_splits=5, random_state=42, shuffle=True),\n",
       "             estimator=RandomForestClassifier(random_state=0), n_jobs=-1,\n",
       "             param_grid={'criterion': ['entropy'], 'max_depth': range(1, 31),\n",
       "                         'n_estimators': range(10, 110, 10)},\n",
       "             scoring='f1')"
      ]
     },
     "execution_count": 109,
     "metadata": {},
     "output_type": "execute_result"
    }
   ],
   "source": [
    "# set the parameter grid\n",
    "grid_para_forest = {\n",
    "    'criterion': ['entropy'],\n",
    "    'max_depth': range(1, 31),\n",
    "    'n_estimators': range(10, 110, 10)\n",
    "}\n",
    "\n",
    "# run the RF classifier through the grid search\n",
    "grid_search_forest = ms.GridSearchCV(randomForest, grid_para_forest, scoring='f1', cv=s_kf, n_jobs=-1)\n",
    "%time grid_search_forest.fit(X_train_Bal, y_train_Bal)"
   ]
  },
  {
   "cell_type": "code",
   "execution_count": 110,
   "metadata": {},
   "outputs": [
    {
     "name": "stdout",
     "output_type": "stream",
     "text": [
      "RF Grid Search Best params:  {'criterion': 'entropy', 'max_depth': 18, 'n_estimators': 80}\n",
      "RF Grid Search Training set F1 score:  1.0\n",
      "RF Grid Search Validation set F1 score:  0.9054726368159204\n",
      "RF Grid Search Validation set Business score:  0.7844471346418151\n"
     ]
    }
   ],
   "source": [
    "print(\"RF Grid Search Best params: \", grid_search_forest.best_params_)\n",
    "best_RF = grid_search_forest.best_estimator_\n",
    "print(\"RF Grid Search Training set F1 score: \", f1_score(y_train_Bal, best_RF.predict(X_train_Bal)))\n",
    "print(\"RF Grid Search Validation set F1 score: \", f1_score(y_test, best_RF.predict(X_test)))\n",
    "print(\"RF Grid Search Validation set Business score: \", businessgain(y_test,best_RF.predict(X_test)))\n",
    "SMOTE_rf = businessgain(y_test,best_RF.predict(X_test))"
   ]
  },
  {
   "cell_type": "markdown",
   "metadata": {},
   "source": [
    "#### imblearn"
   ]
  },
  {
   "cell_type": "code",
   "execution_count": 111,
   "metadata": {},
   "outputs": [
    {
     "name": "stdout",
     "output_type": "stream",
     "text": [
      "imblearn: \n",
      "RF BaseLine Train Set F1 Score: 1.0\n",
      "RF BaseLine Validation Set F1 Score: 0.9278350515463919\n"
     ]
    }
   ],
   "source": [
    "randomForest.set_params(random_state=0)\n",
    "\n",
    "randomForest.fit(X_ros, y_ros)\n",
    "\n",
    "# baseline score\n",
    "print('imblearn: \\nRF BaseLine Train Set F1 Score:', f1_score(y_ros, randomForest.predict(X_ros)))\n",
    "print('RF BaseLine Validation Set F1 Score:', f1_score(y_test, randomForest.predict(X_test)))"
   ]
  },
  {
   "cell_type": "code",
   "execution_count": 112,
   "metadata": {},
   "outputs": [
    {
     "name": "stdout",
     "output_type": "stream",
     "text": [
      "CPU times: user 6.73 s, sys: 377 ms, total: 7.11 s\n",
      "Wall time: 2min 4s\n"
     ]
    },
    {
     "data": {
      "text/plain": [
       "GridSearchCV(cv=StratifiedKFold(n_splits=5, random_state=42, shuffle=True),\n",
       "             estimator=RandomForestClassifier(random_state=0), n_jobs=-1,\n",
       "             param_grid={'criterion': ['entropy'], 'max_depth': range(1, 31),\n",
       "                         'n_estimators': range(10, 110, 10)},\n",
       "             scoring='f1')"
      ]
     },
     "execution_count": 112,
     "metadata": {},
     "output_type": "execute_result"
    }
   ],
   "source": [
    "# set the parameter grid\n",
    "grid_para_forest = {\n",
    "    'criterion': ['entropy'],\n",
    "    'max_depth': range(1, 31),\n",
    "    'n_estimators': range(10, 110, 10)\n",
    "}\n",
    "\n",
    "# run the RF classifier through the grid search\n",
    "grid_search_forest = ms.GridSearchCV(randomForest, grid_para_forest, scoring='f1', cv=s_kf, n_jobs=-1)\n",
    "%time grid_search_forest.fit(X_ros, y_ros)"
   ]
  },
  {
   "cell_type": "code",
   "execution_count": 113,
   "metadata": {},
   "outputs": [
    {
     "name": "stdout",
     "output_type": "stream",
     "text": [
      "RF Grid Search Best params:  {'criterion': 'entropy', 'max_depth': 21, 'n_estimators': 100}\n",
      "RF Grid Search Training set F1 score:  1.0\n",
      "RF Grid Search Validation set F1 score:  0.9183673469387755\n",
      "RF Grid Search Validation set Business score:  0.7674135328718985\n"
     ]
    }
   ],
   "source": [
    "print(\"RF Grid Search Best params: \", grid_search_forest.best_params_)\n",
    "best_RF = grid_search_forest.best_estimator_\n",
    "print(\"RF Grid Search Training set F1 score: \", f1_score(y_ros, best_RF.predict(X_ros)))\n",
    "print(\"RF Grid Search Validation set F1 score: \", f1_score(y_test, best_RF.predict(X_test)))\n",
    "print(\"RF Grid Search Validation set Business score: \", businessgain(y_test,best_RF.predict(X_test)))\n",
    "imblearn_rf = businessgain(y_test,best_RF.predict(X_test))"
   ]
  },
  {
   "cell_type": "markdown",
   "metadata": {},
   "source": [
    "#### comparing SMOTE and imblearn"
   ]
  },
  {
   "cell_type": "code",
   "execution_count": 114,
   "metadata": {},
   "outputs": [
    {
     "name": "stdout",
     "output_type": "stream",
     "text": [
      "SMOTE RF business score:  0.7844471346418151 \n",
      "imblearn RF business score:  0.7674135328718985\n"
     ]
    }
   ],
   "source": [
    "print('SMOTE RF business score: ', SMOTE_rf, '\\nimblearn RF business score: ', imblearn_rf)"
   ]
  },
  {
   "cell_type": "code",
   "execution_count": 115,
   "metadata": {},
   "outputs": [],
   "source": [
    "business_scores.loc[4] = 'RF', round(SMOTE_rf, 2)"
   ]
  },
  {
   "cell_type": "code",
   "execution_count": 116,
   "metadata": {},
   "outputs": [
    {
     "data": {
      "text/plain": [
       "array([[976,   5],\n",
       "       [ 11,  90]])"
      ]
     },
     "execution_count": 116,
     "metadata": {},
     "output_type": "execute_result"
    }
   ],
   "source": [
    "confusion_matrix(y_test, best_RF.predict(X_test))"
   ]
  },
  {
   "cell_type": "code",
   "execution_count": 117,
   "metadata": {},
   "outputs": [
    {
     "name": "stdout",
     "output_type": "stream",
     "text": [
      "              precision    recall  f1-score   support\n",
      "\n",
      "           0       0.99      0.99      0.99       987\n",
      "           1       0.89      0.95      0.92        95\n",
      "\n",
      "    accuracy                           0.99      1082\n",
      "   macro avg       0.94      0.97      0.96      1082\n",
      "weighted avg       0.99      0.99      0.99      1082\n",
      "\n"
     ]
    }
   ],
   "source": [
    "print(classification_report(best_RF.predict(X_test), y_test))"
   ]
  },
  {
   "cell_type": "markdown",
   "metadata": {},
   "source": [
    "### XGBOOST"
   ]
  },
  {
   "cell_type": "markdown",
   "metadata": {},
   "source": [
    "#### SMOTE"
   ]
  },
  {
   "cell_type": "code",
   "execution_count": 118,
   "metadata": {},
   "outputs": [
    {
     "name": "stdout",
     "output_type": "stream",
     "text": [
      "SMOTE: \n",
      "XGB BaseLine Train Set F1 Score: 0.9998725302740599\n",
      "XGB BaseLine Validation Set F1 Score: 0.9207920792079208\n"
     ]
    }
   ],
   "source": [
    "xgb = XGBClassifier(random_state=0)\n",
    "xgb.fit(X_train_Bal, y_train_Bal)\n",
    "\n",
    "print('SMOTE: \\nXGB BaseLine Train Set F1 Score:', f1_score(y_train_Bal, xgb.predict(X_train_Bal)))\n",
    "print('XGB BaseLine Validation Set F1 Score:', f1_score(y_test, xgb.predict(X_test)))"
   ]
  },
  {
   "cell_type": "code",
   "execution_count": 119,
   "metadata": {},
   "outputs": [
    {
     "name": "stdout",
     "output_type": "stream",
     "text": [
      "CPU times: user 1.75 s, sys: 104 ms, total: 1.86 s\n",
      "Wall time: 11.8 s\n"
     ]
    },
    {
     "data": {
      "text/plain": [
       "GridSearchCV(cv=StratifiedKFold(n_splits=5, random_state=42, shuffle=True),\n",
       "             estimator=XGBClassifier(base_score=0.5, booster='gbtree',\n",
       "                                     colsample_bylevel=1, colsample_bynode=1,\n",
       "                                     colsample_bytree=1, gamma=0, gpu_id=-1,\n",
       "                                     importance_type='gain',\n",
       "                                     interaction_constraints='',\n",
       "                                     learning_rate=0.300000012,\n",
       "                                     max_delta_step=0, max_depth=6,\n",
       "                                     min_child_weight=1, missing=nan,\n",
       "                                     monotone_...ints='()',\n",
       "                                     n_estimators=100, n_jobs=0,\n",
       "                                     num_parallel_tree=1, random_state=0,\n",
       "                                     reg_alpha=0, reg_lambda=1,\n",
       "                                     scale_pos_weight=1, subsample=1,\n",
       "                                     tree_method='exact', validate_parameters=1,\n",
       "                                     verbosity=None),\n",
       "             n_jobs=-1,\n",
       "             param_grid={'learning_rate': [0.001, 0.01, 0.1],\n",
       "                         'max_depth': [1, 3, 10], 'n_estimators': [2, 5, 10],\n",
       "                         'scale_pos_weight': [400, 500, 600],\n",
       "                         'subsample': [0.9]},\n",
       "             scoring='f1')"
      ]
     },
     "execution_count": 119,
     "metadata": {},
     "output_type": "execute_result"
    }
   ],
   "source": [
    "# parameter tuning\n",
    "grid_para_xgb = {'scale_pos_weight': [400,500,600],\n",
    "                 'learning_rate': [0.001, 0.010, 0.1],\n",
    "                 'n_estimators': [2,5,10] ,\n",
    "                 'max_depth': [1,3,10],\n",
    "                 'subsample': [0.9]\n",
    "                 } \n",
    "\n",
    "grid_search_xgb = GridSearchCV(xgb, grid_para_xgb, scoring='f1', cv=s_kf, n_jobs=-1)\n",
    "%time grid_search_xgb.fit(X_train_Bal, y_train_Bal)"
   ]
  },
  {
   "cell_type": "code",
   "execution_count": 120,
   "metadata": {},
   "outputs": [
    {
     "name": "stdout",
     "output_type": "stream",
     "text": [
      "XGB Grid Search Best params:  {'learning_rate': 0.1, 'max_depth': 10, 'n_estimators': 2, 'scale_pos_weight': 400, 'subsample': 0.9}\n",
      "XGB BaseLine Train Set F1 Score: 0.9171051093183679\n",
      "XGB BaseLine Validation Set F1 Score: 0.5494505494505495\n",
      "XGB BaseLine Validation Set business Score: 0.8288599990656723\n"
     ]
    }
   ],
   "source": [
    "print(\"XGB Grid Search Best params: \", grid_search_xgb.best_params_)\n",
    "best_xgb = grid_search_xgb.best_estimator_\n",
    "print('XGB BaseLine Train Set F1 Score:', f1_score(y_train_Bal, best_xgb.predict(X_train_Bal)))\n",
    "print('XGB BaseLine Validation Set F1 Score:', f1_score(y_test, best_xgb.predict(X_test)))\n",
    "print('XGB BaseLine Validation Set business Score:', businessgain(y_test, best_xgb.predict(X_test)))\n",
    "SMOTE_xgb = businessgain(y_test, best_xgb.predict(X_test))"
   ]
  },
  {
   "cell_type": "markdown",
   "metadata": {},
   "source": [
    "#### imblearn"
   ]
  },
  {
   "cell_type": "code",
   "execution_count": 121,
   "metadata": {},
   "outputs": [
    {
     "name": "stdout",
     "output_type": "stream",
     "text": [
      "imblearn: \n",
      "XGB BaseLine Train Set F1 Score: 1.0\n",
      "XGB BaseLine Validation Set F1 Score: 0.91\n"
     ]
    }
   ],
   "source": [
    "xgb = XGBClassifier(random_state=0)\n",
    "xgb.fit(X_ros, y_ros)\n",
    "print('imblearn: \\nXGB BaseLine Train Set F1 Score:', f1_score(y_ros, xgb.predict(X_ros)))\n",
    "print('XGB BaseLine Validation Set F1 Score:', f1_score(y_test, xgb.predict(X_test)))"
   ]
  },
  {
   "cell_type": "code",
   "execution_count": 122,
   "metadata": {},
   "outputs": [
    {
     "name": "stdout",
     "output_type": "stream",
     "text": [
      "CPU times: user 2.16 s, sys: 95.2 ms, total: 2.25 s\n",
      "Wall time: 8.99 s\n"
     ]
    },
    {
     "data": {
      "text/plain": [
       "GridSearchCV(cv=StratifiedKFold(n_splits=5, random_state=42, shuffle=True),\n",
       "             estimator=XGBClassifier(base_score=0.5, booster='gbtree',\n",
       "                                     colsample_bylevel=1, colsample_bynode=1,\n",
       "                                     colsample_bytree=1, gamma=0, gpu_id=-1,\n",
       "                                     importance_type='gain',\n",
       "                                     interaction_constraints='',\n",
       "                                     learning_rate=0.300000012,\n",
       "                                     max_delta_step=0, max_depth=6,\n",
       "                                     min_child_weight=1, missing=nan,\n",
       "                                     monotone_...ints='()',\n",
       "                                     n_estimators=100, n_jobs=0,\n",
       "                                     num_parallel_tree=1, random_state=0,\n",
       "                                     reg_alpha=0, reg_lambda=1,\n",
       "                                     scale_pos_weight=1, subsample=1,\n",
       "                                     tree_method='exact', validate_parameters=1,\n",
       "                                     verbosity=None),\n",
       "             n_jobs=-1,\n",
       "             param_grid={'learning_rate': [0.001, 0.01, 0.1],\n",
       "                         'max_depth': [1, 3, 10], 'n_estimators': [2, 5, 10],\n",
       "                         'scale_pos_weight': [400, 500, 600],\n",
       "                         'subsample': [0.9]},\n",
       "             scoring='f1')"
      ]
     },
     "execution_count": 122,
     "metadata": {},
     "output_type": "execute_result"
    }
   ],
   "source": [
    "# parameter tuning\n",
    "grid_para_xgb = {'scale_pos_weight': [400,500,600],\n",
    "                 'learning_rate': [0.001, 0.010, 0.1],\n",
    "                 'n_estimators': [2,5,10] ,\n",
    "                 'max_depth': [1,3,10],\n",
    "                 'subsample': [0.9]\n",
    "                 }\n",
    "grid_search_xgb = GridSearchCV(xgb, grid_para_xgb, scoring='f1', cv=s_kf, n_jobs=-1)\n",
    "%time grid_search_xgb.fit(X_ros, y_ros)"
   ]
  },
  {
   "cell_type": "code",
   "execution_count": 123,
   "metadata": {},
   "outputs": [
    {
     "name": "stdout",
     "output_type": "stream",
     "text": [
      "XGB BaseLine Train Set F1 Score: 0.9021501667241577\n",
      "XGB BaseLine Validation Set F1 Score: 0.495\n",
      "XGB BaseLine Validation Set business Score: 0.7739918921116786\n"
     ]
    }
   ],
   "source": [
    "best_xgb = grid_search_xgb.best_estimator_\n",
    "print('XGB BaseLine Train Set F1 Score:', f1_score(y_ros, best_xgb.predict(X_ros)))\n",
    "print('XGB BaseLine Validation Set F1 Score:', f1_score(y_test, best_xgb.predict(X_test)))\n",
    "print('XGB BaseLine Validation Set business Score:', businessgain(y_test, best_xgb.predict(X_test)))\n",
    "imblearn_xgb = f1_score(y_test, best_xgb.predict(X_test))"
   ]
  },
  {
   "cell_type": "markdown",
   "metadata": {},
   "source": [
    "#### comparing SMOTE and imblearn"
   ]
  },
  {
   "cell_type": "code",
   "execution_count": 124,
   "metadata": {},
   "outputs": [
    {
     "name": "stdout",
     "output_type": "stream",
     "text": [
      "SMOTE XGB business score:  0.8288599990656723 \n",
      "imblearn XGB business score:  0.495\n"
     ]
    }
   ],
   "source": [
    "print('SMOTE XGB business score: ', SMOTE_xgb, '\\nimblearn XGB business score: ', imblearn_xgb)"
   ]
  },
  {
   "cell_type": "code",
   "execution_count": 125,
   "metadata": {},
   "outputs": [],
   "source": [
    "business_scores.loc[5] = 'XGBoost', round(SMOTE_xgb, 2)"
   ]
  },
  {
   "cell_type": "code",
   "execution_count": 126,
   "metadata": {},
   "outputs": [
    {
     "data": {
      "text/plain": [
       "array([[781, 200],\n",
       "       [  2,  99]])"
      ]
     },
     "execution_count": 126,
     "metadata": {},
     "output_type": "execute_result"
    }
   ],
   "source": [
    "confusion_matrix(y_test, best_xgb.predict(X_test))"
   ]
  },
  {
   "cell_type": "code",
   "execution_count": 127,
   "metadata": {},
   "outputs": [
    {
     "name": "stdout",
     "output_type": "stream",
     "text": [
      "              precision    recall  f1-score   support\n",
      "\n",
      "           0       0.80      1.00      0.89       783\n",
      "           1       0.98      0.33      0.49       299\n",
      "\n",
      "    accuracy                           0.81      1082\n",
      "   macro avg       0.89      0.66      0.69      1082\n",
      "weighted avg       0.85      0.81      0.78      1082\n",
      "\n"
     ]
    }
   ],
   "source": [
    "print(classification_report(best_xgb.predict(X_test), y_test))"
   ]
  },
  {
   "cell_type": "markdown",
   "metadata": {},
   "source": [
    "### Business Gain Plot"
   ]
  },
  {
   "cell_type": "code",
   "execution_count": 128,
   "metadata": {},
   "outputs": [
    {
     "data": {
      "text/html": [
       "<div>\n",
       "<style scoped>\n",
       "    .dataframe tbody tr th:only-of-type {\n",
       "        vertical-align: middle;\n",
       "    }\n",
       "\n",
       "    .dataframe tbody tr th {\n",
       "        vertical-align: top;\n",
       "    }\n",
       "\n",
       "    .dataframe thead th {\n",
       "        text-align: right;\n",
       "    }\n",
       "</style>\n",
       "<table border=\"1\" class=\"dataframe\">\n",
       "  <thead>\n",
       "    <tr style=\"text-align: right;\">\n",
       "      <th></th>\n",
       "      <th>Model</th>\n",
       "      <th>Score</th>\n",
       "    </tr>\n",
       "  </thead>\n",
       "  <tbody>\n",
       "    <tr>\n",
       "      <th>0</th>\n",
       "      <td>Logistic</td>\n",
       "      <td>0.88</td>\n",
       "    </tr>\n",
       "    <tr>\n",
       "      <th>1</th>\n",
       "      <td>SGD</td>\n",
       "      <td>0.80</td>\n",
       "    </tr>\n",
       "    <tr>\n",
       "      <th>2</th>\n",
       "      <td>KNN</td>\n",
       "      <td>0.74</td>\n",
       "    </tr>\n",
       "    <tr>\n",
       "      <th>3</th>\n",
       "      <td>SVM</td>\n",
       "      <td>0.89</td>\n",
       "    </tr>\n",
       "    <tr>\n",
       "      <th>4</th>\n",
       "      <td>RF</td>\n",
       "      <td>0.78</td>\n",
       "    </tr>\n",
       "    <tr>\n",
       "      <th>5</th>\n",
       "      <td>XGBoost</td>\n",
       "      <td>0.83</td>\n",
       "    </tr>\n",
       "  </tbody>\n",
       "</table>\n",
       "</div>"
      ],
      "text/plain": [
       "      Model  Score\n",
       "0  Logistic   0.88\n",
       "1       SGD   0.80\n",
       "2       KNN   0.74\n",
       "3       SVM   0.89\n",
       "4        RF   0.78\n",
       "5   XGBoost   0.83"
      ]
     },
     "execution_count": 128,
     "metadata": {},
     "output_type": "execute_result"
    },
    {
     "data": {
      "image/png": "[encoded data removed]",
      "text/plain": [
       "<Figure size 432x288 with 1 Axes>"
      ]
     },
     "metadata": {},
     "output_type": "display_data"
    }
   ],
   "source": [
    "business_scores.plot.bar(x = 'Model', color = 'skyblue')\n",
    "plt.title('Model Business Gain')\n",
    "business_scores"
   ]
  }
 ],
 "metadata": {
  "kernelspec": {
   "display_name": "Python 3",
   "language": "python",
   "name": "python3"
  },
  "language_info": {
   "codemirror_mode": {
    "name": "ipython",
    "version": 3
   },
   "file_extension": ".py",
   "mimetype": "text/x-python",
   "name": "python",
   "nbconvert_exporter": "python",
   "pygments_lexer": "ipython3",
   "version": "3.7.6"
  }
 },
 "nbformat": 4,
 "nbformat_minor": 4
}
