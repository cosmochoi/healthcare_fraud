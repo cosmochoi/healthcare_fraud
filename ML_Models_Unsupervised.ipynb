{
 "cells": [
  {
   "cell_type": "code",
   "execution_count": 4,
   "metadata": {},
   "outputs": [],
   "source": [
    "import pandas as pd \n",
    "import numpy as np\n",
    "\n",
    "from Feature_Engineering import feature_engineering\n",
    "from preprocess_module import fraud_preprocessor\n",
    "from sklearn.preprocessing import RobustScaler\n",
    "from sklearn.cluster import KMeans\n",
    "import matplotlib.pyplot as plt\n",
    "from sklearn.model_selection import train_test_split\n",
    "from imblearn import over_sampling\n",
    "from sklearn import ensemble\n",
    "from imblearn.over_sampling import RandomOverSampler\n",
    "from sklearn.metrics import confusion_matrix, recall_score, f1_score\n",
    "import sklearn.model_selection as ms\n",
    "from businessscoring import businessgain\n",
    "from sklearn.model_selection import GridSearchCV, StratifiedKFold"
   ]
  },
  {
   "cell_type": "markdown",
   "metadata": {},
   "source": [
    "## Pre-Processing\n"
   ]
  },
  {
   "cell_type": "code",
   "execution_count": 5,
   "metadata": {},
   "outputs": [],
   "source": [
    "features = feature_engineering(j_flag=0)"
   ]
  },
  {
   "cell_type": "code",
   "execution_count": 6,
   "metadata": {},
   "outputs": [],
   "source": [
    "X = features.drop(['PotentialFraud', 'Service_Type','Provider'], axis=1)\n",
    "y = features['PotentialFraud'] "
   ]
  },
  {
   "cell_type": "code",
   "execution_count": 7,
   "metadata": {},
   "outputs": [],
   "source": [
    "#create seperate dataset with dummy variables to add back after scaling\n",
    "non_num = X[['Both_Service', 'Inpatient', 'Outpatient',\\\n",
    "            'isFraudConnected']]\n",
    "\n",
    "#drop dummy variables\n",
    "X = X.drop(['Both_Service', 'Inpatient', 'Outpatient',\\\n",
    "           'isFraudConnected'], axis =1)"
   ]
  },
  {
   "cell_type": "code",
   "execution_count": 8,
   "metadata": {},
   "outputs": [
    {
     "data": {
      "text/html": [
       "<div>\n",
       "<style scoped>\n",
       "    .dataframe tbody tr th:only-of-type {\n",
       "        vertical-align: middle;\n",
       "    }\n",
       "\n",
       "    .dataframe tbody tr th {\n",
       "        vertical-align: top;\n",
       "    }\n",
       "\n",
       "    .dataframe thead th {\n",
       "        text-align: right;\n",
       "    }\n",
       "</style>\n",
       "<table border=\"1\" class=\"dataframe\">\n",
       "  <thead>\n",
       "    <tr style=\"text-align: right;\">\n",
       "      <th></th>\n",
       "      <th>Phys_Count</th>\n",
       "      <th>Patient_Count</th>\n",
       "      <th>Norm_Patient_Count</th>\n",
       "      <th>Claim_Count</th>\n",
       "      <th>Norm_Claim_Count</th>\n",
       "      <th>Inpatient_Count</th>\n",
       "      <th>Outpatient_Count</th>\n",
       "      <th>Norm_Inpatient_Count</th>\n",
       "      <th>Norm_Outpatient_Count</th>\n",
       "      <th>DuplicateClaims</th>\n",
       "      <th>...</th>\n",
       "      <th>ChronicCond_rheumatoidarthritis_1</th>\n",
       "      <th>ChronicCond_rheumatoidarthritis_2</th>\n",
       "      <th>ChronicCond_stroke_1</th>\n",
       "      <th>ChronicCond_stroke_2</th>\n",
       "      <th>NetworkDegree</th>\n",
       "      <th>NoPhysicianCount</th>\n",
       "      <th>Both_Service</th>\n",
       "      <th>Inpatient</th>\n",
       "      <th>Outpatient</th>\n",
       "      <th>isFraudConnected</th>\n",
       "    </tr>\n",
       "  </thead>\n",
       "  <tbody>\n",
       "    <tr>\n",
       "      <th>0</th>\n",
       "      <td>0.470588</td>\n",
       "      <td>-0.017544</td>\n",
       "      <td>-0.155665</td>\n",
       "      <td>-0.086957</td>\n",
       "      <td>-0.184866</td>\n",
       "      <td>1.142857</td>\n",
       "      <td>-0.114286</td>\n",
       "      <td>1.833333</td>\n",
       "      <td>-1.833333</td>\n",
       "      <td>-0.081081</td>\n",
       "      <td>...</td>\n",
       "      <td>0.055556</td>\n",
       "      <td>-0.025641</td>\n",
       "      <td>0.500000</td>\n",
       "      <td>-0.057971</td>\n",
       "      <td>0.333333</td>\n",
       "      <td>0.0</td>\n",
       "      <td>1</td>\n",
       "      <td>0</td>\n",
       "      <td>0</td>\n",
       "      <td>0.0</td>\n",
       "    </tr>\n",
       "    <tr>\n",
       "      <th>1</th>\n",
       "      <td>2.235294</td>\n",
       "      <td>1.614035</td>\n",
       "      <td>0.031527</td>\n",
       "      <td>1.443478</td>\n",
       "      <td>0.030651</td>\n",
       "      <td>13.857143</td>\n",
       "      <td>0.714286</td>\n",
       "      <td>3.833333</td>\n",
       "      <td>-3.833333</td>\n",
       "      <td>1.783784</td>\n",
       "      <td>...</td>\n",
       "      <td>1.388889</td>\n",
       "      <td>1.743590</td>\n",
       "      <td>1.166667</td>\n",
       "      <td>1.661836</td>\n",
       "      <td>0.000000</td>\n",
       "      <td>0.0</td>\n",
       "      <td>1</td>\n",
       "      <td>0</td>\n",
       "      <td>0</td>\n",
       "      <td>1.0</td>\n",
       "    </tr>\n",
       "    <tr>\n",
       "      <th>2</th>\n",
       "      <td>1.882353</td>\n",
       "      <td>1.982456</td>\n",
       "      <td>0.222660</td>\n",
       "      <td>1.582609</td>\n",
       "      <td>0.143678</td>\n",
       "      <td>0.000000</td>\n",
       "      <td>1.790476</td>\n",
       "      <td>0.000000</td>\n",
       "      <td>0.000000</td>\n",
       "      <td>1.756757</td>\n",
       "      <td>...</td>\n",
       "      <td>1.888889</td>\n",
       "      <td>2.051282</td>\n",
       "      <td>2.333333</td>\n",
       "      <td>1.932367</td>\n",
       "      <td>0.666667</td>\n",
       "      <td>0.0</td>\n",
       "      <td>0</td>\n",
       "      <td>0</td>\n",
       "      <td>1</td>\n",
       "      <td>0.0</td>\n",
       "    </tr>\n",
       "    <tr>\n",
       "      <th>3</th>\n",
       "      <td>0.000000</td>\n",
       "      <td>8.245614</td>\n",
       "      <td>15.763547</td>\n",
       "      <td>13.034783</td>\n",
       "      <td>24.233716</td>\n",
       "      <td>0.000000</td>\n",
       "      <td>14.333333</td>\n",
       "      <td>0.000000</td>\n",
       "      <td>0.000000</td>\n",
       "      <td>9.945946</td>\n",
       "      <td>...</td>\n",
       "      <td>6.666667</td>\n",
       "      <td>9.000000</td>\n",
       "      <td>6.166667</td>\n",
       "      <td>8.386473</td>\n",
       "      <td>-0.333333</td>\n",
       "      <td>2.0</td>\n",
       "      <td>0</td>\n",
       "      <td>0</td>\n",
       "      <td>1</td>\n",
       "      <td>0.0</td>\n",
       "    </tr>\n",
       "    <tr>\n",
       "      <th>4</th>\n",
       "      <td>0.235294</td>\n",
       "      <td>0.578947</td>\n",
       "      <td>0.650246</td>\n",
       "      <td>0.530435</td>\n",
       "      <td>0.593870</td>\n",
       "      <td>0.857143</td>\n",
       "      <td>0.580952</td>\n",
       "      <td>0.500000</td>\n",
       "      <td>-0.500000</td>\n",
       "      <td>0.567568</td>\n",
       "      <td>...</td>\n",
       "      <td>0.500000</td>\n",
       "      <td>0.641026</td>\n",
       "      <td>1.166667</td>\n",
       "      <td>0.521739</td>\n",
       "      <td>1.333333</td>\n",
       "      <td>0.0</td>\n",
       "      <td>1</td>\n",
       "      <td>0</td>\n",
       "      <td>0</td>\n",
       "      <td>0.0</td>\n",
       "    </tr>\n",
       "  </tbody>\n",
       "</table>\n",
       "<p>5 rows × 46 columns</p>\n",
       "</div>"
      ],
      "text/plain": [
       "   Phys_Count  Patient_Count  Norm_Patient_Count  Claim_Count  \\\n",
       "0    0.470588      -0.017544           -0.155665    -0.086957   \n",
       "1    2.235294       1.614035            0.031527     1.443478   \n",
       "2    1.882353       1.982456            0.222660     1.582609   \n",
       "3    0.000000       8.245614           15.763547    13.034783   \n",
       "4    0.235294       0.578947            0.650246     0.530435   \n",
       "\n",
       "   Norm_Claim_Count  Inpatient_Count  Outpatient_Count  Norm_Inpatient_Count  \\\n",
       "0         -0.184866         1.142857         -0.114286              1.833333   \n",
       "1          0.030651        13.857143          0.714286              3.833333   \n",
       "2          0.143678         0.000000          1.790476              0.000000   \n",
       "3         24.233716         0.000000         14.333333              0.000000   \n",
       "4          0.593870         0.857143          0.580952              0.500000   \n",
       "\n",
       "   Norm_Outpatient_Count  DuplicateClaims  ...  \\\n",
       "0              -1.833333        -0.081081  ...   \n",
       "1              -3.833333         1.783784  ...   \n",
       "2               0.000000         1.756757  ...   \n",
       "3               0.000000         9.945946  ...   \n",
       "4              -0.500000         0.567568  ...   \n",
       "\n",
       "   ChronicCond_rheumatoidarthritis_1  ChronicCond_rheumatoidarthritis_2  \\\n",
       "0                           0.055556                          -0.025641   \n",
       "1                           1.388889                           1.743590   \n",
       "2                           1.888889                           2.051282   \n",
       "3                           6.666667                           9.000000   \n",
       "4                           0.500000                           0.641026   \n",
       "\n",
       "   ChronicCond_stroke_1  ChronicCond_stroke_2  NetworkDegree  \\\n",
       "0              0.500000             -0.057971       0.333333   \n",
       "1              1.166667              1.661836       0.000000   \n",
       "2              2.333333              1.932367       0.666667   \n",
       "3              6.166667              8.386473      -0.333333   \n",
       "4              1.166667              0.521739       1.333333   \n",
       "\n",
       "   NoPhysicianCount  Both_Service  Inpatient  Outpatient  isFraudConnected  \n",
       "0               0.0             1          0           0               0.0  \n",
       "1               0.0             1          0           0               1.0  \n",
       "2               0.0             0          0           1               0.0  \n",
       "3               2.0             0          0           1               0.0  \n",
       "4               0.0             1          0           0               0.0  \n",
       "\n",
       "[5 rows x 46 columns]"
      ]
     },
     "execution_count": 8,
     "metadata": {},
     "output_type": "execute_result"
    }
   ],
   "source": [
    "#scale on the training set \n",
    "scaler = RobustScaler()\n",
    "X_scaled = pd.DataFrame(scaler.fit_transform(X), columns=(X.columns), index=X.index)\n",
    "\n",
    "#add back dummy variables to scaled dataset \n",
    "X_scaled = pd.concat((X_scaled, non_num), axis=1)\n",
    "X_scaled.head(5)"
   ]
  },
  {
   "cell_type": "code",
   "execution_count": 9,
   "metadata": {},
   "outputs": [],
   "source": [
    "#use as cv=skf, ensures results are consistent in each partition\n",
    "s_kf = StratifiedKFold(n_splits=5, random_state=42, shuffle=True)"
   ]
  },
  {
   "cell_type": "markdown",
   "metadata": {},
   "source": [
    "## K-Means Clustering"
   ]
  },
  {
   "cell_type": "code",
   "execution_count": 10,
   "metadata": {},
   "outputs": [
    {
     "data": {
      "text/plain": [
       "KMeans(n_clusters=2)"
      ]
     },
     "execution_count": 10,
     "metadata": {},
     "output_type": "execute_result"
    }
   ],
   "source": [
    "kmeans = KMeans(n_clusters=2)\n",
    "kmeans.fit(X_scaled)"
   ]
  },
  {
   "cell_type": "code",
   "execution_count": 11,
   "metadata": {
    "scrolled": true
   },
   "outputs": [
    {
     "data": {
      "text/plain": [
       "0    5271\n",
       "1     139\n",
       "dtype: int64"
      ]
     },
     "execution_count": 11,
     "metadata": {},
     "output_type": "execute_result"
    }
   ],
   "source": [
    "km_class = pd.Series(kmeans.predict(X_scaled))\n",
    "km_class.value_counts()"
   ]
  },
  {
   "cell_type": "code",
   "execution_count": 12,
   "metadata": {},
   "outputs": [],
   "source": [
    "km_class = pd.DataFrame(kmeans.predict(X_scaled)).rename(columns={0:'KM_Class'})"
   ]
  },
  {
   "cell_type": "code",
   "execution_count": 13,
   "metadata": {
    "scrolled": true
   },
   "outputs": [
    {
     "data": {
      "image/png": "[encoded data removed]",
      "text/plain": [
       "<Figure size 1152x576 with 1 Axes>"
      ]
     },
     "metadata": {},
     "output_type": "display_data"
    }
   ],
   "source": [
    "plt.style.use('ggplot')\n",
    "\n",
    "## choosing K using Elbow Method\n",
    "sse = []\n",
    "k_rng = range(1,10)\n",
    "for k in k_rng:\n",
    "    km = KMeans(n_clusters=k)\n",
    "    km.fit(X_scaled)\n",
    "    sse.append(km.inertia_)\n",
    "\n",
    "plt.figure(figsize=(16,8))\n",
    "plt.plot(k_rng, sse, 'bx-')\n",
    "plt.title('Optimal K with Elbow Method')\n",
    "plt.xlabel('k')\n",
    "plt.ylabel('Sum of Squared Errors')\n",
    "plt.show()"
   ]
  },
  {
   "cell_type": "markdown",
   "metadata": {},
   "source": [
    "### Random Forest with K-Means"
   ]
  },
  {
   "cell_type": "code",
   "execution_count": 14,
   "metadata": {
    "scrolled": true
   },
   "outputs": [
    {
     "data": {
      "text/html": [
       "<div>\n",
       "<style scoped>\n",
       "    .dataframe tbody tr th:only-of-type {\n",
       "        vertical-align: middle;\n",
       "    }\n",
       "\n",
       "    .dataframe tbody tr th {\n",
       "        vertical-align: top;\n",
       "    }\n",
       "\n",
       "    .dataframe thead th {\n",
       "        text-align: right;\n",
       "    }\n",
       "</style>\n",
       "<table border=\"1\" class=\"dataframe\">\n",
       "  <thead>\n",
       "    <tr style=\"text-align: right;\">\n",
       "      <th></th>\n",
       "      <th>Phys_Count</th>\n",
       "      <th>Patient_Count</th>\n",
       "      <th>Norm_Patient_Count</th>\n",
       "      <th>Claim_Count</th>\n",
       "      <th>Norm_Claim_Count</th>\n",
       "      <th>Inpatient_Count</th>\n",
       "      <th>Outpatient_Count</th>\n",
       "      <th>Norm_Inpatient_Count</th>\n",
       "      <th>Norm_Outpatient_Count</th>\n",
       "      <th>DuplicateClaims</th>\n",
       "      <th>...</th>\n",
       "      <th>ChronicCond_rheumatoidarthritis_2</th>\n",
       "      <th>ChronicCond_stroke_1</th>\n",
       "      <th>ChronicCond_stroke_2</th>\n",
       "      <th>NetworkDegree</th>\n",
       "      <th>NoPhysicianCount</th>\n",
       "      <th>Both_Service</th>\n",
       "      <th>Inpatient</th>\n",
       "      <th>Outpatient</th>\n",
       "      <th>isFraudConnected</th>\n",
       "      <th>KM_Class</th>\n",
       "    </tr>\n",
       "  </thead>\n",
       "  <tbody>\n",
       "    <tr>\n",
       "      <th>0</th>\n",
       "      <td>0.470588</td>\n",
       "      <td>-0.017544</td>\n",
       "      <td>-0.155665</td>\n",
       "      <td>-0.086957</td>\n",
       "      <td>-0.184866</td>\n",
       "      <td>1.142857</td>\n",
       "      <td>-0.114286</td>\n",
       "      <td>1.833333</td>\n",
       "      <td>-1.833333</td>\n",
       "      <td>-0.081081</td>\n",
       "      <td>...</td>\n",
       "      <td>-0.025641</td>\n",
       "      <td>0.500000</td>\n",
       "      <td>-0.057971</td>\n",
       "      <td>0.333333</td>\n",
       "      <td>0.0</td>\n",
       "      <td>1</td>\n",
       "      <td>0</td>\n",
       "      <td>0</td>\n",
       "      <td>0.0</td>\n",
       "      <td>0</td>\n",
       "    </tr>\n",
       "    <tr>\n",
       "      <th>1</th>\n",
       "      <td>2.235294</td>\n",
       "      <td>1.614035</td>\n",
       "      <td>0.031527</td>\n",
       "      <td>1.443478</td>\n",
       "      <td>0.030651</td>\n",
       "      <td>13.857143</td>\n",
       "      <td>0.714286</td>\n",
       "      <td>3.833333</td>\n",
       "      <td>-3.833333</td>\n",
       "      <td>1.783784</td>\n",
       "      <td>...</td>\n",
       "      <td>1.743590</td>\n",
       "      <td>1.166667</td>\n",
       "      <td>1.661836</td>\n",
       "      <td>0.000000</td>\n",
       "      <td>0.0</td>\n",
       "      <td>1</td>\n",
       "      <td>0</td>\n",
       "      <td>0</td>\n",
       "      <td>1.0</td>\n",
       "      <td>0</td>\n",
       "    </tr>\n",
       "    <tr>\n",
       "      <th>2</th>\n",
       "      <td>1.882353</td>\n",
       "      <td>1.982456</td>\n",
       "      <td>0.222660</td>\n",
       "      <td>1.582609</td>\n",
       "      <td>0.143678</td>\n",
       "      <td>0.000000</td>\n",
       "      <td>1.790476</td>\n",
       "      <td>0.000000</td>\n",
       "      <td>0.000000</td>\n",
       "      <td>1.756757</td>\n",
       "      <td>...</td>\n",
       "      <td>2.051282</td>\n",
       "      <td>2.333333</td>\n",
       "      <td>1.932367</td>\n",
       "      <td>0.666667</td>\n",
       "      <td>0.0</td>\n",
       "      <td>0</td>\n",
       "      <td>0</td>\n",
       "      <td>1</td>\n",
       "      <td>0.0</td>\n",
       "      <td>0</td>\n",
       "    </tr>\n",
       "    <tr>\n",
       "      <th>3</th>\n",
       "      <td>0.000000</td>\n",
       "      <td>8.245614</td>\n",
       "      <td>15.763547</td>\n",
       "      <td>13.034783</td>\n",
       "      <td>24.233716</td>\n",
       "      <td>0.000000</td>\n",
       "      <td>14.333333</td>\n",
       "      <td>0.000000</td>\n",
       "      <td>0.000000</td>\n",
       "      <td>9.945946</td>\n",
       "      <td>...</td>\n",
       "      <td>9.000000</td>\n",
       "      <td>6.166667</td>\n",
       "      <td>8.386473</td>\n",
       "      <td>-0.333333</td>\n",
       "      <td>2.0</td>\n",
       "      <td>0</td>\n",
       "      <td>0</td>\n",
       "      <td>1</td>\n",
       "      <td>0.0</td>\n",
       "      <td>1</td>\n",
       "    </tr>\n",
       "    <tr>\n",
       "      <th>4</th>\n",
       "      <td>0.235294</td>\n",
       "      <td>0.578947</td>\n",
       "      <td>0.650246</td>\n",
       "      <td>0.530435</td>\n",
       "      <td>0.593870</td>\n",
       "      <td>0.857143</td>\n",
       "      <td>0.580952</td>\n",
       "      <td>0.500000</td>\n",
       "      <td>-0.500000</td>\n",
       "      <td>0.567568</td>\n",
       "      <td>...</td>\n",
       "      <td>0.641026</td>\n",
       "      <td>1.166667</td>\n",
       "      <td>0.521739</td>\n",
       "      <td>1.333333</td>\n",
       "      <td>0.0</td>\n",
       "      <td>1</td>\n",
       "      <td>0</td>\n",
       "      <td>0</td>\n",
       "      <td>0.0</td>\n",
       "      <td>0</td>\n",
       "    </tr>\n",
       "    <tr>\n",
       "      <th>...</th>\n",
       "      <td>...</td>\n",
       "      <td>...</td>\n",
       "      <td>...</td>\n",
       "      <td>...</td>\n",
       "      <td>...</td>\n",
       "      <td>...</td>\n",
       "      <td>...</td>\n",
       "      <td>...</td>\n",
       "      <td>...</td>\n",
       "      <td>...</td>\n",
       "      <td>...</td>\n",
       "      <td>...</td>\n",
       "      <td>...</td>\n",
       "      <td>...</td>\n",
       "      <td>...</td>\n",
       "      <td>...</td>\n",
       "      <td>...</td>\n",
       "      <td>...</td>\n",
       "      <td>...</td>\n",
       "      <td>...</td>\n",
       "      <td>...</td>\n",
       "    </tr>\n",
       "    <tr>\n",
       "      <th>5405</th>\n",
       "      <td>-0.294118</td>\n",
       "      <td>-0.017544</td>\n",
       "      <td>4.236453</td>\n",
       "      <td>0.078261</td>\n",
       "      <td>4.837165</td>\n",
       "      <td>0.000000</td>\n",
       "      <td>0.142857</td>\n",
       "      <td>0.000000</td>\n",
       "      <td>0.000000</td>\n",
       "      <td>0.351351</td>\n",
       "      <td>...</td>\n",
       "      <td>-0.025641</td>\n",
       "      <td>0.166667</td>\n",
       "      <td>-0.019324</td>\n",
       "      <td>-0.333333</td>\n",
       "      <td>0.0</td>\n",
       "      <td>0</td>\n",
       "      <td>0</td>\n",
       "      <td>1</td>\n",
       "      <td>0.0</td>\n",
       "      <td>0</td>\n",
       "    </tr>\n",
       "    <tr>\n",
       "      <th>5406</th>\n",
       "      <td>-0.176471</td>\n",
       "      <td>-0.280702</td>\n",
       "      <td>0.098522</td>\n",
       "      <td>-0.173913</td>\n",
       "      <td>0.399425</td>\n",
       "      <td>0.000000</td>\n",
       "      <td>-0.133333</td>\n",
       "      <td>0.000000</td>\n",
       "      <td>0.000000</td>\n",
       "      <td>-0.270270</td>\n",
       "      <td>...</td>\n",
       "      <td>-0.230769</td>\n",
       "      <td>-0.333333</td>\n",
       "      <td>-0.251208</td>\n",
       "      <td>-0.333333</td>\n",
       "      <td>0.0</td>\n",
       "      <td>0</td>\n",
       "      <td>0</td>\n",
       "      <td>1</td>\n",
       "      <td>0.0</td>\n",
       "      <td>0</td>\n",
       "    </tr>\n",
       "    <tr>\n",
       "      <th>5407</th>\n",
       "      <td>-0.235294</td>\n",
       "      <td>0.736842</td>\n",
       "      <td>6.108374</td>\n",
       "      <td>0.617391</td>\n",
       "      <td>5.172414</td>\n",
       "      <td>0.000000</td>\n",
       "      <td>0.733333</td>\n",
       "      <td>0.000000</td>\n",
       "      <td>0.000000</td>\n",
       "      <td>0.567568</td>\n",
       "      <td>...</td>\n",
       "      <td>0.717949</td>\n",
       "      <td>1.000000</td>\n",
       "      <td>0.714976</td>\n",
       "      <td>-0.333333</td>\n",
       "      <td>0.0</td>\n",
       "      <td>0</td>\n",
       "      <td>0</td>\n",
       "      <td>1</td>\n",
       "      <td>0.0</td>\n",
       "      <td>0</td>\n",
       "    </tr>\n",
       "    <tr>\n",
       "      <th>5408</th>\n",
       "      <td>-0.294118</td>\n",
       "      <td>-0.421053</td>\n",
       "      <td>-0.295567</td>\n",
       "      <td>-0.391304</td>\n",
       "      <td>-0.335249</td>\n",
       "      <td>0.000000</td>\n",
       "      <td>-0.371429</td>\n",
       "      <td>0.000000</td>\n",
       "      <td>0.000000</td>\n",
       "      <td>-0.378378</td>\n",
       "      <td>...</td>\n",
       "      <td>-0.410256</td>\n",
       "      <td>-0.333333</td>\n",
       "      <td>-0.405797</td>\n",
       "      <td>-0.333333</td>\n",
       "      <td>0.0</td>\n",
       "      <td>0</td>\n",
       "      <td>0</td>\n",
       "      <td>1</td>\n",
       "      <td>0.0</td>\n",
       "      <td>0</td>\n",
       "    </tr>\n",
       "    <tr>\n",
       "      <th>5409</th>\n",
       "      <td>-0.294118</td>\n",
       "      <td>0.789474</td>\n",
       "      <td>13.300493</td>\n",
       "      <td>0.852174</td>\n",
       "      <td>13.362069</td>\n",
       "      <td>0.000000</td>\n",
       "      <td>0.990476</td>\n",
       "      <td>0.000000</td>\n",
       "      <td>0.000000</td>\n",
       "      <td>0.324324</td>\n",
       "      <td>...</td>\n",
       "      <td>0.846154</td>\n",
       "      <td>0.500000</td>\n",
       "      <td>0.830918</td>\n",
       "      <td>-0.333333</td>\n",
       "      <td>0.0</td>\n",
       "      <td>0</td>\n",
       "      <td>0</td>\n",
       "      <td>1</td>\n",
       "      <td>0.0</td>\n",
       "      <td>0</td>\n",
       "    </tr>\n",
       "  </tbody>\n",
       "</table>\n",
       "<p>5410 rows × 47 columns</p>\n",
       "</div>"
      ],
      "text/plain": [
       "      Phys_Count  Patient_Count  Norm_Patient_Count  Claim_Count  \\\n",
       "0       0.470588      -0.017544           -0.155665    -0.086957   \n",
       "1       2.235294       1.614035            0.031527     1.443478   \n",
       "2       1.882353       1.982456            0.222660     1.582609   \n",
       "3       0.000000       8.245614           15.763547    13.034783   \n",
       "4       0.235294       0.578947            0.650246     0.530435   \n",
       "...          ...            ...                 ...          ...   \n",
       "5405   -0.294118      -0.017544            4.236453     0.078261   \n",
       "5406   -0.176471      -0.280702            0.098522    -0.173913   \n",
       "5407   -0.235294       0.736842            6.108374     0.617391   \n",
       "5408   -0.294118      -0.421053           -0.295567    -0.391304   \n",
       "5409   -0.294118       0.789474           13.300493     0.852174   \n",
       "\n",
       "      Norm_Claim_Count  Inpatient_Count  Outpatient_Count  \\\n",
       "0            -0.184866         1.142857         -0.114286   \n",
       "1             0.030651        13.857143          0.714286   \n",
       "2             0.143678         0.000000          1.790476   \n",
       "3            24.233716         0.000000         14.333333   \n",
       "4             0.593870         0.857143          0.580952   \n",
       "...                ...              ...               ...   \n",
       "5405          4.837165         0.000000          0.142857   \n",
       "5406          0.399425         0.000000         -0.133333   \n",
       "5407          5.172414         0.000000          0.733333   \n",
       "5408         -0.335249         0.000000         -0.371429   \n",
       "5409         13.362069         0.000000          0.990476   \n",
       "\n",
       "      Norm_Inpatient_Count  Norm_Outpatient_Count  DuplicateClaims  ...  \\\n",
       "0                 1.833333              -1.833333        -0.081081  ...   \n",
       "1                 3.833333              -3.833333         1.783784  ...   \n",
       "2                 0.000000               0.000000         1.756757  ...   \n",
       "3                 0.000000               0.000000         9.945946  ...   \n",
       "4                 0.500000              -0.500000         0.567568  ...   \n",
       "...                    ...                    ...              ...  ...   \n",
       "5405              0.000000               0.000000         0.351351  ...   \n",
       "5406              0.000000               0.000000        -0.270270  ...   \n",
       "5407              0.000000               0.000000         0.567568  ...   \n",
       "5408              0.000000               0.000000        -0.378378  ...   \n",
       "5409              0.000000               0.000000         0.324324  ...   \n",
       "\n",
       "      ChronicCond_rheumatoidarthritis_2  ChronicCond_stroke_1  \\\n",
       "0                             -0.025641              0.500000   \n",
       "1                              1.743590              1.166667   \n",
       "2                              2.051282              2.333333   \n",
       "3                              9.000000              6.166667   \n",
       "4                              0.641026              1.166667   \n",
       "...                                 ...                   ...   \n",
       "5405                          -0.025641              0.166667   \n",
       "5406                          -0.230769             -0.333333   \n",
       "5407                           0.717949              1.000000   \n",
       "5408                          -0.410256             -0.333333   \n",
       "5409                           0.846154              0.500000   \n",
       "\n",
       "      ChronicCond_stroke_2  NetworkDegree  NoPhysicianCount  Both_Service  \\\n",
       "0                -0.057971       0.333333               0.0             1   \n",
       "1                 1.661836       0.000000               0.0             1   \n",
       "2                 1.932367       0.666667               0.0             0   \n",
       "3                 8.386473      -0.333333               2.0             0   \n",
       "4                 0.521739       1.333333               0.0             1   \n",
       "...                    ...            ...               ...           ...   \n",
       "5405             -0.019324      -0.333333               0.0             0   \n",
       "5406             -0.251208      -0.333333               0.0             0   \n",
       "5407              0.714976      -0.333333               0.0             0   \n",
       "5408             -0.405797      -0.333333               0.0             0   \n",
       "5409              0.830918      -0.333333               0.0             0   \n",
       "\n",
       "      Inpatient  Outpatient  isFraudConnected  KM_Class  \n",
       "0             0           0               0.0         0  \n",
       "1             0           0               1.0         0  \n",
       "2             0           1               0.0         0  \n",
       "3             0           1               0.0         1  \n",
       "4             0           0               0.0         0  \n",
       "...         ...         ...               ...       ...  \n",
       "5405          0           1               0.0         0  \n",
       "5406          0           1               0.0         0  \n",
       "5407          0           1               0.0         0  \n",
       "5408          0           1               0.0         0  \n",
       "5409          0           1               0.0         0  \n",
       "\n",
       "[5410 rows x 47 columns]"
      ]
     },
     "execution_count": 14,
     "metadata": {},
     "output_type": "execute_result"
    }
   ],
   "source": [
    "full_KM = X_scaled.copy()\n",
    "full_KM = pd.concat([full_KM, km_class], axis=1)\n",
    "\n",
    "full_KM"
   ]
  },
  {
   "cell_type": "code",
   "execution_count": 15,
   "metadata": {},
   "outputs": [],
   "source": [
    "y = full_KM['KM_Class']\n",
    "X = full_KM.drop(['KM_Class'], axis=1)"
   ]
  },
  {
   "cell_type": "code",
   "execution_count": 16,
   "metadata": {},
   "outputs": [],
   "source": [
    "#train/test split\n",
    "X_train, X_test, y_train, y_test = train_test_split(X, y, test_size=0.2, random_state=42, stratify=y)"
   ]
  },
  {
   "cell_type": "code",
   "execution_count": 17,
   "metadata": {},
   "outputs": [],
   "source": [
    "# SMOTE upsampling \n",
    "oversample = over_sampling.SMOTE()\n",
    "X_train_Bal, y_train_Bal = oversample.fit_resample(X_train, y_train)\n",
    "\n",
    "\n",
    "# Random upsampling\n",
    "ros = RandomOverSampler()\n",
    "X_ros, y_ros = ros.fit_sample(X_train, y_train)"
   ]
  },
  {
   "cell_type": "code",
   "execution_count": 18,
   "metadata": {},
   "outputs": [
    {
     "data": {
      "text/plain": [
       "1    4217\n",
       "0    4217\n",
       "Name: KM_Class, dtype: int64"
      ]
     },
     "execution_count": 18,
     "metadata": {},
     "output_type": "execute_result"
    }
   ],
   "source": [
    "y_train_Bal.value_counts()"
   ]
  },
  {
   "cell_type": "code",
   "execution_count": 19,
   "metadata": {},
   "outputs": [
    {
     "name": "stdout",
     "output_type": "stream",
     "text": [
      "SMOTE: \n",
      "RF BaseLine Train Set Recall Score: 1.0\n",
      "RF BaseLine Validation Set Recall Score: 0.9285714285714286\n"
     ]
    }
   ],
   "source": [
    "randomForest = ensemble.RandomForestClassifier()\n",
    "\n",
    "# fit RF model on SMOTE training set\n",
    "randomForest.set_params(random_state=0)\n",
    "\n",
    "randomForest.fit(X_train_Bal, y_train_Bal)\n",
    "\n",
    "# baseline score\n",
    "print('SMOTE: \\nRF BaseLine Train Set Recall Score:', recall_score(y_train_Bal, randomForest.predict(X_train_Bal)))\n",
    "print('RF BaseLine Validation Set Recall Score:', recall_score(y_test, randomForest.predict(X_test)))"
   ]
  },
  {
   "cell_type": "code",
   "execution_count": 20,
   "metadata": {},
   "outputs": [
    {
     "name": "stdout",
     "output_type": "stream",
     "text": [
      "CPU times: user 6.79 s, sys: 652 ms, total: 7.45 s\n",
      "Wall time: 2min 59s\n"
     ]
    },
    {
     "data": {
      "text/plain": [
       "GridSearchCV(cv=StratifiedKFold(n_splits=5, random_state=42, shuffle=True),\n",
       "             estimator=RandomForestClassifier(random_state=0), n_jobs=-1,\n",
       "             param_grid={'criterion': ['entropy'], 'max_depth': range(1, 31),\n",
       "                         'n_estimators': range(10, 110, 10)},\n",
       "             scoring='recall')"
      ]
     },
     "execution_count": 20,
     "metadata": {},
     "output_type": "execute_result"
    }
   ],
   "source": [
    "# set the parameter grid\n",
    "grid_para_forest = {\n",
    "    'criterion': ['entropy'],\n",
    "    'max_depth': range(1, 31),\n",
    "    'n_estimators': range(10, 110, 10)\n",
    "}\n",
    "\n",
    "# run the RF classifier through the grid search\n",
    "grid_search_forest = ms.GridSearchCV(randomForest, grid_para_forest, scoring='recall', cv=s_kf, n_jobs=-1)\n",
    "%time grid_search_forest.fit(X_train_Bal, y_train_Bal)"
   ]
  },
  {
   "cell_type": "code",
   "execution_count": 21,
   "metadata": {},
   "outputs": [
    {
     "name": "stdout",
     "output_type": "stream",
     "text": [
      "RF Grid Search Best params:  {'criterion': 'entropy', 'max_depth': 2, 'n_estimators': 20}\n",
      "RF Grid Search Training set Recall score:  1.0\n",
      "RF Grid Search Validation set Recall score:  1.0\n",
      "RF Grid Search Validation set Business score:  0.8932308349348708\n"
     ]
    }
   ],
   "source": [
    "print(\"RF Grid Search Best params: \", grid_search_forest.best_params_)\n",
    "best_RF = grid_search_forest.best_estimator_\n",
    "print(\"RF Grid Search Training set Recall score: \", recall_score(y_train_Bal, best_RF.predict(X_train_Bal)))\n",
    "print(\"RF Grid Search Validation set Recall score: \", recall_score(y_test, best_RF.predict(X_test)))\n",
    "print(\"RF Grid Search Validation set Business score: \", businessgain(y_test,best_RF.predict(X_test)))\n",
    "SMOTE_rf = businessgain(y_test,best_RF.predict(X_test))"
   ]
  },
  {
   "cell_type": "markdown",
   "metadata": {},
   "source": [
    "#### imblearn"
   ]
  },
  {
   "cell_type": "code",
   "execution_count": 22,
   "metadata": {},
   "outputs": [
    {
     "name": "stdout",
     "output_type": "stream",
     "text": [
      "imblearn: \n",
      "RF BaseLine Train Set Recall Score: 1.0\n",
      "RF BaseLine Validation Set Recall Score: 0.75\n"
     ]
    }
   ],
   "source": [
    "randomForest.set_params(random_state=0)\n",
    "\n",
    "randomForest.fit(X_ros, y_ros)\n",
    "\n",
    "# baseline score\n",
    "print('imblearn: \\nRF BaseLine Train Set Recall Score:', recall_score(y_ros, randomForest.predict(X_ros)))\n",
    "print('RF BaseLine Validation Set Recall Score:', recall_score(y_test, randomForest.predict(X_test)))"
   ]
  },
  {
   "cell_type": "code",
   "execution_count": 23,
   "metadata": {},
   "outputs": [
    {
     "name": "stdout",
     "output_type": "stream",
     "text": [
      "CPU times: user 6.47 s, sys: 423 ms, total: 6.89 s\n",
      "Wall time: 1min 34s\n"
     ]
    },
    {
     "data": {
      "text/plain": [
       "GridSearchCV(cv=StratifiedKFold(n_splits=5, random_state=42, shuffle=True),\n",
       "             estimator=RandomForestClassifier(random_state=0), n_jobs=-1,\n",
       "             param_grid={'criterion': ['entropy'], 'max_depth': range(1, 31),\n",
       "                         'n_estimators': range(10, 110, 10)},\n",
       "             scoring='recall')"
      ]
     },
     "execution_count": 23,
     "metadata": {},
     "output_type": "execute_result"
    }
   ],
   "source": [
    "# set the parameter grid\n",
    "grid_para_forest = {\n",
    "    'criterion': ['entropy'],\n",
    "    'max_depth': range(1, 31),\n",
    "    'n_estimators': range(10, 110, 10)\n",
    "}\n",
    "\n",
    "# run the RF classifier through the grid search\n",
    "grid_search_forest = ms.GridSearchCV(randomForest, grid_para_forest, scoring='recall', cv=s_kf, n_jobs=-1)\n",
    "%time grid_search_forest.fit(X_ros, y_ros)"
   ]
  },
  {
   "cell_type": "code",
   "execution_count": 24,
   "metadata": {},
   "outputs": [
    {
     "name": "stdout",
     "output_type": "stream",
     "text": [
      "RF Grid Search Best params:  {'criterion': 'entropy', 'max_depth': 2, 'n_estimators': 10}\n",
      "RF Grid Search Training set Recall score:  1.0\n",
      "RF Grid Search Validation set Recall score:  1.0\n",
      "RF Grid Search Validation set Business score:  0.8718770019218449\n"
     ]
    }
   ],
   "source": [
    "print(\"RF Grid Search Best params: \", grid_search_forest.best_params_)\n",
    "best_RF = grid_search_forest.best_estimator_\n",
    "print(\"RF Grid Search Training set Recall score: \", recall_score(y_ros, best_RF.predict(X_ros)))\n",
    "print(\"RF Grid Search Validation set Recall score: \", recall_score(y_test, best_RF.predict(X_test)))\n",
    "print(\"RF Grid Search Validation set Business score: \", businessgain(y_test,best_RF.predict(X_test)))\n",
    "imblearn_rf = businessgain(y_test,best_RF.predict(X_test))"
   ]
  },
  {
   "cell_type": "markdown",
   "metadata": {},
   "source": [
    "#### comparing SMOTE and imblearn"
   ]
  },
  {
   "cell_type": "code",
   "execution_count": 25,
   "metadata": {},
   "outputs": [
    {
     "name": "stdout",
     "output_type": "stream",
     "text": [
      "SMOTE rf business score:  0.8932308349348708 \n",
      "imblearn rf business score:  0.8718770019218449\n"
     ]
    }
   ],
   "source": [
    "print('SMOTE rf business score: ', SMOTE_rf, '\\nimblearn rf business score: ', imblearn_rf)"
   ]
  },
  {
   "cell_type": "code",
   "execution_count": 27,
   "metadata": {},
   "outputs": [
    {
     "data": {
      "text/plain": [
       "array([[1024,   30],\n",
       "       [   0,   28]])"
      ]
     },
     "execution_count": 27,
     "metadata": {},
     "output_type": "execute_result"
    }
   ],
   "source": [
    "confusion_matrix(y_test, best_RF.predict(X_test))"
   ]
  },
  {
   "cell_type": "code",
   "execution_count": null,
   "metadata": {},
   "outputs": [],
   "source": []
  }
 ],
 "metadata": {
  "kernelspec": {
   "display_name": "Python 3",
   "language": "python",
   "name": "python3"
  },
  "language_info": {
   "codemirror_mode": {
    "name": "ipython",
    "version": 3
   },
   "file_extension": ".py",
   "mimetype": "text/x-python",
   "name": "python",
   "nbconvert_exporter": "python",
   "pygments_lexer": "ipython3",
   "version": "3.7.6"
  }
 },
 "nbformat": 4,
 "nbformat_minor": 4
}
